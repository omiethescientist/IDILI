{
 "cells": [
  {
   "cell_type": "code",
   "execution_count": 1,
   "metadata": {},
   "outputs": [],
   "source": [
    "using Pkg\n",
    "Pkg.activate(\".\")"
   ]
  },
  {
   "cell_type": "code",
   "execution_count": 2,
   "metadata": {},
   "outputs": [
    {
     "data": {
      "text/html": [
       "<script>\n",
       "// Immediately-invoked-function-expression to avoid global variables.\n",
       "(function() {\n",
       "    var warning_div = document.getElementById(\"webio-warning-12683191959642617921\");\n",
       "    var hide = function () {\n",
       "        var script = document.getElementById(\"webio-setup-807997442207409783\");\n",
       "        var parent = script && script.parentElement;\n",
       "        var grandparent = parent && parent.parentElement;\n",
       "        if (grandparent) {\n",
       "            grandparent.style.display = \"none\";\n",
       "        }\n",
       "        warning_div.style.display = \"none\";\n",
       "    };\n",
       "    if (typeof Jupyter !== \"undefined\") {\n",
       "        console.log(\"WebIO detected Jupyter notebook environment.\");\n",
       "        // Jupyter notebook.\n",
       "        var extensions = (\n",
       "            Jupyter\n",
       "            && Jupyter.notebook.config.data\n",
       "            && Jupyter.notebook.config.data.load_extensions\n",
       "        );\n",
       "        if (extensions && extensions[\"webio-jupyter-notebook\"]) {\n",
       "            // Extension already loaded.\n",
       "            console.log(\"Jupyter WebIO nbextension detected; not loading ad-hoc.\");\n",
       "            hide();\n",
       "            return;\n",
       "        }\n",
       "    } else if (window.location.pathname.includes(\"/lab\")) {\n",
       "        // Guessing JupyterLa\n",
       "        console.log(\"Jupyter Lab detected; make sure the @webio/jupyter-lab-provider labextension is installed.\");\n",
       "        hide();\n",
       "        return;\n",
       "    }\n",
       "})();\n",
       "\n",
       "</script>\n",
       "<p\n",
       "    id=\"webio-warning-12683191959642617921\"\n",
       "    class=\"output_text output_stderr\"\n",
       "    style=\"padding: 1em; font-weight: bold;\"\n",
       ">\n",
       "    Unable to load WebIO. Please make sure WebIO works for your Jupyter client.\n",
       "    For troubleshooting, please see <a href=\"https://juliagizmos.github.io/WebIO.jl/latest/providers/ijulia/\">\n",
       "    the WebIO/IJulia documentation</a>.\n",
       "    <!-- TODO: link to installation docs. -->\n",
       "</p>\n"
      ],
      "text/plain": [
       "HTML{String}(\"<script>\\n// Immediately-invoked-function-expression to avoid global variables.\\n(function() {\\n    var warning_div = document.getElementById(\\\"webio-warning-12683191959642617921\\\");\\n    var hide = function () {\\n        var script = document.getElementById(\\\"webio-setup-807997442207409783\\\");\\n        var parent = script && script.parentElement;\\n        var grandparent = parent && parent.parentElement;\\n        if (grandparent) {\\n            grandparent.style.display = \\\"none\\\";\\n        }\\n        warning_div.style.display = \\\"none\\\";\\n    };\\n    if (typeof Jupyter !== \\\"undefined\\\") {\\n        console.log(\\\"WebIO detected Jupyter notebook environment.\\\");\\n        // Jupyter notebook.\\n        var extensions = (\\n            Jupyter\\n            && Jupyter.notebook.config.data\\n            && Jupyter.notebook.config.data.load_extensions\\n        );\\n        if (extensions && extensions[\\\"webio-jupyter-notebook\\\"]) {\\n            // Extension already loaded.\\n            console.log(\\\"Jupyter WebIO nbextension detected; not loading ad-hoc.\\\");\\n            hide();\\n            return;\\n        }\\n    } else if (window.location.pathname.includes(\\\"/lab\\\")) {\\n        // Guessing JupyterLa\\n        console.log(\\\"Jupyter Lab detected; make sure the @webio/jupyter-lab-provider labextension is installed.\\\");\\n        hide();\\n        return;\\n    }\\n})();\\n\\n</script>\\n<p\\n    id=\\\"webio-warning-12683191959642617921\\\"\\n    class=\\\"output_text output_stderr\\\"\\n    style=\\\"padding: 1em; font-weight: bold;\\\"\\n>\\n    Unable to load WebIO. Please make sure WebIO works for your Jupyter client.\\n    For troubleshooting, please see <a href=\\\"https://juliagizmos.github.io/WebIO.jl/latest/providers/ijulia/\\\">\\n    the WebIO/IJulia documentation</a>.\\n    <!-- TODO: link to installation docs. -->\\n</p>\\n\")"
      ]
     },
     "metadata": {},
     "output_type": "display_data"
    }
   ],
   "source": [
    "using Interact, Plots, OrdinaryDiffEq"
   ]
  },
  {
   "cell_type": "markdown",
   "metadata": {},
   "source": [
    "## Generic System"
   ]
  },
  {
   "cell_type": "markdown",
   "metadata": {},
   "source": [
    "We can do  a model where we simulate the action of \n",
    "\n",
    "$GI \\rightarrow Plasma \\rightarrow \\emptyset$\n",
    "\n",
    "Where:\n",
    "\n",
    "$\\frac{dC_{GI}}{dt} = -K_a*C_{GI} \\tag{1}$\n",
    "\n",
    "represents the transport from the gut to the plasma and \n",
    "\n",
    "$ \\frac{dC_{p}}{dt} = K_a*C_{GI} - Ke*C_p \\tag{2}$\n",
    "\n",
    "represents the absorption from the gut minus the elimination from the plasma.\n",
    "\n",
    "For some time period $T$, we use a callback function in julia to simulate the appearance of more drug in the GI compartment. "
   ]
  },
  {
   "cell_type": "code",
   "execution_count": 13,
   "metadata": {},
   "outputs": [
    {
     "data": {
      "text/plain": [
       "dCdt (generic function with 1 method)"
      ]
     },
     "execution_count": 13,
     "metadata": {},
     "output_type": "execute_result"
    }
   ],
   "source": [
    "#Create ODE Object\n",
    "function dCdt(du, u, p, t)\n",
    "    Ka, Ke = p\n",
    "    du[1] = -Ka*u[1] #Where u[1] = C_GI & u[2] = C_P\n",
    "    du[2] = Ka*u[1] - Ke*u[2] \n",
    "end"
   ]
  },
  {
   "cell_type": "code",
   "execution_count": 14,
   "metadata": {},
   "outputs": [
    {
     "data": {
      "application/vnd.webio.node+json": {
       "children": [
        {
         "children": [
          {
           "children": [
            {
             "children": [
              {
               "children": [
                {
                 "children": [
                  "Ka"
                 ],
                 "instanceArgs": {
                  "namespace": "html",
                  "tag": "label"
                 },
                 "nodeType": "DOM",
                 "props": {
                  "className": "interact ",
                  "style": {
                   "padding": "5px 10px 0px 10px"
                  }
                 },
                 "type": "node"
                }
               ],
               "instanceArgs": {
                "namespace": "html",
                "tag": "div"
               },
               "nodeType": "DOM",
               "props": {
                "className": "interact-flex-row-left"
               },
               "type": "node"
              },
              {
               "children": [
                {
                 "children": [],
                 "instanceArgs": {
                  "namespace": "html",
                  "tag": "input"
                 },
                 "nodeType": "DOM",
                 "props": {
                  "attributes": {
                   "data-bind": "numericValue: index, valueUpdate: 'input', event: {change: function (){this.changes(this.changes()+1)}}",
                   "orient": "horizontal",
                   "type": "range"
                  },
                  "className": "slider slider is-fullwidth",
                  "max": 21,
                  "min": 1,
                  "step": 1,
                  "style": {}
                 },
                 "type": "node"
                }
               ],
               "instanceArgs": {
                "namespace": "html",
                "tag": "div"
               },
               "nodeType": "DOM",
               "props": {
                "className": "interact-flex-row-center"
               },
               "type": "node"
              },
              {
               "children": [
                {
                 "children": [],
                 "instanceArgs": {
                  "namespace": "html",
                  "tag": "p"
                 },
                 "nodeType": "DOM",
                 "props": {
                  "attributes": {
                   "data-bind": "text: formatted_val"
                  }
                 },
                 "type": "node"
                }
               ],
               "instanceArgs": {
                "namespace": "html",
                "tag": "div"
               },
               "nodeType": "DOM",
               "props": {
                "className": "interact-flex-row-right"
               },
               "type": "node"
              }
             ],
             "instanceArgs": {
              "namespace": "html",
              "tag": "div"
             },
             "nodeType": "DOM",
             "props": {
              "className": "interact-flex-row interact-widget"
             },
             "type": "node"
            }
           ],
           "instanceArgs": {
            "handlers": {
             "changes": [
              "(function (val){return (val!=this.model[\"changes\"]()) ? (this.valueFromJulia[\"changes\"]=true, this.model[\"changes\"](val)) : undefined})"
             ],
             "index": [
              "(function (val){return (val!=this.model[\"index\"]()) ? (this.valueFromJulia[\"index\"]=true, this.model[\"index\"](val)) : undefined})"
             ]
            },
            "id": "16638614747457267940",
            "imports": {
             "data": [
              {
               "name": "knockout",
               "type": "js",
               "url": "/assetserver/4e142ee0ad0c998de353f56b1a22e601395860e5-knockout.js"
              },
              {
               "name": "knockout_punches",
               "type": "js",
               "url": "/assetserver/40dc135a5ed691edabc1bf4ca7dc4709f127a380-knockout_punches.js"
              },
              {
               "name": null,
               "type": "js",
               "url": "/assetserver/30aa72339af74f9a627673d92d8040d5cfe9533e-all.js"
              },
              {
               "name": null,
               "type": "css",
               "url": "/assetserver/75af5f53e0088a81c77fec0c74dec23ed676eb50-style.css"
              },
              {
               "name": null,
               "type": "css",
               "url": "/assetserver/6ae6a66e550095b6b8e9dd509bd67c34fc3cbbc5-bulma_confined.min.css"
              }
             ],
             "type": "async_block"
            },
            "mount_callbacks": [
             "function () {\n    var handler = (function (ko, koPunches) {\n    ko.punches.enableAll();\n    ko.bindingHandlers.numericValue = {\n        init: function(element, valueAccessor, allBindings, data, context) {\n            var stringified = ko.observable(ko.unwrap(valueAccessor()));\n            stringified.subscribe(function(value) {\n                var val = parseFloat(value);\n                if (!isNaN(val)) {\n                    valueAccessor()(val);\n                }\n            });\n            valueAccessor().subscribe(function(value) {\n                var str = JSON.stringify(value);\n                if ((str == \"0\") && ([\"-0\", \"-0.\"].indexOf(stringified()) >= 0))\n                     return;\n                 if ([\"null\", \"\"].indexOf(str) >= 0)\n                     return;\n                stringified(str);\n            });\n            ko.applyBindingsToNode(\n                element,\n                {\n                    value: stringified,\n                    valueUpdate: allBindings.get('valueUpdate'),\n                },\n                context,\n            );\n        }\n    };\n    var json_data = {\"formatted_vals\":[\"0.0\",\"0.05\",\"0.1\",\"0.15\",\"0.2\",\"0.25\",\"0.3\",\"0.35\",\"0.4\",\"0.45\",\"0.5\",\"0.55\",\"0.6\",\"0.65\",\"0.7\",\"0.75\",\"0.8\",\"0.85\",\"0.9\",\"0.95\",\"1.0\"],\"changes\":WebIO.getval({\"name\":\"changes\",\"scope\":\"16638614747457267940\",\"id\":\"9292860636510007702\",\"type\":\"observable\"}),\"index\":WebIO.getval({\"name\":\"index\",\"scope\":\"16638614747457267940\",\"id\":\"8916216228090967274\",\"type\":\"observable\"})};\n    var self = this;\n    function AppViewModel() {\n        for (var key in json_data) {\n            var el = json_data[key];\n            this[key] = Array.isArray(el) ? ko.observableArray(el) : ko.observable(el);\n        }\n        \n        [this[\"formatted_val\"]=ko.computed(    function(){\n        return this.formatted_vals()[parseInt(this.index())-(1)];\n    }\n,this)]\n        [this[\"changes\"].subscribe((function (val){!(this.valueFromJulia[\"changes\"]) ? (WebIO.setval({\"name\":\"changes\",\"scope\":\"16638614747457267940\",\"id\":\"9292860636510007702\",\"type\":\"observable\"},val)) : undefined; return this.valueFromJulia[\"changes\"]=false}),self),this[\"index\"].subscribe((function (val){!(this.valueFromJulia[\"index\"]) ? (WebIO.setval({\"name\":\"index\",\"scope\":\"16638614747457267940\",\"id\":\"8916216228090967274\",\"type\":\"observable\"},val)) : undefined; return this.valueFromJulia[\"index\"]=false}),self)]\n        \n    }\n    self.model = new AppViewModel();\n    self.valueFromJulia = {};\n    for (var key in json_data) {\n        self.valueFromJulia[key] = false;\n    }\n    ko.applyBindings(self.model, self.dom);\n}\n);\n    (WebIO.importBlock({\"data\":[{\"name\":\"knockout\",\"type\":\"js\",\"url\":\"/assetserver/4e142ee0ad0c998de353f56b1a22e601395860e5-knockout.js\"},{\"name\":\"knockout_punches\",\"type\":\"js\",\"url\":\"/assetserver/40dc135a5ed691edabc1bf4ca7dc4709f127a380-knockout_punches.js\"}],\"type\":\"async_block\"})).then((imports) => handler.apply(this, imports));\n}\n"
            ],
            "observables": {
             "changes": {
              "id": "9292860636510007702",
              "sync": false,
              "value": 0
             },
             "index": {
              "id": "8916216228090967274",
              "sync": true,
              "value": 11
             }
            },
            "systemjs_options": null
           },
           "nodeType": "Scope",
           "props": {},
           "type": "node"
          }
         ],
         "instanceArgs": {
          "namespace": "html",
          "tag": "div"
         },
         "nodeType": "DOM",
         "props": {
          "className": "field interact-widget"
         },
         "type": "node"
        },
        {
         "children": [
          {
           "children": [
            {
             "children": [
              {
               "children": [
                {
                 "children": [
                  "Ke"
                 ],
                 "instanceArgs": {
                  "namespace": "html",
                  "tag": "label"
                 },
                 "nodeType": "DOM",
                 "props": {
                  "className": "interact ",
                  "style": {
                   "padding": "5px 10px 0px 10px"
                  }
                 },
                 "type": "node"
                }
               ],
               "instanceArgs": {
                "namespace": "html",
                "tag": "div"
               },
               "nodeType": "DOM",
               "props": {
                "className": "interact-flex-row-left"
               },
               "type": "node"
              },
              {
               "children": [
                {
                 "children": [],
                 "instanceArgs": {
                  "namespace": "html",
                  "tag": "input"
                 },
                 "nodeType": "DOM",
                 "props": {
                  "attributes": {
                   "data-bind": "numericValue: index, valueUpdate: 'input', event: {change: function (){this.changes(this.changes()+1)}}",
                   "orient": "horizontal",
                   "type": "range"
                  },
                  "className": "slider slider is-fullwidth",
                  "max": 21,
                  "min": 1,
                  "step": 1,
                  "style": {}
                 },
                 "type": "node"
                }
               ],
               "instanceArgs": {
                "namespace": "html",
                "tag": "div"
               },
               "nodeType": "DOM",
               "props": {
                "className": "interact-flex-row-center"
               },
               "type": "node"
              },
              {
               "children": [
                {
                 "children": [],
                 "instanceArgs": {
                  "namespace": "html",
                  "tag": "p"
                 },
                 "nodeType": "DOM",
                 "props": {
                  "attributes": {
                   "data-bind": "text: formatted_val"
                  }
                 },
                 "type": "node"
                }
               ],
               "instanceArgs": {
                "namespace": "html",
                "tag": "div"
               },
               "nodeType": "DOM",
               "props": {
                "className": "interact-flex-row-right"
               },
               "type": "node"
              }
             ],
             "instanceArgs": {
              "namespace": "html",
              "tag": "div"
             },
             "nodeType": "DOM",
             "props": {
              "className": "interact-flex-row interact-widget"
             },
             "type": "node"
            }
           ],
           "instanceArgs": {
            "handlers": {
             "changes": [
              "(function (val){return (val!=this.model[\"changes\"]()) ? (this.valueFromJulia[\"changes\"]=true, this.model[\"changes\"](val)) : undefined})"
             ],
             "index": [
              "(function (val){return (val!=this.model[\"index\"]()) ? (this.valueFromJulia[\"index\"]=true, this.model[\"index\"](val)) : undefined})"
             ]
            },
            "id": "3133070478808785521",
            "imports": {
             "data": [
              {
               "name": "knockout",
               "type": "js",
               "url": "/assetserver/4e142ee0ad0c998de353f56b1a22e601395860e5-knockout.js"
              },
              {
               "name": "knockout_punches",
               "type": "js",
               "url": "/assetserver/40dc135a5ed691edabc1bf4ca7dc4709f127a380-knockout_punches.js"
              },
              {
               "name": null,
               "type": "js",
               "url": "/assetserver/30aa72339af74f9a627673d92d8040d5cfe9533e-all.js"
              },
              {
               "name": null,
               "type": "css",
               "url": "/assetserver/75af5f53e0088a81c77fec0c74dec23ed676eb50-style.css"
              },
              {
               "name": null,
               "type": "css",
               "url": "/assetserver/6ae6a66e550095b6b8e9dd509bd67c34fc3cbbc5-bulma_confined.min.css"
              }
             ],
             "type": "async_block"
            },
            "mount_callbacks": [
             "function () {\n    var handler = (function (ko, koPunches) {\n    ko.punches.enableAll();\n    ko.bindingHandlers.numericValue = {\n        init: function(element, valueAccessor, allBindings, data, context) {\n            var stringified = ko.observable(ko.unwrap(valueAccessor()));\n            stringified.subscribe(function(value) {\n                var val = parseFloat(value);\n                if (!isNaN(val)) {\n                    valueAccessor()(val);\n                }\n            });\n            valueAccessor().subscribe(function(value) {\n                var str = JSON.stringify(value);\n                if ((str == \"0\") && ([\"-0\", \"-0.\"].indexOf(stringified()) >= 0))\n                     return;\n                 if ([\"null\", \"\"].indexOf(str) >= 0)\n                     return;\n                stringified(str);\n            });\n            ko.applyBindingsToNode(\n                element,\n                {\n                    value: stringified,\n                    valueUpdate: allBindings.get('valueUpdate'),\n                },\n                context,\n            );\n        }\n    };\n    var json_data = {\"formatted_vals\":[\"0.0\",\"0.05\",\"0.1\",\"0.15\",\"0.2\",\"0.25\",\"0.3\",\"0.35\",\"0.4\",\"0.45\",\"0.5\",\"0.55\",\"0.6\",\"0.65\",\"0.7\",\"0.75\",\"0.8\",\"0.85\",\"0.9\",\"0.95\",\"1.0\"],\"changes\":WebIO.getval({\"name\":\"changes\",\"scope\":\"3133070478808785521\",\"id\":\"15864019467673161365\",\"type\":\"observable\"}),\"index\":WebIO.getval({\"name\":\"index\",\"scope\":\"3133070478808785521\",\"id\":\"6157300901399725316\",\"type\":\"observable\"})};\n    var self = this;\n    function AppViewModel() {\n        for (var key in json_data) {\n            var el = json_data[key];\n            this[key] = Array.isArray(el) ? ko.observableArray(el) : ko.observable(el);\n        }\n        \n        [this[\"formatted_val\"]=ko.computed(    function(){\n        return this.formatted_vals()[parseInt(this.index())-(1)];\n    }\n,this)]\n        [this[\"changes\"].subscribe((function (val){!(this.valueFromJulia[\"changes\"]) ? (WebIO.setval({\"name\":\"changes\",\"scope\":\"3133070478808785521\",\"id\":\"15864019467673161365\",\"type\":\"observable\"},val)) : undefined; return this.valueFromJulia[\"changes\"]=false}),self),this[\"index\"].subscribe((function (val){!(this.valueFromJulia[\"index\"]) ? (WebIO.setval({\"name\":\"index\",\"scope\":\"3133070478808785521\",\"id\":\"6157300901399725316\",\"type\":\"observable\"},val)) : undefined; return this.valueFromJulia[\"index\"]=false}),self)]\n        \n    }\n    self.model = new AppViewModel();\n    self.valueFromJulia = {};\n    for (var key in json_data) {\n        self.valueFromJulia[key] = false;\n    }\n    ko.applyBindings(self.model, self.dom);\n}\n);\n    (WebIO.importBlock({\"data\":[{\"name\":\"knockout\",\"type\":\"js\",\"url\":\"/assetserver/4e142ee0ad0c998de353f56b1a22e601395860e5-knockout.js\"},{\"name\":\"knockout_punches\",\"type\":\"js\",\"url\":\"/assetserver/40dc135a5ed691edabc1bf4ca7dc4709f127a380-knockout_punches.js\"}],\"type\":\"async_block\"})).then((imports) => handler.apply(this, imports));\n}\n"
            ],
            "observables": {
             "changes": {
              "id": "15864019467673161365",
              "sync": false,
              "value": 0
             },
             "index": {
              "id": "6157300901399725316",
              "sync": true,
              "value": 11
             }
            },
            "systemjs_options": null
           },
           "nodeType": "Scope",
           "props": {},
           "type": "node"
          }
         ],
         "instanceArgs": {
          "namespace": "html",
          "tag": "div"
         },
         "nodeType": "DOM",
         "props": {
          "className": "field interact-widget"
         },
         "type": "node"
        },
        {
         "children": [
          {
           "children": [
            {
             "children": [
              {
               "children": [
                {
                 "children": [
                  "T"
                 ],
                 "instanceArgs": {
                  "namespace": "html",
                  "tag": "label"
                 },
                 "nodeType": "DOM",
                 "props": {
                  "className": "interact ",
                  "style": {
                   "padding": "5px 10px 0px 10px"
                  }
                 },
                 "type": "node"
                }
               ],
               "instanceArgs": {
                "namespace": "html",
                "tag": "div"
               },
               "nodeType": "DOM",
               "props": {
                "className": "interact-flex-row-left"
               },
               "type": "node"
              },
              {
               "children": [
                {
                 "children": [],
                 "instanceArgs": {
                  "namespace": "html",
                  "tag": "input"
                 },
                 "nodeType": "DOM",
                 "props": {
                  "attributes": {
                   "data-bind": "numericValue: index, valueUpdate: 'input', event: {change: function (){this.changes(this.changes()+1)}}",
                   "orient": "horizontal",
                   "type": "range"
                  },
                  "className": "slider slider is-fullwidth",
                  "max": 12,
                  "min": 1,
                  "step": 1,
                  "style": {}
                 },
                 "type": "node"
                }
               ],
               "instanceArgs": {
                "namespace": "html",
                "tag": "div"
               },
               "nodeType": "DOM",
               "props": {
                "className": "interact-flex-row-center"
               },
               "type": "node"
              },
              {
               "children": [
                {
                 "children": [],
                 "instanceArgs": {
                  "namespace": "html",
                  "tag": "p"
                 },
                 "nodeType": "DOM",
                 "props": {
                  "attributes": {
                   "data-bind": "text: formatted_val"
                  }
                 },
                 "type": "node"
                }
               ],
               "instanceArgs": {
                "namespace": "html",
                "tag": "div"
               },
               "nodeType": "DOM",
               "props": {
                "className": "interact-flex-row-right"
               },
               "type": "node"
              }
             ],
             "instanceArgs": {
              "namespace": "html",
              "tag": "div"
             },
             "nodeType": "DOM",
             "props": {
              "className": "interact-flex-row interact-widget"
             },
             "type": "node"
            }
           ],
           "instanceArgs": {
            "handlers": {
             "changes": [
              "(function (val){return (val!=this.model[\"changes\"]()) ? (this.valueFromJulia[\"changes\"]=true, this.model[\"changes\"](val)) : undefined})"
             ],
             "index": [
              "(function (val){return (val!=this.model[\"index\"]()) ? (this.valueFromJulia[\"index\"]=true, this.model[\"index\"](val)) : undefined})"
             ]
            },
            "id": "9992843512452606989",
            "imports": {
             "data": [
              {
               "name": "knockout",
               "type": "js",
               "url": "/assetserver/4e142ee0ad0c998de353f56b1a22e601395860e5-knockout.js"
              },
              {
               "name": "knockout_punches",
               "type": "js",
               "url": "/assetserver/40dc135a5ed691edabc1bf4ca7dc4709f127a380-knockout_punches.js"
              },
              {
               "name": null,
               "type": "js",
               "url": "/assetserver/30aa72339af74f9a627673d92d8040d5cfe9533e-all.js"
              },
              {
               "name": null,
               "type": "css",
               "url": "/assetserver/75af5f53e0088a81c77fec0c74dec23ed676eb50-style.css"
              },
              {
               "name": null,
               "type": "css",
               "url": "/assetserver/6ae6a66e550095b6b8e9dd509bd67c34fc3cbbc5-bulma_confined.min.css"
              }
             ],
             "type": "async_block"
            },
            "mount_callbacks": [
             "function () {\n    var handler = (function (ko, koPunches) {\n    ko.punches.enableAll();\n    ko.bindingHandlers.numericValue = {\n        init: function(element, valueAccessor, allBindings, data, context) {\n            var stringified = ko.observable(ko.unwrap(valueAccessor()));\n            stringified.subscribe(function(value) {\n                var val = parseFloat(value);\n                if (!isNaN(val)) {\n                    valueAccessor()(val);\n                }\n            });\n            valueAccessor().subscribe(function(value) {\n                var str = JSON.stringify(value);\n                if ((str == \"0\") && ([\"-0\", \"-0.\"].indexOf(stringified()) >= 0))\n                     return;\n                 if ([\"null\", \"\"].indexOf(str) >= 0)\n                     return;\n                stringified(str);\n            });\n            ko.applyBindingsToNode(\n                element,\n                {\n                    value: stringified,\n                    valueUpdate: allBindings.get('valueUpdate'),\n                },\n                context,\n            );\n        }\n    };\n    var json_data = {\"formatted_vals\":[\"1\",\"2\",\"3\",\"4\",\"5\",\"6\",\"7\",\"8\",\"9\",\"10\",\"11\",\"12\"],\"changes\":WebIO.getval({\"name\":\"changes\",\"scope\":\"9992843512452606989\",\"id\":\"4239177156149655904\",\"type\":\"observable\"}),\"index\":WebIO.getval({\"name\":\"index\",\"scope\":\"9992843512452606989\",\"id\":\"1260537878091644828\",\"type\":\"observable\"})};\n    var self = this;\n    function AppViewModel() {\n        for (var key in json_data) {\n            var el = json_data[key];\n            this[key] = Array.isArray(el) ? ko.observableArray(el) : ko.observable(el);\n        }\n        \n        [this[\"formatted_val\"]=ko.computed(    function(){\n        return this.formatted_vals()[parseInt(this.index())-(1)];\n    }\n,this)]\n        [this[\"changes\"].subscribe((function (val){!(this.valueFromJulia[\"changes\"]) ? (WebIO.setval({\"name\":\"changes\",\"scope\":\"9992843512452606989\",\"id\":\"4239177156149655904\",\"type\":\"observable\"},val)) : undefined; return this.valueFromJulia[\"changes\"]=false}),self),this[\"index\"].subscribe((function (val){!(this.valueFromJulia[\"index\"]) ? (WebIO.setval({\"name\":\"index\",\"scope\":\"9992843512452606989\",\"id\":\"1260537878091644828\",\"type\":\"observable\"},val)) : undefined; return this.valueFromJulia[\"index\"]=false}),self)]\n        \n    }\n    self.model = new AppViewModel();\n    self.valueFromJulia = {};\n    for (var key in json_data) {\n        self.valueFromJulia[key] = false;\n    }\n    ko.applyBindings(self.model, self.dom);\n}\n);\n    (WebIO.importBlock({\"data\":[{\"name\":\"knockout\",\"type\":\"js\",\"url\":\"/assetserver/4e142ee0ad0c998de353f56b1a22e601395860e5-knockout.js\"},{\"name\":\"knockout_punches\",\"type\":\"js\",\"url\":\"/assetserver/40dc135a5ed691edabc1bf4ca7dc4709f127a380-knockout_punches.js\"}],\"type\":\"async_block\"})).then((imports) => handler.apply(this, imports));\n}\n"
            ],
            "observables": {
             "changes": {
              "id": "4239177156149655904",
              "sync": false,
              "value": 0
             },
             "index": {
              "id": "1260537878091644828",
              "sync": true,
              "value": 6
             }
            },
            "systemjs_options": null
           },
           "nodeType": "Scope",
           "props": {},
           "type": "node"
          }
         ],
         "instanceArgs": {
          "namespace": "html",
          "tag": "div"
         },
         "nodeType": "DOM",
         "props": {
          "className": "field interact-widget"
         },
         "type": "node"
        },
        {
         "children": [
          {
           "children": [],
           "instanceArgs": {
            "id": "16755227160458446062",
            "name": "obs-node"
           },
           "nodeType": "ObservableNode",
           "props": {},
           "type": "node"
          }
         ],
         "instanceArgs": {
          "handlers": {},
          "id": "17202397011984457423",
          "imports": {
           "data": [],
           "type": "async_block"
          },
          "mount_callbacks": [],
          "observables": {
           "obs-node": {
            "id": "16755227160458446062",
            "sync": false,
            "value": {
             "children": [
              {
               "children": [],
               "instanceArgs": {
                "namespace": "html",
                "tag": "div"
               },
               "nodeType": "DOM",
               "props": {
                "setInnerHtml": "<?xml version=\"1.0\" encoding=\"utf-8\"?>\n<svg xmlns=\"http://www.w3.org/2000/svg\" xmlns:xlink=\"http://www.w3.org/1999/xlink\" width=\"600\" height=\"400\" viewBox=\"0 0 2400 1600\">\n<defs>\n  <clipPath id=\"clip460\">\n    <rect x=\"0\" y=\"0\" width=\"2400\" height=\"1600\"/>\n  </clipPath>\n</defs>\n<path clip-path=\"url(#clip460)\" d=\"\nM0 1600 L2400 1600 L2400 0 L0 0  Z\n  \" fill=\"#ffffff\" fill-rule=\"evenodd\" fill-opacity=\"1\"/>\n<defs>\n  <clipPath id=\"clip461\">\n    <rect x=\"480\" y=\"0\" width=\"1681\" height=\"1600\"/>\n  </clipPath>\n</defs>\n<path clip-path=\"url(#clip460)\" d=\"\nM110.512 1489.49 L2352.76 1489.49 L2352.76 47.2441 L110.512 47.2441  Z\n  \" fill=\"#ffffff\" fill-rule=\"evenodd\" fill-opacity=\"1\"/>\n<defs>\n  <clipPath id=\"clip462\">\n    <rect x=\"110\" y=\"47\" width=\"2243\" height=\"1443\"/>\n  </clipPath>\n</defs>\n<polyline clip-path=\"url(#clip460)\" style=\"stroke:#000000; stroke-width:4; stroke-opacity:1; fill:none\" points=\"\n  110.512,1489.49 2352.76,1489.49 \n  \"/>\n<path clip-path=\"url(#clip460)\" d=\"M 0 0 M1211.53 1534.99 L1251.73 1534.99 L1251.73 1540.4 L1234.86 1540.4 L1234.86 1582.51 L1228.4 1582.51 L1228.4 1540.4 L1211.53 1540.4 L1211.53 1534.99 Z\" fill=\"#000000\" fill-rule=\"evenodd\" fill-opacity=\"1\" /><polyline clip-path=\"url(#clip460)\" style=\"stroke:#000000; stroke-width:4; stroke-opacity:1; fill:none\" points=\"\n  110.512,1489.49 110.512,47.2441 \n  \"/>\n<path clip-path=\"url(#clip460)\" d=\"M 0 0 M-19.6036 749.205 L-12.8241 749.205 Q-15.8478 752.452 -17.3438 756.144 Q-18.8397 759.804 -18.8397 763.942 Q-18.8397 772.09 -13.8426 776.419 Q-8.87738 780.747 0.543869 780.747 Q9.93329 780.747 14.9304 776.419 Q19.8956 772.09 19.8956 763.942 Q19.8956 759.804 18.3997 756.144 Q16.9037 752.452 13.88 749.205 L20.5958 749.205 Q22.8875 752.579 24.0333 756.367 Q25.1792 760.122 25.1792 764.324 Q25.1792 775.114 18.5906 781.32 Q11.9703 787.527 0.543869 787.527 Q-10.9144 787.527 -17.5029 781.32 Q-24.1232 775.114 -24.1232 764.324 Q-24.1232 760.059 -22.9774 756.303 Q-21.8634 752.515 -19.6036 749.205 Z\" fill=\"#000000\" fill-rule=\"evenodd\" fill-opacity=\"1\" /><polyline clip-path=\"url(#clip462)\" style=\"stroke:#000000; stroke-width:12; stroke-opacity:1; fill:none\" points=\"\n  110.512,1448.67 110.512,1448.65 110.514,1448.45 110.532,1446.45 110.625,1436.06 110.782,1418.65 111.101,1383.92 111.567,1334.68 112.303,1260.52 113.27,1169.15 \n  114.586,1055.65 116.196,932.345 118.196,801.021 120.527,675.027 123.262,559.576 126.348,464.793 129.84,394.956 133.696,354.599 137.957,344.477 142.591,363.619 \n  147.647,409.271 153.09,476.73 158.925,560.562 165.1,654.17 171.582,751.585 178.304,847.275 185.22,937.359 190.592,1000.65 194.663,650.78 \n  197.344,481.234 201.579,291.469 205.017,194.827 209.65,126.426 214.284,111.763 219.461,140.022 224.796,202.143 230.635,293.217 236.686,400.585 243.138,519.369 \n  249.772,638.744 256.67,754.913 263.679,861.853 270.672,956.268 274.805,607.345 277.977,416.055 282.301,239.044 286.626,138.184 291.382,92.7132 \n  296.277,97.7728 301.602,144.159 307.187,222.113 313.178,324.487 319.433,440.312 326.008,562.766 332.781,683.294 339.756,797.52 346.843,901.295 350.753,952.996 \n  354.89,604.152 357.174,460.981 361.446,267.924 364.569,178.039 369.222,105.289 373.875,88.4282 379.06,115.887 384.404,178.344 390.245,270.537 \n  396.299,379.607 402.752,500.442 409.387,622.039 416.285,740.44 423.296,849.511 430.449,947.881 430.833,952.781 434.669,625.474 435.436,572.469 \n  439.486,348.808 441.081,284.124 445.494,159.661 448.079,118.42 452.959,88.257 456.575,97.5336 462.009,146.199 467.444,222.891 473.506,326.878 479.665,441.121 \n  486.284,564.425 492.999,683.899 499.998,798.472 507.051,901.695 510.913,952.763 515.049,604.062 517.317,461.787 521.586,268.447 524.696,178.655 \n  529.347,105.476 533.998,88.2691 539.18,115.428 544.521,177.654 550.36,269.682 556.411,378.653 562.862,499.455 569.496,621.071 576.392,739.533 583.402,848.687 \n  590.554,947.154 590.993,952.761 594.815,626.448 595.58,573.558 599.62,349.953 601.212,285.22 605.617,160.403 608.197,118.925 613.072,88.2904 \n  616.683,97.2456 622.112,145.501 627.54,221.873 633.598,325.627 639.752,439.735 646.367,563.004 653.078,682.513 660.075,797.182 667.127,900.531 671.073,952.761 \n  675.209,604.075 677.505,460.2 681.776,267.403 684.91,177.415 689.563,104.967 694.217,88.3343 699.403,115.982 704.747,178.579 710.59,270.878 \n  716.645,380.012 723.098,500.878 729.735,622.477 736.633,740.857 743.644,849.893 750.798,948.22 751.153,952.761 754.708,645.994 755.419,595.452 \n  759.274,373.328 760.79,307.774 765.05,176.164 767.542,130.074 772.294,90.0766 775.812,92.5972 781.124,132.549 786.437,202.351 792.393,301.204 798.451,412.376 \n  804.991,534.694 811.637,654.741 818.587,771.217 825.602,876.998 831.233,952.762 835.367,604.187 838.18,432.052 842.482,248.877 846.037,156.789 \n  850.741,97.1341 855.445,90.5814 860.694,126.826 866.109,195.943 872.017,292.935 878.137,404.849 884.645,526.699 891.328,647.855 898.26,764.669 905.297,871.505 \n  911.313,952.759 915.449,604.048 918.369,426.267 922.68,245.046 926.99,140.701 931.729,92.1502 936.607,94.7267 941.91,139.065 947.476,215.545 \n  953.447,316.935 959.685,432.332 966.245,554.79 973.006,675.702 979.972,790.545 987.052,895.079 991.394,952.763 995.531,603.98 997.956,452.923 \n  1002.24,262.571 1005.48,171.847 1010.14,102.733 1014.81,88.7352 1020.01,118.637 1025.38,182.953 1031.24,276.502 1037.31,386.391 1043.78,507.544 1050.42,629.054 \n  1057.33,747.047 1064.35,855.524 1071.47,952.767 1075.61,603.946 1078.82,411.114 1083.15,235.113 1087.48,135.222 1092.25,90.7332 1097.15,96.676 \n  1102.48,143.873 1108.08,222.492 1114.08,325.392 1120.34,441.568 1126.92,564.222 1133.7,684.81 1140.67,798.998 1147.76,902.667 1151.55,952.769 \n  1155.69,603.914 1157.94,463.016 1162.21,269.215 1165.3,179.636 1169.95,105.882 1174.59,88.2392 1179.78,115.038 1185.11,176.997 1190.95,268.831 1197,377.688 \n  1203.45,498.446 1210.08,620.076 1216.98,738.596 1223.98,847.836 1231.14,946.402 1231.63,952.767 1235.53,621.458 1236.3,567.989 1240.39,344.133 \n  1242,279.656 1246.45,156.644 1249.05,116.369 1253.95,88.1193 1257.59,98.6979 1263.05,149.017 1268.5,227.001 1274.59,331.925 1280.76,446.707 1287.4,570.151 \n  1294.13,689.476 1301.13,803.656 1308.19,906.372 1311.71,952.762 1315.85,603.988 1318,468.399 1322.27,272.791 1325.27,183.918 1329.91,107.674 \n  1334.55,88.0623 1339.72,113.176 1345.05,173.847 1350.87,264.737 1356.91,373.016 1363.35,493.543 1369.97,615.223 1376.86,734.017 1383.86,843.661 1391.01,942.707 \n  1391.79,952.761 1395.97,601.231 1396.86,542.012 1401.14,319.031 1402.89,253.97 1407.48,140.504 1410.24,105.501 1415.28,88.8484 1419.06,107.41 \n  1424.65,167.387 1430.23,252.627 1436.42,362.596 1442.7,480.05 1449.42,603.89 1456.21,721.998 1463.27,833.659 1470.37,933.272 1471.87,952.765 \n  1476.03,602.781 1477.34,517.022 1481.59,304.146 1483.81,227.556 1488.4,127.663 1491.59,96.1153 1496.65,92.6803 1500.81,121.912 1506.46,191.827 1512.11,283.431 \n  1518.37,397.275 1524.71,516.016 1531.47,639.136 1538.31,755.073 1545.39,863.615 1551.95,952.763 1556.09,603.77 1559.16,418.342 1563.48,239.781 \n  1567.81,137.752 1572.56,91.3532 1577.45,95.7331 1582.77,141.614 1588.35,219.259 1594.34,321.475 1600.59,437.306 1607.16,559.879 1613.93,680.625 1620.91,795.119 \n  1627.99,899.189 1632.03,952.763 1636.17,603.946 1638.5,458.281 1642.78,266.1 1645.94,175.94 1650.59,104.368 1655.25,88.4379 1660.44,116.695 \n  1665.79,179.762 1671.64,272.405 1677.7,381.75 1684.16,502.698 1690.8,624.276 1697.7,742.552 1704.71,851.437 1711.87,949.586 1712.11,952.767 \n  1714.61,728.265 1715.18,683.472 1718.24,478.199 1719.54,408.168 1723.16,256.42 1725.38,191.889 1729.59,116.072 1732.8,92.101 1737.64,96.6735 1742.47,137.056 \n  1748,211.715 1753.64,306.498 1759.84,420.49 1766.19,539.084 1772.91,660.29 1779.75,774.415 1786.81,880.457 1792.19,952.758 1796.33,604.017 \n  1799.07,435.635 1803.37,251.182 1806.87,159.272 1811.57,97.9896 1816.27,90.1691 1821.51,125.343 1826.92,193.658 1832.82,290.082 1838.93,401.67 1845.43,523.418 \n  1852.11,644.649 1859.04,761.674 1866.07,868.796 1872.28,952.754 1876.41,604.028 1879.38,423.557 1883.7,243.265 1888.01,139.71 1892.75,91.8777 \n  1897.64,95.0488 1902.94,139.891 1908.51,216.751 1914.49,318.409 1920.73,433.946 1927.3,556.441 1934.06,677.299 1941.03,792.029 1948.11,896.412 1952.36,952.763 \n  1956.49,603.972 1958.89,454.634 1963.16,263.699 1966.38,173.143 1971.04,103.246 1975.71,88.6325 1980.91,118.01 1986.27,181.928 1992.12,275.189 \n  1998.19,384.905 2004.65,505.993 2011.3,627.526 2018.21,745.611 2025.22,854.219 2032.38,952.044 2032.44,952.767 2033,897.429 2033.57,844.642 \n  2034.78,740.837 2036,646.156 2037.95,514.611 2039.98,402.407 2042.73,283.481 2045.61,194.626 2049.16,126.152 2052.89,93.3314 2057.24,93.7288 2061.82,126.998 \n  2066.98,191.773 2072.42,279.499 2078.34,386.699 2084.53,502.528 2091.08,622.374 2097.82,737.991 2104.77,846.43 2111.82,943.908 2112.52,952.755 \n  2116.62,606.161 2117.44,550.83 2121.68,326.532 2123.35,262.888 2127.91,145.636 2130.58,109.122 2135.58,88.2352 2139.29,103.797 2144.84,160.364 2150.38,243.172 \n  2156.54,351.516 2162.79,468.199 2169.48,592.03 2176.26,710.671 2183.3,823.275 2190.39,924.012 2192.6,952.747 2196.74,603.406 2198.38,497.645 \n  2202.63,291.841 2205.18,209.071 2209.78,118.888 2213.26,91.5308 2218.35,97.3475 2223.44,142.198 2229.16,222.037 2235,321.913 2241.34,439.317 2247.82,560.133 \n  2254.64,681.708 2261.55,795.247 2268.67,899.676 2272.68,952.757 2276.81,603.819 2279.13,458.831 2283.41,266.421 2286.56,176.368 2291.22,104.528 \n  2295.87,88.4003 2301.06,116.498 2306.41,179.45 2312.26,272.011 2318.32,381.311 2324.77,502.243 2331.41,623.831 2338.31,742.136 2345.33,851.06 2352.48,949.253 \n  2352.76,952.763 \n  \"/>\n<path clip-path=\"url(#clip460)\" d=\"\nM185.254 216.279 L596.173 216.279 L596.173 95.3189 L185.254 95.3189  Z\n  \" fill=\"#ffffff\" fill-rule=\"evenodd\" fill-opacity=\"1\"/>\n<polyline clip-path=\"url(#clip460)\" style=\"stroke:#000000; stroke-width:4; stroke-opacity:1; fill:none\" points=\"\n  185.254,216.279 596.173,216.279 596.173,95.3189 185.254,95.3189 185.254,216.279 \n  \"/>\n<polyline clip-path=\"url(#clip460)\" style=\"stroke:#000000; stroke-width:4; stroke-opacity:1; fill:none\" points=\"\n  210.167,155.799 359.65,155.799 \n  \"/>\n<path clip-path=\"url(#clip460)\" d=\"M 0 0 M389.24 142.361 L389.24 155.348 L395.12 155.348 Q398.384 155.348 400.166 153.658 Q401.948 151.968 401.948 148.843 Q401.948 145.741 400.166 144.051 Q398.384 142.361 395.12 142.361 L389.24 142.361 M384.564 138.519 L395.12 138.519 Q400.93 138.519 403.893 141.158 Q406.879 143.773 406.879 148.843 Q406.879 153.959 403.893 156.574 Q400.93 159.19 395.12 159.19 L389.24 159.19 L389.24 173.079 L384.564 173.079 L384.564 138.519 Z\" fill=\"#000000\" fill-rule=\"evenodd\" fill-opacity=\"1\" /><path clip-path=\"url(#clip460)\" d=\"M 0 0 M412.967 137.061 L417.226 137.061 L417.226 173.079 L412.967 173.079 L412.967 137.061 Z\" fill=\"#000000\" fill-rule=\"evenodd\" fill-opacity=\"1\" /><path clip-path=\"url(#clip460)\" d=\"M 0 0 M437.92 160.047 Q432.758 160.047 430.768 161.227 Q428.777 162.408 428.777 165.255 Q428.777 167.523 430.258 168.866 Q431.763 170.185 434.332 170.185 Q437.874 170.185 440.004 167.685 Q442.156 165.162 442.156 160.996 L442.156 160.047 L437.92 160.047 M446.416 158.287 L446.416 173.079 L442.156 173.079 L442.156 169.144 Q440.698 171.505 438.522 172.639 Q436.346 173.75 433.198 173.75 Q429.217 173.75 426.856 171.528 Q424.518 169.283 424.518 165.533 Q424.518 161.158 427.434 158.935 Q430.374 156.713 436.184 156.713 L442.156 156.713 L442.156 156.297 Q442.156 153.357 440.212 151.76 Q438.291 150.139 434.795 150.139 Q432.573 150.139 430.467 150.672 Q428.36 151.204 426.416 152.269 L426.416 148.334 Q428.754 147.431 430.953 146.991 Q433.152 146.528 435.235 146.528 Q440.86 146.528 443.638 149.445 Q446.416 152.361 446.416 158.287 Z\" fill=\"#000000\" fill-rule=\"evenodd\" fill-opacity=\"1\" /><path clip-path=\"url(#clip460)\" d=\"M 0 0 M471.716 147.917 L471.716 151.945 Q469.911 151.019 467.966 150.556 Q466.022 150.093 463.939 150.093 Q460.767 150.093 459.17 151.065 Q457.596 152.037 457.596 153.982 Q457.596 155.463 458.73 156.32 Q459.865 157.153 463.291 157.917 L464.749 158.241 Q469.286 159.213 471.184 160.996 Q473.105 162.755 473.105 165.926 Q473.105 169.537 470.235 171.644 Q467.388 173.75 462.388 173.75 Q460.304 173.75 458.036 173.334 Q455.791 172.94 453.291 172.13 L453.291 167.732 Q455.652 168.959 457.943 169.584 Q460.235 170.185 462.48 170.185 Q465.49 170.185 467.11 169.167 Q468.73 168.125 468.73 166.25 Q468.73 164.514 467.55 163.588 Q466.392 162.662 462.434 161.806 L460.953 161.459 Q456.994 160.625 455.235 158.912 Q453.476 157.176 453.476 154.167 Q453.476 150.51 456.068 148.519 Q458.661 146.528 463.429 146.528 Q465.791 146.528 467.874 146.875 Q469.957 147.223 471.716 147.917 Z\" fill=\"#000000\" fill-rule=\"evenodd\" fill-opacity=\"1\" /><path clip-path=\"url(#clip460)\" d=\"M 0 0 M500.073 152.13 Q501.67 149.26 503.892 147.894 Q506.114 146.528 509.124 146.528 Q513.175 146.528 515.374 149.375 Q517.573 152.199 517.573 157.431 L517.573 173.079 L513.29 173.079 L513.29 157.57 Q513.29 153.843 511.971 152.037 Q510.651 150.232 507.943 150.232 Q504.633 150.232 502.712 152.431 Q500.79 154.63 500.79 158.426 L500.79 173.079 L496.508 173.079 L496.508 157.57 Q496.508 153.82 495.189 152.037 Q493.869 150.232 491.114 150.232 Q487.851 150.232 485.929 152.454 Q484.008 154.653 484.008 158.426 L484.008 173.079 L479.726 173.079 L479.726 147.153 L484.008 147.153 L484.008 151.181 Q485.466 148.797 487.503 147.662 Q489.54 146.528 492.341 146.528 Q495.165 146.528 497.133 147.963 Q499.124 149.398 500.073 152.13 Z\" fill=\"#000000\" fill-rule=\"evenodd\" fill-opacity=\"1\" /><path clip-path=\"url(#clip460)\" d=\"M 0 0 M537.85 160.047 Q532.688 160.047 530.698 161.227 Q528.707 162.408 528.707 165.255 Q528.707 167.523 530.188 168.866 Q531.693 170.185 534.262 170.185 Q537.804 170.185 539.934 167.685 Q542.086 165.162 542.086 160.996 L542.086 160.047 L537.85 160.047 M546.346 158.287 L546.346 173.079 L542.086 173.079 L542.086 169.144 Q540.628 171.505 538.452 172.639 Q536.276 173.75 533.128 173.75 Q529.147 173.75 526.786 171.528 Q524.448 169.283 524.448 165.533 Q524.448 161.158 527.364 158.935 Q530.304 156.713 536.114 156.713 L542.086 156.713 L542.086 156.297 Q542.086 153.357 540.142 151.76 Q538.221 150.139 534.725 150.139 Q532.503 150.139 530.397 150.672 Q528.29 151.204 526.346 152.269 L526.346 148.334 Q528.684 147.431 530.883 146.991 Q533.082 146.528 535.165 146.528 Q540.79 146.528 543.568 149.445 Q546.346 152.361 546.346 158.287 Z\" fill=\"#000000\" fill-rule=\"evenodd\" fill-opacity=\"1\" /></svg>\n"
               },
               "type": "node"
              }
             ],
             "instanceArgs": {
              "namespace": "html",
              "tag": "div"
             },
             "nodeType": "DOM",
             "props": {
              "className": "interact-flex-row interact-widget"
             },
             "type": "node"
            }
           }
          },
          "systemjs_options": null
         },
         "nodeType": "Scope",
         "props": {},
         "type": "node"
        }
       ],
       "instanceArgs": {
        "namespace": "html",
        "tag": "div"
       },
       "nodeType": "DOM",
       "props": {},
       "type": "node"
      },
      "text/html": [
       "<div\n",
       "    class=\"webio-mountpoint\"\n",
       "    data-webio-mountpoint=\"3638126886457159613\"\n",
       ">\n",
       "    <script>\n",
       "    if (window.require && require.defined && require.defined(\"nbextensions/webio-jupyter-notebook\")) {\n",
       "        console.log(\"Jupyter WebIO extension detected, not mounting.\");\n",
       "    } else if (window.WebIO) {\n",
       "        WebIO.mount(\n",
       "            document.querySelector('[data-webio-mountpoint=\"3638126886457159613\"]'),\n",
       "            {\"props\":{},\"nodeType\":\"DOM\",\"type\":\"node\",\"instanceArgs\":{\"namespace\":\"html\",\"tag\":\"div\"},\"children\":[{\"props\":{\"className\":\"field interact-widget\"},\"nodeType\":\"DOM\",\"type\":\"node\",\"instanceArgs\":{\"namespace\":\"html\",\"tag\":\"div\"},\"children\":[{\"props\":{},\"nodeType\":\"Scope\",\"type\":\"node\",\"instanceArgs\":{\"imports\":{\"data\":[{\"name\":\"knockout\",\"type\":\"js\",\"url\":\"\\/assetserver\\/4e142ee0ad0c998de353f56b1a22e601395860e5-knockout.js\"},{\"name\":\"knockout_punches\",\"type\":\"js\",\"url\":\"\\/assetserver\\/40dc135a5ed691edabc1bf4ca7dc4709f127a380-knockout_punches.js\"},{\"name\":null,\"type\":\"js\",\"url\":\"\\/assetserver\\/30aa72339af74f9a627673d92d8040d5cfe9533e-all.js\"},{\"name\":null,\"type\":\"css\",\"url\":\"\\/assetserver\\/75af5f53e0088a81c77fec0c74dec23ed676eb50-style.css\"},{\"name\":null,\"type\":\"css\",\"url\":\"\\/assetserver\\/6ae6a66e550095b6b8e9dd509bd67c34fc3cbbc5-bulma_confined.min.css\"}],\"type\":\"async_block\"},\"id\":\"16638614747457267940\",\"handlers\":{\"changes\":[\"(function (val){return (val!=this.model[\\\"changes\\\"]()) ? (this.valueFromJulia[\\\"changes\\\"]=true, this.model[\\\"changes\\\"](val)) : undefined})\"],\"index\":[\"(function (val){return (val!=this.model[\\\"index\\\"]()) ? (this.valueFromJulia[\\\"index\\\"]=true, this.model[\\\"index\\\"](val)) : undefined})\"]},\"systemjs_options\":null,\"mount_callbacks\":[\"function () {\\n    var handler = (function (ko, koPunches) {\\n    ko.punches.enableAll();\\n    ko.bindingHandlers.numericValue = {\\n        init: function(element, valueAccessor, allBindings, data, context) {\\n            var stringified = ko.observable(ko.unwrap(valueAccessor()));\\n            stringified.subscribe(function(value) {\\n                var val = parseFloat(value);\\n                if (!isNaN(val)) {\\n                    valueAccessor()(val);\\n                }\\n            });\\n            valueAccessor().subscribe(function(value) {\\n                var str = JSON.stringify(value);\\n                if ((str == \\\"0\\\") && ([\\\"-0\\\", \\\"-0.\\\"].indexOf(stringified()) >= 0))\\n                     return;\\n                 if ([\\\"null\\\", \\\"\\\"].indexOf(str) >= 0)\\n                     return;\\n                stringified(str);\\n            });\\n            ko.applyBindingsToNode(\\n                element,\\n                {\\n                    value: stringified,\\n                    valueUpdate: allBindings.get('valueUpdate'),\\n                },\\n                context,\\n            );\\n        }\\n    };\\n    var json_data = {\\\"formatted_vals\\\":[\\\"0.0\\\",\\\"0.05\\\",\\\"0.1\\\",\\\"0.15\\\",\\\"0.2\\\",\\\"0.25\\\",\\\"0.3\\\",\\\"0.35\\\",\\\"0.4\\\",\\\"0.45\\\",\\\"0.5\\\",\\\"0.55\\\",\\\"0.6\\\",\\\"0.65\\\",\\\"0.7\\\",\\\"0.75\\\",\\\"0.8\\\",\\\"0.85\\\",\\\"0.9\\\",\\\"0.95\\\",\\\"1.0\\\"],\\\"changes\\\":WebIO.getval({\\\"name\\\":\\\"changes\\\",\\\"scope\\\":\\\"16638614747457267940\\\",\\\"id\\\":\\\"9292860636510007702\\\",\\\"type\\\":\\\"observable\\\"}),\\\"index\\\":WebIO.getval({\\\"name\\\":\\\"index\\\",\\\"scope\\\":\\\"16638614747457267940\\\",\\\"id\\\":\\\"8916216228090967274\\\",\\\"type\\\":\\\"observable\\\"})};\\n    var self = this;\\n    function AppViewModel() {\\n        for (var key in json_data) {\\n            var el = json_data[key];\\n            this[key] = Array.isArray(el) ? ko.observableArray(el) : ko.observable(el);\\n        }\\n        \\n        [this[\\\"formatted_val\\\"]=ko.computed(    function(){\\n        return this.formatted_vals()[parseInt(this.index())-(1)];\\n    }\\n,this)]\\n        [this[\\\"changes\\\"].subscribe((function (val){!(this.valueFromJulia[\\\"changes\\\"]) ? (WebIO.setval({\\\"name\\\":\\\"changes\\\",\\\"scope\\\":\\\"16638614747457267940\\\",\\\"id\\\":\\\"9292860636510007702\\\",\\\"type\\\":\\\"observable\\\"},val)) : undefined; return this.valueFromJulia[\\\"changes\\\"]=false}),self),this[\\\"index\\\"].subscribe((function (val){!(this.valueFromJulia[\\\"index\\\"]) ? (WebIO.setval({\\\"name\\\":\\\"index\\\",\\\"scope\\\":\\\"16638614747457267940\\\",\\\"id\\\":\\\"8916216228090967274\\\",\\\"type\\\":\\\"observable\\\"},val)) : undefined; return this.valueFromJulia[\\\"index\\\"]=false}),self)]\\n        \\n    }\\n    self.model = new AppViewModel();\\n    self.valueFromJulia = {};\\n    for (var key in json_data) {\\n        self.valueFromJulia[key] = false;\\n    }\\n    ko.applyBindings(self.model, self.dom);\\n}\\n);\\n    (WebIO.importBlock({\\\"data\\\":[{\\\"name\\\":\\\"knockout\\\",\\\"type\\\":\\\"js\\\",\\\"url\\\":\\\"\\/assetserver\\/4e142ee0ad0c998de353f56b1a22e601395860e5-knockout.js\\\"},{\\\"name\\\":\\\"knockout_punches\\\",\\\"type\\\":\\\"js\\\",\\\"url\\\":\\\"\\/assetserver\\/40dc135a5ed691edabc1bf4ca7dc4709f127a380-knockout_punches.js\\\"}],\\\"type\\\":\\\"async_block\\\"})).then((imports) => handler.apply(this, imports));\\n}\\n\"],\"observables\":{\"changes\":{\"sync\":false,\"id\":\"9292860636510007702\",\"value\":0},\"index\":{\"sync\":true,\"id\":\"8916216228090967274\",\"value\":11}}},\"children\":[{\"props\":{\"className\":\"interact-flex-row interact-widget\"},\"nodeType\":\"DOM\",\"type\":\"node\",\"instanceArgs\":{\"namespace\":\"html\",\"tag\":\"div\"},\"children\":[{\"props\":{\"className\":\"interact-flex-row-left\"},\"nodeType\":\"DOM\",\"type\":\"node\",\"instanceArgs\":{\"namespace\":\"html\",\"tag\":\"div\"},\"children\":[{\"props\":{\"className\":\"interact \",\"style\":{\"padding\":\"5px 10px 0px 10px\"}},\"nodeType\":\"DOM\",\"type\":\"node\",\"instanceArgs\":{\"namespace\":\"html\",\"tag\":\"label\"},\"children\":[\"Ka\"]}]},{\"props\":{\"className\":\"interact-flex-row-center\"},\"nodeType\":\"DOM\",\"type\":\"node\",\"instanceArgs\":{\"namespace\":\"html\",\"tag\":\"div\"},\"children\":[{\"props\":{\"max\":21,\"min\":1,\"attributes\":{\"type\":\"range\",\"data-bind\":\"numericValue: index, valueUpdate: 'input', event: {change: function (){this.changes(this.changes()+1)}}\",\"orient\":\"horizontal\"},\"step\":1,\"className\":\"slider slider is-fullwidth\",\"style\":{}},\"nodeType\":\"DOM\",\"type\":\"node\",\"instanceArgs\":{\"namespace\":\"html\",\"tag\":\"input\"},\"children\":[]}]},{\"props\":{\"className\":\"interact-flex-row-right\"},\"nodeType\":\"DOM\",\"type\":\"node\",\"instanceArgs\":{\"namespace\":\"html\",\"tag\":\"div\"},\"children\":[{\"props\":{\"attributes\":{\"data-bind\":\"text: formatted_val\"}},\"nodeType\":\"DOM\",\"type\":\"node\",\"instanceArgs\":{\"namespace\":\"html\",\"tag\":\"p\"},\"children\":[]}]}]}]}]},{\"props\":{\"className\":\"field interact-widget\"},\"nodeType\":\"DOM\",\"type\":\"node\",\"instanceArgs\":{\"namespace\":\"html\",\"tag\":\"div\"},\"children\":[{\"props\":{},\"nodeType\":\"Scope\",\"type\":\"node\",\"instanceArgs\":{\"imports\":{\"data\":[{\"name\":\"knockout\",\"type\":\"js\",\"url\":\"\\/assetserver\\/4e142ee0ad0c998de353f56b1a22e601395860e5-knockout.js\"},{\"name\":\"knockout_punches\",\"type\":\"js\",\"url\":\"\\/assetserver\\/40dc135a5ed691edabc1bf4ca7dc4709f127a380-knockout_punches.js\"},{\"name\":null,\"type\":\"js\",\"url\":\"\\/assetserver\\/30aa72339af74f9a627673d92d8040d5cfe9533e-all.js\"},{\"name\":null,\"type\":\"css\",\"url\":\"\\/assetserver\\/75af5f53e0088a81c77fec0c74dec23ed676eb50-style.css\"},{\"name\":null,\"type\":\"css\",\"url\":\"\\/assetserver\\/6ae6a66e550095b6b8e9dd509bd67c34fc3cbbc5-bulma_confined.min.css\"}],\"type\":\"async_block\"},\"id\":\"3133070478808785521\",\"handlers\":{\"changes\":[\"(function (val){return (val!=this.model[\\\"changes\\\"]()) ? (this.valueFromJulia[\\\"changes\\\"]=true, this.model[\\\"changes\\\"](val)) : undefined})\"],\"index\":[\"(function (val){return (val!=this.model[\\\"index\\\"]()) ? (this.valueFromJulia[\\\"index\\\"]=true, this.model[\\\"index\\\"](val)) : undefined})\"]},\"systemjs_options\":null,\"mount_callbacks\":[\"function () {\\n    var handler = (function (ko, koPunches) {\\n    ko.punches.enableAll();\\n    ko.bindingHandlers.numericValue = {\\n        init: function(element, valueAccessor, allBindings, data, context) {\\n            var stringified = ko.observable(ko.unwrap(valueAccessor()));\\n            stringified.subscribe(function(value) {\\n                var val = parseFloat(value);\\n                if (!isNaN(val)) {\\n                    valueAccessor()(val);\\n                }\\n            });\\n            valueAccessor().subscribe(function(value) {\\n                var str = JSON.stringify(value);\\n                if ((str == \\\"0\\\") && ([\\\"-0\\\", \\\"-0.\\\"].indexOf(stringified()) >= 0))\\n                     return;\\n                 if ([\\\"null\\\", \\\"\\\"].indexOf(str) >= 0)\\n                     return;\\n                stringified(str);\\n            });\\n            ko.applyBindingsToNode(\\n                element,\\n                {\\n                    value: stringified,\\n                    valueUpdate: allBindings.get('valueUpdate'),\\n                },\\n                context,\\n            );\\n        }\\n    };\\n    var json_data = {\\\"formatted_vals\\\":[\\\"0.0\\\",\\\"0.05\\\",\\\"0.1\\\",\\\"0.15\\\",\\\"0.2\\\",\\\"0.25\\\",\\\"0.3\\\",\\\"0.35\\\",\\\"0.4\\\",\\\"0.45\\\",\\\"0.5\\\",\\\"0.55\\\",\\\"0.6\\\",\\\"0.65\\\",\\\"0.7\\\",\\\"0.75\\\",\\\"0.8\\\",\\\"0.85\\\",\\\"0.9\\\",\\\"0.95\\\",\\\"1.0\\\"],\\\"changes\\\":WebIO.getval({\\\"name\\\":\\\"changes\\\",\\\"scope\\\":\\\"3133070478808785521\\\",\\\"id\\\":\\\"15864019467673161365\\\",\\\"type\\\":\\\"observable\\\"}),\\\"index\\\":WebIO.getval({\\\"name\\\":\\\"index\\\",\\\"scope\\\":\\\"3133070478808785521\\\",\\\"id\\\":\\\"6157300901399725316\\\",\\\"type\\\":\\\"observable\\\"})};\\n    var self = this;\\n    function AppViewModel() {\\n        for (var key in json_data) {\\n            var el = json_data[key];\\n            this[key] = Array.isArray(el) ? ko.observableArray(el) : ko.observable(el);\\n        }\\n        \\n        [this[\\\"formatted_val\\\"]=ko.computed(    function(){\\n        return this.formatted_vals()[parseInt(this.index())-(1)];\\n    }\\n,this)]\\n        [this[\\\"changes\\\"].subscribe((function (val){!(this.valueFromJulia[\\\"changes\\\"]) ? (WebIO.setval({\\\"name\\\":\\\"changes\\\",\\\"scope\\\":\\\"3133070478808785521\\\",\\\"id\\\":\\\"15864019467673161365\\\",\\\"type\\\":\\\"observable\\\"},val)) : undefined; return this.valueFromJulia[\\\"changes\\\"]=false}),self),this[\\\"index\\\"].subscribe((function (val){!(this.valueFromJulia[\\\"index\\\"]) ? (WebIO.setval({\\\"name\\\":\\\"index\\\",\\\"scope\\\":\\\"3133070478808785521\\\",\\\"id\\\":\\\"6157300901399725316\\\",\\\"type\\\":\\\"observable\\\"},val)) : undefined; return this.valueFromJulia[\\\"index\\\"]=false}),self)]\\n        \\n    }\\n    self.model = new AppViewModel();\\n    self.valueFromJulia = {};\\n    for (var key in json_data) {\\n        self.valueFromJulia[key] = false;\\n    }\\n    ko.applyBindings(self.model, self.dom);\\n}\\n);\\n    (WebIO.importBlock({\\\"data\\\":[{\\\"name\\\":\\\"knockout\\\",\\\"type\\\":\\\"js\\\",\\\"url\\\":\\\"\\/assetserver\\/4e142ee0ad0c998de353f56b1a22e601395860e5-knockout.js\\\"},{\\\"name\\\":\\\"knockout_punches\\\",\\\"type\\\":\\\"js\\\",\\\"url\\\":\\\"\\/assetserver\\/40dc135a5ed691edabc1bf4ca7dc4709f127a380-knockout_punches.js\\\"}],\\\"type\\\":\\\"async_block\\\"})).then((imports) => handler.apply(this, imports));\\n}\\n\"],\"observables\":{\"changes\":{\"sync\":false,\"id\":\"15864019467673161365\",\"value\":0},\"index\":{\"sync\":true,\"id\":\"6157300901399725316\",\"value\":11}}},\"children\":[{\"props\":{\"className\":\"interact-flex-row interact-widget\"},\"nodeType\":\"DOM\",\"type\":\"node\",\"instanceArgs\":{\"namespace\":\"html\",\"tag\":\"div\"},\"children\":[{\"props\":{\"className\":\"interact-flex-row-left\"},\"nodeType\":\"DOM\",\"type\":\"node\",\"instanceArgs\":{\"namespace\":\"html\",\"tag\":\"div\"},\"children\":[{\"props\":{\"className\":\"interact \",\"style\":{\"padding\":\"5px 10px 0px 10px\"}},\"nodeType\":\"DOM\",\"type\":\"node\",\"instanceArgs\":{\"namespace\":\"html\",\"tag\":\"label\"},\"children\":[\"Ke\"]}]},{\"props\":{\"className\":\"interact-flex-row-center\"},\"nodeType\":\"DOM\",\"type\":\"node\",\"instanceArgs\":{\"namespace\":\"html\",\"tag\":\"div\"},\"children\":[{\"props\":{\"max\":21,\"min\":1,\"attributes\":{\"type\":\"range\",\"data-bind\":\"numericValue: index, valueUpdate: 'input', event: {change: function (){this.changes(this.changes()+1)}}\",\"orient\":\"horizontal\"},\"step\":1,\"className\":\"slider slider is-fullwidth\",\"style\":{}},\"nodeType\":\"DOM\",\"type\":\"node\",\"instanceArgs\":{\"namespace\":\"html\",\"tag\":\"input\"},\"children\":[]}]},{\"props\":{\"className\":\"interact-flex-row-right\"},\"nodeType\":\"DOM\",\"type\":\"node\",\"instanceArgs\":{\"namespace\":\"html\",\"tag\":\"div\"},\"children\":[{\"props\":{\"attributes\":{\"data-bind\":\"text: formatted_val\"}},\"nodeType\":\"DOM\",\"type\":\"node\",\"instanceArgs\":{\"namespace\":\"html\",\"tag\":\"p\"},\"children\":[]}]}]}]}]},{\"props\":{\"className\":\"field interact-widget\"},\"nodeType\":\"DOM\",\"type\":\"node\",\"instanceArgs\":{\"namespace\":\"html\",\"tag\":\"div\"},\"children\":[{\"props\":{},\"nodeType\":\"Scope\",\"type\":\"node\",\"instanceArgs\":{\"imports\":{\"data\":[{\"name\":\"knockout\",\"type\":\"js\",\"url\":\"\\/assetserver\\/4e142ee0ad0c998de353f56b1a22e601395860e5-knockout.js\"},{\"name\":\"knockout_punches\",\"type\":\"js\",\"url\":\"\\/assetserver\\/40dc135a5ed691edabc1bf4ca7dc4709f127a380-knockout_punches.js\"},{\"name\":null,\"type\":\"js\",\"url\":\"\\/assetserver\\/30aa72339af74f9a627673d92d8040d5cfe9533e-all.js\"},{\"name\":null,\"type\":\"css\",\"url\":\"\\/assetserver\\/75af5f53e0088a81c77fec0c74dec23ed676eb50-style.css\"},{\"name\":null,\"type\":\"css\",\"url\":\"\\/assetserver\\/6ae6a66e550095b6b8e9dd509bd67c34fc3cbbc5-bulma_confined.min.css\"}],\"type\":\"async_block\"},\"id\":\"9992843512452606989\",\"handlers\":{\"changes\":[\"(function (val){return (val!=this.model[\\\"changes\\\"]()) ? (this.valueFromJulia[\\\"changes\\\"]=true, this.model[\\\"changes\\\"](val)) : undefined})\"],\"index\":[\"(function (val){return (val!=this.model[\\\"index\\\"]()) ? (this.valueFromJulia[\\\"index\\\"]=true, this.model[\\\"index\\\"](val)) : undefined})\"]},\"systemjs_options\":null,\"mount_callbacks\":[\"function () {\\n    var handler = (function (ko, koPunches) {\\n    ko.punches.enableAll();\\n    ko.bindingHandlers.numericValue = {\\n        init: function(element, valueAccessor, allBindings, data, context) {\\n            var stringified = ko.observable(ko.unwrap(valueAccessor()));\\n            stringified.subscribe(function(value) {\\n                var val = parseFloat(value);\\n                if (!isNaN(val)) {\\n                    valueAccessor()(val);\\n                }\\n            });\\n            valueAccessor().subscribe(function(value) {\\n                var str = JSON.stringify(value);\\n                if ((str == \\\"0\\\") && ([\\\"-0\\\", \\\"-0.\\\"].indexOf(stringified()) >= 0))\\n                     return;\\n                 if ([\\\"null\\\", \\\"\\\"].indexOf(str) >= 0)\\n                     return;\\n                stringified(str);\\n            });\\n            ko.applyBindingsToNode(\\n                element,\\n                {\\n                    value: stringified,\\n                    valueUpdate: allBindings.get('valueUpdate'),\\n                },\\n                context,\\n            );\\n        }\\n    };\\n    var json_data = {\\\"formatted_vals\\\":[\\\"1\\\",\\\"2\\\",\\\"3\\\",\\\"4\\\",\\\"5\\\",\\\"6\\\",\\\"7\\\",\\\"8\\\",\\\"9\\\",\\\"10\\\",\\\"11\\\",\\\"12\\\"],\\\"changes\\\":WebIO.getval({\\\"name\\\":\\\"changes\\\",\\\"scope\\\":\\\"9992843512452606989\\\",\\\"id\\\":\\\"4239177156149655904\\\",\\\"type\\\":\\\"observable\\\"}),\\\"index\\\":WebIO.getval({\\\"name\\\":\\\"index\\\",\\\"scope\\\":\\\"9992843512452606989\\\",\\\"id\\\":\\\"1260537878091644828\\\",\\\"type\\\":\\\"observable\\\"})};\\n    var self = this;\\n    function AppViewModel() {\\n        for (var key in json_data) {\\n            var el = json_data[key];\\n            this[key] = Array.isArray(el) ? ko.observableArray(el) : ko.observable(el);\\n        }\\n        \\n        [this[\\\"formatted_val\\\"]=ko.computed(    function(){\\n        return this.formatted_vals()[parseInt(this.index())-(1)];\\n    }\\n,this)]\\n        [this[\\\"changes\\\"].subscribe((function (val){!(this.valueFromJulia[\\\"changes\\\"]) ? (WebIO.setval({\\\"name\\\":\\\"changes\\\",\\\"scope\\\":\\\"9992843512452606989\\\",\\\"id\\\":\\\"4239177156149655904\\\",\\\"type\\\":\\\"observable\\\"},val)) : undefined; return this.valueFromJulia[\\\"changes\\\"]=false}),self),this[\\\"index\\\"].subscribe((function (val){!(this.valueFromJulia[\\\"index\\\"]) ? (WebIO.setval({\\\"name\\\":\\\"index\\\",\\\"scope\\\":\\\"9992843512452606989\\\",\\\"id\\\":\\\"1260537878091644828\\\",\\\"type\\\":\\\"observable\\\"},val)) : undefined; return this.valueFromJulia[\\\"index\\\"]=false}),self)]\\n        \\n    }\\n    self.model = new AppViewModel();\\n    self.valueFromJulia = {};\\n    for (var key in json_data) {\\n        self.valueFromJulia[key] = false;\\n    }\\n    ko.applyBindings(self.model, self.dom);\\n}\\n);\\n    (WebIO.importBlock({\\\"data\\\":[{\\\"name\\\":\\\"knockout\\\",\\\"type\\\":\\\"js\\\",\\\"url\\\":\\\"\\/assetserver\\/4e142ee0ad0c998de353f56b1a22e601395860e5-knockout.js\\\"},{\\\"name\\\":\\\"knockout_punches\\\",\\\"type\\\":\\\"js\\\",\\\"url\\\":\\\"\\/assetserver\\/40dc135a5ed691edabc1bf4ca7dc4709f127a380-knockout_punches.js\\\"}],\\\"type\\\":\\\"async_block\\\"})).then((imports) => handler.apply(this, imports));\\n}\\n\"],\"observables\":{\"changes\":{\"sync\":false,\"id\":\"4239177156149655904\",\"value\":0},\"index\":{\"sync\":true,\"id\":\"1260537878091644828\",\"value\":6}}},\"children\":[{\"props\":{\"className\":\"interact-flex-row interact-widget\"},\"nodeType\":\"DOM\",\"type\":\"node\",\"instanceArgs\":{\"namespace\":\"html\",\"tag\":\"div\"},\"children\":[{\"props\":{\"className\":\"interact-flex-row-left\"},\"nodeType\":\"DOM\",\"type\":\"node\",\"instanceArgs\":{\"namespace\":\"html\",\"tag\":\"div\"},\"children\":[{\"props\":{\"className\":\"interact \",\"style\":{\"padding\":\"5px 10px 0px 10px\"}},\"nodeType\":\"DOM\",\"type\":\"node\",\"instanceArgs\":{\"namespace\":\"html\",\"tag\":\"label\"},\"children\":[\"T\"]}]},{\"props\":{\"className\":\"interact-flex-row-center\"},\"nodeType\":\"DOM\",\"type\":\"node\",\"instanceArgs\":{\"namespace\":\"html\",\"tag\":\"div\"},\"children\":[{\"props\":{\"max\":12,\"min\":1,\"attributes\":{\"type\":\"range\",\"data-bind\":\"numericValue: index, valueUpdate: 'input', event: {change: function (){this.changes(this.changes()+1)}}\",\"orient\":\"horizontal\"},\"step\":1,\"className\":\"slider slider is-fullwidth\",\"style\":{}},\"nodeType\":\"DOM\",\"type\":\"node\",\"instanceArgs\":{\"namespace\":\"html\",\"tag\":\"input\"},\"children\":[]}]},{\"props\":{\"className\":\"interact-flex-row-right\"},\"nodeType\":\"DOM\",\"type\":\"node\",\"instanceArgs\":{\"namespace\":\"html\",\"tag\":\"div\"},\"children\":[{\"props\":{\"attributes\":{\"data-bind\":\"text: formatted_val\"}},\"nodeType\":\"DOM\",\"type\":\"node\",\"instanceArgs\":{\"namespace\":\"html\",\"tag\":\"p\"},\"children\":[]}]}]}]}]},{\"props\":{},\"nodeType\":\"Scope\",\"type\":\"node\",\"instanceArgs\":{\"imports\":{\"data\":[],\"type\":\"async_block\"},\"id\":\"7266016045243605673\",\"handlers\":{},\"systemjs_options\":null,\"mount_callbacks\":[],\"observables\":{\"obs-node\":{\"sync\":false,\"id\":\"5424595539903911306\",\"value\":{\"props\":{\"className\":\"interact-flex-row interact-widget\"},\"nodeType\":\"DOM\",\"type\":\"node\",\"instanceArgs\":{\"namespace\":\"html\",\"tag\":\"div\"},\"children\":[{\"props\":{\"setInnerHtml\":\"<?xml version=\\\"1.0\\\" encoding=\\\"utf-8\\\"?>\\n<svg xmlns=\\\"http:\\/\\/www.w3.org\\/2000\\/svg\\\" xmlns:xlink=\\\"http:\\/\\/www.w3.org\\/1999\\/xlink\\\" width=\\\"600\\\" height=\\\"400\\\" viewBox=\\\"0 0 2400 1600\\\">\\n<defs>\\n  <clipPath id=\\\"clip420\\\">\\n    <rect x=\\\"0\\\" y=\\\"0\\\" width=\\\"2400\\\" height=\\\"1600\\\"\\/>\\n  <\\/clipPath>\\n<\\/defs>\\n<path clip-path=\\\"url(#clip420)\\\" d=\\\"\\nM0 1600 L2400 1600 L2400 0 L0 0  Z\\n  \\\" fill=\\\"#ffffff\\\" fill-rule=\\\"evenodd\\\" fill-opacity=\\\"1\\\"\\/>\\n<defs>\\n  <clipPath id=\\\"clip421\\\">\\n    <rect x=\\\"480\\\" y=\\\"0\\\" width=\\\"1681\\\" height=\\\"1600\\\"\\/>\\n  <\\/clipPath>\\n<\\/defs>\\n<path clip-path=\\\"url(#clip420)\\\" d=\\\"\\nM110.512 1489.49 L2352.76 1489.49 L2352.76 47.2441 L110.512 47.2441  Z\\n  \\\" fill=\\\"#ffffff\\\" fill-rule=\\\"evenodd\\\" fill-opacity=\\\"1\\\"\\/>\\n<defs>\\n  <clipPath id=\\\"clip422\\\">\\n    <rect x=\\\"110\\\" y=\\\"47\\\" width=\\\"2243\\\" height=\\\"1443\\\"\\/>\\n  <\\/clipPath>\\n<\\/defs>\\n<polyline clip-path=\\\"url(#clip420)\\\" style=\\\"stroke:#000000; stroke-width:4; stroke-opacity:1; fill:none\\\" points=\\\"\\n  110.512,1489.49 2352.76,1489.49 \\n  \\\"\\/>\\n<path clip-path=\\\"url(#clip420)\\\" d=\\\"M 0 0 M1211.53 1534.99 L1251.73 1534.99 L1251.73 1540.4 L1234.86 1540.4 L1234.86 1582.51 L1228.4 1582.51 L1228.4 1540.4 L1211.53 1540.4 L1211.53 1534.99 Z\\\" fill=\\\"#000000\\\" fill-rule=\\\"evenodd\\\" fill-opacity=\\\"1\\\" \\/><polyline clip-path=\\\"url(#clip420)\\\" style=\\\"stroke:#000000; stroke-width:4; stroke-opacity:1; fill:none\\\" points=\\\"\\n  110.512,1489.49 110.512,47.2441 \\n  \\\"\\/>\\n<path clip-path=\\\"url(#clip420)\\\" d=\\\"M 0 0 M-19.6036 749.205 L-12.8241 749.205 Q-15.8478 752.452 -17.3438 756.144 Q-18.8397 759.804 -18.8397 763.942 Q-18.8397 772.09 -13.8426 776.419 Q-8.87738 780.747 0.543869 780.747 Q9.93329 780.747 14.9304 776.419 Q19.8956 772.09 19.8956 763.942 Q19.8956 759.804 18.3997 756.144 Q16.9037 752.452 13.88 749.205 L20.5958 749.205 Q22.8875 752.579 24.0333 756.367 Q25.1792 760.122 25.1792 764.324 Q25.1792 775.114 18.5906 781.32 Q11.9703 787.527 0.543869 787.527 Q-10.9144 787.527 -17.5029 781.32 Q-24.1232 775.114 -24.1232 764.324 Q-24.1232 760.059 -22.9774 756.303 Q-21.8634 752.515 -19.6036 749.205 Z\\\" fill=\\\"#000000\\\" fill-rule=\\\"evenodd\\\" fill-opacity=\\\"1\\\" \\/><polyline clip-path=\\\"url(#clip422)\\\" style=\\\"stroke:#000000; stroke-width:12; stroke-opacity:1; fill:none\\\" points=\\\"\\n  110.512,1448.67 110.512,1448.65 110.514,1448.45 110.532,1446.45 110.625,1436.06 110.782,1418.65 111.101,1383.92 111.567,1334.68 112.303,1260.52 113.27,1169.15 \\n  114.586,1055.65 116.196,932.345 118.196,801.021 120.527,675.027 123.262,559.576 126.348,464.793 129.84,394.956 133.696,354.599 137.957,344.477 142.591,363.619 \\n  147.647,409.271 153.09,476.73 158.925,560.562 165.1,654.17 171.582,751.585 178.304,847.275 185.22,937.359 190.592,1000.65 194.663,650.78 \\n  197.344,481.234 201.579,291.469 205.017,194.827 209.65,126.426 214.284,111.763 219.461,140.022 224.796,202.143 230.635,293.217 236.686,400.585 243.138,519.369 \\n  249.772,638.744 256.67,754.913 263.679,861.853 270.672,956.268 274.805,607.345 277.977,416.055 282.301,239.044 286.626,138.184 291.382,92.7132 \\n  296.277,97.7728 301.602,144.159 307.187,222.113 313.178,324.487 319.433,440.312 326.008,562.766 332.781,683.294 339.756,797.52 346.843,901.295 350.753,952.996 \\n  354.89,604.152 357.174,460.981 361.446,267.924 364.569,178.039 369.222,105.289 373.875,88.4282 379.06,115.887 384.404,178.344 390.245,270.537 \\n  396.299,379.607 402.752,500.442 409.387,622.039 416.285,740.44 423.296,849.511 430.449,947.881 430.833,952.781 434.669,625.474 435.436,572.469 \\n  439.486,348.808 441.081,284.124 445.494,159.661 448.079,118.42 452.959,88.257 456.575,97.5336 462.009,146.199 467.444,222.891 473.506,326.878 479.665,441.121 \\n  486.284,564.425 492.999,683.899 499.998,798.472 507.051,901.695 510.913,952.763 515.049,604.062 517.317,461.787 521.586,268.447 524.696,178.655 \\n  529.347,105.476 533.998,88.2691 539.18,115.428 544.521,177.654 550.36,269.682 556.411,378.653 562.862,499.455 569.496,621.071 576.392,739.533 583.402,848.687 \\n  590.554,947.154 590.993,952.761 594.815,626.448 595.58,573.558 599.62,349.953 601.212,285.22 605.617,160.403 608.197,118.925 613.072,88.2904 \\n  616.683,97.2456 622.112,145.501 627.54,221.873 633.598,325.627 639.752,439.735 646.367,563.004 653.078,682.513 660.075,797.182 667.127,900.531 671.073,952.761 \\n  675.209,604.075 677.505,460.2 681.776,267.403 684.91,177.415 689.563,104.967 694.217,88.3343 699.403,115.982 704.747,178.579 710.59,270.878 \\n  716.645,380.012 723.098,500.878 729.735,622.477 736.633,740.857 743.644,849.893 750.798,948.22 751.153,952.761 754.708,645.994 755.419,595.452 \\n  759.274,373.328 760.79,307.774 765.05,176.164 767.542,130.074 772.294,90.0766 775.812,92.5972 781.124,132.549 786.437,202.351 792.393,301.204 798.451,412.376 \\n  804.991,534.694 811.637,654.741 818.587,771.217 825.602,876.998 831.233,952.762 835.367,604.187 838.18,432.052 842.482,248.877 846.037,156.789 \\n  850.741,97.1341 855.445,90.5814 860.694,126.826 866.109,195.943 872.017,292.935 878.137,404.849 884.645,526.699 891.328,647.855 898.26,764.669 905.297,871.505 \\n  911.313,952.759 915.449,604.048 918.369,426.267 922.68,245.046 926.99,140.701 931.729,92.1502 936.607,94.7267 941.91,139.065 947.476,215.545 \\n  953.447,316.935 959.685,432.332 966.245,554.79 973.006,675.702 979.972,790.545 987.052,895.079 991.394,952.763 995.531,603.98 997.956,452.923 \\n  1002.24,262.571 1005.48,171.847 1010.14,102.733 1014.81,88.7352 1020.01,118.637 1025.38,182.953 1031.24,276.502 1037.31,386.391 1043.78,507.544 1050.42,629.054 \\n  1057.33,747.047 1064.35,855.524 1071.47,952.767 1075.61,603.946 1078.82,411.114 1083.15,235.113 1087.48,135.222 1092.25,90.7332 1097.15,96.676 \\n  1102.48,143.873 1108.08,222.492 1114.08,325.392 1120.34,441.568 1126.92,564.222 1133.7,684.81 1140.67,798.998 1147.76,902.667 1151.55,952.769 \\n  1155.69,603.914 1157.94,463.016 1162.21,269.215 1165.3,179.636 1169.95,105.882 1174.59,88.2392 1179.78,115.038 1185.11,176.997 1190.95,268.831 1197,377.688 \\n  1203.45,498.446 1210.08,620.076 1216.98,738.596 1223.98,847.836 1231.14,946.402 1231.63,952.767 1235.53,621.458 1236.3,567.989 1240.39,344.133 \\n  1242,279.656 1246.45,156.644 1249.05,116.369 1253.95,88.1193 1257.59,98.6979 1263.05,149.017 1268.5,227.001 1274.59,331.925 1280.76,446.707 1287.4,570.151 \\n  1294.13,689.476 1301.13,803.656 1308.19,906.372 1311.71,952.762 1315.85,603.988 1318,468.399 1322.27,272.791 1325.27,183.918 1329.91,107.674 \\n  1334.55,88.0623 1339.72,113.176 1345.05,173.847 1350.87,264.737 1356.91,373.016 1363.35,493.543 1369.97,615.223 1376.86,734.017 1383.86,843.661 1391.01,942.707 \\n  1391.79,952.761 1395.97,601.231 1396.86,542.012 1401.14,319.031 1402.89,253.97 1407.48,140.504 1410.24,105.501 1415.28,88.8484 1419.06,107.41 \\n  1424.65,167.387 1430.23,252.627 1436.42,362.596 1442.7,480.05 1449.42,603.89 1456.21,721.998 1463.27,833.659 1470.37,933.272 1471.87,952.765 \\n  1476.03,602.781 1477.34,517.022 1481.59,304.146 1483.81,227.556 1488.4,127.663 1491.59,96.1153 1496.65,92.6803 1500.81,121.912 1506.46,191.827 1512.11,283.431 \\n  1518.37,397.275 1524.71,516.016 1531.47,639.136 1538.31,755.073 1545.39,863.615 1551.95,952.763 1556.09,603.77 1559.16,418.342 1563.48,239.781 \\n  1567.81,137.752 1572.56,91.3532 1577.45,95.7331 1582.77,141.614 1588.35,219.259 1594.34,321.475 1600.59,437.306 1607.16,559.879 1613.93,680.625 1620.91,795.119 \\n  1627.99,899.189 1632.03,952.763 1636.17,603.946 1638.5,458.281 1642.78,266.1 1645.94,175.94 1650.59,104.368 1655.25,88.4379 1660.44,116.695 \\n  1665.79,179.762 1671.64,272.405 1677.7,381.75 1684.16,502.698 1690.8,624.276 1697.7,742.552 1704.71,851.437 1711.87,949.586 1712.11,952.767 \\n  1714.61,728.265 1715.18,683.472 1718.24,478.199 1719.54,408.168 1723.16,256.42 1725.38,191.889 1729.59,116.072 1732.8,92.101 1737.64,96.6735 1742.47,137.056 \\n  1748,211.715 1753.64,306.498 1759.84,420.49 1766.19,539.084 1772.91,660.29 1779.75,774.415 1786.81,880.457 1792.19,952.758 1796.33,604.017 \\n  1799.07,435.635 1803.37,251.182 1806.87,159.272 1811.57,97.9896 1816.27,90.1691 1821.51,125.343 1826.92,193.658 1832.82,290.082 1838.93,401.67 1845.43,523.418 \\n  1852.11,644.649 1859.04,761.674 1866.07,868.796 1872.28,952.754 1876.41,604.028 1879.38,423.557 1883.7,243.265 1888.01,139.71 1892.75,91.8777 \\n  1897.64,95.0488 1902.94,139.891 1908.51,216.751 1914.49,318.409 1920.73,433.946 1927.3,556.441 1934.06,677.299 1941.03,792.029 1948.11,896.412 1952.36,952.763 \\n  1956.49,603.972 1958.89,454.634 1963.16,263.699 1966.38,173.143 1971.04,103.246 1975.71,88.6325 1980.91,118.01 1986.27,181.928 1992.12,275.189 \\n  1998.19,384.905 2004.65,505.993 2011.3,627.526 2018.21,745.611 2025.22,854.219 2032.38,952.044 2032.44,952.767 2033,897.429 2033.57,844.642 \\n  2034.78,740.837 2036,646.156 2037.95,514.611 2039.98,402.407 2042.73,283.481 2045.61,194.626 2049.16,126.152 2052.89,93.3314 2057.24,93.7288 2061.82,126.998 \\n  2066.98,191.773 2072.42,279.499 2078.34,386.699 2084.53,502.528 2091.08,622.374 2097.82,737.991 2104.77,846.43 2111.82,943.908 2112.52,952.755 \\n  2116.62,606.161 2117.44,550.83 2121.68,326.532 2123.35,262.888 2127.91,145.636 2130.58,109.122 2135.58,88.2352 2139.29,103.797 2144.84,160.364 2150.38,243.172 \\n  2156.54,351.516 2162.79,468.199 2169.48,592.03 2176.26,710.671 2183.3,823.275 2190.39,924.012 2192.6,952.747 2196.74,603.406 2198.38,497.645 \\n  2202.63,291.841 2205.18,209.071 2209.78,118.888 2213.26,91.5308 2218.35,97.3475 2223.44,142.198 2229.16,222.037 2235,321.913 2241.34,439.317 2247.82,560.133 \\n  2254.64,681.708 2261.55,795.247 2268.67,899.676 2272.68,952.757 2276.81,603.819 2279.13,458.831 2283.41,266.421 2286.56,176.368 2291.22,104.528 \\n  2295.87,88.4003 2301.06,116.498 2306.41,179.45 2312.26,272.011 2318.32,381.311 2324.77,502.243 2331.41,623.831 2338.31,742.136 2345.33,851.06 2352.48,949.253 \\n  2352.76,952.763 \\n  \\\"\\/>\\n<path clip-path=\\\"url(#clip420)\\\" d=\\\"\\nM185.254 216.279 L596.173 216.279 L596.173 95.3189 L185.254 95.3189  Z\\n  \\\" fill=\\\"#ffffff\\\" fill-rule=\\\"evenodd\\\" fill-opacity=\\\"1\\\"\\/>\\n<polyline clip-path=\\\"url(#clip420)\\\" style=\\\"stroke:#000000; stroke-width:4; stroke-opacity:1; fill:none\\\" points=\\\"\\n  185.254,216.279 596.173,216.279 596.173,95.3189 185.254,95.3189 185.254,216.279 \\n  \\\"\\/>\\n<polyline clip-path=\\\"url(#clip420)\\\" style=\\\"stroke:#000000; stroke-width:4; stroke-opacity:1; fill:none\\\" points=\\\"\\n  210.167,155.799 359.65,155.799 \\n  \\\"\\/>\\n<path clip-path=\\\"url(#clip420)\\\" d=\\\"M 0 0 M389.24 142.361 L389.24 155.348 L395.12 155.348 Q398.384 155.348 400.166 153.658 Q401.948 151.968 401.948 148.843 Q401.948 145.741 400.166 144.051 Q398.384 142.361 395.12 142.361 L389.24 142.361 M384.564 138.519 L395.12 138.519 Q400.93 138.519 403.893 141.158 Q406.879 143.773 406.879 148.843 Q406.879 153.959 403.893 156.574 Q400.93 159.19 395.12 159.19 L389.24 159.19 L389.24 173.079 L384.564 173.079 L384.564 138.519 Z\\\" fill=\\\"#000000\\\" fill-rule=\\\"evenodd\\\" fill-opacity=\\\"1\\\" \\/><path clip-path=\\\"url(#clip420)\\\" d=\\\"M 0 0 M412.967 137.061 L417.226 137.061 L417.226 173.079 L412.967 173.079 L412.967 137.061 Z\\\" fill=\\\"#000000\\\" fill-rule=\\\"evenodd\\\" fill-opacity=\\\"1\\\" \\/><path clip-path=\\\"url(#clip420)\\\" d=\\\"M 0 0 M437.92 160.047 Q432.758 160.047 430.768 161.227 Q428.777 162.408 428.777 165.255 Q428.777 167.523 430.258 168.866 Q431.763 170.185 434.332 170.185 Q437.874 170.185 440.004 167.685 Q442.156 165.162 442.156 160.996 L442.156 160.047 L437.92 160.047 M446.416 158.287 L446.416 173.079 L442.156 173.079 L442.156 169.144 Q440.698 171.505 438.522 172.639 Q436.346 173.75 433.198 173.75 Q429.217 173.75 426.856 171.528 Q424.518 169.283 424.518 165.533 Q424.518 161.158 427.434 158.935 Q430.374 156.713 436.184 156.713 L442.156 156.713 L442.156 156.297 Q442.156 153.357 440.212 151.76 Q438.291 150.139 434.795 150.139 Q432.573 150.139 430.467 150.672 Q428.36 151.204 426.416 152.269 L426.416 148.334 Q428.754 147.431 430.953 146.991 Q433.152 146.528 435.235 146.528 Q440.86 146.528 443.638 149.445 Q446.416 152.361 446.416 158.287 Z\\\" fill=\\\"#000000\\\" fill-rule=\\\"evenodd\\\" fill-opacity=\\\"1\\\" \\/><path clip-path=\\\"url(#clip420)\\\" d=\\\"M 0 0 M471.716 147.917 L471.716 151.945 Q469.911 151.019 467.966 150.556 Q466.022 150.093 463.939 150.093 Q460.767 150.093 459.17 151.065 Q457.596 152.037 457.596 153.982 Q457.596 155.463 458.73 156.32 Q459.865 157.153 463.291 157.917 L464.749 158.241 Q469.286 159.213 471.184 160.996 Q473.105 162.755 473.105 165.926 Q473.105 169.537 470.235 171.644 Q467.388 173.75 462.388 173.75 Q460.304 173.75 458.036 173.334 Q455.791 172.94 453.291 172.13 L453.291 167.732 Q455.652 168.959 457.943 169.584 Q460.235 170.185 462.48 170.185 Q465.49 170.185 467.11 169.167 Q468.73 168.125 468.73 166.25 Q468.73 164.514 467.55 163.588 Q466.392 162.662 462.434 161.806 L460.953 161.459 Q456.994 160.625 455.235 158.912 Q453.476 157.176 453.476 154.167 Q453.476 150.51 456.068 148.519 Q458.661 146.528 463.429 146.528 Q465.791 146.528 467.874 146.875 Q469.957 147.223 471.716 147.917 Z\\\" fill=\\\"#000000\\\" fill-rule=\\\"evenodd\\\" fill-opacity=\\\"1\\\" \\/><path clip-path=\\\"url(#clip420)\\\" d=\\\"M 0 0 M500.073 152.13 Q501.67 149.26 503.892 147.894 Q506.114 146.528 509.124 146.528 Q513.175 146.528 515.374 149.375 Q517.573 152.199 517.573 157.431 L517.573 173.079 L513.29 173.079 L513.29 157.57 Q513.29 153.843 511.971 152.037 Q510.651 150.232 507.943 150.232 Q504.633 150.232 502.712 152.431 Q500.79 154.63 500.79 158.426 L500.79 173.079 L496.508 173.079 L496.508 157.57 Q496.508 153.82 495.189 152.037 Q493.869 150.232 491.114 150.232 Q487.851 150.232 485.929 152.454 Q484.008 154.653 484.008 158.426 L484.008 173.079 L479.726 173.079 L479.726 147.153 L484.008 147.153 L484.008 151.181 Q485.466 148.797 487.503 147.662 Q489.54 146.528 492.341 146.528 Q495.165 146.528 497.133 147.963 Q499.124 149.398 500.073 152.13 Z\\\" fill=\\\"#000000\\\" fill-rule=\\\"evenodd\\\" fill-opacity=\\\"1\\\" \\/><path clip-path=\\\"url(#clip420)\\\" d=\\\"M 0 0 M537.85 160.047 Q532.688 160.047 530.698 161.227 Q528.707 162.408 528.707 165.255 Q528.707 167.523 530.188 168.866 Q531.693 170.185 534.262 170.185 Q537.804 170.185 539.934 167.685 Q542.086 165.162 542.086 160.996 L542.086 160.047 L537.85 160.047 M546.346 158.287 L546.346 173.079 L542.086 173.079 L542.086 169.144 Q540.628 171.505 538.452 172.639 Q536.276 173.75 533.128 173.75 Q529.147 173.75 526.786 171.528 Q524.448 169.283 524.448 165.533 Q524.448 161.158 527.364 158.935 Q530.304 156.713 536.114 156.713 L542.086 156.713 L542.086 156.297 Q542.086 153.357 540.142 151.76 Q538.221 150.139 534.725 150.139 Q532.503 150.139 530.397 150.672 Q528.29 151.204 526.346 152.269 L526.346 148.334 Q528.684 147.431 530.883 146.991 Q533.082 146.528 535.165 146.528 Q540.79 146.528 543.568 149.445 Q546.346 152.361 546.346 158.287 Z\\\" fill=\\\"#000000\\\" fill-rule=\\\"evenodd\\\" fill-opacity=\\\"1\\\" \\/><\\/svg>\\n\"},\"nodeType\":\"DOM\",\"type\":\"node\",\"instanceArgs\":{\"namespace\":\"html\",\"tag\":\"div\"},\"children\":[]}]}}}},\"children\":[{\"props\":{},\"nodeType\":\"ObservableNode\",\"type\":\"node\",\"instanceArgs\":{\"id\":\"5424595539903911306\",\"name\":\"obs-node\"},\"children\":[]}]}]},\n",
       "            window,\n",
       "        );\n",
       "    } else {\n",
       "        document\n",
       "            .querySelector('[data-webio-mountpoint=\"3638126886457159613\"]')\n",
       "            .innerHTML = (\n",
       "                '<div style=\"padding: 1em; background-color: #f8d6da; border: 1px solid #f5c6cb\">' +\n",
       "                '<p><strong>WebIO not detected.</strong></p>' +\n",
       "                '<p>Please read ' +\n",
       "                '<a href=\"https://juliagizmos.github.io/WebIO.jl/latest/troubleshooting/not-detected/\" target=\"_blank\">the troubleshooting guide</a> ' +\n",
       "                'for more information on how to resolve this issue.</p>' +\n",
       "                '<p><a href=\"https://juliagizmos.github.io/WebIO.jl/latest/troubleshooting/not-detected/\" target=\"_blank\">https://juliagizmos.github.io/WebIO.jl/latest/troubleshooting/not-detected/</a></p>' +\n",
       "                '</div>'\n",
       "            );\n",
       "    }\n",
       "    </script>\n",
       "</div>\n"
      ],
      "text/plain": [
       "Node{WebIO.DOM}(WebIO.DOM(:html, :div), Any[Node{WebIO.DOM}(WebIO.DOM(:html, :div), Any[Scope(Node{WebIO.DOM}(WebIO.DOM(:html, :div), Any[Node{WebIO.DOM}(WebIO.DOM(:html, :div), Any[Node{WebIO.DOM}(WebIO.DOM(:html, :label), Any[\"Ka\"], Dict{Symbol, Any}(:className => \"interact \", :style => Dict{Any, Any}(:padding => \"5px 10px 0px 10px\")))], Dict{Symbol, Any}(:className => \"interact-flex-row-left\")), Node{WebIO.DOM}(WebIO.DOM(:html, :div), Any[Node{WebIO.DOM}(WebIO.DOM(:html, :input), Any[], Dict{Symbol, Any}(:max => 21, :min => 1, :attributes => Dict{Any, Any}(:type => \"range\", Symbol(\"data-bind\") => \"numericValue: index, valueUpdate: 'input', event: {change: function (){this.changes(this.changes()+1)}}\", \"orient\" => \"horizontal\"), :step => 1, :className => \"slider slider is-fullwidth\", :style => Dict{Any, Any}()))], Dict{Symbol, Any}(:className => \"interact-flex-row-center\")), Node{WebIO.DOM}(WebIO.DOM(:html, :div), Any[Node{WebIO.DOM}(WebIO.DOM(:html, :p), Any[], Dict{Symbol, Any}(:attributes => Dict(\"data-bind\" => \"text: formatted_val\")))], Dict{Symbol, Any}(:className => \"interact-flex-row-right\"))], Dict{Symbol, Any}(:className => \"interact-flex-row interact-widget\")), Dict{String, Tuple{Observables.AbstractObservable, Union{Nothing, Bool}}}(\"changes\" => (Observable{Int64} with 1 listeners. Value:\n",
       "0, nothing), \"index\" => (Observable{Any} with 2 listeners. Value:\n",
       "11, nothing)), Set{String}(), nothing, Asset[Asset(\"js\", \"knockout\", \"C:\\\\Users\\\\Omar Kana\\\\.julia\\\\packages\\\\Knockout\\\\IP1uR\\\\src\\\\..\\\\assets\\\\knockout.js\"), Asset(\"js\", \"knockout_punches\", \"C:\\\\Users\\\\Omar Kana\\\\.julia\\\\packages\\\\Knockout\\\\IP1uR\\\\src\\\\..\\\\assets\\\\knockout_punches.js\"), Asset(\"js\", nothing, \"C:\\\\Users\\\\Omar Kana\\\\.julia\\\\packages\\\\InteractBase\\\\Zfu5P\\\\src\\\\..\\\\assets\\\\all.js\"), Asset(\"css\", nothing, \"C:\\\\Users\\\\Omar Kana\\\\.julia\\\\packages\\\\InteractBase\\\\Zfu5P\\\\src\\\\..\\\\assets\\\\style.css\"), Asset(\"css\", nothing, \"C:\\\\Users\\\\Omar Kana\\\\.julia\\\\packages\\\\Interact\\\\SbgIk\\\\src\\\\..\\\\assets\\\\bulma_confined.min.css\")], Dict{Any, Any}(\"changes\" => Any[WebIO.JSString(\"(function (val){return (val!=this.model[\\\"changes\\\"]()) ? (this.valueFromJulia[\\\"changes\\\"]=true, this.model[\\\"changes\\\"](val)) : undefined})\")], \"index\" => Any[WebIO.JSString(\"(function (val){return (val!=this.model[\\\"index\\\"]()) ? (this.valueFromJulia[\\\"index\\\"]=true, this.model[\\\"index\\\"](val)) : undefined})\")]), WebIO.ConnectionPool(Channel{Any}(32), Set{AbstractConnection}(), Condition(Base.InvasiveLinkedList{Task}(Task (runnable) @0x0000000072b48b00, Task (runnable) @0x0000000072b48b00), Base.AlwaysLockedST(1))), WebIO.JSString[WebIO.JSString(\"function () {\\n    var handler = (function (ko, koPunches) {\\n    ko.punches.enableAll();\\n    ko.bindingHandlers.numericValue = {\\n        init: function(element, valueAccessor, allBindings, data, context) {\\n            var stringified = ko.observable(ko.unwrap(valueAccessor()));\\n            stringified.subscribe(function(value) {\\n                var val = parseFloat(value);\\n                if (!isNaN(val)) {\\n                    valueAccessor()(val);\\n                }\\n            });\\n            valueAccessor().subscribe(function(value) {\\n                var str = JSON.stringify(value);\\n                if ((str == \\\"0\\\") && ([\\\"-0\\\", \\\"-0.\\\"].indexOf(stringified()) >= 0))\\n                     return;\\n                 if ([\\\"null\\\", \\\"\\\"].indexOf(str) >= 0)\\n                     return;\\n                stringified(str);\\n            });\\n            ko.applyBindingsToNode(\\n                element,\\n                {\\n                    value: stringified,\\n                    valueUpdate: allBindings.get('valueUpdate'),\\n                },\\n                context,\\n            );\\n        }\\n    };\\n    var json_data = {\\\"formatted_vals\\\":[\\\"0.0\\\",\\\"0.05\\\",\\\"0.1\\\",\\\"0.15\\\",\\\"0.2\\\",\\\"0.25\\\",\\\"0.3\\\",\\\"0.35\\\",\\\"0.4\\\",\\\"0.45\\\",\\\"0.5\\\",\\\"0.55\\\",\\\"0.6\\\",\\\"0.65\\\",\\\"0.7\\\",\\\"0.75\\\",\\\"0.8\\\",\\\"0.85\\\",\\\"0.9\\\",\\\"0.95\\\",\\\"1.0\\\"],\\\"changes\\\":WebIO.getval({\\\"name\\\":\\\"changes\\\",\\\"scope\\\":\\\"16638614747457267940\\\",\\\"id\\\":\\\"9292860636510007702\\\",\\\"type\\\":\\\"observable\\\"}),\\\"index\\\":WebIO.getval({\\\"name\\\":\\\"index\\\",\\\"scope\\\":\\\"16638614747457267940\\\",\\\"id\\\":\\\"8916216228090967274\\\",\\\"type\\\":\\\"observable\\\"})};\\n    var self = this;\\n    function AppViewModel() {\\n        for (var key in json_data) {\\n            var el = json_data[key];\\n            this[key] = Array.isArray(el) ? ko.observableArray(el) : ko.observable(el);\\n        }\\n        \\n        [this[\\\"formatted_val\\\"]=ko.computed(    function(){\\n        return this.formatted_vals()[parseInt(this.index())-(1)];\\n    }\\n,this)]\\n        [this[\\\"changes\\\"].subscribe((function (val){!(this.valueFromJulia[\\\"changes\\\"]) ? (WebIO.setval({\\\"name\\\":\\\"changes\\\",\\\"scope\\\":\\\"16638614747457267940\\\",\\\"id\\\":\\\"9292860636510007702\\\",\\\"type\\\":\\\"observable\\\"},val)) : undefined; return this.valueFromJulia[\\\"changes\\\"]=false}),self),this[\\\"index\\\"].subscribe((function (val){!(this.valueFromJulia[\\\"index\\\"]) ? (WebIO.setval({\\\"name\\\":\\\"index\\\",\\\"scope\\\":\\\"16638614747457267940\\\",\\\"id\\\":\\\"8916216228090967274\\\",\\\"type\\\":\\\"observable\\\"},val)) : undefined; return this.valueFromJulia[\\\"index\\\"]=false}),self)]\\n        \\n    }\\n    self.model = new AppViewModel();\\n    self.valueFromJulia = {};\\n    for (var key in json_data) {\\n        self.valueFromJulia[key] = false;\\n    }\\n    ko.applyBindings(self.model, self.dom);\\n}\\n);\\n    (WebIO.importBlock({\\\"data\\\":[{\\\"name\\\":\\\"knockout\\\",\\\"type\\\":\\\"js\\\",\\\"url\\\":\\\"/assetserver/4e142ee0ad0c998de353f56b1a22e601395860e5-knockout.js\\\"},{\\\"name\\\":\\\"knockout_punches\\\",\\\"type\\\":\\\"js\\\",\\\"url\\\":\\\"/assetserver/40dc135a5ed691edabc1bf4ca7dc4709f127a380-knockout_punches.js\\\"}],\\\"type\\\":\\\"async_block\\\"})).then((imports) => handler.apply(this, imports));\\n}\\n\")])], Dict{Symbol, Any}(:className => \"field interact-widget\")), Node{WebIO.DOM}(WebIO.DOM(:html, :div), Any[Scope(Node{WebIO.DOM}(WebIO.DOM(:html, :div), Any[Node{WebIO.DOM}(WebIO.DOM(:html, :div), Any[Node{WebIO.DOM}(WebIO.DOM(:html, :label), Any[\"Ke\"], Dict{Symbol, Any}(:className => \"interact \", :style => Dict{Any, Any}(:padding => \"5px 10px 0px 10px\")))], Dict{Symbol, Any}(:className => \"interact-flex-row-left\")), Node{WebIO.DOM}(WebIO.DOM(:html, :div), Any[Node{WebIO.DOM}(WebIO.DOM(:html, :input), Any[], Dict{Symbol, Any}(:max => 21, :min => 1, :attributes => Dict{Any, Any}(:type => \"range\", Symbol(\"data-bind\") => \"numericValue: index, valueUpdate: 'input', event: {change: function (){this.changes(this.changes()+1)}}\", \"orient\" => \"horizontal\"), :step => 1, :className => \"slider slider is-fullwidth\", :style => Dict{Any, Any}()))], Dict{Symbol, Any}(:className => \"interact-flex-row-center\")), Node{WebIO.DOM}(WebIO.DOM(:html, :div), Any[Node{WebIO.DOM}(WebIO.DOM(:html, :p), Any[], Dict{Symbol, Any}(:attributes => Dict(\"data-bind\" => \"text: formatted_val\")))], Dict{Symbol, Any}(:className => \"interact-flex-row-right\"))], Dict{Symbol, Any}(:className => \"interact-flex-row interact-widget\")), Dict{String, Tuple{Observables.AbstractObservable, Union{Nothing, Bool}}}(\"changes\" => (Observable{Int64} with 1 listeners. Value:\n",
       "0, nothing), \"index\" => (Observable{Any} with 2 listeners. Value:\n",
       "11, nothing)), Set{String}(), nothing, Asset[Asset(\"js\", \"knockout\", \"C:\\\\Users\\\\Omar Kana\\\\.julia\\\\packages\\\\Knockout\\\\IP1uR\\\\src\\\\..\\\\assets\\\\knockout.js\"), Asset(\"js\", \"knockout_punches\", \"C:\\\\Users\\\\Omar Kana\\\\.julia\\\\packages\\\\Knockout\\\\IP1uR\\\\src\\\\..\\\\assets\\\\knockout_punches.js\"), Asset(\"js\", nothing, \"C:\\\\Users\\\\Omar Kana\\\\.julia\\\\packages\\\\InteractBase\\\\Zfu5P\\\\src\\\\..\\\\assets\\\\all.js\"), Asset(\"css\", nothing, \"C:\\\\Users\\\\Omar Kana\\\\.julia\\\\packages\\\\InteractBase\\\\Zfu5P\\\\src\\\\..\\\\assets\\\\style.css\"), Asset(\"css\", nothing, \"C:\\\\Users\\\\Omar Kana\\\\.julia\\\\packages\\\\Interact\\\\SbgIk\\\\src\\\\..\\\\assets\\\\bulma_confined.min.css\")], Dict{Any, Any}(\"changes\" => Any[WebIO.JSString(\"(function (val){return (val!=this.model[\\\"changes\\\"]()) ? (this.valueFromJulia[\\\"changes\\\"]=true, this.model[\\\"changes\\\"](val)) : undefined})\")], \"index\" => Any[WebIO.JSString(\"(function (val){return (val!=this.model[\\\"index\\\"]()) ? (this.valueFromJulia[\\\"index\\\"]=true, this.model[\\\"index\\\"](val)) : undefined})\")]), WebIO.ConnectionPool(Channel{Any}(32), Set{AbstractConnection}(), Condition(Base.InvasiveLinkedList{Task}(Task (runnable) @0x0000000072b9a400, Task (runnable) @0x0000000072b9a400), Base.AlwaysLockedST(1))), WebIO.JSString[WebIO.JSString(\"function () {\\n    var handler = (function (ko, koPunches) {\\n    ko.punches.enableAll();\\n    ko.bindingHandlers.numericValue = {\\n        init: function(element, valueAccessor, allBindings, data, context) {\\n            var stringified = ko.observable(ko.unwrap(valueAccessor()));\\n            stringified.subscribe(function(value) {\\n                var val = parseFloat(value);\\n                if (!isNaN(val)) {\\n                    valueAccessor()(val);\\n                }\\n            });\\n            valueAccessor().subscribe(function(value) {\\n                var str = JSON.stringify(value);\\n                if ((str == \\\"0\\\") && ([\\\"-0\\\", \\\"-0.\\\"].indexOf(stringified()) >= 0))\\n                     return;\\n                 if ([\\\"null\\\", \\\"\\\"].indexOf(str) >= 0)\\n                     return;\\n                stringified(str);\\n            });\\n            ko.applyBindingsToNode(\\n                element,\\n                {\\n                    value: stringified,\\n                    valueUpdate: allBindings.get('valueUpdate'),\\n                },\\n                context,\\n            );\\n        }\\n    };\\n    var json_data = {\\\"formatted_vals\\\":[\\\"0.0\\\",\\\"0.05\\\",\\\"0.1\\\",\\\"0.15\\\",\\\"0.2\\\",\\\"0.25\\\",\\\"0.3\\\",\\\"0.35\\\",\\\"0.4\\\",\\\"0.45\\\",\\\"0.5\\\",\\\"0.55\\\",\\\"0.6\\\",\\\"0.65\\\",\\\"0.7\\\",\\\"0.75\\\",\\\"0.8\\\",\\\"0.85\\\",\\\"0.9\\\",\\\"0.95\\\",\\\"1.0\\\"],\\\"changes\\\":WebIO.getval({\\\"name\\\":\\\"changes\\\",\\\"scope\\\":\\\"3133070478808785521\\\",\\\"id\\\":\\\"15864019467673161365\\\",\\\"type\\\":\\\"observable\\\"}),\\\"index\\\":WebIO.getval({\\\"name\\\":\\\"index\\\",\\\"scope\\\":\\\"3133070478808785521\\\",\\\"id\\\":\\\"6157300901399725316\\\",\\\"type\\\":\\\"observable\\\"})};\\n    var self = this;\\n    function AppViewModel() {\\n        for (var key in json_data) {\\n            var el = json_data[key];\\n            this[key] = Array.isArray(el) ? ko.observableArray(el) : ko.observable(el);\\n        }\\n        \\n        [this[\\\"formatted_val\\\"]=ko.computed(    function(){\\n        return this.formatted_vals()[parseInt(this.index())-(1)];\\n    }\\n,this)]\\n        [this[\\\"changes\\\"].subscribe((function (val){!(this.valueFromJulia[\\\"changes\\\"]) ? (WebIO.setval({\\\"name\\\":\\\"changes\\\",\\\"scope\\\":\\\"3133070478808785521\\\",\\\"id\\\":\\\"15864019467673161365\\\",\\\"type\\\":\\\"observable\\\"},val)) : undefined; return this.valueFromJulia[\\\"changes\\\"]=false}),self),this[\\\"index\\\"].subscribe((function (val){!(this.valueFromJulia[\\\"index\\\"]) ? (WebIO.setval({\\\"name\\\":\\\"index\\\",\\\"scope\\\":\\\"3133070478808785521\\\",\\\"id\\\":\\\"6157300901399725316\\\",\\\"type\\\":\\\"observable\\\"},val)) : undefined; return this.valueFromJulia[\\\"index\\\"]=false}),self)]\\n        \\n    }\\n    self.model = new AppViewModel();\\n    self.valueFromJulia = {};\\n    for (var key in json_data) {\\n        self.valueFromJulia[key] = false;\\n    }\\n    ko.applyBindings(self.model, self.dom);\\n}\\n);\\n    (WebIO.importBlock({\\\"data\\\":[{\\\"name\\\":\\\"knockout\\\",\\\"type\\\":\\\"js\\\",\\\"url\\\":\\\"/assetserver/4e142ee0ad0c998de353f56b1a22e601395860e5-knockout.js\\\"},{\\\"name\\\":\\\"knockout_punches\\\",\\\"type\\\":\\\"js\\\",\\\"url\\\":\\\"/assetserver/40dc135a5ed691edabc1bf4ca7dc4709f127a380-knockout_punches.js\\\"}],\\\"type\\\":\\\"async_block\\\"})).then((imports) => handler.apply(this, imports));\\n}\\n\")])], Dict{Symbol, Any}(:className => \"field interact-widget\")), Node{WebIO.DOM}(WebIO.DOM(:html, :div), Any[Scope(Node{WebIO.DOM}(WebIO.DOM(:html, :div), Any[Node{WebIO.DOM}(WebIO.DOM(:html, :div), Any[Node{WebIO.DOM}(WebIO.DOM(:html, :label), Any[\"T\"], Dict{Symbol, Any}(:className => \"interact \", :style => Dict{Any, Any}(:padding => \"5px 10px 0px 10px\")))], Dict{Symbol, Any}(:className => \"interact-flex-row-left\")), Node{WebIO.DOM}(WebIO.DOM(:html, :div), Any[Node{WebIO.DOM}(WebIO.DOM(:html, :input), Any[], Dict{Symbol, Any}(:max => 12, :min => 1, :attributes => Dict{Any, Any}(:type => \"range\", Symbol(\"data-bind\") => \"numericValue: index, valueUpdate: 'input', event: {change: function (){this.changes(this.changes()+1)}}\", \"orient\" => \"horizontal\"), :step => 1, :className => \"slider slider is-fullwidth\", :style => Dict{Any, Any}()))], Dict{Symbol, Any}(:className => \"interact-flex-row-center\")), Node{WebIO.DOM}(WebIO.DOM(:html, :div), Any[Node{WebIO.DOM}(WebIO.DOM(:html, :p), Any[], Dict{Symbol, Any}(:attributes => Dict(\"data-bind\" => \"text: formatted_val\")))], Dict{Symbol, Any}(:className => \"interact-flex-row-right\"))], Dict{Symbol, Any}(:className => \"interact-flex-row interact-widget\")), Dict{String, Tuple{Observables.AbstractObservable, Union{Nothing, Bool}}}(\"changes\" => (Observable{Int64} with 1 listeners. Value:\n",
       "0, nothing), \"index\" => (Observable{Any} with 2 listeners. Value:\n",
       "6, nothing)), Set{String}(), nothing, Asset[Asset(\"js\", \"knockout\", \"C:\\\\Users\\\\Omar Kana\\\\.julia\\\\packages\\\\Knockout\\\\IP1uR\\\\src\\\\..\\\\assets\\\\knockout.js\"), Asset(\"js\", \"knockout_punches\", \"C:\\\\Users\\\\Omar Kana\\\\.julia\\\\packages\\\\Knockout\\\\IP1uR\\\\src\\\\..\\\\assets\\\\knockout_punches.js\"), Asset(\"js\", nothing, \"C:\\\\Users\\\\Omar Kana\\\\.julia\\\\packages\\\\InteractBase\\\\Zfu5P\\\\src\\\\..\\\\assets\\\\all.js\"), Asset(\"css\", nothing, \"C:\\\\Users\\\\Omar Kana\\\\.julia\\\\packages\\\\InteractBase\\\\Zfu5P\\\\src\\\\..\\\\assets\\\\style.css\"), Asset(\"css\", nothing, \"C:\\\\Users\\\\Omar Kana\\\\.julia\\\\packages\\\\Interact\\\\SbgIk\\\\src\\\\..\\\\assets\\\\bulma_confined.min.css\")], Dict{Any, Any}(\"changes\" => Any[WebIO.JSString(\"(function (val){return (val!=this.model[\\\"changes\\\"]()) ? (this.valueFromJulia[\\\"changes\\\"]=true, this.model[\\\"changes\\\"](val)) : undefined})\")], \"index\" => Any[WebIO.JSString(\"(function (val){return (val!=this.model[\\\"index\\\"]()) ? (this.valueFromJulia[\\\"index\\\"]=true, this.model[\\\"index\\\"](val)) : undefined})\")]), WebIO.ConnectionPool(Channel{Any}(32), Set{AbstractConnection}(), Condition(Base.InvasiveLinkedList{Task}(Task (runnable) @0x0000000072bf28b0, Task (runnable) @0x0000000072bf28b0), Base.AlwaysLockedST(1))), WebIO.JSString[WebIO.JSString(\"function () {\\n    var handler = (function (ko, koPunches) {\\n    ko.punches.enableAll();\\n    ko.bindingHandlers.numericValue = {\\n        init: function(element, valueAccessor, allBindings, data, context) {\\n            var stringified = ko.observable(ko.unwrap(valueAccessor()));\\n            stringified.subscribe(function(value) {\\n                var val = parseFloat(value);\\n                if (!isNaN(val)) {\\n                    valueAccessor()(val);\\n                }\\n            });\\n            valueAccessor().subscribe(function(value) {\\n                var str = JSON.stringify(value);\\n                if ((str == \\\"0\\\") && ([\\\"-0\\\", \\\"-0.\\\"].indexOf(stringified()) >= 0))\\n                     return;\\n                 if ([\\\"null\\\", \\\"\\\"].indexOf(str) >= 0)\\n                     return;\\n                stringified(str);\\n            });\\n            ko.applyBindingsToNode(\\n                element,\\n                {\\n                    value: stringified,\\n                    valueUpdate: allBindings.get('valueUpdate'),\\n                },\\n                context,\\n            );\\n        }\\n    };\\n    var json_data = {\\\"formatted_vals\\\":[\\\"1\\\",\\\"2\\\",\\\"3\\\",\\\"4\\\",\\\"5\\\",\\\"6\\\",\\\"7\\\",\\\"8\\\",\\\"9\\\",\\\"10\\\",\\\"11\\\",\\\"12\\\"],\\\"changes\\\":WebIO.getval({\\\"name\\\":\\\"changes\\\",\\\"scope\\\":\\\"9992843512452606989\\\",\\\"id\\\":\\\"4239177156149655904\\\",\\\"type\\\":\\\"observable\\\"}),\\\"index\\\":WebIO.getval({\\\"name\\\":\\\"index\\\",\\\"scope\\\":\\\"9992843512452606989\\\",\\\"id\\\":\\\"1260537878091644828\\\",\\\"type\\\":\\\"observable\\\"})};\\n    var self = this;\\n    function AppViewModel() {\\n        for (var key in json_data) {\\n            var el = json_data[key];\\n            this[key] = Array.isArray(el) ? ko.observableArray(el) : ko.observable(el);\\n        }\\n        \\n        [this[\\\"formatted_val\\\"]=ko.computed(    function(){\\n        return this.formatted_vals()[parseInt(this.index())-(1)];\\n    }\\n,this)]\\n        [this[\\\"changes\\\"].subscribe((function (val){!(this.valueFromJulia[\\\"changes\\\"]) ? (WebIO.setval({\\\"name\\\":\\\"changes\\\",\\\"scope\\\":\\\"9992843512452606989\\\",\\\"id\\\":\\\"4239177156149655904\\\",\\\"type\\\":\\\"observable\\\"},val)) : undefined; return this.valueFromJulia[\\\"changes\\\"]=false}),self),this[\\\"index\\\"].subscribe((function (val){!(this.valueFromJulia[\\\"index\\\"]) ? (WebIO.setval({\\\"name\\\":\\\"index\\\",\\\"scope\\\":\\\"9992843512452606989\\\",\\\"id\\\":\\\"1260537878091644828\\\",\\\"type\\\":\\\"observable\\\"},val)) : undefined; return this.valueFromJulia[\\\"index\\\"]=false}),self)]\\n        \\n    }\\n    self.model = new AppViewModel();\\n    self.valueFromJulia = {};\\n    for (var key in json_data) {\\n        self.valueFromJulia[key] = false;\\n    }\\n    ko.applyBindings(self.model, self.dom);\\n}\\n);\\n    (WebIO.importBlock({\\\"data\\\":[{\\\"name\\\":\\\"knockout\\\",\\\"type\\\":\\\"js\\\",\\\"url\\\":\\\"/assetserver/4e142ee0ad0c998de353f56b1a22e601395860e5-knockout.js\\\"},{\\\"name\\\":\\\"knockout_punches\\\",\\\"type\\\":\\\"js\\\",\\\"url\\\":\\\"/assetserver/40dc135a5ed691edabc1bf4ca7dc4709f127a380-knockout_punches.js\\\"}],\\\"type\\\":\\\"async_block\\\"})).then((imports) => handler.apply(this, imports));\\n}\\n\")])], Dict{Symbol, Any}(:className => \"field interact-widget\")), Observable{Any} with 0 listeners. Value:\n",
       "Node{WebIO.DOM}(WebIO.DOM(:html, :div), Any[Plot{Plots.GRBackend() n=1}], Dict{Symbol, Any}(:className => \"interact-flex-row interact-widget\"))], Dict{Symbol, Any}())"
      ]
     },
     "execution_count": 14,
     "metadata": {
      "application/vnd.webio.node+json": {
       "kernelId": null
      }
     },
     "output_type": "execute_result"
    }
   ],
   "source": [
    "#Create interactive app using \n",
    "@manipulate for Ka = 0:0.05:1, Ke = 0:0.05:1, T = 1:1:12\n",
    "    dosetimes = 0:T:168 # we will dose every T hours \n",
    "    condition(u,t,integrator) = t ∈ dosetimes\n",
    "    affect!(integrator) = integrator.u[1] += 150 #add this concentration to the GI compartment\n",
    "    cb = DiscreteCallback(condition,affect!)\n",
    "    tspan = (0, 168) #Time range\n",
    "    u0 = [150, 0] #initial concentrations in GI and Plasma compartment respectively\n",
    "    p = [Ka, Ke]\n",
    "    prob = ODEProblem(dCdt, u0, tspan, p)\n",
    "    sol = solve(prob,Rosenbrock23(),callback=cb,tstops=dosetimes)\n",
    "    plot(sol.t, sol[2,:]; xlabel = \"T\", ylabel = \"C\", label = \"Plasma\", legend = :topleft, ticks = false, color = :black, width = 3, xlim = tspan)\n",
    "end"
   ]
  },
  {
   "cell_type": "markdown",
   "metadata": {},
   "source": [
    "## Michelis Menten Elimination"
   ]
  },
  {
   "cell_type": "markdown",
   "metadata": {},
   "source": [
    "We have the same framwork as before, however in equation (2) we replace the linear elimination term with a michelis menten one.\n",
    "\n",
    "$ \\frac{dC_{p}}{dt} = K_a*C_{GI} - \\frac{V_{max}*C_p}{K_m + C_p} \\tag{3}$"
   ]
  },
  {
   "cell_type": "code",
   "execution_count": 15,
   "metadata": {},
   "outputs": [
    {
     "data": {
      "text/plain": [
       "dCdt (generic function with 1 method)"
      ]
     },
     "execution_count": 15,
     "metadata": {},
     "output_type": "execute_result"
    }
   ],
   "source": [
    "function dCdt(du, u, p, t)\n",
    "    Ka, Vmax, Km = p\n",
    "    du[1] = -Ka*u[1]\n",
    "    du[2] = Ka*u[1] - Vmax*u[2]/(Km + u[2]) \n",
    "end"
   ]
  },
  {
   "cell_type": "code",
   "execution_count": 18,
   "metadata": {},
   "outputs": [
    {
     "data": {
      "application/vnd.webio.node+json": {
       "children": [
        {
         "children": [
          {
           "children": [
            {
             "children": [
              {
               "children": [
                {
                 "children": [
                  "Ka"
                 ],
                 "instanceArgs": {
                  "namespace": "html",
                  "tag": "label"
                 },
                 "nodeType": "DOM",
                 "props": {
                  "className": "interact ",
                  "style": {
                   "padding": "5px 10px 0px 10px"
                  }
                 },
                 "type": "node"
                }
               ],
               "instanceArgs": {
                "namespace": "html",
                "tag": "div"
               },
               "nodeType": "DOM",
               "props": {
                "className": "interact-flex-row-left"
               },
               "type": "node"
              },
              {
               "children": [
                {
                 "children": [],
                 "instanceArgs": {
                  "namespace": "html",
                  "tag": "input"
                 },
                 "nodeType": "DOM",
                 "props": {
                  "attributes": {
                   "data-bind": "numericValue: index, valueUpdate: 'input', event: {change: function (){this.changes(this.changes()+1)}}",
                   "orient": "horizontal",
                   "type": "range"
                  },
                  "className": "slider slider is-fullwidth",
                  "max": 21,
                  "min": 1,
                  "step": 1,
                  "style": {}
                 },
                 "type": "node"
                }
               ],
               "instanceArgs": {
                "namespace": "html",
                "tag": "div"
               },
               "nodeType": "DOM",
               "props": {
                "className": "interact-flex-row-center"
               },
               "type": "node"
              },
              {
               "children": [
                {
                 "children": [],
                 "instanceArgs": {
                  "namespace": "html",
                  "tag": "p"
                 },
                 "nodeType": "DOM",
                 "props": {
                  "attributes": {
                   "data-bind": "text: formatted_val"
                  }
                 },
                 "type": "node"
                }
               ],
               "instanceArgs": {
                "namespace": "html",
                "tag": "div"
               },
               "nodeType": "DOM",
               "props": {
                "className": "interact-flex-row-right"
               },
               "type": "node"
              }
             ],
             "instanceArgs": {
              "namespace": "html",
              "tag": "div"
             },
             "nodeType": "DOM",
             "props": {
              "className": "interact-flex-row interact-widget"
             },
             "type": "node"
            }
           ],
           "instanceArgs": {
            "handlers": {
             "changes": [
              "(function (val){return (val!=this.model[\"changes\"]()) ? (this.valueFromJulia[\"changes\"]=true, this.model[\"changes\"](val)) : undefined})"
             ],
             "index": [
              "(function (val){return (val!=this.model[\"index\"]()) ? (this.valueFromJulia[\"index\"]=true, this.model[\"index\"](val)) : undefined})"
             ]
            },
            "id": "4775544300404100491",
            "imports": {
             "data": [
              {
               "name": "knockout",
               "type": "js",
               "url": "/assetserver/4e142ee0ad0c998de353f56b1a22e601395860e5-knockout.js"
              },
              {
               "name": "knockout_punches",
               "type": "js",
               "url": "/assetserver/40dc135a5ed691edabc1bf4ca7dc4709f127a380-knockout_punches.js"
              },
              {
               "name": null,
               "type": "js",
               "url": "/assetserver/30aa72339af74f9a627673d92d8040d5cfe9533e-all.js"
              },
              {
               "name": null,
               "type": "css",
               "url": "/assetserver/75af5f53e0088a81c77fec0c74dec23ed676eb50-style.css"
              },
              {
               "name": null,
               "type": "css",
               "url": "/assetserver/6ae6a66e550095b6b8e9dd509bd67c34fc3cbbc5-bulma_confined.min.css"
              }
             ],
             "type": "async_block"
            },
            "mount_callbacks": [
             "function () {\n    var handler = (function (ko, koPunches) {\n    ko.punches.enableAll();\n    ko.bindingHandlers.numericValue = {\n        init: function(element, valueAccessor, allBindings, data, context) {\n            var stringified = ko.observable(ko.unwrap(valueAccessor()));\n            stringified.subscribe(function(value) {\n                var val = parseFloat(value);\n                if (!isNaN(val)) {\n                    valueAccessor()(val);\n                }\n            });\n            valueAccessor().subscribe(function(value) {\n                var str = JSON.stringify(value);\n                if ((str == \"0\") && ([\"-0\", \"-0.\"].indexOf(stringified()) >= 0))\n                     return;\n                 if ([\"null\", \"\"].indexOf(str) >= 0)\n                     return;\n                stringified(str);\n            });\n            ko.applyBindingsToNode(\n                element,\n                {\n                    value: stringified,\n                    valueUpdate: allBindings.get('valueUpdate'),\n                },\n                context,\n            );\n        }\n    };\n    var json_data = {\"formatted_vals\":[\"0.0\",\"0.05\",\"0.1\",\"0.15\",\"0.2\",\"0.25\",\"0.3\",\"0.35\",\"0.4\",\"0.45\",\"0.5\",\"0.55\",\"0.6\",\"0.65\",\"0.7\",\"0.75\",\"0.8\",\"0.85\",\"0.9\",\"0.95\",\"1.0\"],\"changes\":WebIO.getval({\"name\":\"changes\",\"scope\":\"4775544300404100491\",\"id\":\"12674942297651706461\",\"type\":\"observable\"}),\"index\":WebIO.getval({\"name\":\"index\",\"scope\":\"4775544300404100491\",\"id\":\"5520872383848223105\",\"type\":\"observable\"})};\n    var self = this;\n    function AppViewModel() {\n        for (var key in json_data) {\n            var el = json_data[key];\n            this[key] = Array.isArray(el) ? ko.observableArray(el) : ko.observable(el);\n        }\n        \n        [this[\"formatted_val\"]=ko.computed(    function(){\n        return this.formatted_vals()[parseInt(this.index())-(1)];\n    }\n,this)]\n        [this[\"changes\"].subscribe((function (val){!(this.valueFromJulia[\"changes\"]) ? (WebIO.setval({\"name\":\"changes\",\"scope\":\"4775544300404100491\",\"id\":\"12674942297651706461\",\"type\":\"observable\"},val)) : undefined; return this.valueFromJulia[\"changes\"]=false}),self),this[\"index\"].subscribe((function (val){!(this.valueFromJulia[\"index\"]) ? (WebIO.setval({\"name\":\"index\",\"scope\":\"4775544300404100491\",\"id\":\"5520872383848223105\",\"type\":\"observable\"},val)) : undefined; return this.valueFromJulia[\"index\"]=false}),self)]\n        \n    }\n    self.model = new AppViewModel();\n    self.valueFromJulia = {};\n    for (var key in json_data) {\n        self.valueFromJulia[key] = false;\n    }\n    ko.applyBindings(self.model, self.dom);\n}\n);\n    (WebIO.importBlock({\"data\":[{\"name\":\"knockout\",\"type\":\"js\",\"url\":\"/assetserver/4e142ee0ad0c998de353f56b1a22e601395860e5-knockout.js\"},{\"name\":\"knockout_punches\",\"type\":\"js\",\"url\":\"/assetserver/40dc135a5ed691edabc1bf4ca7dc4709f127a380-knockout_punches.js\"}],\"type\":\"async_block\"})).then((imports) => handler.apply(this, imports));\n}\n"
            ],
            "observables": {
             "changes": {
              "id": "12674942297651706461",
              "sync": false,
              "value": 0
             },
             "index": {
              "id": "5520872383848223105",
              "sync": true,
              "value": 11
             }
            },
            "systemjs_options": null
           },
           "nodeType": "Scope",
           "props": {},
           "type": "node"
          }
         ],
         "instanceArgs": {
          "namespace": "html",
          "tag": "div"
         },
         "nodeType": "DOM",
         "props": {
          "className": "field interact-widget"
         },
         "type": "node"
        },
        {
         "children": [
          {
           "children": [
            {
             "children": [
              {
               "children": [
                {
                 "children": [
                  "Vmax"
                 ],
                 "instanceArgs": {
                  "namespace": "html",
                  "tag": "label"
                 },
                 "nodeType": "DOM",
                 "props": {
                  "className": "interact ",
                  "style": {
                   "padding": "5px 10px 0px 10px"
                  }
                 },
                 "type": "node"
                }
               ],
               "instanceArgs": {
                "namespace": "html",
                "tag": "div"
               },
               "nodeType": "DOM",
               "props": {
                "className": "interact-flex-row-left"
               },
               "type": "node"
              },
              {
               "children": [
                {
                 "children": [],
                 "instanceArgs": {
                  "namespace": "html",
                  "tag": "input"
                 },
                 "nodeType": "DOM",
                 "props": {
                  "attributes": {
                   "data-bind": "numericValue: index, valueUpdate: 'input', event: {change: function (){this.changes(this.changes()+1)}}",
                   "orient": "horizontal",
                   "type": "range"
                  },
                  "className": "slider slider is-fullwidth",
                  "max": 26,
                  "min": 1,
                  "step": 1,
                  "style": {}
                 },
                 "type": "node"
                }
               ],
               "instanceArgs": {
                "namespace": "html",
                "tag": "div"
               },
               "nodeType": "DOM",
               "props": {
                "className": "interact-flex-row-center"
               },
               "type": "node"
              },
              {
               "children": [
                {
                 "children": [],
                 "instanceArgs": {
                  "namespace": "html",
                  "tag": "p"
                 },
                 "nodeType": "DOM",
                 "props": {
                  "attributes": {
                   "data-bind": "text: formatted_val"
                  }
                 },
                 "type": "node"
                }
               ],
               "instanceArgs": {
                "namespace": "html",
                "tag": "div"
               },
               "nodeType": "DOM",
               "props": {
                "className": "interact-flex-row-right"
               },
               "type": "node"
              }
             ],
             "instanceArgs": {
              "namespace": "html",
              "tag": "div"
             },
             "nodeType": "DOM",
             "props": {
              "className": "interact-flex-row interact-widget"
             },
             "type": "node"
            }
           ],
           "instanceArgs": {
            "handlers": {
             "changes": [
              "(function (val){return (val!=this.model[\"changes\"]()) ? (this.valueFromJulia[\"changes\"]=true, this.model[\"changes\"](val)) : undefined})"
             ],
             "index": [
              "(function (val){return (val!=this.model[\"index\"]()) ? (this.valueFromJulia[\"index\"]=true, this.model[\"index\"](val)) : undefined})"
             ]
            },
            "id": "17467774859063749605",
            "imports": {
             "data": [
              {
               "name": "knockout",
               "type": "js",
               "url": "/assetserver/4e142ee0ad0c998de353f56b1a22e601395860e5-knockout.js"
              },
              {
               "name": "knockout_punches",
               "type": "js",
               "url": "/assetserver/40dc135a5ed691edabc1bf4ca7dc4709f127a380-knockout_punches.js"
              },
              {
               "name": null,
               "type": "js",
               "url": "/assetserver/30aa72339af74f9a627673d92d8040d5cfe9533e-all.js"
              },
              {
               "name": null,
               "type": "css",
               "url": "/assetserver/75af5f53e0088a81c77fec0c74dec23ed676eb50-style.css"
              },
              {
               "name": null,
               "type": "css",
               "url": "/assetserver/6ae6a66e550095b6b8e9dd509bd67c34fc3cbbc5-bulma_confined.min.css"
              }
             ],
             "type": "async_block"
            },
            "mount_callbacks": [
             "function () {\n    var handler = (function (ko, koPunches) {\n    ko.punches.enableAll();\n    ko.bindingHandlers.numericValue = {\n        init: function(element, valueAccessor, allBindings, data, context) {\n            var stringified = ko.observable(ko.unwrap(valueAccessor()));\n            stringified.subscribe(function(value) {\n                var val = parseFloat(value);\n                if (!isNaN(val)) {\n                    valueAccessor()(val);\n                }\n            });\n            valueAccessor().subscribe(function(value) {\n                var str = JSON.stringify(value);\n                if ((str == \"0\") && ([\"-0\", \"-0.\"].indexOf(stringified()) >= 0))\n                     return;\n                 if ([\"null\", \"\"].indexOf(str) >= 0)\n                     return;\n                stringified(str);\n            });\n            ko.applyBindingsToNode(\n                element,\n                {\n                    value: stringified,\n                    valueUpdate: allBindings.get('valueUpdate'),\n                },\n                context,\n            );\n        }\n    };\n    var json_data = {\"formatted_vals\":[\"0\",\"4\",\"8\",\"12\",\"16\",\"20\",\"24\",\"28\",\"32\",\"36\",\"40\",\"44\",\"48\",\"52\",\"56\",\"60\",\"64\",\"68\",\"72\",\"76\",\"80\",\"84\",\"88\",\"92\",\"96\",\"100\"],\"changes\":WebIO.getval({\"name\":\"changes\",\"scope\":\"17467774859063749605\",\"id\":\"7140990070058823996\",\"type\":\"observable\"}),\"index\":WebIO.getval({\"name\":\"index\",\"scope\":\"17467774859063749605\",\"id\":\"2260027441193506724\",\"type\":\"observable\"})};\n    var self = this;\n    function AppViewModel() {\n        for (var key in json_data) {\n            var el = json_data[key];\n            this[key] = Array.isArray(el) ? ko.observableArray(el) : ko.observable(el);\n        }\n        \n        [this[\"formatted_val\"]=ko.computed(    function(){\n        return this.formatted_vals()[parseInt(this.index())-(1)];\n    }\n,this)]\n        [this[\"changes\"].subscribe((function (val){!(this.valueFromJulia[\"changes\"]) ? (WebIO.setval({\"name\":\"changes\",\"scope\":\"17467774859063749605\",\"id\":\"7140990070058823996\",\"type\":\"observable\"},val)) : undefined; return this.valueFromJulia[\"changes\"]=false}),self),this[\"index\"].subscribe((function (val){!(this.valueFromJulia[\"index\"]) ? (WebIO.setval({\"name\":\"index\",\"scope\":\"17467774859063749605\",\"id\":\"2260027441193506724\",\"type\":\"observable\"},val)) : undefined; return this.valueFromJulia[\"index\"]=false}),self)]\n        \n    }\n    self.model = new AppViewModel();\n    self.valueFromJulia = {};\n    for (var key in json_data) {\n        self.valueFromJulia[key] = false;\n    }\n    ko.applyBindings(self.model, self.dom);\n}\n);\n    (WebIO.importBlock({\"data\":[{\"name\":\"knockout\",\"type\":\"js\",\"url\":\"/assetserver/4e142ee0ad0c998de353f56b1a22e601395860e5-knockout.js\"},{\"name\":\"knockout_punches\",\"type\":\"js\",\"url\":\"/assetserver/40dc135a5ed691edabc1bf4ca7dc4709f127a380-knockout_punches.js\"}],\"type\":\"async_block\"})).then((imports) => handler.apply(this, imports));\n}\n"
            ],
            "observables": {
             "changes": {
              "id": "7140990070058823996",
              "sync": false,
              "value": 0
             },
             "index": {
              "id": "2260027441193506724",
              "sync": true,
              "value": 13
             }
            },
            "systemjs_options": null
           },
           "nodeType": "Scope",
           "props": {},
           "type": "node"
          }
         ],
         "instanceArgs": {
          "namespace": "html",
          "tag": "div"
         },
         "nodeType": "DOM",
         "props": {
          "className": "field interact-widget"
         },
         "type": "node"
        },
        {
         "children": [
          {
           "children": [
            {
             "children": [
              {
               "children": [
                {
                 "children": [
                  "Km"
                 ],
                 "instanceArgs": {
                  "namespace": "html",
                  "tag": "label"
                 },
                 "nodeType": "DOM",
                 "props": {
                  "className": "interact ",
                  "style": {
                   "padding": "5px 10px 0px 10px"
                  }
                 },
                 "type": "node"
                }
               ],
               "instanceArgs": {
                "namespace": "html",
                "tag": "div"
               },
               "nodeType": "DOM",
               "props": {
                "className": "interact-flex-row-left"
               },
               "type": "node"
              },
              {
               "children": [
                {
                 "children": [],
                 "instanceArgs": {
                  "namespace": "html",
                  "tag": "input"
                 },
                 "nodeType": "DOM",
                 "props": {
                  "attributes": {
                   "data-bind": "numericValue: index, valueUpdate: 'input', event: {change: function (){this.changes(this.changes()+1)}}",
                   "orient": "horizontal",
                   "type": "range"
                  },
                  "className": "slider slider is-fullwidth",
                  "max": 99,
                  "min": 1,
                  "step": 1,
                  "style": {}
                 },
                 "type": "node"
                }
               ],
               "instanceArgs": {
                "namespace": "html",
                "tag": "div"
               },
               "nodeType": "DOM",
               "props": {
                "className": "interact-flex-row-center"
               },
               "type": "node"
              },
              {
               "children": [
                {
                 "children": [],
                 "instanceArgs": {
                  "namespace": "html",
                  "tag": "p"
                 },
                 "nodeType": "DOM",
                 "props": {
                  "attributes": {
                   "data-bind": "text: formatted_val"
                  }
                 },
                 "type": "node"
                }
               ],
               "instanceArgs": {
                "namespace": "html",
                "tag": "div"
               },
               "nodeType": "DOM",
               "props": {
                "className": "interact-flex-row-right"
               },
               "type": "node"
              }
             ],
             "instanceArgs": {
              "namespace": "html",
              "tag": "div"
             },
             "nodeType": "DOM",
             "props": {
              "className": "interact-flex-row interact-widget"
             },
             "type": "node"
            }
           ],
           "instanceArgs": {
            "handlers": {
             "changes": [
              "(function (val){return (val!=this.model[\"changes\"]()) ? (this.valueFromJulia[\"changes\"]=true, this.model[\"changes\"](val)) : undefined})"
             ],
             "index": [
              "(function (val){return (val!=this.model[\"index\"]()) ? (this.valueFromJulia[\"index\"]=true, this.model[\"index\"](val)) : undefined})"
             ]
            },
            "id": "14088735470087843214",
            "imports": {
             "data": [
              {
               "name": "knockout",
               "type": "js",
               "url": "/assetserver/4e142ee0ad0c998de353f56b1a22e601395860e5-knockout.js"
              },
              {
               "name": "knockout_punches",
               "type": "js",
               "url": "/assetserver/40dc135a5ed691edabc1bf4ca7dc4709f127a380-knockout_punches.js"
              },
              {
               "name": null,
               "type": "js",
               "url": "/assetserver/30aa72339af74f9a627673d92d8040d5cfe9533e-all.js"
              },
              {
               "name": null,
               "type": "css",
               "url": "/assetserver/75af5f53e0088a81c77fec0c74dec23ed676eb50-style.css"
              },
              {
               "name": null,
               "type": "css",
               "url": "/assetserver/6ae6a66e550095b6b8e9dd509bd67c34fc3cbbc5-bulma_confined.min.css"
              }
             ],
             "type": "async_block"
            },
            "mount_callbacks": [
             "function () {\n    var handler = (function (ko, koPunches) {\n    ko.punches.enableAll();\n    ko.bindingHandlers.numericValue = {\n        init: function(element, valueAccessor, allBindings, data, context) {\n            var stringified = ko.observable(ko.unwrap(valueAccessor()));\n            stringified.subscribe(function(value) {\n                var val = parseFloat(value);\n                if (!isNaN(val)) {\n                    valueAccessor()(val);\n                }\n            });\n            valueAccessor().subscribe(function(value) {\n                var str = JSON.stringify(value);\n                if ((str == \"0\") && ([\"-0\", \"-0.\"].indexOf(stringified()) >= 0))\n                     return;\n                 if ([\"null\", \"\"].indexOf(str) >= 0)\n                     return;\n                stringified(str);\n            });\n            ko.applyBindingsToNode(\n                element,\n                {\n                    value: stringified,\n                    valueUpdate: allBindings.get('valueUpdate'),\n                },\n                context,\n            );\n        }\n    };\n    var json_data = {\"formatted_vals\":[\"100\",\"150\",\"200\",\"250\",\"300\",\"350\",\"400\",\"450\",\"500\",\"550\",\"600\",\"650\",\"700\",\"750\",\"800\",\"850\",\"900\",\"950\",\"1000\",\"1050\",\"1100\",\"1150\",\"1200\",\"1250\",\"1300\",\"1350\",\"1400\",\"1450\",\"1500\",\"1550\",\"1600\",\"1650\",\"1700\",\"1750\",\"1800\",\"1850\",\"1900\",\"1950\",\"2000\",\"2050\",\"2100\",\"2150\",\"2200\",\"2250\",\"2300\",\"2350\",\"2400\",\"2450\",\"2500\",\"2550\",\"2600\",\"2650\",\"2700\",\"2750\",\"2800\",\"2850\",\"2900\",\"2950\",\"3000\",\"3050\",\"3100\",\"3150\",\"3200\",\"3250\",\"3300\",\"3350\",\"3400\",\"3450\",\"3500\",\"3550\",\"3600\",\"3650\",\"3700\",\"3750\",\"3800\",\"3850\",\"3900\",\"3950\",\"4000\",\"4050\",\"4100\",\"4150\",\"4200\",\"4250\",\"4300\",\"4350\",\"4400\",\"4450\",\"4500\",\"4550\",\"4600\",\"4650\",\"4700\",\"4750\",\"4800\",\"4850\",\"4900\",\"4950\",\"5000\"],\"changes\":WebIO.getval({\"name\":\"changes\",\"scope\":\"14088735470087843214\",\"id\":\"17684876635489413245\",\"type\":\"observable\"}),\"index\":WebIO.getval({\"name\":\"index\",\"scope\":\"14088735470087843214\",\"id\":\"8534902044261949680\",\"type\":\"observable\"})};\n    var self = this;\n    function AppViewModel() {\n        for (var key in json_data) {\n            var el = json_data[key];\n            this[key] = Array.isArray(el) ? ko.observableArray(el) : ko.observable(el);\n        }\n        \n        [this[\"formatted_val\"]=ko.computed(    function(){\n        return this.formatted_vals()[parseInt(this.index())-(1)];\n    }\n,this)]\n        [this[\"changes\"].subscribe((function (val){!(this.valueFromJulia[\"changes\"]) ? (WebIO.setval({\"name\":\"changes\",\"scope\":\"14088735470087843214\",\"id\":\"17684876635489413245\",\"type\":\"observable\"},val)) : undefined; return this.valueFromJulia[\"changes\"]=false}),self),this[\"index\"].subscribe((function (val){!(this.valueFromJulia[\"index\"]) ? (WebIO.setval({\"name\":\"index\",\"scope\":\"14088735470087843214\",\"id\":\"8534902044261949680\",\"type\":\"observable\"},val)) : undefined; return this.valueFromJulia[\"index\"]=false}),self)]\n        \n    }\n    self.model = new AppViewModel();\n    self.valueFromJulia = {};\n    for (var key in json_data) {\n        self.valueFromJulia[key] = false;\n    }\n    ko.applyBindings(self.model, self.dom);\n}\n);\n    (WebIO.importBlock({\"data\":[{\"name\":\"knockout\",\"type\":\"js\",\"url\":\"/assetserver/4e142ee0ad0c998de353f56b1a22e601395860e5-knockout.js\"},{\"name\":\"knockout_punches\",\"type\":\"js\",\"url\":\"/assetserver/40dc135a5ed691edabc1bf4ca7dc4709f127a380-knockout_punches.js\"}],\"type\":\"async_block\"})).then((imports) => handler.apply(this, imports));\n}\n"
            ],
            "observables": {
             "changes": {
              "id": "17684876635489413245",
              "sync": false,
              "value": 0
             },
             "index": {
              "id": "8534902044261949680",
              "sync": true,
              "value": 50
             }
            },
            "systemjs_options": null
           },
           "nodeType": "Scope",
           "props": {},
           "type": "node"
          }
         ],
         "instanceArgs": {
          "namespace": "html",
          "tag": "div"
         },
         "nodeType": "DOM",
         "props": {
          "className": "field interact-widget"
         },
         "type": "node"
        },
        {
         "children": [
          {
           "children": [
            {
             "children": [
              {
               "children": [
                {
                 "children": [
                  "T"
                 ],
                 "instanceArgs": {
                  "namespace": "html",
                  "tag": "label"
                 },
                 "nodeType": "DOM",
                 "props": {
                  "className": "interact ",
                  "style": {
                   "padding": "5px 10px 0px 10px"
                  }
                 },
                 "type": "node"
                }
               ],
               "instanceArgs": {
                "namespace": "html",
                "tag": "div"
               },
               "nodeType": "DOM",
               "props": {
                "className": "interact-flex-row-left"
               },
               "type": "node"
              },
              {
               "children": [
                {
                 "children": [],
                 "instanceArgs": {
                  "namespace": "html",
                  "tag": "input"
                 },
                 "nodeType": "DOM",
                 "props": {
                  "attributes": {
                   "data-bind": "numericValue: index, valueUpdate: 'input', event: {change: function (){this.changes(this.changes()+1)}}",
                   "orient": "horizontal",
                   "type": "range"
                  },
                  "className": "slider slider is-fullwidth",
                  "max": 12,
                  "min": 1,
                  "step": 1,
                  "style": {}
                 },
                 "type": "node"
                }
               ],
               "instanceArgs": {
                "namespace": "html",
                "tag": "div"
               },
               "nodeType": "DOM",
               "props": {
                "className": "interact-flex-row-center"
               },
               "type": "node"
              },
              {
               "children": [
                {
                 "children": [],
                 "instanceArgs": {
                  "namespace": "html",
                  "tag": "p"
                 },
                 "nodeType": "DOM",
                 "props": {
                  "attributes": {
                   "data-bind": "text: formatted_val"
                  }
                 },
                 "type": "node"
                }
               ],
               "instanceArgs": {
                "namespace": "html",
                "tag": "div"
               },
               "nodeType": "DOM",
               "props": {
                "className": "interact-flex-row-right"
               },
               "type": "node"
              }
             ],
             "instanceArgs": {
              "namespace": "html",
              "tag": "div"
             },
             "nodeType": "DOM",
             "props": {
              "className": "interact-flex-row interact-widget"
             },
             "type": "node"
            }
           ],
           "instanceArgs": {
            "handlers": {
             "changes": [
              "(function (val){return (val!=this.model[\"changes\"]()) ? (this.valueFromJulia[\"changes\"]=true, this.model[\"changes\"](val)) : undefined})"
             ],
             "index": [
              "(function (val){return (val!=this.model[\"index\"]()) ? (this.valueFromJulia[\"index\"]=true, this.model[\"index\"](val)) : undefined})"
             ]
            },
            "id": "16106697564104272200",
            "imports": {
             "data": [
              {
               "name": "knockout",
               "type": "js",
               "url": "/assetserver/4e142ee0ad0c998de353f56b1a22e601395860e5-knockout.js"
              },
              {
               "name": "knockout_punches",
               "type": "js",
               "url": "/assetserver/40dc135a5ed691edabc1bf4ca7dc4709f127a380-knockout_punches.js"
              },
              {
               "name": null,
               "type": "js",
               "url": "/assetserver/30aa72339af74f9a627673d92d8040d5cfe9533e-all.js"
              },
              {
               "name": null,
               "type": "css",
               "url": "/assetserver/75af5f53e0088a81c77fec0c74dec23ed676eb50-style.css"
              },
              {
               "name": null,
               "type": "css",
               "url": "/assetserver/6ae6a66e550095b6b8e9dd509bd67c34fc3cbbc5-bulma_confined.min.css"
              }
             ],
             "type": "async_block"
            },
            "mount_callbacks": [
             "function () {\n    var handler = (function (ko, koPunches) {\n    ko.punches.enableAll();\n    ko.bindingHandlers.numericValue = {\n        init: function(element, valueAccessor, allBindings, data, context) {\n            var stringified = ko.observable(ko.unwrap(valueAccessor()));\n            stringified.subscribe(function(value) {\n                var val = parseFloat(value);\n                if (!isNaN(val)) {\n                    valueAccessor()(val);\n                }\n            });\n            valueAccessor().subscribe(function(value) {\n                var str = JSON.stringify(value);\n                if ((str == \"0\") && ([\"-0\", \"-0.\"].indexOf(stringified()) >= 0))\n                     return;\n                 if ([\"null\", \"\"].indexOf(str) >= 0)\n                     return;\n                stringified(str);\n            });\n            ko.applyBindingsToNode(\n                element,\n                {\n                    value: stringified,\n                    valueUpdate: allBindings.get('valueUpdate'),\n                },\n                context,\n            );\n        }\n    };\n    var json_data = {\"formatted_vals\":[\"1\",\"2\",\"3\",\"4\",\"5\",\"6\",\"7\",\"8\",\"9\",\"10\",\"11\",\"12\"],\"changes\":WebIO.getval({\"name\":\"changes\",\"scope\":\"16106697564104272200\",\"id\":\"3639825628864127524\",\"type\":\"observable\"}),\"index\":WebIO.getval({\"name\":\"index\",\"scope\":\"16106697564104272200\",\"id\":\"2488840526906580180\",\"type\":\"observable\"})};\n    var self = this;\n    function AppViewModel() {\n        for (var key in json_data) {\n            var el = json_data[key];\n            this[key] = Array.isArray(el) ? ko.observableArray(el) : ko.observable(el);\n        }\n        \n        [this[\"formatted_val\"]=ko.computed(    function(){\n        return this.formatted_vals()[parseInt(this.index())-(1)];\n    }\n,this)]\n        [this[\"changes\"].subscribe((function (val){!(this.valueFromJulia[\"changes\"]) ? (WebIO.setval({\"name\":\"changes\",\"scope\":\"16106697564104272200\",\"id\":\"3639825628864127524\",\"type\":\"observable\"},val)) : undefined; return this.valueFromJulia[\"changes\"]=false}),self),this[\"index\"].subscribe((function (val){!(this.valueFromJulia[\"index\"]) ? (WebIO.setval({\"name\":\"index\",\"scope\":\"16106697564104272200\",\"id\":\"2488840526906580180\",\"type\":\"observable\"},val)) : undefined; return this.valueFromJulia[\"index\"]=false}),self)]\n        \n    }\n    self.model = new AppViewModel();\n    self.valueFromJulia = {};\n    for (var key in json_data) {\n        self.valueFromJulia[key] = false;\n    }\n    ko.applyBindings(self.model, self.dom);\n}\n);\n    (WebIO.importBlock({\"data\":[{\"name\":\"knockout\",\"type\":\"js\",\"url\":\"/assetserver/4e142ee0ad0c998de353f56b1a22e601395860e5-knockout.js\"},{\"name\":\"knockout_punches\",\"type\":\"js\",\"url\":\"/assetserver/40dc135a5ed691edabc1bf4ca7dc4709f127a380-knockout_punches.js\"}],\"type\":\"async_block\"})).then((imports) => handler.apply(this, imports));\n}\n"
            ],
            "observables": {
             "changes": {
              "id": "3639825628864127524",
              "sync": false,
              "value": 0
             },
             "index": {
              "id": "2488840526906580180",
              "sync": true,
              "value": 6
             }
            },
            "systemjs_options": null
           },
           "nodeType": "Scope",
           "props": {},
           "type": "node"
          }
         ],
         "instanceArgs": {
          "namespace": "html",
          "tag": "div"
         },
         "nodeType": "DOM",
         "props": {
          "className": "field interact-widget"
         },
         "type": "node"
        },
        {
         "children": [
          {
           "children": [],
           "instanceArgs": {
            "id": "6534489779137441142",
            "name": "obs-node"
           },
           "nodeType": "ObservableNode",
           "props": {},
           "type": "node"
          }
         ],
         "instanceArgs": {
          "handlers": {},
          "id": "10621220923137663987",
          "imports": {
           "data": [],
           "type": "async_block"
          },
          "mount_callbacks": [],
          "observables": {
           "obs-node": {
            "id": "6534489779137441142",
            "sync": false,
            "value": {
             "children": [
              {
               "children": [],
               "instanceArgs": {
                "namespace": "html",
                "tag": "div"
               },
               "nodeType": "DOM",
               "props": {
                "setInnerHtml": "<?xml version=\"1.0\" encoding=\"utf-8\"?>\n<svg xmlns=\"http://www.w3.org/2000/svg\" xmlns:xlink=\"http://www.w3.org/1999/xlink\" width=\"600\" height=\"400\" viewBox=\"0 0 2400 1600\">\n<defs>\n  <clipPath id=\"clip180\">\n    <rect x=\"0\" y=\"0\" width=\"2400\" height=\"1600\"/>\n  </clipPath>\n</defs>\n<path clip-path=\"url(#clip180)\" d=\"\nM0 1600 L2400 1600 L2400 0 L0 0  Z\n  \" fill=\"#ffffff\" fill-rule=\"evenodd\" fill-opacity=\"1\"/>\n<defs>\n  <clipPath id=\"clip181\">\n    <rect x=\"480\" y=\"0\" width=\"1681\" height=\"1600\"/>\n  </clipPath>\n</defs>\n<path clip-path=\"url(#clip180)\" d=\"\nM110.512 1489.49 L2352.76 1489.49 L2352.76 47.2441 L110.512 47.2441  Z\n  \" fill=\"#ffffff\" fill-rule=\"evenodd\" fill-opacity=\"1\"/>\n<defs>\n  <clipPath id=\"clip182\">\n    <rect x=\"110\" y=\"47\" width=\"2243\" height=\"1443\"/>\n  </clipPath>\n</defs>\n<polyline clip-path=\"url(#clip180)\" style=\"stroke:#000000; stroke-width:4; stroke-opacity:1; fill:none\" points=\"\n  110.512,1489.49 2352.76,1489.49 \n  \"/>\n<path clip-path=\"url(#clip180)\" d=\"M 0 0 M1211.53 1534.99 L1251.73 1534.99 L1251.73 1540.4 L1234.86 1540.4 L1234.86 1582.51 L1228.4 1582.51 L1228.4 1540.4 L1211.53 1540.4 L1211.53 1534.99 Z\" fill=\"#000000\" fill-rule=\"evenodd\" fill-opacity=\"1\" /><polyline clip-path=\"url(#clip180)\" style=\"stroke:#000000; stroke-width:4; stroke-opacity:1; fill:none\" points=\"\n  110.512,1489.49 110.512,47.2441 \n  \"/>\n<path clip-path=\"url(#clip180)\" d=\"M 0 0 M-19.6036 749.205 L-12.8241 749.205 Q-15.8478 752.452 -17.3438 756.144 Q-18.8397 759.804 -18.8397 763.942 Q-18.8397 772.09 -13.8426 776.419 Q-8.87738 780.747 0.543869 780.747 Q9.93329 780.747 14.9304 776.419 Q19.8956 772.09 19.8956 763.942 Q19.8956 759.804 18.3997 756.144 Q16.9037 752.452 13.88 749.205 L20.5958 749.205 Q22.8875 752.579 24.0333 756.367 Q25.1792 760.122 25.1792 764.324 Q25.1792 775.114 18.5906 781.32 Q11.9703 787.527 0.543869 787.527 Q-10.9144 787.527 -17.5029 781.32 Q-24.1232 775.114 -24.1232 764.324 Q-24.1232 760.059 -22.9774 756.303 Q-21.8634 752.515 -19.6036 749.205 Z\" fill=\"#000000\" fill-rule=\"evenodd\" fill-opacity=\"1\" /><polyline clip-path=\"url(#clip182)\" style=\"stroke:#000000; stroke-width:12; stroke-opacity:1; fill:none\" points=\"\n  110.512,1448.67 110.512,1448.67 110.514,1448.66 110.532,1448.59 110.667,1448.02 110.917,1446.99 111.413,1444.96 112.171,1441.94 113.354,1437.39 114.956,1431.57 \n  117.127,1424.23 119.832,1415.92 123.181,1406.78 127.106,1397.51 131.654,1388.43 136.72,1380.11 142.288,1372.76 148.239,1366.59 154.537,1361.59 161.088,1357.7 \n  167.857,1354.77 174.783,1352.67 181.841,1351.25 188.993,1350.38 190.592,1350.25 197.978,1322.89 200.718,1314.68 208.12,1296.58 212.305,1288.6 \n  219.697,1277.59 225.07,1271.61 232.456,1265.53 239.841,1261.38 247.264,1258.68 254.687,1257.1 262.132,1256.35 269.576,1256.23 270.672,1256.26 \n  278.325,1228.85 280.674,1222.08 288.264,1204.26 292.102,1197.3 299.597,1186.78 304.716,1181.52 312.155,1176.01 318.194,1173.02 325.613,1170.75 333.032,1169.65 \n  340.474,1169.45 347.916,1169.92 350.753,1170.24 358.193,1144.18 362.385,1132.81 369.795,1117.22 375.178,1108.86 382.572,1100.49 389.967,1094.94 \n  397.394,1091.51 404.822,1089.69 412.269,1089.1 419.717,1089.43 427.175,1090.44 430.833,1091.14 438.255,1065.74 443.157,1053.02 450.556,1038.5 \n  456.445,1030.2 463.84,1022.9 471.235,1018.28 478.662,1015.68 486.091,1014.62 493.537,1014.73 500.985,1015.72 508.443,1017.36 510.913,1018.02 \n  518.383,992.998 522.304,982.896 529.731,968.179 534.914,960.743 542.314,953.22 548.396,949.216 555.795,946.364 563.194,945.221 570.624,945.369 578.054,946.493 \n  585.502,948.354 590.993,950.088 598.408,925.674 605.824,908.357 613.266,896.368 620.707,888.453 628.162,883.605 635.617,881.08 643.08,880.304 \n  650.543,880.844 658.01,882.373 665.478,884.641 671.073,886.713 678.501,862.667 685.929,845.729 693.377,834.133 700.825,826.608 708.284,822.149 \n  715.743,820.008 723.208,819.612 730.673,820.528 738.141,822.43 745.61,825.069 751.153,827.393 758.581,803.705 766.009,787.116 773.456,775.864 \n  780.904,768.68 788.363,764.557 795.821,762.749 803.286,762.685 810.751,763.931 818.22,766.162 825.688,769.128 831.233,771.696 838.661,748.327 \n  846.089,732.052 853.536,721.11 860.984,714.231 868.442,710.411 875.901,708.905 883.366,709.139 890.831,710.683 898.299,713.21 905.768,716.472 911.313,719.258 \n  918.741,696.179 926.169,680.188 933.616,669.526 941.064,662.924 948.522,659.378 955.981,658.143 963.445,658.649 970.91,660.463 978.378,663.259 \n  985.847,666.789 991.394,669.774 998.821,646.958 1006.25,631.224 1013.7,620.817 1021.14,614.466 1028.6,611.17 1036.06,610.184 1043.52,610.936 \n  1050.99,612.996 1058.46,616.037 1065.93,619.811 1071.47,622.978 1078.9,600.402 1086.33,584.903 1093.78,574.729 1101.22,568.607 1108.68,565.54 \n  1116.14,564.78 1123.6,565.759 1131.07,568.043 1138.54,571.309 1146.01,575.307 1151.55,578.64 1158.98,556.284 1166.41,541.001 1173.86,531.04 \n  1181.3,525.13 1188.76,522.272 1196.22,521.721 1203.68,522.907 1211.15,525.399 1218.62,528.871 1226.09,533.075 1231.63,536.561 1239.06,514.407 \n  1246.49,499.323 1253.94,489.558 1261.38,483.842 1268.84,481.178 1276.3,480.819 1283.76,482.196 1291.23,484.879 1298.7,488.541 1306.17,492.936 1311.71,496.563 \n  1319.14,474.595 1326.57,459.695 1334.02,450.112 1341.46,444.576 1348.92,442.09 1356.38,441.909 1363.84,443.464 1371.31,446.323 1378.78,450.162 \n  1386.25,454.732 1391.79,458.49 1399.22,436.695 1406.65,421.965 1414.1,412.55 1421.54,407.181 1429,404.861 1436.46,404.845 1443.92,406.564 \n  1451.39,409.587 1458.86,413.59 1466.33,418.324 1471.87,422.203 1479.3,400.569 1486.73,385.997 1494.18,376.739 1501.62,371.525 1509.08,369.359 \n  1516.54,369.496 1524,371.369 1531.47,374.544 1538.94,378.699 1546.41,383.585 1551.95,387.578 1559.38,366.094 1566.81,351.669 1574.26,342.557 \n  1581.7,337.487 1589.16,335.465 1596.62,335.746 1604.08,337.761 1611.55,341.079 1619.02,345.376 1626.49,350.404 1632.03,354.502 1639.46,333.158 \n  1646.89,318.871 1654.34,309.895 1661.78,304.961 1669.24,303.073 1676.7,303.488 1684.17,305.636 1691.63,309.087 1699.1,313.517 1706.57,318.679 1712.11,322.875 \n  1719.54,301.662 1726.97,287.503 1734.42,278.656 1741.86,273.848 1749.32,272.086 1756.78,272.626 1764.25,274.9 1771.71,278.476 1779.18,283.031 \n  1786.65,288.317 1792.19,292.606 1799.62,271.516 1807.05,257.478 1814.5,248.75 1821.94,244.061 1829.4,242.418 1836.86,243.075 1844.33,245.466 \n  1851.79,249.16 1859.26,253.832 1866.73,259.235 1872.28,263.611 1879.7,242.636 1887.13,228.712 1894.58,220.096 1902.02,215.519 1909.48,213.987 \n  1916.94,214.755 1924.41,217.257 1931.87,221.061 1939.34,225.843 1946.81,231.356 1952.36,235.814 1959.78,214.948 1967.21,201.131 1974.66,192.621 \n  1982.1,188.149 1989.56,186.722 1997.02,187.595 2004.49,190.201 2011.95,194.108 2019.42,198.995 2026.89,204.611 2032.44,209.147 2039.86,188.383 \n  2047.29,174.666 2054.74,166.257 2062.18,161.884 2069.64,160.556 2077.1,161.527 2084.57,164.231 2092.03,168.237 2099.5,173.221 2106.97,178.936 2112.52,183.545 \n  2119.94,162.877 2127.37,149.256 2134.82,140.941 2142.26,136.663 2149.72,135.428 2157.18,136.492 2164.65,139.289 2172.11,143.388 2179.58,148.465 \n  2187.05,154.272 2192.6,158.949 2200.02,138.373 2207.45,124.842 2214.9,116.617 2222.35,112.427 2229.8,111.28 2237.26,112.433 2244.73,115.318 \n  2252.19,119.504 2259.66,124.669 2267.13,130.564 2272.68,135.307 2280.1,114.817 2287.53,101.372 2294.98,93.231 2302.43,89.1251 2309.88,88.0623 \n  2317.34,89.2981 2324.81,92.2663 2332.27,96.5361 2339.74,101.784 2347.21,107.763 2352.76,112.567 \n  \"/>\n<path clip-path=\"url(#clip180)\" d=\"\nM185.254 216.279 L596.173 216.279 L596.173 95.3189 L185.254 95.3189  Z\n  \" fill=\"#ffffff\" fill-rule=\"evenodd\" fill-opacity=\"1\"/>\n<polyline clip-path=\"url(#clip180)\" style=\"stroke:#000000; stroke-width:4; stroke-opacity:1; fill:none\" points=\"\n  185.254,216.279 596.173,216.279 596.173,95.3189 185.254,95.3189 185.254,216.279 \n  \"/>\n<polyline clip-path=\"url(#clip180)\" style=\"stroke:#000000; stroke-width:4; stroke-opacity:1; fill:none\" points=\"\n  210.167,155.799 359.65,155.799 \n  \"/>\n<path clip-path=\"url(#clip180)\" d=\"M 0 0 M389.24 142.361 L389.24 155.348 L395.12 155.348 Q398.384 155.348 400.166 153.658 Q401.948 151.968 401.948 148.843 Q401.948 145.741 400.166 144.051 Q398.384 142.361 395.12 142.361 L389.24 142.361 M384.564 138.519 L395.12 138.519 Q400.93 138.519 403.893 141.158 Q406.879 143.773 406.879 148.843 Q406.879 153.959 403.893 156.574 Q400.93 159.19 395.12 159.19 L389.24 159.19 L389.24 173.079 L384.564 173.079 L384.564 138.519 Z\" fill=\"#000000\" fill-rule=\"evenodd\" fill-opacity=\"1\" /><path clip-path=\"url(#clip180)\" d=\"M 0 0 M412.967 137.061 L417.226 137.061 L417.226 173.079 L412.967 173.079 L412.967 137.061 Z\" fill=\"#000000\" fill-rule=\"evenodd\" fill-opacity=\"1\" /><path clip-path=\"url(#clip180)\" d=\"M 0 0 M437.92 160.047 Q432.758 160.047 430.768 161.227 Q428.777 162.408 428.777 165.255 Q428.777 167.523 430.258 168.866 Q431.763 170.185 434.332 170.185 Q437.874 170.185 440.004 167.685 Q442.156 165.162 442.156 160.996 L442.156 160.047 L437.92 160.047 M446.416 158.287 L446.416 173.079 L442.156 173.079 L442.156 169.144 Q440.698 171.505 438.522 172.639 Q436.346 173.75 433.198 173.75 Q429.217 173.75 426.856 171.528 Q424.518 169.283 424.518 165.533 Q424.518 161.158 427.434 158.935 Q430.374 156.713 436.184 156.713 L442.156 156.713 L442.156 156.297 Q442.156 153.357 440.212 151.76 Q438.291 150.139 434.795 150.139 Q432.573 150.139 430.467 150.672 Q428.36 151.204 426.416 152.269 L426.416 148.334 Q428.754 147.431 430.953 146.991 Q433.152 146.528 435.235 146.528 Q440.86 146.528 443.638 149.445 Q446.416 152.361 446.416 158.287 Z\" fill=\"#000000\" fill-rule=\"evenodd\" fill-opacity=\"1\" /><path clip-path=\"url(#clip180)\" d=\"M 0 0 M471.716 147.917 L471.716 151.945 Q469.911 151.019 467.966 150.556 Q466.022 150.093 463.939 150.093 Q460.767 150.093 459.17 151.065 Q457.596 152.037 457.596 153.982 Q457.596 155.463 458.73 156.32 Q459.865 157.153 463.291 157.917 L464.749 158.241 Q469.286 159.213 471.184 160.996 Q473.105 162.755 473.105 165.926 Q473.105 169.537 470.235 171.644 Q467.388 173.75 462.388 173.75 Q460.304 173.75 458.036 173.334 Q455.791 172.94 453.291 172.13 L453.291 167.732 Q455.652 168.959 457.943 169.584 Q460.235 170.185 462.48 170.185 Q465.49 170.185 467.11 169.167 Q468.73 168.125 468.73 166.25 Q468.73 164.514 467.55 163.588 Q466.392 162.662 462.434 161.806 L460.953 161.459 Q456.994 160.625 455.235 158.912 Q453.476 157.176 453.476 154.167 Q453.476 150.51 456.068 148.519 Q458.661 146.528 463.429 146.528 Q465.791 146.528 467.874 146.875 Q469.957 147.223 471.716 147.917 Z\" fill=\"#000000\" fill-rule=\"evenodd\" fill-opacity=\"1\" /><path clip-path=\"url(#clip180)\" d=\"M 0 0 M500.073 152.13 Q501.67 149.26 503.892 147.894 Q506.114 146.528 509.124 146.528 Q513.175 146.528 515.374 149.375 Q517.573 152.199 517.573 157.431 L517.573 173.079 L513.29 173.079 L513.29 157.57 Q513.29 153.843 511.971 152.037 Q510.651 150.232 507.943 150.232 Q504.633 150.232 502.712 152.431 Q500.79 154.63 500.79 158.426 L500.79 173.079 L496.508 173.079 L496.508 157.57 Q496.508 153.82 495.189 152.037 Q493.869 150.232 491.114 150.232 Q487.851 150.232 485.929 152.454 Q484.008 154.653 484.008 158.426 L484.008 173.079 L479.726 173.079 L479.726 147.153 L484.008 147.153 L484.008 151.181 Q485.466 148.797 487.503 147.662 Q489.54 146.528 492.341 146.528 Q495.165 146.528 497.133 147.963 Q499.124 149.398 500.073 152.13 Z\" fill=\"#000000\" fill-rule=\"evenodd\" fill-opacity=\"1\" /><path clip-path=\"url(#clip180)\" d=\"M 0 0 M537.85 160.047 Q532.688 160.047 530.698 161.227 Q528.707 162.408 528.707 165.255 Q528.707 167.523 530.188 168.866 Q531.693 170.185 534.262 170.185 Q537.804 170.185 539.934 167.685 Q542.086 165.162 542.086 160.996 L542.086 160.047 L537.85 160.047 M546.346 158.287 L546.346 173.079 L542.086 173.079 L542.086 169.144 Q540.628 171.505 538.452 172.639 Q536.276 173.75 533.128 173.75 Q529.147 173.75 526.786 171.528 Q524.448 169.283 524.448 165.533 Q524.448 161.158 527.364 158.935 Q530.304 156.713 536.114 156.713 L542.086 156.713 L542.086 156.297 Q542.086 153.357 540.142 151.76 Q538.221 150.139 534.725 150.139 Q532.503 150.139 530.397 150.672 Q528.29 151.204 526.346 152.269 L526.346 148.334 Q528.684 147.431 530.883 146.991 Q533.082 146.528 535.165 146.528 Q540.79 146.528 543.568 149.445 Q546.346 152.361 546.346 158.287 Z\" fill=\"#000000\" fill-rule=\"evenodd\" fill-opacity=\"1\" /></svg>\n"
               },
               "type": "node"
              }
             ],
             "instanceArgs": {
              "namespace": "html",
              "tag": "div"
             },
             "nodeType": "DOM",
             "props": {
              "className": "interact-flex-row interact-widget"
             },
             "type": "node"
            }
           }
          },
          "systemjs_options": null
         },
         "nodeType": "Scope",
         "props": {},
         "type": "node"
        }
       ],
       "instanceArgs": {
        "namespace": "html",
        "tag": "div"
       },
       "nodeType": "DOM",
       "props": {},
       "type": "node"
      },
      "text/html": [
       "<div\n",
       "    class=\"webio-mountpoint\"\n",
       "    data-webio-mountpoint=\"11214018968006592359\"\n",
       ">\n",
       "    <script>\n",
       "    if (window.require && require.defined && require.defined(\"nbextensions/webio-jupyter-notebook\")) {\n",
       "        console.log(\"Jupyter WebIO extension detected, not mounting.\");\n",
       "    } else if (window.WebIO) {\n",
       "        WebIO.mount(\n",
       "            document.querySelector('[data-webio-mountpoint=\"11214018968006592359\"]'),\n",
       "            {\"props\":{},\"nodeType\":\"DOM\",\"type\":\"node\",\"instanceArgs\":{\"namespace\":\"html\",\"tag\":\"div\"},\"children\":[{\"props\":{\"className\":\"field interact-widget\"},\"nodeType\":\"DOM\",\"type\":\"node\",\"instanceArgs\":{\"namespace\":\"html\",\"tag\":\"div\"},\"children\":[{\"props\":{},\"nodeType\":\"Scope\",\"type\":\"node\",\"instanceArgs\":{\"imports\":{\"data\":[{\"name\":\"knockout\",\"type\":\"js\",\"url\":\"\\/assetserver\\/4e142ee0ad0c998de353f56b1a22e601395860e5-knockout.js\"},{\"name\":\"knockout_punches\",\"type\":\"js\",\"url\":\"\\/assetserver\\/40dc135a5ed691edabc1bf4ca7dc4709f127a380-knockout_punches.js\"},{\"name\":null,\"type\":\"js\",\"url\":\"\\/assetserver\\/30aa72339af74f9a627673d92d8040d5cfe9533e-all.js\"},{\"name\":null,\"type\":\"css\",\"url\":\"\\/assetserver\\/75af5f53e0088a81c77fec0c74dec23ed676eb50-style.css\"},{\"name\":null,\"type\":\"css\",\"url\":\"\\/assetserver\\/6ae6a66e550095b6b8e9dd509bd67c34fc3cbbc5-bulma_confined.min.css\"}],\"type\":\"async_block\"},\"id\":\"4775544300404100491\",\"handlers\":{\"changes\":[\"(function (val){return (val!=this.model[\\\"changes\\\"]()) ? (this.valueFromJulia[\\\"changes\\\"]=true, this.model[\\\"changes\\\"](val)) : undefined})\"],\"index\":[\"(function (val){return (val!=this.model[\\\"index\\\"]()) ? (this.valueFromJulia[\\\"index\\\"]=true, this.model[\\\"index\\\"](val)) : undefined})\"]},\"systemjs_options\":null,\"mount_callbacks\":[\"function () {\\n    var handler = (function (ko, koPunches) {\\n    ko.punches.enableAll();\\n    ko.bindingHandlers.numericValue = {\\n        init: function(element, valueAccessor, allBindings, data, context) {\\n            var stringified = ko.observable(ko.unwrap(valueAccessor()));\\n            stringified.subscribe(function(value) {\\n                var val = parseFloat(value);\\n                if (!isNaN(val)) {\\n                    valueAccessor()(val);\\n                }\\n            });\\n            valueAccessor().subscribe(function(value) {\\n                var str = JSON.stringify(value);\\n                if ((str == \\\"0\\\") && ([\\\"-0\\\", \\\"-0.\\\"].indexOf(stringified()) >= 0))\\n                     return;\\n                 if ([\\\"null\\\", \\\"\\\"].indexOf(str) >= 0)\\n                     return;\\n                stringified(str);\\n            });\\n            ko.applyBindingsToNode(\\n                element,\\n                {\\n                    value: stringified,\\n                    valueUpdate: allBindings.get('valueUpdate'),\\n                },\\n                context,\\n            );\\n        }\\n    };\\n    var json_data = {\\\"formatted_vals\\\":[\\\"0.0\\\",\\\"0.05\\\",\\\"0.1\\\",\\\"0.15\\\",\\\"0.2\\\",\\\"0.25\\\",\\\"0.3\\\",\\\"0.35\\\",\\\"0.4\\\",\\\"0.45\\\",\\\"0.5\\\",\\\"0.55\\\",\\\"0.6\\\",\\\"0.65\\\",\\\"0.7\\\",\\\"0.75\\\",\\\"0.8\\\",\\\"0.85\\\",\\\"0.9\\\",\\\"0.95\\\",\\\"1.0\\\"],\\\"changes\\\":WebIO.getval({\\\"name\\\":\\\"changes\\\",\\\"scope\\\":\\\"4775544300404100491\\\",\\\"id\\\":\\\"12674942297651706461\\\",\\\"type\\\":\\\"observable\\\"}),\\\"index\\\":WebIO.getval({\\\"name\\\":\\\"index\\\",\\\"scope\\\":\\\"4775544300404100491\\\",\\\"id\\\":\\\"5520872383848223105\\\",\\\"type\\\":\\\"observable\\\"})};\\n    var self = this;\\n    function AppViewModel() {\\n        for (var key in json_data) {\\n            var el = json_data[key];\\n            this[key] = Array.isArray(el) ? ko.observableArray(el) : ko.observable(el);\\n        }\\n        \\n        [this[\\\"formatted_val\\\"]=ko.computed(    function(){\\n        return this.formatted_vals()[parseInt(this.index())-(1)];\\n    }\\n,this)]\\n        [this[\\\"changes\\\"].subscribe((function (val){!(this.valueFromJulia[\\\"changes\\\"]) ? (WebIO.setval({\\\"name\\\":\\\"changes\\\",\\\"scope\\\":\\\"4775544300404100491\\\",\\\"id\\\":\\\"12674942297651706461\\\",\\\"type\\\":\\\"observable\\\"},val)) : undefined; return this.valueFromJulia[\\\"changes\\\"]=false}),self),this[\\\"index\\\"].subscribe((function (val){!(this.valueFromJulia[\\\"index\\\"]) ? (WebIO.setval({\\\"name\\\":\\\"index\\\",\\\"scope\\\":\\\"4775544300404100491\\\",\\\"id\\\":\\\"5520872383848223105\\\",\\\"type\\\":\\\"observable\\\"},val)) : undefined; return this.valueFromJulia[\\\"index\\\"]=false}),self)]\\n        \\n    }\\n    self.model = new AppViewModel();\\n    self.valueFromJulia = {};\\n    for (var key in json_data) {\\n        self.valueFromJulia[key] = false;\\n    }\\n    ko.applyBindings(self.model, self.dom);\\n}\\n);\\n    (WebIO.importBlock({\\\"data\\\":[{\\\"name\\\":\\\"knockout\\\",\\\"type\\\":\\\"js\\\",\\\"url\\\":\\\"\\/assetserver\\/4e142ee0ad0c998de353f56b1a22e601395860e5-knockout.js\\\"},{\\\"name\\\":\\\"knockout_punches\\\",\\\"type\\\":\\\"js\\\",\\\"url\\\":\\\"\\/assetserver\\/40dc135a5ed691edabc1bf4ca7dc4709f127a380-knockout_punches.js\\\"}],\\\"type\\\":\\\"async_block\\\"})).then((imports) => handler.apply(this, imports));\\n}\\n\"],\"observables\":{\"changes\":{\"sync\":false,\"id\":\"12674942297651706461\",\"value\":0},\"index\":{\"sync\":true,\"id\":\"5520872383848223105\",\"value\":11}}},\"children\":[{\"props\":{\"className\":\"interact-flex-row interact-widget\"},\"nodeType\":\"DOM\",\"type\":\"node\",\"instanceArgs\":{\"namespace\":\"html\",\"tag\":\"div\"},\"children\":[{\"props\":{\"className\":\"interact-flex-row-left\"},\"nodeType\":\"DOM\",\"type\":\"node\",\"instanceArgs\":{\"namespace\":\"html\",\"tag\":\"div\"},\"children\":[{\"props\":{\"className\":\"interact \",\"style\":{\"padding\":\"5px 10px 0px 10px\"}},\"nodeType\":\"DOM\",\"type\":\"node\",\"instanceArgs\":{\"namespace\":\"html\",\"tag\":\"label\"},\"children\":[\"Ka\"]}]},{\"props\":{\"className\":\"interact-flex-row-center\"},\"nodeType\":\"DOM\",\"type\":\"node\",\"instanceArgs\":{\"namespace\":\"html\",\"tag\":\"div\"},\"children\":[{\"props\":{\"max\":21,\"min\":1,\"attributes\":{\"type\":\"range\",\"data-bind\":\"numericValue: index, valueUpdate: 'input', event: {change: function (){this.changes(this.changes()+1)}}\",\"orient\":\"horizontal\"},\"step\":1,\"className\":\"slider slider is-fullwidth\",\"style\":{}},\"nodeType\":\"DOM\",\"type\":\"node\",\"instanceArgs\":{\"namespace\":\"html\",\"tag\":\"input\"},\"children\":[]}]},{\"props\":{\"className\":\"interact-flex-row-right\"},\"nodeType\":\"DOM\",\"type\":\"node\",\"instanceArgs\":{\"namespace\":\"html\",\"tag\":\"div\"},\"children\":[{\"props\":{\"attributes\":{\"data-bind\":\"text: formatted_val\"}},\"nodeType\":\"DOM\",\"type\":\"node\",\"instanceArgs\":{\"namespace\":\"html\",\"tag\":\"p\"},\"children\":[]}]}]}]}]},{\"props\":{\"className\":\"field interact-widget\"},\"nodeType\":\"DOM\",\"type\":\"node\",\"instanceArgs\":{\"namespace\":\"html\",\"tag\":\"div\"},\"children\":[{\"props\":{},\"nodeType\":\"Scope\",\"type\":\"node\",\"instanceArgs\":{\"imports\":{\"data\":[{\"name\":\"knockout\",\"type\":\"js\",\"url\":\"\\/assetserver\\/4e142ee0ad0c998de353f56b1a22e601395860e5-knockout.js\"},{\"name\":\"knockout_punches\",\"type\":\"js\",\"url\":\"\\/assetserver\\/40dc135a5ed691edabc1bf4ca7dc4709f127a380-knockout_punches.js\"},{\"name\":null,\"type\":\"js\",\"url\":\"\\/assetserver\\/30aa72339af74f9a627673d92d8040d5cfe9533e-all.js\"},{\"name\":null,\"type\":\"css\",\"url\":\"\\/assetserver\\/75af5f53e0088a81c77fec0c74dec23ed676eb50-style.css\"},{\"name\":null,\"type\":\"css\",\"url\":\"\\/assetserver\\/6ae6a66e550095b6b8e9dd509bd67c34fc3cbbc5-bulma_confined.min.css\"}],\"type\":\"async_block\"},\"id\":\"17467774859063749605\",\"handlers\":{\"changes\":[\"(function (val){return (val!=this.model[\\\"changes\\\"]()) ? (this.valueFromJulia[\\\"changes\\\"]=true, this.model[\\\"changes\\\"](val)) : undefined})\"],\"index\":[\"(function (val){return (val!=this.model[\\\"index\\\"]()) ? (this.valueFromJulia[\\\"index\\\"]=true, this.model[\\\"index\\\"](val)) : undefined})\"]},\"systemjs_options\":null,\"mount_callbacks\":[\"function () {\\n    var handler = (function (ko, koPunches) {\\n    ko.punches.enableAll();\\n    ko.bindingHandlers.numericValue = {\\n        init: function(element, valueAccessor, allBindings, data, context) {\\n            var stringified = ko.observable(ko.unwrap(valueAccessor()));\\n            stringified.subscribe(function(value) {\\n                var val = parseFloat(value);\\n                if (!isNaN(val)) {\\n                    valueAccessor()(val);\\n                }\\n            });\\n            valueAccessor().subscribe(function(value) {\\n                var str = JSON.stringify(value);\\n                if ((str == \\\"0\\\") && ([\\\"-0\\\", \\\"-0.\\\"].indexOf(stringified()) >= 0))\\n                     return;\\n                 if ([\\\"null\\\", \\\"\\\"].indexOf(str) >= 0)\\n                     return;\\n                stringified(str);\\n            });\\n            ko.applyBindingsToNode(\\n                element,\\n                {\\n                    value: stringified,\\n                    valueUpdate: allBindings.get('valueUpdate'),\\n                },\\n                context,\\n            );\\n        }\\n    };\\n    var json_data = {\\\"formatted_vals\\\":[\\\"0\\\",\\\"4\\\",\\\"8\\\",\\\"12\\\",\\\"16\\\",\\\"20\\\",\\\"24\\\",\\\"28\\\",\\\"32\\\",\\\"36\\\",\\\"40\\\",\\\"44\\\",\\\"48\\\",\\\"52\\\",\\\"56\\\",\\\"60\\\",\\\"64\\\",\\\"68\\\",\\\"72\\\",\\\"76\\\",\\\"80\\\",\\\"84\\\",\\\"88\\\",\\\"92\\\",\\\"96\\\",\\\"100\\\"],\\\"changes\\\":WebIO.getval({\\\"name\\\":\\\"changes\\\",\\\"scope\\\":\\\"17467774859063749605\\\",\\\"id\\\":\\\"7140990070058823996\\\",\\\"type\\\":\\\"observable\\\"}),\\\"index\\\":WebIO.getval({\\\"name\\\":\\\"index\\\",\\\"scope\\\":\\\"17467774859063749605\\\",\\\"id\\\":\\\"2260027441193506724\\\",\\\"type\\\":\\\"observable\\\"})};\\n    var self = this;\\n    function AppViewModel() {\\n        for (var key in json_data) {\\n            var el = json_data[key];\\n            this[key] = Array.isArray(el) ? ko.observableArray(el) : ko.observable(el);\\n        }\\n        \\n        [this[\\\"formatted_val\\\"]=ko.computed(    function(){\\n        return this.formatted_vals()[parseInt(this.index())-(1)];\\n    }\\n,this)]\\n        [this[\\\"changes\\\"].subscribe((function (val){!(this.valueFromJulia[\\\"changes\\\"]) ? (WebIO.setval({\\\"name\\\":\\\"changes\\\",\\\"scope\\\":\\\"17467774859063749605\\\",\\\"id\\\":\\\"7140990070058823996\\\",\\\"type\\\":\\\"observable\\\"},val)) : undefined; return this.valueFromJulia[\\\"changes\\\"]=false}),self),this[\\\"index\\\"].subscribe((function (val){!(this.valueFromJulia[\\\"index\\\"]) ? (WebIO.setval({\\\"name\\\":\\\"index\\\",\\\"scope\\\":\\\"17467774859063749605\\\",\\\"id\\\":\\\"2260027441193506724\\\",\\\"type\\\":\\\"observable\\\"},val)) : undefined; return this.valueFromJulia[\\\"index\\\"]=false}),self)]\\n        \\n    }\\n    self.model = new AppViewModel();\\n    self.valueFromJulia = {};\\n    for (var key in json_data) {\\n        self.valueFromJulia[key] = false;\\n    }\\n    ko.applyBindings(self.model, self.dom);\\n}\\n);\\n    (WebIO.importBlock({\\\"data\\\":[{\\\"name\\\":\\\"knockout\\\",\\\"type\\\":\\\"js\\\",\\\"url\\\":\\\"\\/assetserver\\/4e142ee0ad0c998de353f56b1a22e601395860e5-knockout.js\\\"},{\\\"name\\\":\\\"knockout_punches\\\",\\\"type\\\":\\\"js\\\",\\\"url\\\":\\\"\\/assetserver\\/40dc135a5ed691edabc1bf4ca7dc4709f127a380-knockout_punches.js\\\"}],\\\"type\\\":\\\"async_block\\\"})).then((imports) => handler.apply(this, imports));\\n}\\n\"],\"observables\":{\"changes\":{\"sync\":false,\"id\":\"7140990070058823996\",\"value\":0},\"index\":{\"sync\":true,\"id\":\"2260027441193506724\",\"value\":13}}},\"children\":[{\"props\":{\"className\":\"interact-flex-row interact-widget\"},\"nodeType\":\"DOM\",\"type\":\"node\",\"instanceArgs\":{\"namespace\":\"html\",\"tag\":\"div\"},\"children\":[{\"props\":{\"className\":\"interact-flex-row-left\"},\"nodeType\":\"DOM\",\"type\":\"node\",\"instanceArgs\":{\"namespace\":\"html\",\"tag\":\"div\"},\"children\":[{\"props\":{\"className\":\"interact \",\"style\":{\"padding\":\"5px 10px 0px 10px\"}},\"nodeType\":\"DOM\",\"type\":\"node\",\"instanceArgs\":{\"namespace\":\"html\",\"tag\":\"label\"},\"children\":[\"Vmax\"]}]},{\"props\":{\"className\":\"interact-flex-row-center\"},\"nodeType\":\"DOM\",\"type\":\"node\",\"instanceArgs\":{\"namespace\":\"html\",\"tag\":\"div\"},\"children\":[{\"props\":{\"max\":26,\"min\":1,\"attributes\":{\"type\":\"range\",\"data-bind\":\"numericValue: index, valueUpdate: 'input', event: {change: function (){this.changes(this.changes()+1)}}\",\"orient\":\"horizontal\"},\"step\":1,\"className\":\"slider slider is-fullwidth\",\"style\":{}},\"nodeType\":\"DOM\",\"type\":\"node\",\"instanceArgs\":{\"namespace\":\"html\",\"tag\":\"input\"},\"children\":[]}]},{\"props\":{\"className\":\"interact-flex-row-right\"},\"nodeType\":\"DOM\",\"type\":\"node\",\"instanceArgs\":{\"namespace\":\"html\",\"tag\":\"div\"},\"children\":[{\"props\":{\"attributes\":{\"data-bind\":\"text: formatted_val\"}},\"nodeType\":\"DOM\",\"type\":\"node\",\"instanceArgs\":{\"namespace\":\"html\",\"tag\":\"p\"},\"children\":[]}]}]}]}]},{\"props\":{\"className\":\"field interact-widget\"},\"nodeType\":\"DOM\",\"type\":\"node\",\"instanceArgs\":{\"namespace\":\"html\",\"tag\":\"div\"},\"children\":[{\"props\":{},\"nodeType\":\"Scope\",\"type\":\"node\",\"instanceArgs\":{\"imports\":{\"data\":[{\"name\":\"knockout\",\"type\":\"js\",\"url\":\"\\/assetserver\\/4e142ee0ad0c998de353f56b1a22e601395860e5-knockout.js\"},{\"name\":\"knockout_punches\",\"type\":\"js\",\"url\":\"\\/assetserver\\/40dc135a5ed691edabc1bf4ca7dc4709f127a380-knockout_punches.js\"},{\"name\":null,\"type\":\"js\",\"url\":\"\\/assetserver\\/30aa72339af74f9a627673d92d8040d5cfe9533e-all.js\"},{\"name\":null,\"type\":\"css\",\"url\":\"\\/assetserver\\/75af5f53e0088a81c77fec0c74dec23ed676eb50-style.css\"},{\"name\":null,\"type\":\"css\",\"url\":\"\\/assetserver\\/6ae6a66e550095b6b8e9dd509bd67c34fc3cbbc5-bulma_confined.min.css\"}],\"type\":\"async_block\"},\"id\":\"14088735470087843214\",\"handlers\":{\"changes\":[\"(function (val){return (val!=this.model[\\\"changes\\\"]()) ? (this.valueFromJulia[\\\"changes\\\"]=true, this.model[\\\"changes\\\"](val)) : undefined})\"],\"index\":[\"(function (val){return (val!=this.model[\\\"index\\\"]()) ? (this.valueFromJulia[\\\"index\\\"]=true, this.model[\\\"index\\\"](val)) : undefined})\"]},\"systemjs_options\":null,\"mount_callbacks\":[\"function () {\\n    var handler = (function (ko, koPunches) {\\n    ko.punches.enableAll();\\n    ko.bindingHandlers.numericValue = {\\n        init: function(element, valueAccessor, allBindings, data, context) {\\n            var stringified = ko.observable(ko.unwrap(valueAccessor()));\\n            stringified.subscribe(function(value) {\\n                var val = parseFloat(value);\\n                if (!isNaN(val)) {\\n                    valueAccessor()(val);\\n                }\\n            });\\n            valueAccessor().subscribe(function(value) {\\n                var str = JSON.stringify(value);\\n                if ((str == \\\"0\\\") && ([\\\"-0\\\", \\\"-0.\\\"].indexOf(stringified()) >= 0))\\n                     return;\\n                 if ([\\\"null\\\", \\\"\\\"].indexOf(str) >= 0)\\n                     return;\\n                stringified(str);\\n            });\\n            ko.applyBindingsToNode(\\n                element,\\n                {\\n                    value: stringified,\\n                    valueUpdate: allBindings.get('valueUpdate'),\\n                },\\n                context,\\n            );\\n        }\\n    };\\n    var json_data = {\\\"formatted_vals\\\":[\\\"100\\\",\\\"150\\\",\\\"200\\\",\\\"250\\\",\\\"300\\\",\\\"350\\\",\\\"400\\\",\\\"450\\\",\\\"500\\\",\\\"550\\\",\\\"600\\\",\\\"650\\\",\\\"700\\\",\\\"750\\\",\\\"800\\\",\\\"850\\\",\\\"900\\\",\\\"950\\\",\\\"1000\\\",\\\"1050\\\",\\\"1100\\\",\\\"1150\\\",\\\"1200\\\",\\\"1250\\\",\\\"1300\\\",\\\"1350\\\",\\\"1400\\\",\\\"1450\\\",\\\"1500\\\",\\\"1550\\\",\\\"1600\\\",\\\"1650\\\",\\\"1700\\\",\\\"1750\\\",\\\"1800\\\",\\\"1850\\\",\\\"1900\\\",\\\"1950\\\",\\\"2000\\\",\\\"2050\\\",\\\"2100\\\",\\\"2150\\\",\\\"2200\\\",\\\"2250\\\",\\\"2300\\\",\\\"2350\\\",\\\"2400\\\",\\\"2450\\\",\\\"2500\\\",\\\"2550\\\",\\\"2600\\\",\\\"2650\\\",\\\"2700\\\",\\\"2750\\\",\\\"2800\\\",\\\"2850\\\",\\\"2900\\\",\\\"2950\\\",\\\"3000\\\",\\\"3050\\\",\\\"3100\\\",\\\"3150\\\",\\\"3200\\\",\\\"3250\\\",\\\"3300\\\",\\\"3350\\\",\\\"3400\\\",\\\"3450\\\",\\\"3500\\\",\\\"3550\\\",\\\"3600\\\",\\\"3650\\\",\\\"3700\\\",\\\"3750\\\",\\\"3800\\\",\\\"3850\\\",\\\"3900\\\",\\\"3950\\\",\\\"4000\\\",\\\"4050\\\",\\\"4100\\\",\\\"4150\\\",\\\"4200\\\",\\\"4250\\\",\\\"4300\\\",\\\"4350\\\",\\\"4400\\\",\\\"4450\\\",\\\"4500\\\",\\\"4550\\\",\\\"4600\\\",\\\"4650\\\",\\\"4700\\\",\\\"4750\\\",\\\"4800\\\",\\\"4850\\\",\\\"4900\\\",\\\"4950\\\",\\\"5000\\\"],\\\"changes\\\":WebIO.getval({\\\"name\\\":\\\"changes\\\",\\\"scope\\\":\\\"14088735470087843214\\\",\\\"id\\\":\\\"17684876635489413245\\\",\\\"type\\\":\\\"observable\\\"}),\\\"index\\\":WebIO.getval({\\\"name\\\":\\\"index\\\",\\\"scope\\\":\\\"14088735470087843214\\\",\\\"id\\\":\\\"8534902044261949680\\\",\\\"type\\\":\\\"observable\\\"})};\\n    var self = this;\\n    function AppViewModel() {\\n        for (var key in json_data) {\\n            var el = json_data[key];\\n            this[key] = Array.isArray(el) ? ko.observableArray(el) : ko.observable(el);\\n        }\\n        \\n        [this[\\\"formatted_val\\\"]=ko.computed(    function(){\\n        return this.formatted_vals()[parseInt(this.index())-(1)];\\n    }\\n,this)]\\n        [this[\\\"changes\\\"].subscribe((function (val){!(this.valueFromJulia[\\\"changes\\\"]) ? (WebIO.setval({\\\"name\\\":\\\"changes\\\",\\\"scope\\\":\\\"14088735470087843214\\\",\\\"id\\\":\\\"17684876635489413245\\\",\\\"type\\\":\\\"observable\\\"},val)) : undefined; return this.valueFromJulia[\\\"changes\\\"]=false}),self),this[\\\"index\\\"].subscribe((function (val){!(this.valueFromJulia[\\\"index\\\"]) ? (WebIO.setval({\\\"name\\\":\\\"index\\\",\\\"scope\\\":\\\"14088735470087843214\\\",\\\"id\\\":\\\"8534902044261949680\\\",\\\"type\\\":\\\"observable\\\"},val)) : undefined; return this.valueFromJulia[\\\"index\\\"]=false}),self)]\\n        \\n    }\\n    self.model = new AppViewModel();\\n    self.valueFromJulia = {};\\n    for (var key in json_data) {\\n        self.valueFromJulia[key] = false;\\n    }\\n    ko.applyBindings(self.model, self.dom);\\n}\\n);\\n    (WebIO.importBlock({\\\"data\\\":[{\\\"name\\\":\\\"knockout\\\",\\\"type\\\":\\\"js\\\",\\\"url\\\":\\\"\\/assetserver\\/4e142ee0ad0c998de353f56b1a22e601395860e5-knockout.js\\\"},{\\\"name\\\":\\\"knockout_punches\\\",\\\"type\\\":\\\"js\\\",\\\"url\\\":\\\"\\/assetserver\\/40dc135a5ed691edabc1bf4ca7dc4709f127a380-knockout_punches.js\\\"}],\\\"type\\\":\\\"async_block\\\"})).then((imports) => handler.apply(this, imports));\\n}\\n\"],\"observables\":{\"changes\":{\"sync\":false,\"id\":\"17684876635489413245\",\"value\":0},\"index\":{\"sync\":true,\"id\":\"8534902044261949680\",\"value\":50}}},\"children\":[{\"props\":{\"className\":\"interact-flex-row interact-widget\"},\"nodeType\":\"DOM\",\"type\":\"node\",\"instanceArgs\":{\"namespace\":\"html\",\"tag\":\"div\"},\"children\":[{\"props\":{\"className\":\"interact-flex-row-left\"},\"nodeType\":\"DOM\",\"type\":\"node\",\"instanceArgs\":{\"namespace\":\"html\",\"tag\":\"div\"},\"children\":[{\"props\":{\"className\":\"interact \",\"style\":{\"padding\":\"5px 10px 0px 10px\"}},\"nodeType\":\"DOM\",\"type\":\"node\",\"instanceArgs\":{\"namespace\":\"html\",\"tag\":\"label\"},\"children\":[\"Km\"]}]},{\"props\":{\"className\":\"interact-flex-row-center\"},\"nodeType\":\"DOM\",\"type\":\"node\",\"instanceArgs\":{\"namespace\":\"html\",\"tag\":\"div\"},\"children\":[{\"props\":{\"max\":99,\"min\":1,\"attributes\":{\"type\":\"range\",\"data-bind\":\"numericValue: index, valueUpdate: 'input', event: {change: function (){this.changes(this.changes()+1)}}\",\"orient\":\"horizontal\"},\"step\":1,\"className\":\"slider slider is-fullwidth\",\"style\":{}},\"nodeType\":\"DOM\",\"type\":\"node\",\"instanceArgs\":{\"namespace\":\"html\",\"tag\":\"input\"},\"children\":[]}]},{\"props\":{\"className\":\"interact-flex-row-right\"},\"nodeType\":\"DOM\",\"type\":\"node\",\"instanceArgs\":{\"namespace\":\"html\",\"tag\":\"div\"},\"children\":[{\"props\":{\"attributes\":{\"data-bind\":\"text: formatted_val\"}},\"nodeType\":\"DOM\",\"type\":\"node\",\"instanceArgs\":{\"namespace\":\"html\",\"tag\":\"p\"},\"children\":[]}]}]}]}]},{\"props\":{\"className\":\"field interact-widget\"},\"nodeType\":\"DOM\",\"type\":\"node\",\"instanceArgs\":{\"namespace\":\"html\",\"tag\":\"div\"},\"children\":[{\"props\":{},\"nodeType\":\"Scope\",\"type\":\"node\",\"instanceArgs\":{\"imports\":{\"data\":[{\"name\":\"knockout\",\"type\":\"js\",\"url\":\"\\/assetserver\\/4e142ee0ad0c998de353f56b1a22e601395860e5-knockout.js\"},{\"name\":\"knockout_punches\",\"type\":\"js\",\"url\":\"\\/assetserver\\/40dc135a5ed691edabc1bf4ca7dc4709f127a380-knockout_punches.js\"},{\"name\":null,\"type\":\"js\",\"url\":\"\\/assetserver\\/30aa72339af74f9a627673d92d8040d5cfe9533e-all.js\"},{\"name\":null,\"type\":\"css\",\"url\":\"\\/assetserver\\/75af5f53e0088a81c77fec0c74dec23ed676eb50-style.css\"},{\"name\":null,\"type\":\"css\",\"url\":\"\\/assetserver\\/6ae6a66e550095b6b8e9dd509bd67c34fc3cbbc5-bulma_confined.min.css\"}],\"type\":\"async_block\"},\"id\":\"16106697564104272200\",\"handlers\":{\"changes\":[\"(function (val){return (val!=this.model[\\\"changes\\\"]()) ? (this.valueFromJulia[\\\"changes\\\"]=true, this.model[\\\"changes\\\"](val)) : undefined})\"],\"index\":[\"(function (val){return (val!=this.model[\\\"index\\\"]()) ? (this.valueFromJulia[\\\"index\\\"]=true, this.model[\\\"index\\\"](val)) : undefined})\"]},\"systemjs_options\":null,\"mount_callbacks\":[\"function () {\\n    var handler = (function (ko, koPunches) {\\n    ko.punches.enableAll();\\n    ko.bindingHandlers.numericValue = {\\n        init: function(element, valueAccessor, allBindings, data, context) {\\n            var stringified = ko.observable(ko.unwrap(valueAccessor()));\\n            stringified.subscribe(function(value) {\\n                var val = parseFloat(value);\\n                if (!isNaN(val)) {\\n                    valueAccessor()(val);\\n                }\\n            });\\n            valueAccessor().subscribe(function(value) {\\n                var str = JSON.stringify(value);\\n                if ((str == \\\"0\\\") && ([\\\"-0\\\", \\\"-0.\\\"].indexOf(stringified()) >= 0))\\n                     return;\\n                 if ([\\\"null\\\", \\\"\\\"].indexOf(str) >= 0)\\n                     return;\\n                stringified(str);\\n            });\\n            ko.applyBindingsToNode(\\n                element,\\n                {\\n                    value: stringified,\\n                    valueUpdate: allBindings.get('valueUpdate'),\\n                },\\n                context,\\n            );\\n        }\\n    };\\n    var json_data = {\\\"formatted_vals\\\":[\\\"1\\\",\\\"2\\\",\\\"3\\\",\\\"4\\\",\\\"5\\\",\\\"6\\\",\\\"7\\\",\\\"8\\\",\\\"9\\\",\\\"10\\\",\\\"11\\\",\\\"12\\\"],\\\"changes\\\":WebIO.getval({\\\"name\\\":\\\"changes\\\",\\\"scope\\\":\\\"16106697564104272200\\\",\\\"id\\\":\\\"3639825628864127524\\\",\\\"type\\\":\\\"observable\\\"}),\\\"index\\\":WebIO.getval({\\\"name\\\":\\\"index\\\",\\\"scope\\\":\\\"16106697564104272200\\\",\\\"id\\\":\\\"2488840526906580180\\\",\\\"type\\\":\\\"observable\\\"})};\\n    var self = this;\\n    function AppViewModel() {\\n        for (var key in json_data) {\\n            var el = json_data[key];\\n            this[key] = Array.isArray(el) ? ko.observableArray(el) : ko.observable(el);\\n        }\\n        \\n        [this[\\\"formatted_val\\\"]=ko.computed(    function(){\\n        return this.formatted_vals()[parseInt(this.index())-(1)];\\n    }\\n,this)]\\n        [this[\\\"changes\\\"].subscribe((function (val){!(this.valueFromJulia[\\\"changes\\\"]) ? (WebIO.setval({\\\"name\\\":\\\"changes\\\",\\\"scope\\\":\\\"16106697564104272200\\\",\\\"id\\\":\\\"3639825628864127524\\\",\\\"type\\\":\\\"observable\\\"},val)) : undefined; return this.valueFromJulia[\\\"changes\\\"]=false}),self),this[\\\"index\\\"].subscribe((function (val){!(this.valueFromJulia[\\\"index\\\"]) ? (WebIO.setval({\\\"name\\\":\\\"index\\\",\\\"scope\\\":\\\"16106697564104272200\\\",\\\"id\\\":\\\"2488840526906580180\\\",\\\"type\\\":\\\"observable\\\"},val)) : undefined; return this.valueFromJulia[\\\"index\\\"]=false}),self)]\\n        \\n    }\\n    self.model = new AppViewModel();\\n    self.valueFromJulia = {};\\n    for (var key in json_data) {\\n        self.valueFromJulia[key] = false;\\n    }\\n    ko.applyBindings(self.model, self.dom);\\n}\\n);\\n    (WebIO.importBlock({\\\"data\\\":[{\\\"name\\\":\\\"knockout\\\",\\\"type\\\":\\\"js\\\",\\\"url\\\":\\\"\\/assetserver\\/4e142ee0ad0c998de353f56b1a22e601395860e5-knockout.js\\\"},{\\\"name\\\":\\\"knockout_punches\\\",\\\"type\\\":\\\"js\\\",\\\"url\\\":\\\"\\/assetserver\\/40dc135a5ed691edabc1bf4ca7dc4709f127a380-knockout_punches.js\\\"}],\\\"type\\\":\\\"async_block\\\"})).then((imports) => handler.apply(this, imports));\\n}\\n\"],\"observables\":{\"changes\":{\"sync\":false,\"id\":\"3639825628864127524\",\"value\":0},\"index\":{\"sync\":true,\"id\":\"2488840526906580180\",\"value\":6}}},\"children\":[{\"props\":{\"className\":\"interact-flex-row interact-widget\"},\"nodeType\":\"DOM\",\"type\":\"node\",\"instanceArgs\":{\"namespace\":\"html\",\"tag\":\"div\"},\"children\":[{\"props\":{\"className\":\"interact-flex-row-left\"},\"nodeType\":\"DOM\",\"type\":\"node\",\"instanceArgs\":{\"namespace\":\"html\",\"tag\":\"div\"},\"children\":[{\"props\":{\"className\":\"interact \",\"style\":{\"padding\":\"5px 10px 0px 10px\"}},\"nodeType\":\"DOM\",\"type\":\"node\",\"instanceArgs\":{\"namespace\":\"html\",\"tag\":\"label\"},\"children\":[\"T\"]}]},{\"props\":{\"className\":\"interact-flex-row-center\"},\"nodeType\":\"DOM\",\"type\":\"node\",\"instanceArgs\":{\"namespace\":\"html\",\"tag\":\"div\"},\"children\":[{\"props\":{\"max\":12,\"min\":1,\"attributes\":{\"type\":\"range\",\"data-bind\":\"numericValue: index, valueUpdate: 'input', event: {change: function (){this.changes(this.changes()+1)}}\",\"orient\":\"horizontal\"},\"step\":1,\"className\":\"slider slider is-fullwidth\",\"style\":{}},\"nodeType\":\"DOM\",\"type\":\"node\",\"instanceArgs\":{\"namespace\":\"html\",\"tag\":\"input\"},\"children\":[]}]},{\"props\":{\"className\":\"interact-flex-row-right\"},\"nodeType\":\"DOM\",\"type\":\"node\",\"instanceArgs\":{\"namespace\":\"html\",\"tag\":\"div\"},\"children\":[{\"props\":{\"attributes\":{\"data-bind\":\"text: formatted_val\"}},\"nodeType\":\"DOM\",\"type\":\"node\",\"instanceArgs\":{\"namespace\":\"html\",\"tag\":\"p\"},\"children\":[]}]}]}]}]},{\"props\":{},\"nodeType\":\"Scope\",\"type\":\"node\",\"instanceArgs\":{\"imports\":{\"data\":[],\"type\":\"async_block\"},\"id\":\"4013301331599054345\",\"handlers\":{},\"systemjs_options\":null,\"mount_callbacks\":[],\"observables\":{\"obs-node\":{\"sync\":false,\"id\":\"12996449081833083560\",\"value\":{\"props\":{\"className\":\"interact-flex-row interact-widget\"},\"nodeType\":\"DOM\",\"type\":\"node\",\"instanceArgs\":{\"namespace\":\"html\",\"tag\":\"div\"},\"children\":[{\"props\":{\"setInnerHtml\":\"<?xml version=\\\"1.0\\\" encoding=\\\"utf-8\\\"?>\\n<svg xmlns=\\\"http:\\/\\/www.w3.org\\/2000\\/svg\\\" xmlns:xlink=\\\"http:\\/\\/www.w3.org\\/1999\\/xlink\\\" width=\\\"600\\\" height=\\\"400\\\" viewBox=\\\"0 0 2400 1600\\\">\\n<defs>\\n  <clipPath id=\\\"clip140\\\">\\n    <rect x=\\\"0\\\" y=\\\"0\\\" width=\\\"2400\\\" height=\\\"1600\\\"\\/>\\n  <\\/clipPath>\\n<\\/defs>\\n<path clip-path=\\\"url(#clip140)\\\" d=\\\"\\nM0 1600 L2400 1600 L2400 0 L0 0  Z\\n  \\\" fill=\\\"#ffffff\\\" fill-rule=\\\"evenodd\\\" fill-opacity=\\\"1\\\"\\/>\\n<defs>\\n  <clipPath id=\\\"clip141\\\">\\n    <rect x=\\\"480\\\" y=\\\"0\\\" width=\\\"1681\\\" height=\\\"1600\\\"\\/>\\n  <\\/clipPath>\\n<\\/defs>\\n<path clip-path=\\\"url(#clip140)\\\" d=\\\"\\nM110.512 1489.49 L2352.76 1489.49 L2352.76 47.2441 L110.512 47.2441  Z\\n  \\\" fill=\\\"#ffffff\\\" fill-rule=\\\"evenodd\\\" fill-opacity=\\\"1\\\"\\/>\\n<defs>\\n  <clipPath id=\\\"clip142\\\">\\n    <rect x=\\\"110\\\" y=\\\"47\\\" width=\\\"2243\\\" height=\\\"1443\\\"\\/>\\n  <\\/clipPath>\\n<\\/defs>\\n<polyline clip-path=\\\"url(#clip140)\\\" style=\\\"stroke:#000000; stroke-width:4; stroke-opacity:1; fill:none\\\" points=\\\"\\n  110.512,1489.49 2352.76,1489.49 \\n  \\\"\\/>\\n<path clip-path=\\\"url(#clip140)\\\" d=\\\"M 0 0 M1211.53 1534.99 L1251.73 1534.99 L1251.73 1540.4 L1234.86 1540.4 L1234.86 1582.51 L1228.4 1582.51 L1228.4 1540.4 L1211.53 1540.4 L1211.53 1534.99 Z\\\" fill=\\\"#000000\\\" fill-rule=\\\"evenodd\\\" fill-opacity=\\\"1\\\" \\/><polyline clip-path=\\\"url(#clip140)\\\" style=\\\"stroke:#000000; stroke-width:4; stroke-opacity:1; fill:none\\\" points=\\\"\\n  110.512,1489.49 110.512,47.2441 \\n  \\\"\\/>\\n<path clip-path=\\\"url(#clip140)\\\" d=\\\"M 0 0 M-19.6036 749.205 L-12.8241 749.205 Q-15.8478 752.452 -17.3438 756.144 Q-18.8397 759.804 -18.8397 763.942 Q-18.8397 772.09 -13.8426 776.419 Q-8.87738 780.747 0.543869 780.747 Q9.93329 780.747 14.9304 776.419 Q19.8956 772.09 19.8956 763.942 Q19.8956 759.804 18.3997 756.144 Q16.9037 752.452 13.88 749.205 L20.5958 749.205 Q22.8875 752.579 24.0333 756.367 Q25.1792 760.122 25.1792 764.324 Q25.1792 775.114 18.5906 781.32 Q11.9703 787.527 0.543869 787.527 Q-10.9144 787.527 -17.5029 781.32 Q-24.1232 775.114 -24.1232 764.324 Q-24.1232 760.059 -22.9774 756.303 Q-21.8634 752.515 -19.6036 749.205 Z\\\" fill=\\\"#000000\\\" fill-rule=\\\"evenodd\\\" fill-opacity=\\\"1\\\" \\/><polyline clip-path=\\\"url(#clip142)\\\" style=\\\"stroke:#000000; stroke-width:12; stroke-opacity:1; fill:none\\\" points=\\\"\\n  110.512,1448.67 110.512,1448.67 110.514,1448.66 110.532,1448.59 110.667,1448.02 110.917,1446.99 111.413,1444.96 112.171,1441.94 113.354,1437.39 114.956,1431.57 \\n  117.127,1424.23 119.832,1415.92 123.181,1406.78 127.106,1397.51 131.654,1388.43 136.72,1380.11 142.288,1372.76 148.239,1366.59 154.537,1361.59 161.088,1357.7 \\n  167.857,1354.77 174.783,1352.67 181.841,1351.25 188.993,1350.38 190.592,1350.25 197.978,1322.89 200.718,1314.68 208.12,1296.58 212.305,1288.6 \\n  219.697,1277.59 225.07,1271.61 232.456,1265.53 239.841,1261.38 247.264,1258.68 254.687,1257.1 262.132,1256.35 269.576,1256.23 270.672,1256.26 \\n  278.325,1228.85 280.674,1222.08 288.264,1204.26 292.102,1197.3 299.597,1186.78 304.716,1181.52 312.155,1176.01 318.194,1173.02 325.613,1170.75 333.032,1169.65 \\n  340.474,1169.45 347.916,1169.92 350.753,1170.24 358.193,1144.18 362.385,1132.81 369.795,1117.22 375.178,1108.86 382.572,1100.49 389.967,1094.94 \\n  397.394,1091.51 404.822,1089.69 412.269,1089.1 419.717,1089.43 427.175,1090.44 430.833,1091.14 438.255,1065.74 443.157,1053.02 450.556,1038.5 \\n  456.445,1030.2 463.84,1022.9 471.235,1018.28 478.662,1015.68 486.091,1014.62 493.537,1014.73 500.985,1015.72 508.443,1017.36 510.913,1018.02 \\n  518.383,992.998 522.304,982.896 529.731,968.179 534.914,960.743 542.314,953.22 548.396,949.216 555.795,946.364 563.194,945.221 570.624,945.369 578.054,946.493 \\n  585.502,948.354 590.993,950.088 598.408,925.674 605.824,908.357 613.266,896.368 620.707,888.453 628.162,883.605 635.617,881.08 643.08,880.304 \\n  650.543,880.844 658.01,882.373 665.478,884.641 671.073,886.713 678.501,862.667 685.929,845.729 693.377,834.133 700.825,826.608 708.284,822.149 \\n  715.743,820.008 723.208,819.612 730.673,820.528 738.141,822.43 745.61,825.069 751.153,827.393 758.581,803.705 766.009,787.116 773.456,775.864 \\n  780.904,768.68 788.363,764.557 795.821,762.749 803.286,762.685 810.751,763.931 818.22,766.162 825.688,769.128 831.233,771.696 838.661,748.327 \\n  846.089,732.052 853.536,721.11 860.984,714.231 868.442,710.411 875.901,708.905 883.366,709.139 890.831,710.683 898.299,713.21 905.768,716.472 911.313,719.258 \\n  918.741,696.179 926.169,680.188 933.616,669.526 941.064,662.924 948.522,659.378 955.981,658.143 963.445,658.649 970.91,660.463 978.378,663.259 \\n  985.847,666.789 991.394,669.774 998.821,646.958 1006.25,631.224 1013.7,620.817 1021.14,614.466 1028.6,611.17 1036.06,610.184 1043.52,610.936 \\n  1050.99,612.996 1058.46,616.037 1065.93,619.811 1071.47,622.978 1078.9,600.402 1086.33,584.903 1093.78,574.729 1101.22,568.607 1108.68,565.54 \\n  1116.14,564.78 1123.6,565.759 1131.07,568.043 1138.54,571.309 1146.01,575.307 1151.55,578.64 1158.98,556.284 1166.41,541.001 1173.86,531.04 \\n  1181.3,525.13 1188.76,522.272 1196.22,521.721 1203.68,522.907 1211.15,525.399 1218.62,528.871 1226.09,533.075 1231.63,536.561 1239.06,514.407 \\n  1246.49,499.323 1253.94,489.558 1261.38,483.842 1268.84,481.178 1276.3,480.819 1283.76,482.196 1291.23,484.879 1298.7,488.541 1306.17,492.936 1311.71,496.563 \\n  1319.14,474.595 1326.57,459.695 1334.02,450.112 1341.46,444.576 1348.92,442.09 1356.38,441.909 1363.84,443.464 1371.31,446.323 1378.78,450.162 \\n  1386.25,454.732 1391.79,458.49 1399.22,436.695 1406.65,421.965 1414.1,412.55 1421.54,407.181 1429,404.861 1436.46,404.845 1443.92,406.564 \\n  1451.39,409.587 1458.86,413.59 1466.33,418.324 1471.87,422.203 1479.3,400.569 1486.73,385.997 1494.18,376.739 1501.62,371.525 1509.08,369.359 \\n  1516.54,369.496 1524,371.369 1531.47,374.544 1538.94,378.699 1546.41,383.585 1551.95,387.578 1559.38,366.094 1566.81,351.669 1574.26,342.557 \\n  1581.7,337.487 1589.16,335.465 1596.62,335.746 1604.08,337.761 1611.55,341.079 1619.02,345.376 1626.49,350.404 1632.03,354.502 1639.46,333.158 \\n  1646.89,318.871 1654.34,309.895 1661.78,304.961 1669.24,303.073 1676.7,303.488 1684.17,305.636 1691.63,309.087 1699.1,313.517 1706.57,318.679 1712.11,322.875 \\n  1719.54,301.662 1726.97,287.503 1734.42,278.656 1741.86,273.848 1749.32,272.086 1756.78,272.626 1764.25,274.9 1771.71,278.476 1779.18,283.031 \\n  1786.65,288.317 1792.19,292.606 1799.62,271.516 1807.05,257.478 1814.5,248.75 1821.94,244.061 1829.4,242.418 1836.86,243.075 1844.33,245.466 \\n  1851.79,249.16 1859.26,253.832 1866.73,259.235 1872.28,263.611 1879.7,242.636 1887.13,228.712 1894.58,220.096 1902.02,215.519 1909.48,213.987 \\n  1916.94,214.755 1924.41,217.257 1931.87,221.061 1939.34,225.843 1946.81,231.356 1952.36,235.814 1959.78,214.948 1967.21,201.131 1974.66,192.621 \\n  1982.1,188.149 1989.56,186.722 1997.02,187.595 2004.49,190.201 2011.95,194.108 2019.42,198.995 2026.89,204.611 2032.44,209.147 2039.86,188.383 \\n  2047.29,174.666 2054.74,166.257 2062.18,161.884 2069.64,160.556 2077.1,161.527 2084.57,164.231 2092.03,168.237 2099.5,173.221 2106.97,178.936 2112.52,183.545 \\n  2119.94,162.877 2127.37,149.256 2134.82,140.941 2142.26,136.663 2149.72,135.428 2157.18,136.492 2164.65,139.289 2172.11,143.388 2179.58,148.465 \\n  2187.05,154.272 2192.6,158.949 2200.02,138.373 2207.45,124.842 2214.9,116.617 2222.35,112.427 2229.8,111.28 2237.26,112.433 2244.73,115.318 \\n  2252.19,119.504 2259.66,124.669 2267.13,130.564 2272.68,135.307 2280.1,114.817 2287.53,101.372 2294.98,93.231 2302.43,89.1251 2309.88,88.0623 \\n  2317.34,89.2981 2324.81,92.2663 2332.27,96.5361 2339.74,101.784 2347.21,107.763 2352.76,112.567 \\n  \\\"\\/>\\n<path clip-path=\\\"url(#clip140)\\\" d=\\\"\\nM185.254 216.279 L596.173 216.279 L596.173 95.3189 L185.254 95.3189  Z\\n  \\\" fill=\\\"#ffffff\\\" fill-rule=\\\"evenodd\\\" fill-opacity=\\\"1\\\"\\/>\\n<polyline clip-path=\\\"url(#clip140)\\\" style=\\\"stroke:#000000; stroke-width:4; stroke-opacity:1; fill:none\\\" points=\\\"\\n  185.254,216.279 596.173,216.279 596.173,95.3189 185.254,95.3189 185.254,216.279 \\n  \\\"\\/>\\n<polyline clip-path=\\\"url(#clip140)\\\" style=\\\"stroke:#000000; stroke-width:4; stroke-opacity:1; fill:none\\\" points=\\\"\\n  210.167,155.799 359.65,155.799 \\n  \\\"\\/>\\n<path clip-path=\\\"url(#clip140)\\\" d=\\\"M 0 0 M389.24 142.361 L389.24 155.348 L395.12 155.348 Q398.384 155.348 400.166 153.658 Q401.948 151.968 401.948 148.843 Q401.948 145.741 400.166 144.051 Q398.384 142.361 395.12 142.361 L389.24 142.361 M384.564 138.519 L395.12 138.519 Q400.93 138.519 403.893 141.158 Q406.879 143.773 406.879 148.843 Q406.879 153.959 403.893 156.574 Q400.93 159.19 395.12 159.19 L389.24 159.19 L389.24 173.079 L384.564 173.079 L384.564 138.519 Z\\\" fill=\\\"#000000\\\" fill-rule=\\\"evenodd\\\" fill-opacity=\\\"1\\\" \\/><path clip-path=\\\"url(#clip140)\\\" d=\\\"M 0 0 M412.967 137.061 L417.226 137.061 L417.226 173.079 L412.967 173.079 L412.967 137.061 Z\\\" fill=\\\"#000000\\\" fill-rule=\\\"evenodd\\\" fill-opacity=\\\"1\\\" \\/><path clip-path=\\\"url(#clip140)\\\" d=\\\"M 0 0 M437.92 160.047 Q432.758 160.047 430.768 161.227 Q428.777 162.408 428.777 165.255 Q428.777 167.523 430.258 168.866 Q431.763 170.185 434.332 170.185 Q437.874 170.185 440.004 167.685 Q442.156 165.162 442.156 160.996 L442.156 160.047 L437.92 160.047 M446.416 158.287 L446.416 173.079 L442.156 173.079 L442.156 169.144 Q440.698 171.505 438.522 172.639 Q436.346 173.75 433.198 173.75 Q429.217 173.75 426.856 171.528 Q424.518 169.283 424.518 165.533 Q424.518 161.158 427.434 158.935 Q430.374 156.713 436.184 156.713 L442.156 156.713 L442.156 156.297 Q442.156 153.357 440.212 151.76 Q438.291 150.139 434.795 150.139 Q432.573 150.139 430.467 150.672 Q428.36 151.204 426.416 152.269 L426.416 148.334 Q428.754 147.431 430.953 146.991 Q433.152 146.528 435.235 146.528 Q440.86 146.528 443.638 149.445 Q446.416 152.361 446.416 158.287 Z\\\" fill=\\\"#000000\\\" fill-rule=\\\"evenodd\\\" fill-opacity=\\\"1\\\" \\/><path clip-path=\\\"url(#clip140)\\\" d=\\\"M 0 0 M471.716 147.917 L471.716 151.945 Q469.911 151.019 467.966 150.556 Q466.022 150.093 463.939 150.093 Q460.767 150.093 459.17 151.065 Q457.596 152.037 457.596 153.982 Q457.596 155.463 458.73 156.32 Q459.865 157.153 463.291 157.917 L464.749 158.241 Q469.286 159.213 471.184 160.996 Q473.105 162.755 473.105 165.926 Q473.105 169.537 470.235 171.644 Q467.388 173.75 462.388 173.75 Q460.304 173.75 458.036 173.334 Q455.791 172.94 453.291 172.13 L453.291 167.732 Q455.652 168.959 457.943 169.584 Q460.235 170.185 462.48 170.185 Q465.49 170.185 467.11 169.167 Q468.73 168.125 468.73 166.25 Q468.73 164.514 467.55 163.588 Q466.392 162.662 462.434 161.806 L460.953 161.459 Q456.994 160.625 455.235 158.912 Q453.476 157.176 453.476 154.167 Q453.476 150.51 456.068 148.519 Q458.661 146.528 463.429 146.528 Q465.791 146.528 467.874 146.875 Q469.957 147.223 471.716 147.917 Z\\\" fill=\\\"#000000\\\" fill-rule=\\\"evenodd\\\" fill-opacity=\\\"1\\\" \\/><path clip-path=\\\"url(#clip140)\\\" d=\\\"M 0 0 M500.073 152.13 Q501.67 149.26 503.892 147.894 Q506.114 146.528 509.124 146.528 Q513.175 146.528 515.374 149.375 Q517.573 152.199 517.573 157.431 L517.573 173.079 L513.29 173.079 L513.29 157.57 Q513.29 153.843 511.971 152.037 Q510.651 150.232 507.943 150.232 Q504.633 150.232 502.712 152.431 Q500.79 154.63 500.79 158.426 L500.79 173.079 L496.508 173.079 L496.508 157.57 Q496.508 153.82 495.189 152.037 Q493.869 150.232 491.114 150.232 Q487.851 150.232 485.929 152.454 Q484.008 154.653 484.008 158.426 L484.008 173.079 L479.726 173.079 L479.726 147.153 L484.008 147.153 L484.008 151.181 Q485.466 148.797 487.503 147.662 Q489.54 146.528 492.341 146.528 Q495.165 146.528 497.133 147.963 Q499.124 149.398 500.073 152.13 Z\\\" fill=\\\"#000000\\\" fill-rule=\\\"evenodd\\\" fill-opacity=\\\"1\\\" \\/><path clip-path=\\\"url(#clip140)\\\" d=\\\"M 0 0 M537.85 160.047 Q532.688 160.047 530.698 161.227 Q528.707 162.408 528.707 165.255 Q528.707 167.523 530.188 168.866 Q531.693 170.185 534.262 170.185 Q537.804 170.185 539.934 167.685 Q542.086 165.162 542.086 160.996 L542.086 160.047 L537.85 160.047 M546.346 158.287 L546.346 173.079 L542.086 173.079 L542.086 169.144 Q540.628 171.505 538.452 172.639 Q536.276 173.75 533.128 173.75 Q529.147 173.75 526.786 171.528 Q524.448 169.283 524.448 165.533 Q524.448 161.158 527.364 158.935 Q530.304 156.713 536.114 156.713 L542.086 156.713 L542.086 156.297 Q542.086 153.357 540.142 151.76 Q538.221 150.139 534.725 150.139 Q532.503 150.139 530.397 150.672 Q528.29 151.204 526.346 152.269 L526.346 148.334 Q528.684 147.431 530.883 146.991 Q533.082 146.528 535.165 146.528 Q540.79 146.528 543.568 149.445 Q546.346 152.361 546.346 158.287 Z\\\" fill=\\\"#000000\\\" fill-rule=\\\"evenodd\\\" fill-opacity=\\\"1\\\" \\/><\\/svg>\\n\"},\"nodeType\":\"DOM\",\"type\":\"node\",\"instanceArgs\":{\"namespace\":\"html\",\"tag\":\"div\"},\"children\":[]}]}}}},\"children\":[{\"props\":{},\"nodeType\":\"ObservableNode\",\"type\":\"node\",\"instanceArgs\":{\"id\":\"12996449081833083560\",\"name\":\"obs-node\"},\"children\":[]}]}]},\n",
       "            window,\n",
       "        );\n",
       "    } else {\n",
       "        document\n",
       "            .querySelector('[data-webio-mountpoint=\"11214018968006592359\"]')\n",
       "            .innerHTML = (\n",
       "                '<div style=\"padding: 1em; background-color: #f8d6da; border: 1px solid #f5c6cb\">' +\n",
       "                '<p><strong>WebIO not detected.</strong></p>' +\n",
       "                '<p>Please read ' +\n",
       "                '<a href=\"https://juliagizmos.github.io/WebIO.jl/latest/troubleshooting/not-detected/\" target=\"_blank\">the troubleshooting guide</a> ' +\n",
       "                'for more information on how to resolve this issue.</p>' +\n",
       "                '<p><a href=\"https://juliagizmos.github.io/WebIO.jl/latest/troubleshooting/not-detected/\" target=\"_blank\">https://juliagizmos.github.io/WebIO.jl/latest/troubleshooting/not-detected/</a></p>' +\n",
       "                '</div>'\n",
       "            );\n",
       "    }\n",
       "    </script>\n",
       "</div>\n"
      ],
      "text/plain": [
       "Node{WebIO.DOM}(WebIO.DOM(:html, :div), Any[Node{WebIO.DOM}(WebIO.DOM(:html, :div), Any[Scope(Node{WebIO.DOM}(WebIO.DOM(:html, :div), Any[Node{WebIO.DOM}(WebIO.DOM(:html, :div), Any[Node{WebIO.DOM}(WebIO.DOM(:html, :label), Any[\"Ka\"], Dict{Symbol, Any}(:className => \"interact \", :style => Dict{Any, Any}(:padding => \"5px 10px 0px 10px\")))], Dict{Symbol, Any}(:className => \"interact-flex-row-left\")), Node{WebIO.DOM}(WebIO.DOM(:html, :div), Any[Node{WebIO.DOM}(WebIO.DOM(:html, :input), Any[], Dict{Symbol, Any}(:max => 21, :min => 1, :attributes => Dict{Any, Any}(:type => \"range\", Symbol(\"data-bind\") => \"numericValue: index, valueUpdate: 'input', event: {change: function (){this.changes(this.changes()+1)}}\", \"orient\" => \"horizontal\"), :step => 1, :className => \"slider slider is-fullwidth\", :style => Dict{Any, Any}()))], Dict{Symbol, Any}(:className => \"interact-flex-row-center\")), Node{WebIO.DOM}(WebIO.DOM(:html, :div), Any[Node{WebIO.DOM}(WebIO.DOM(:html, :p), Any[], Dict{Symbol, Any}(:attributes => Dict(\"data-bind\" => \"text: formatted_val\")))], Dict{Symbol, Any}(:className => \"interact-flex-row-right\"))], Dict{Symbol, Any}(:className => \"interact-flex-row interact-widget\")), Dict{String, Tuple{Observables.AbstractObservable, Union{Nothing, Bool}}}(\"changes\" => (Observable{Int64} with 1 listeners. Value:\n",
       "0, nothing), \"index\" => (Observable{Any} with 2 listeners. Value:\n",
       "11, nothing)), Set{String}(), nothing, Asset[Asset(\"js\", \"knockout\", \"C:\\\\Users\\\\Omar Kana\\\\.julia\\\\packages\\\\Knockout\\\\IP1uR\\\\src\\\\..\\\\assets\\\\knockout.js\"), Asset(\"js\", \"knockout_punches\", \"C:\\\\Users\\\\Omar Kana\\\\.julia\\\\packages\\\\Knockout\\\\IP1uR\\\\src\\\\..\\\\assets\\\\knockout_punches.js\"), Asset(\"js\", nothing, \"C:\\\\Users\\\\Omar Kana\\\\.julia\\\\packages\\\\InteractBase\\\\Zfu5P\\\\src\\\\..\\\\assets\\\\all.js\"), Asset(\"css\", nothing, \"C:\\\\Users\\\\Omar Kana\\\\.julia\\\\packages\\\\InteractBase\\\\Zfu5P\\\\src\\\\..\\\\assets\\\\style.css\"), Asset(\"css\", nothing, \"C:\\\\Users\\\\Omar Kana\\\\.julia\\\\packages\\\\Interact\\\\SbgIk\\\\src\\\\..\\\\assets\\\\bulma_confined.min.css\")], Dict{Any, Any}(\"changes\" => Any[WebIO.JSString(\"(function (val){return (val!=this.model[\\\"changes\\\"]()) ? (this.valueFromJulia[\\\"changes\\\"]=true, this.model[\\\"changes\\\"](val)) : undefined})\")], \"index\" => Any[WebIO.JSString(\"(function (val){return (val!=this.model[\\\"index\\\"]()) ? (this.valueFromJulia[\\\"index\\\"]=true, this.model[\\\"index\\\"](val)) : undefined})\")]), WebIO.ConnectionPool(Channel{Any}(32), Set{AbstractConnection}(), Condition(Base.InvasiveLinkedList{Task}(Task (runnable) @0x0000000019a76d60, Task (runnable) @0x0000000019a76d60), Base.AlwaysLockedST(1))), WebIO.JSString[WebIO.JSString(\"function () {\\n    var handler = (function (ko, koPunches) {\\n    ko.punches.enableAll();\\n    ko.bindingHandlers.numericValue = {\\n        init: function(element, valueAccessor, allBindings, data, context) {\\n            var stringified = ko.observable(ko.unwrap(valueAccessor()));\\n            stringified.subscribe(function(value) {\\n                var val = parseFloat(value);\\n                if (!isNaN(val)) {\\n                    valueAccessor()(val);\\n                }\\n            });\\n            valueAccessor().subscribe(function(value) {\\n                var str = JSON.stringify(value);\\n                if ((str == \\\"0\\\") && ([\\\"-0\\\", \\\"-0.\\\"].indexOf(stringified()) >= 0))\\n                     return;\\n                 if ([\\\"null\\\", \\\"\\\"].indexOf(str) >= 0)\\n                     return;\\n                stringified(str);\\n            });\\n            ko.applyBindingsToNode(\\n                element,\\n                {\\n                    value: stringified,\\n                    valueUpdate: allBindings.get('valueUpdate'),\\n                },\\n                context,\\n            );\\n        }\\n    };\\n    var json_data = {\\\"formatted_vals\\\":[\\\"0.0\\\",\\\"0.05\\\",\\\"0.1\\\",\\\"0.15\\\",\\\"0.2\\\",\\\"0.25\\\",\\\"0.3\\\",\\\"0.35\\\",\\\"0.4\\\",\\\"0.45\\\",\\\"0.5\\\",\\\"0.55\\\",\\\"0.6\\\",\\\"0.65\\\",\\\"0.7\\\",\\\"0.75\\\",\\\"0.8\\\",\\\"0.85\\\",\\\"0.9\\\",\\\"0.95\\\",\\\"1.0\\\"],\\\"changes\\\":WebIO.getval({\\\"name\\\":\\\"changes\\\",\\\"scope\\\":\\\"4775544300404100491\\\",\\\"id\\\":\\\"12674942297651706461\\\",\\\"type\\\":\\\"observable\\\"}),\\\"index\\\":WebIO.getval({\\\"name\\\":\\\"index\\\",\\\"scope\\\":\\\"4775544300404100491\\\",\\\"id\\\":\\\"5520872383848223105\\\",\\\"type\\\":\\\"observable\\\"})};\\n    var self = this;\\n    function AppViewModel() {\\n        for (var key in json_data) {\\n            var el = json_data[key];\\n            this[key] = Array.isArray(el) ? ko.observableArray(el) : ko.observable(el);\\n        }\\n        \\n        [this[\\\"formatted_val\\\"]=ko.computed(    function(){\\n        return this.formatted_vals()[parseInt(this.index())-(1)];\\n    }\\n,this)]\\n        [this[\\\"changes\\\"].subscribe((function (val){!(this.valueFromJulia[\\\"changes\\\"]) ? (WebIO.setval({\\\"name\\\":\\\"changes\\\",\\\"scope\\\":\\\"4775544300404100491\\\",\\\"id\\\":\\\"12674942297651706461\\\",\\\"type\\\":\\\"observable\\\"},val)) : undefined; return this.valueFromJulia[\\\"changes\\\"]=false}),self),this[\\\"index\\\"].subscribe((function (val){!(this.valueFromJulia[\\\"index\\\"]) ? (WebIO.setval({\\\"name\\\":\\\"index\\\",\\\"scope\\\":\\\"4775544300404100491\\\",\\\"id\\\":\\\"5520872383848223105\\\",\\\"type\\\":\\\"observable\\\"},val)) : undefined; return this.valueFromJulia[\\\"index\\\"]=false}),self)]\\n        \\n    }\\n    self.model = new AppViewModel();\\n    self.valueFromJulia = {};\\n    for (var key in json_data) {\\n        self.valueFromJulia[key] = false;\\n    }\\n    ko.applyBindings(self.model, self.dom);\\n}\\n);\\n    (WebIO.importBlock({\\\"data\\\":[{\\\"name\\\":\\\"knockout\\\",\\\"type\\\":\\\"js\\\",\\\"url\\\":\\\"/assetserver/4e142ee0ad0c998de353f56b1a22e601395860e5-knockout.js\\\"},{\\\"name\\\":\\\"knockout_punches\\\",\\\"type\\\":\\\"js\\\",\\\"url\\\":\\\"/assetserver/40dc135a5ed691edabc1bf4ca7dc4709f127a380-knockout_punches.js\\\"}],\\\"type\\\":\\\"async_block\\\"})).then((imports) => handler.apply(this, imports));\\n}\\n\")])], Dict{Symbol, Any}(:className => \"field interact-widget\")), Node{WebIO.DOM}(WebIO.DOM(:html, :div), Any[Scope(Node{WebIO.DOM}(WebIO.DOM(:html, :div), Any[Node{WebIO.DOM}(WebIO.DOM(:html, :div), Any[Node{WebIO.DOM}(WebIO.DOM(:html, :label), Any[\"Vmax\"], Dict{Symbol, Any}(:className => \"interact \", :style => Dict{Any, Any}(:padding => \"5px 10px 0px 10px\")))], Dict{Symbol, Any}(:className => \"interact-flex-row-left\")), Node{WebIO.DOM}(WebIO.DOM(:html, :div), Any[Node{WebIO.DOM}(WebIO.DOM(:html, :input), Any[], Dict{Symbol, Any}(:max => 26, :min => 1, :attributes => Dict{Any, Any}(:type => \"range\", Symbol(\"data-bind\") => \"numericValue: index, valueUpdate: 'input', event: {change: function (){this.changes(this.changes()+1)}}\", \"orient\" => \"horizontal\"), :step => 1, :className => \"slider slider is-fullwidth\", :style => Dict{Any, Any}()))], Dict{Symbol, Any}(:className => \"interact-flex-row-center\")), Node{WebIO.DOM}(WebIO.DOM(:html, :div), Any[Node{WebIO.DOM}(WebIO.DOM(:html, :p), Any[], Dict{Symbol, Any}(:attributes => Dict(\"data-bind\" => \"text: formatted_val\")))], Dict{Symbol, Any}(:className => \"interact-flex-row-right\"))], Dict{Symbol, Any}(:className => \"interact-flex-row interact-widget\")), Dict{String, Tuple{Observables.AbstractObservable, Union{Nothing, Bool}}}(\"changes\" => (Observable{Int64} with 1 listeners. Value:\n",
       "0, nothing), \"index\" => (Observable{Any} with 2 listeners. Value:\n",
       "13, nothing)), Set{String}(), nothing, Asset[Asset(\"js\", \"knockout\", \"C:\\\\Users\\\\Omar Kana\\\\.julia\\\\packages\\\\Knockout\\\\IP1uR\\\\src\\\\..\\\\assets\\\\knockout.js\"), Asset(\"js\", \"knockout_punches\", \"C:\\\\Users\\\\Omar Kana\\\\.julia\\\\packages\\\\Knockout\\\\IP1uR\\\\src\\\\..\\\\assets\\\\knockout_punches.js\"), Asset(\"js\", nothing, \"C:\\\\Users\\\\Omar Kana\\\\.julia\\\\packages\\\\InteractBase\\\\Zfu5P\\\\src\\\\..\\\\assets\\\\all.js\"), Asset(\"css\", nothing, \"C:\\\\Users\\\\Omar Kana\\\\.julia\\\\packages\\\\InteractBase\\\\Zfu5P\\\\src\\\\..\\\\assets\\\\style.css\"), Asset(\"css\", nothing, \"C:\\\\Users\\\\Omar Kana\\\\.julia\\\\packages\\\\Interact\\\\SbgIk\\\\src\\\\..\\\\assets\\\\bulma_confined.min.css\")], Dict{Any, Any}(\"changes\" => Any[WebIO.JSString(\"(function (val){return (val!=this.model[\\\"changes\\\"]()) ? (this.valueFromJulia[\\\"changes\\\"]=true, this.model[\\\"changes\\\"](val)) : undefined})\")], \"index\" => Any[WebIO.JSString(\"(function (val){return (val!=this.model[\\\"index\\\"]()) ? (this.valueFromJulia[\\\"index\\\"]=true, this.model[\\\"index\\\"](val)) : undefined})\")]), WebIO.ConnectionPool(Channel{Any}(32), Set{AbstractConnection}(), Condition(Base.InvasiveLinkedList{Task}(Task (runnable) @0x0000000019ac3850, Task (runnable) @0x0000000019ac3850), Base.AlwaysLockedST(1))), WebIO.JSString[WebIO.JSString(\"function () {\\n    var handler = (function (ko, koPunches) {\\n    ko.punches.enableAll();\\n    ko.bindingHandlers.numericValue = {\\n        init: function(element, valueAccessor, allBindings, data, context) {\\n            var stringified = ko.observable(ko.unwrap(valueAccessor()));\\n            stringified.subscribe(function(value) {\\n                var val = parseFloat(value);\\n                if (!isNaN(val)) {\\n                    valueAccessor()(val);\\n                }\\n            });\\n            valueAccessor().subscribe(function(value) {\\n                var str = JSON.stringify(value);\\n                if ((str == \\\"0\\\") && ([\\\"-0\\\", \\\"-0.\\\"].indexOf(stringified()) >= 0))\\n                     return;\\n                 if ([\\\"null\\\", \\\"\\\"].indexOf(str) >= 0)\\n                     return;\\n                stringified(str);\\n            });\\n            ko.applyBindingsToNode(\\n                element,\\n                {\\n                    value: stringified,\\n                    valueUpdate: allBindings.get('valueUpdate'),\\n                },\\n                context,\\n            );\\n        }\\n    };\\n    var json_data = {\\\"formatted_vals\\\":[\\\"0\\\",\\\"4\\\",\\\"8\\\",\\\"12\\\",\\\"16\\\",\\\"20\\\",\\\"24\\\",\\\"28\\\",\\\"32\\\",\\\"36\\\",\\\"40\\\",\\\"44\\\",\\\"48\\\",\\\"52\\\",\\\"56\\\",\\\"60\\\",\\\"64\\\",\\\"68\\\",\\\"72\\\",\\\"76\\\",\\\"80\\\",\\\"84\\\",\\\"88\\\",\\\"92\\\",\\\"96\\\",\\\"100\\\"],\\\"changes\\\":WebIO.getval({\\\"name\\\":\\\"changes\\\",\\\"scope\\\":\\\"17467774859063749605\\\",\\\"id\\\":\\\"7140990070058823996\\\",\\\"type\\\":\\\"observable\\\"}),\\\"index\\\":WebIO.getval({\\\"name\\\":\\\"index\\\",\\\"scope\\\":\\\"17467774859063749605\\\",\\\"id\\\":\\\"2260027441193506724\\\",\\\"type\\\":\\\"observable\\\"})};\\n    var self = this;\\n    function AppViewModel() {\\n        for (var key in json_data) {\\n            var el = json_data[key];\\n            this[key] = Array.isArray(el) ? ko.observableArray(el) : ko.observable(el);\\n        }\\n        \\n        [this[\\\"formatted_val\\\"]=ko.computed(    function(){\\n        return this.formatted_vals()[parseInt(this.index())-(1)];\\n    }\\n,this)]\\n        [this[\\\"changes\\\"].subscribe((function (val){!(this.valueFromJulia[\\\"changes\\\"]) ? (WebIO.setval({\\\"name\\\":\\\"changes\\\",\\\"scope\\\":\\\"17467774859063749605\\\",\\\"id\\\":\\\"7140990070058823996\\\",\\\"type\\\":\\\"observable\\\"},val)) : undefined; return this.valueFromJulia[\\\"changes\\\"]=false}),self),this[\\\"index\\\"].subscribe((function (val){!(this.valueFromJulia[\\\"index\\\"]) ? (WebIO.setval({\\\"name\\\":\\\"index\\\",\\\"scope\\\":\\\"17467774859063749605\\\",\\\"id\\\":\\\"2260027441193506724\\\",\\\"type\\\":\\\"observable\\\"},val)) : undefined; return this.valueFromJulia[\\\"index\\\"]=false}),self)]\\n        \\n    }\\n    self.model = new AppViewModel();\\n    self.valueFromJulia = {};\\n    for (var key in json_data) {\\n        self.valueFromJulia[key] = false;\\n    }\\n    ko.applyBindings(self.model, self.dom);\\n}\\n);\\n    (WebIO.importBlock({\\\"data\\\":[{\\\"name\\\":\\\"knockout\\\",\\\"type\\\":\\\"js\\\",\\\"url\\\":\\\"/assetserver/4e142ee0ad0c998de353f56b1a22e601395860e5-knockout.js\\\"},{\\\"name\\\":\\\"knockout_punches\\\",\\\"type\\\":\\\"js\\\",\\\"url\\\":\\\"/assetserver/40dc135a5ed691edabc1bf4ca7dc4709f127a380-knockout_punches.js\\\"}],\\\"type\\\":\\\"async_block\\\"})).then((imports) => handler.apply(this, imports));\\n}\\n\")])], Dict{Symbol, Any}(:className => \"field interact-widget\")), Node{WebIO.DOM}(WebIO.DOM(:html, :div), Any[Scope(Node{WebIO.DOM}(WebIO.DOM(:html, :div), Any[Node{WebIO.DOM}(WebIO.DOM(:html, :div), Any[Node{WebIO.DOM}(WebIO.DOM(:html, :label), Any[\"Km\"], Dict{Symbol, Any}(:className => \"interact \", :style => Dict{Any, Any}(:padding => \"5px 10px 0px 10px\")))], Dict{Symbol, Any}(:className => \"interact-flex-row-left\")), Node{WebIO.DOM}(WebIO.DOM(:html, :div), Any[Node{WebIO.DOM}(WebIO.DOM(:html, :input), Any[], Dict{Symbol, Any}(:max => 99, :min => 1, :attributes => Dict{Any, Any}(:type => \"range\", Symbol(\"data-bind\") => \"numericValue: index, valueUpdate: 'input', event: {change: function (){this.changes(this.changes()+1)}}\", \"orient\" => \"horizontal\"), :step => 1, :className => \"slider slider is-fullwidth\", :style => Dict{Any, Any}()))], Dict{Symbol, Any}(:className => \"interact-flex-row-center\")), Node{WebIO.DOM}(WebIO.DOM(:html, :div), Any[Node{WebIO.DOM}(WebIO.DOM(:html, :p), Any[], Dict{Symbol, Any}(:attributes => Dict(\"data-bind\" => \"text: formatted_val\")))], Dict{Symbol, Any}(:className => \"interact-flex-row-right\"))], Dict{Symbol, Any}(:className => \"interact-flex-row interact-widget\")), Dict{String, Tuple{Observables.AbstractObservable, Union{Nothing, Bool}}}(\"changes\" => (Observable{Int64} with 1 listeners. Value:\n",
       "0, nothing), \"index\" => (Observable{Any} with 2 listeners. Value:\n",
       "50, nothing)), Set{String}(), nothing, Asset[Asset(\"js\", \"knockout\", \"C:\\\\Users\\\\Omar Kana\\\\.julia\\\\packages\\\\Knockout\\\\IP1uR\\\\src\\\\..\\\\assets\\\\knockout.js\"), Asset(\"js\", \"knockout_punches\", \"C:\\\\Users\\\\Omar Kana\\\\.julia\\\\packages\\\\Knockout\\\\IP1uR\\\\src\\\\..\\\\assets\\\\knockout_punches.js\"), Asset(\"js\", nothing, \"C:\\\\Users\\\\Omar Kana\\\\.julia\\\\packages\\\\InteractBase\\\\Zfu5P\\\\src\\\\..\\\\assets\\\\all.js\"), Asset(\"css\", nothing, \"C:\\\\Users\\\\Omar Kana\\\\.julia\\\\packages\\\\InteractBase\\\\Zfu5P\\\\src\\\\..\\\\assets\\\\style.css\"), Asset(\"css\", nothing, \"C:\\\\Users\\\\Omar Kana\\\\.julia\\\\packages\\\\Interact\\\\SbgIk\\\\src\\\\..\\\\assets\\\\bulma_confined.min.css\")], Dict{Any, Any}(\"changes\" => Any[WebIO.JSString(\"(function (val){return (val!=this.model[\\\"changes\\\"]()) ? (this.valueFromJulia[\\\"changes\\\"]=true, this.model[\\\"changes\\\"](val)) : undefined})\")], \"index\" => Any[WebIO.JSString(\"(function (val){return (val!=this.model[\\\"index\\\"]()) ? (this.valueFromJulia[\\\"index\\\"]=true, this.model[\\\"index\\\"](val)) : undefined})\")]), WebIO.ConnectionPool(Channel{Any}(32), Set{AbstractConnection}(), Condition(Base.InvasiveLinkedList{Task}(Task (runnable) @0x0000000019b147e0, Task (runnable) @0x0000000019b147e0), Base.AlwaysLockedST(1))), WebIO.JSString[WebIO.JSString(\"function () {\\n    var handler = (function (ko, koPunches) {\\n    ko.punches.enableAll();\\n    ko.bindingHandlers.numericValue = {\\n        init: function(element, valueAccessor, allBindings, data, context) {\\n            var stringified = ko.observable(ko.unwrap(valueAccessor()));\\n            stringified.subscribe(function(value) {\\n                var val = parseFloat(value);\\n                if (!isNaN(val)) {\\n                    valueAccessor()(val);\\n                }\\n            });\\n            valueAccessor().subscribe(function(value) {\\n                var str = JSON.stringify(value);\\n                if ((str == \\\"0\\\") && ([\\\"-0\\\", \\\"-0.\\\"].indexOf(stringified()) >= 0))\\n                     return;\\n                 if ([\\\"null\\\", \\\"\\\"].indexOf(str) >= 0)\\n                     return;\\n                stringified(str);\\n            });\\n            ko.applyBindingsToNode(\\n                element,\\n                {\\n                    value: stringified,\\n                    valueUpdate: allBindings.get('valueUpdate'),\\n                },\\n                context,\\n            );\\n        }\\n    };\\n    var json_data = {\\\"formatted_vals\\\":[\\\"100\\\",\\\"150\\\",\\\"200\\\",\\\"250\\\",\\\"300\\\",\\\"350\\\",\\\"400\\\",\\\"450\\\",\\\"500\\\",\\\"550\\\",\\\"600\\\",\\\"650\\\",\\\"700\\\",\\\"750\\\",\\\"800\\\",\\\"850\\\",\\\"900\\\",\\\"950\\\",\\\"1000\\\",\\\"1050\\\",\\\"1100\\\",\\\"1150\\\",\\\"1200\\\",\\\"1250\\\",\\\"1300\\\",\\\"1350\\\",\\\"1400\\\",\\\"1450\\\",\\\"1500\\\",\\\"1550\\\",\\\"1600\\\",\\\"1650\\\",\\\"1700\\\",\\\"1750\\\",\\\"1800\\\",\\\"1850\\\",\\\"1900\\\",\\\"1950\\\",\\\"2000\\\",\\\"2050\\\",\\\"2100\\\",\\\"2150\\\",\\\"2200\\\",\\\"2250\\\",\\\"2300\\\",\\\"2350\\\",\\\"2400\\\",\\\"2450\\\",\\\"2500\\\",\\\"2550\\\",\\\"2600\\\",\\\"2650\\\",\\\"2700\\\",\\\"2750\\\",\\\"2800\\\",\\\"2850\\\",\\\"2900\\\",\\\"2950\\\",\\\"3000\\\",\\\"3050\\\",\\\"3100\\\",\\\"3150\\\",\\\"3200\\\",\\\"3250\\\",\\\"3300\\\",\\\"3350\\\",\\\"3400\\\",\\\"3450\\\",\\\"3500\\\",\\\"3550\\\",\\\"3600\\\",\\\"3650\\\",\\\"3700\\\",\\\"3750\\\",\\\"3800\\\",\\\"3850\\\",\\\"3900\\\",\\\"3950\\\",\\\"4000\\\",\\\"4050\\\",\\\"4100\\\",\\\"4150\\\",\\\"4200\\\",\\\"4250\\\",\\\"4300\\\",\\\"4350\\\",\\\"4400\\\",\\\"4450\\\",\\\"4500\\\",\\\"4550\\\",\\\"4600\\\",\\\"4650\\\",\\\"4700\\\",\\\"4750\\\",\\\"4800\\\",\\\"4850\\\",\\\"4900\\\",\\\"4950\\\",\\\"5000\\\"],\\\"changes\\\":WebIO.getval({\\\"name\\\":\\\"changes\\\",\\\"scope\\\":\\\"14088735470087843214\\\",\\\"id\\\":\\\"17684876635489413245\\\",\\\"type\\\":\\\"observable\\\"}),\\\"index\\\":WebIO.getval({\\\"name\\\":\\\"index\\\",\\\"scope\\\":\\\"14088735470087843214\\\",\\\"id\\\":\\\"8534902044261949680\\\",\\\"type\\\":\\\"observable\\\"})};\\n    var self = this;\\n    function AppViewModel() {\\n        for (var key in json_data) {\\n            var el = json_data[key];\\n            this[key] = Array.isArray(el) ? ko.observableArray(el) : ko.observable(el);\\n        }\\n        \\n        [this[\\\"formatted_val\\\"]=ko.computed(    function(){\\n        return this.formatted_vals()[parseInt(this.index())-(1)];\\n    }\\n,this)]\\n        [this[\\\"changes\\\"].subscribe((function (val){!(this.valueFromJulia[\\\"changes\\\"]) ? (WebIO.setval({\\\"name\\\":\\\"changes\\\",\\\"scope\\\":\\\"14088735470087843214\\\",\\\"id\\\":\\\"17684876635489413245\\\",\\\"type\\\":\\\"observable\\\"},val)) : undefined; return this.valueFromJulia[\\\"changes\\\"]=false}),self),this[\\\"index\\\"].subscribe((function (val){!(this.valueFromJulia[\\\"index\\\"]) ? (WebIO.setval({\\\"name\\\":\\\"index\\\",\\\"scope\\\":\\\"14088735470087843214\\\",\\\"id\\\":\\\"8534902044261949680\\\",\\\"type\\\":\\\"observable\\\"},val)) : undefined; return this.valueFromJulia[\\\"index\\\"]=false}),self)]\\n        \\n    }\\n    self.model = new AppViewModel();\\n    self.valueFromJulia = {};\\n    for (var key in json_data) {\\n        self.valueFromJulia[key] = false;\\n    }\\n    ko.applyBindings(self.model, self.dom);\\n}\\n);\\n    (WebIO.importBlock({\\\"data\\\":[{\\\"name\\\":\\\"knockout\\\",\\\"type\\\":\\\"js\\\",\\\"url\\\":\\\"/assetserver/4e142ee0ad0c998de353f56b1a22e601395860e5-knockout.js\\\"},{\\\"name\\\":\\\"knockout_punches\\\",\\\"type\\\":\\\"js\\\",\\\"url\\\":\\\"/assetserver/40dc135a5ed691edabc1bf4ca7dc4709f127a380-knockout_punches.js\\\"}],\\\"type\\\":\\\"async_block\\\"})).then((imports) => handler.apply(this, imports));\\n}\\n\")])], Dict{Symbol, Any}(:className => \"field interact-widget\")), Node{WebIO.DOM}(WebIO.DOM(:html, :div), Any[Scope(Node{WebIO.DOM}(WebIO.DOM(:html, :div), Any[Node{WebIO.DOM}(WebIO.DOM(:html, :div), Any[Node{WebIO.DOM}(WebIO.DOM(:html, :label), Any[\"T\"], Dict{Symbol, Any}(:className => \"interact \", :style => Dict{Any, Any}(:padding => \"5px 10px 0px 10px\")))], Dict{Symbol, Any}(:className => \"interact-flex-row-left\")), Node{WebIO.DOM}(WebIO.DOM(:html, :div), Any[Node{WebIO.DOM}(WebIO.DOM(:html, :input), Any[], Dict{Symbol, Any}(:max => 12, :min => 1, :attributes => Dict{Any, Any}(:type => \"range\", Symbol(\"data-bind\") => \"numericValue: index, valueUpdate: 'input', event: {change: function (){this.changes(this.changes()+1)}}\", \"orient\" => \"horizontal\"), :step => 1, :className => \"slider slider is-fullwidth\", :style => Dict{Any, Any}()))], Dict{Symbol, Any}(:className => \"interact-flex-row-center\")), Node{WebIO.DOM}(WebIO.DOM(:html, :div), Any[Node{WebIO.DOM}(WebIO.DOM(:html, :p), Any[], Dict{Symbol, Any}(:attributes => Dict(\"data-bind\" => \"text: formatted_val\")))], Dict{Symbol, Any}(:className => \"interact-flex-row-right\"))], Dict{Symbol, Any}(:className => \"interact-flex-row interact-widget\")), Dict{String, Tuple{Observables.AbstractObservable, Union{Nothing, Bool}}}(\"changes\" => (Observable{Int64} with 1 listeners. Value:\n",
       "0, nothing), \"index\" => (Observable{Any} with 2 listeners. Value:\n",
       "6, nothing)), Set{String}(), nothing, Asset[Asset(\"js\", \"knockout\", \"C:\\\\Users\\\\Omar Kana\\\\.julia\\\\packages\\\\Knockout\\\\IP1uR\\\\src\\\\..\\\\assets\\\\knockout.js\"), Asset(\"js\", \"knockout_punches\", \"C:\\\\Users\\\\Omar Kana\\\\.julia\\\\packages\\\\Knockout\\\\IP1uR\\\\src\\\\..\\\\assets\\\\knockout_punches.js\"), Asset(\"js\", nothing, \"C:\\\\Users\\\\Omar Kana\\\\.julia\\\\packages\\\\InteractBase\\\\Zfu5P\\\\src\\\\..\\\\assets\\\\all.js\"), Asset(\"css\", nothing, \"C:\\\\Users\\\\Omar Kana\\\\.julia\\\\packages\\\\InteractBase\\\\Zfu5P\\\\src\\\\..\\\\assets\\\\style.css\"), Asset(\"css\", nothing, \"C:\\\\Users\\\\Omar Kana\\\\.julia\\\\packages\\\\Interact\\\\SbgIk\\\\src\\\\..\\\\assets\\\\bulma_confined.min.css\")], Dict{Any, Any}(\"changes\" => Any[WebIO.JSString(\"(function (val){return (val!=this.model[\\\"changes\\\"]()) ? (this.valueFromJulia[\\\"changes\\\"]=true, this.model[\\\"changes\\\"](val)) : undefined})\")], \"index\" => Any[WebIO.JSString(\"(function (val){return (val!=this.model[\\\"index\\\"]()) ? (this.valueFromJulia[\\\"index\\\"]=true, this.model[\\\"index\\\"](val)) : undefined})\")]), WebIO.ConnectionPool(Channel{Any}(32), Set{AbstractConnection}(), Condition(Base.InvasiveLinkedList{Task}(Task (runnable) @0x0000000019e1cfb0, Task (runnable) @0x0000000019e1cfb0), Base.AlwaysLockedST(1))), WebIO.JSString[WebIO.JSString(\"function () {\\n    var handler = (function (ko, koPunches) {\\n    ko.punches.enableAll();\\n    ko.bindingHandlers.numericValue = {\\n        init: function(element, valueAccessor, allBindings, data, context) {\\n            var stringified = ko.observable(ko.unwrap(valueAccessor()));\\n            stringified.subscribe(function(value) {\\n                var val = parseFloat(value);\\n                if (!isNaN(val)) {\\n                    valueAccessor()(val);\\n                }\\n            });\\n            valueAccessor().subscribe(function(value) {\\n                var str = JSON.stringify(value);\\n                if ((str == \\\"0\\\") && ([\\\"-0\\\", \\\"-0.\\\"].indexOf(stringified()) >= 0))\\n                     return;\\n                 if ([\\\"null\\\", \\\"\\\"].indexOf(str) >= 0)\\n                     return;\\n                stringified(str);\\n            });\\n            ko.applyBindingsToNode(\\n                element,\\n                {\\n                    value: stringified,\\n                    valueUpdate: allBindings.get('valueUpdate'),\\n                },\\n                context,\\n            );\\n        }\\n    };\\n    var json_data = {\\\"formatted_vals\\\":[\\\"1\\\",\\\"2\\\",\\\"3\\\",\\\"4\\\",\\\"5\\\",\\\"6\\\",\\\"7\\\",\\\"8\\\",\\\"9\\\",\\\"10\\\",\\\"11\\\",\\\"12\\\"],\\\"changes\\\":WebIO.getval({\\\"name\\\":\\\"changes\\\",\\\"scope\\\":\\\"16106697564104272200\\\",\\\"id\\\":\\\"3639825628864127524\\\",\\\"type\\\":\\\"observable\\\"}),\\\"index\\\":WebIO.getval({\\\"name\\\":\\\"index\\\",\\\"scope\\\":\\\"16106697564104272200\\\",\\\"id\\\":\\\"2488840526906580180\\\",\\\"type\\\":\\\"observable\\\"})};\\n    var self = this;\\n    function AppViewModel() {\\n        for (var key in json_data) {\\n            var el = json_data[key];\\n            this[key] = Array.isArray(el) ? ko.observableArray(el) : ko.observable(el);\\n        }\\n        \\n        [this[\\\"formatted_val\\\"]=ko.computed(    function(){\\n        return this.formatted_vals()[parseInt(this.index())-(1)];\\n    }\\n,this)]\\n        [this[\\\"changes\\\"].subscribe((function (val){!(this.valueFromJulia[\\\"changes\\\"]) ? (WebIO.setval({\\\"name\\\":\\\"changes\\\",\\\"scope\\\":\\\"16106697564104272200\\\",\\\"id\\\":\\\"3639825628864127524\\\",\\\"type\\\":\\\"observable\\\"},val)) : undefined; return this.valueFromJulia[\\\"changes\\\"]=false}),self),this[\\\"index\\\"].subscribe((function (val){!(this.valueFromJulia[\\\"index\\\"]) ? (WebIO.setval({\\\"name\\\":\\\"index\\\",\\\"scope\\\":\\\"16106697564104272200\\\",\\\"id\\\":\\\"2488840526906580180\\\",\\\"type\\\":\\\"observable\\\"},val)) : undefined; return this.valueFromJulia[\\\"index\\\"]=false}),self)]\\n        \\n    }\\n    self.model = new AppViewModel();\\n    self.valueFromJulia = {};\\n    for (var key in json_data) {\\n        self.valueFromJulia[key] = false;\\n    }\\n    ko.applyBindings(self.model, self.dom);\\n}\\n);\\n    (WebIO.importBlock({\\\"data\\\":[{\\\"name\\\":\\\"knockout\\\",\\\"type\\\":\\\"js\\\",\\\"url\\\":\\\"/assetserver/4e142ee0ad0c998de353f56b1a22e601395860e5-knockout.js\\\"},{\\\"name\\\":\\\"knockout_punches\\\",\\\"type\\\":\\\"js\\\",\\\"url\\\":\\\"/assetserver/40dc135a5ed691edabc1bf4ca7dc4709f127a380-knockout_punches.js\\\"}],\\\"type\\\":\\\"async_block\\\"})).then((imports) => handler.apply(this, imports));\\n}\\n\")])], Dict{Symbol, Any}(:className => \"field interact-widget\")), Observable{Any} with 0 listeners. Value:\n",
       "Node{WebIO.DOM}(WebIO.DOM(:html, :div), Any[Plot{Plots.GRBackend() n=1}], Dict{Symbol, Any}(:className => \"interact-flex-row interact-widget\"))], Dict{Symbol, Any}())"
      ]
     },
     "execution_count": 18,
     "metadata": {
      "application/vnd.webio.node+json": {
       "kernelId": null
      }
     },
     "output_type": "execute_result"
    }
   ],
   "source": [
    "#Create interactive app using \n",
    "@manipulate for Ka = 0:0.05:1, Vmax = 0:4:100, Km = 100:50:5000, T = 1:1:12\n",
    "    dosetimes = 0:T:168 # we will dose every T hours \n",
    "    condition(u,t,integrator) = t ∈ dosetimes\n",
    "    affect!(integrator) = integrator.u[1] += 150 #add this concentration to the GI compartment\n",
    "    cb = DiscreteCallback(condition,affect!)\n",
    "    tspan = (0, 168) #Time range\n",
    "    u0 = [150, 0] #initial concentrations in GI and Plasma compartment respectively\n",
    "    p = [Ka, Vmax, Km]\n",
    "    prob = ODEProblem(dCdt, u0, tspan, p)\n",
    "    sol = solve(prob,Rosenbrock23(),callback=cb,tstops=dosetimes)\n",
    "    plot(sol.t, sol[2,:]; xlabel = \"T\", ylabel = \"C\", label = \"Plasma\", legend = :topleft, ticks = false, color = :black, width = 3, xlim = tspan)\n",
    "end"
   ]
  },
  {
   "cell_type": "markdown",
   "metadata": {},
   "source": [
    "## Metabolite Production"
   ]
  },
  {
   "cell_type": "markdown",
   "metadata": {},
   "source": [
    "We can also simulate the production of metabolite by adding an additional equation to the system of the generic system section.\n",
    "\n",
    "$\\frac{dC_m}{dt} = K_e*C_p - K_{e2}*C_m \\tag{4}$\n",
    "\n",
    "Here we expand the model such:\n",
    "\n",
    "$GI_{Drug} \\rightarrow Plasma_{Parent} \\rightarrow Plasma_{Metabolite} \\rightarrow \\emptyset$"
   ]
  },
  {
   "cell_type": "code",
   "execution_count": 5,
   "metadata": {},
   "outputs": [
    {
     "data": {
      "text/plain": [
       "dCdt (generic function with 1 method)"
      ]
     },
     "execution_count": 5,
     "metadata": {},
     "output_type": "execute_result"
    }
   ],
   "source": [
    "function dCdt(du, u, p, t)\n",
    "    Ka, Ke1, Ke2 = p\n",
    "    du[1] = -Ka*u[1]\n",
    "    du[2] = Ka*u[1] - Ke1*u[2] \n",
    "    du[3] = Ke1*u[2]  - Ke2*u[3] #Where u[2] is the conc. of the parent and u[3] is the conc. of the metabolite\n",
    "end"
   ]
  },
  {
   "cell_type": "code",
   "execution_count": 10,
   "metadata": {},
   "outputs": [
    {
     "data": {
      "application/vnd.webio.node+json": {
       "children": [
        {
         "children": [
          {
           "children": [
            {
             "children": [
              {
               "children": [
                {
                 "children": [
                  "Ka"
                 ],
                 "instanceArgs": {
                  "namespace": "html",
                  "tag": "label"
                 },
                 "nodeType": "DOM",
                 "props": {
                  "className": "interact ",
                  "style": {
                   "padding": "5px 10px 0px 10px"
                  }
                 },
                 "type": "node"
                }
               ],
               "instanceArgs": {
                "namespace": "html",
                "tag": "div"
               },
               "nodeType": "DOM",
               "props": {
                "className": "interact-flex-row-left"
               },
               "type": "node"
              },
              {
               "children": [
                {
                 "children": [],
                 "instanceArgs": {
                  "namespace": "html",
                  "tag": "input"
                 },
                 "nodeType": "DOM",
                 "props": {
                  "attributes": {
                   "data-bind": "numericValue: index, valueUpdate: 'input', event: {change: function (){this.changes(this.changes()+1)}}",
                   "orient": "horizontal",
                   "type": "range"
                  },
                  "className": "slider slider is-fullwidth",
                  "max": 21,
                  "min": 1,
                  "step": 1,
                  "style": {}
                 },
                 "type": "node"
                }
               ],
               "instanceArgs": {
                "namespace": "html",
                "tag": "div"
               },
               "nodeType": "DOM",
               "props": {
                "className": "interact-flex-row-center"
               },
               "type": "node"
              },
              {
               "children": [
                {
                 "children": [],
                 "instanceArgs": {
                  "namespace": "html",
                  "tag": "p"
                 },
                 "nodeType": "DOM",
                 "props": {
                  "attributes": {
                   "data-bind": "text: formatted_val"
                  }
                 },
                 "type": "node"
                }
               ],
               "instanceArgs": {
                "namespace": "html",
                "tag": "div"
               },
               "nodeType": "DOM",
               "props": {
                "className": "interact-flex-row-right"
               },
               "type": "node"
              }
             ],
             "instanceArgs": {
              "namespace": "html",
              "tag": "div"
             },
             "nodeType": "DOM",
             "props": {
              "className": "interact-flex-row interact-widget"
             },
             "type": "node"
            }
           ],
           "instanceArgs": {
            "handlers": {
             "changes": [
              "(function (val){return (val!=this.model[\"changes\"]()) ? (this.valueFromJulia[\"changes\"]=true, this.model[\"changes\"](val)) : undefined})"
             ],
             "index": [
              "(function (val){return (val!=this.model[\"index\"]()) ? (this.valueFromJulia[\"index\"]=true, this.model[\"index\"](val)) : undefined})"
             ]
            },
            "id": "7374652656293517613",
            "imports": {
             "data": [
              {
               "name": "knockout",
               "type": "js",
               "url": "/assetserver/4e142ee0ad0c998de353f56b1a22e601395860e5-knockout.js"
              },
              {
               "name": "knockout_punches",
               "type": "js",
               "url": "/assetserver/40dc135a5ed691edabc1bf4ca7dc4709f127a380-knockout_punches.js"
              },
              {
               "name": null,
               "type": "js",
               "url": "/assetserver/30aa72339af74f9a627673d92d8040d5cfe9533e-all.js"
              },
              {
               "name": null,
               "type": "css",
               "url": "/assetserver/75af5f53e0088a81c77fec0c74dec23ed676eb50-style.css"
              },
              {
               "name": null,
               "type": "css",
               "url": "/assetserver/6ae6a66e550095b6b8e9dd509bd67c34fc3cbbc5-bulma_confined.min.css"
              }
             ],
             "type": "async_block"
            },
            "mount_callbacks": [
             "function () {\n    var handler = (function (ko, koPunches) {\n    ko.punches.enableAll();\n    ko.bindingHandlers.numericValue = {\n        init: function(element, valueAccessor, allBindings, data, context) {\n            var stringified = ko.observable(ko.unwrap(valueAccessor()));\n            stringified.subscribe(function(value) {\n                var val = parseFloat(value);\n                if (!isNaN(val)) {\n                    valueAccessor()(val);\n                }\n            });\n            valueAccessor().subscribe(function(value) {\n                var str = JSON.stringify(value);\n                if ((str == \"0\") && ([\"-0\", \"-0.\"].indexOf(stringified()) >= 0))\n                     return;\n                 if ([\"null\", \"\"].indexOf(str) >= 0)\n                     return;\n                stringified(str);\n            });\n            ko.applyBindingsToNode(\n                element,\n                {\n                    value: stringified,\n                    valueUpdate: allBindings.get('valueUpdate'),\n                },\n                context,\n            );\n        }\n    };\n    var json_data = {\"formatted_vals\":[\"0.0\",\"0.05\",\"0.1\",\"0.15\",\"0.2\",\"0.25\",\"0.3\",\"0.35\",\"0.4\",\"0.45\",\"0.5\",\"0.55\",\"0.6\",\"0.65\",\"0.7\",\"0.75\",\"0.8\",\"0.85\",\"0.9\",\"0.95\",\"1.0\"],\"changes\":WebIO.getval({\"name\":\"changes\",\"scope\":\"7374652656293517613\",\"id\":\"5993492304702495206\",\"type\":\"observable\"}),\"index\":WebIO.getval({\"name\":\"index\",\"scope\":\"7374652656293517613\",\"id\":\"12279211831197372087\",\"type\":\"observable\"})};\n    var self = this;\n    function AppViewModel() {\n        for (var key in json_data) {\n            var el = json_data[key];\n            this[key] = Array.isArray(el) ? ko.observableArray(el) : ko.observable(el);\n        }\n        \n        [this[\"formatted_val\"]=ko.computed(    function(){\n        return this.formatted_vals()[parseInt(this.index())-(1)];\n    }\n,this)]\n        [this[\"changes\"].subscribe((function (val){!(this.valueFromJulia[\"changes\"]) ? (WebIO.setval({\"name\":\"changes\",\"scope\":\"7374652656293517613\",\"id\":\"5993492304702495206\",\"type\":\"observable\"},val)) : undefined; return this.valueFromJulia[\"changes\"]=false}),self),this[\"index\"].subscribe((function (val){!(this.valueFromJulia[\"index\"]) ? (WebIO.setval({\"name\":\"index\",\"scope\":\"7374652656293517613\",\"id\":\"12279211831197372087\",\"type\":\"observable\"},val)) : undefined; return this.valueFromJulia[\"index\"]=false}),self)]\n        \n    }\n    self.model = new AppViewModel();\n    self.valueFromJulia = {};\n    for (var key in json_data) {\n        self.valueFromJulia[key] = false;\n    }\n    ko.applyBindings(self.model, self.dom);\n}\n);\n    (WebIO.importBlock({\"data\":[{\"name\":\"knockout\",\"type\":\"js\",\"url\":\"/assetserver/4e142ee0ad0c998de353f56b1a22e601395860e5-knockout.js\"},{\"name\":\"knockout_punches\",\"type\":\"js\",\"url\":\"/assetserver/40dc135a5ed691edabc1bf4ca7dc4709f127a380-knockout_punches.js\"}],\"type\":\"async_block\"})).then((imports) => handler.apply(this, imports));\n}\n"
            ],
            "observables": {
             "changes": {
              "id": "5993492304702495206",
              "sync": false,
              "value": 0
             },
             "index": {
              "id": "12279211831197372087",
              "sync": true,
              "value": 11
             }
            },
            "systemjs_options": null
           },
           "nodeType": "Scope",
           "props": {},
           "type": "node"
          }
         ],
         "instanceArgs": {
          "namespace": "html",
          "tag": "div"
         },
         "nodeType": "DOM",
         "props": {
          "className": "field interact-widget"
         },
         "type": "node"
        },
        {
         "children": [
          {
           "children": [
            {
             "children": [
              {
               "children": [
                {
                 "children": [
                  "Ke1"
                 ],
                 "instanceArgs": {
                  "namespace": "html",
                  "tag": "label"
                 },
                 "nodeType": "DOM",
                 "props": {
                  "className": "interact ",
                  "style": {
                   "padding": "5px 10px 0px 10px"
                  }
                 },
                 "type": "node"
                }
               ],
               "instanceArgs": {
                "namespace": "html",
                "tag": "div"
               },
               "nodeType": "DOM",
               "props": {
                "className": "interact-flex-row-left"
               },
               "type": "node"
              },
              {
               "children": [
                {
                 "children": [],
                 "instanceArgs": {
                  "namespace": "html",
                  "tag": "input"
                 },
                 "nodeType": "DOM",
                 "props": {
                  "attributes": {
                   "data-bind": "numericValue: index, valueUpdate: 'input', event: {change: function (){this.changes(this.changes()+1)}}",
                   "orient": "horizontal",
                   "type": "range"
                  },
                  "className": "slider slider is-fullwidth",
                  "max": 21,
                  "min": 1,
                  "step": 1,
                  "style": {}
                 },
                 "type": "node"
                }
               ],
               "instanceArgs": {
                "namespace": "html",
                "tag": "div"
               },
               "nodeType": "DOM",
               "props": {
                "className": "interact-flex-row-center"
               },
               "type": "node"
              },
              {
               "children": [
                {
                 "children": [],
                 "instanceArgs": {
                  "namespace": "html",
                  "tag": "p"
                 },
                 "nodeType": "DOM",
                 "props": {
                  "attributes": {
                   "data-bind": "text: formatted_val"
                  }
                 },
                 "type": "node"
                }
               ],
               "instanceArgs": {
                "namespace": "html",
                "tag": "div"
               },
               "nodeType": "DOM",
               "props": {
                "className": "interact-flex-row-right"
               },
               "type": "node"
              }
             ],
             "instanceArgs": {
              "namespace": "html",
              "tag": "div"
             },
             "nodeType": "DOM",
             "props": {
              "className": "interact-flex-row interact-widget"
             },
             "type": "node"
            }
           ],
           "instanceArgs": {
            "handlers": {
             "changes": [
              "(function (val){return (val!=this.model[\"changes\"]()) ? (this.valueFromJulia[\"changes\"]=true, this.model[\"changes\"](val)) : undefined})"
             ],
             "index": [
              "(function (val){return (val!=this.model[\"index\"]()) ? (this.valueFromJulia[\"index\"]=true, this.model[\"index\"](val)) : undefined})"
             ]
            },
            "id": "1729901699173198253",
            "imports": {
             "data": [
              {
               "name": "knockout",
               "type": "js",
               "url": "/assetserver/4e142ee0ad0c998de353f56b1a22e601395860e5-knockout.js"
              },
              {
               "name": "knockout_punches",
               "type": "js",
               "url": "/assetserver/40dc135a5ed691edabc1bf4ca7dc4709f127a380-knockout_punches.js"
              },
              {
               "name": null,
               "type": "js",
               "url": "/assetserver/30aa72339af74f9a627673d92d8040d5cfe9533e-all.js"
              },
              {
               "name": null,
               "type": "css",
               "url": "/assetserver/75af5f53e0088a81c77fec0c74dec23ed676eb50-style.css"
              },
              {
               "name": null,
               "type": "css",
               "url": "/assetserver/6ae6a66e550095b6b8e9dd509bd67c34fc3cbbc5-bulma_confined.min.css"
              }
             ],
             "type": "async_block"
            },
            "mount_callbacks": [
             "function () {\n    var handler = (function (ko, koPunches) {\n    ko.punches.enableAll();\n    ko.bindingHandlers.numericValue = {\n        init: function(element, valueAccessor, allBindings, data, context) {\n            var stringified = ko.observable(ko.unwrap(valueAccessor()));\n            stringified.subscribe(function(value) {\n                var val = parseFloat(value);\n                if (!isNaN(val)) {\n                    valueAccessor()(val);\n                }\n            });\n            valueAccessor().subscribe(function(value) {\n                var str = JSON.stringify(value);\n                if ((str == \"0\") && ([\"-0\", \"-0.\"].indexOf(stringified()) >= 0))\n                     return;\n                 if ([\"null\", \"\"].indexOf(str) >= 0)\n                     return;\n                stringified(str);\n            });\n            ko.applyBindingsToNode(\n                element,\n                {\n                    value: stringified,\n                    valueUpdate: allBindings.get('valueUpdate'),\n                },\n                context,\n            );\n        }\n    };\n    var json_data = {\"formatted_vals\":[\"0.0\",\"0.05\",\"0.1\",\"0.15\",\"0.2\",\"0.25\",\"0.3\",\"0.35\",\"0.4\",\"0.45\",\"0.5\",\"0.55\",\"0.6\",\"0.65\",\"0.7\",\"0.75\",\"0.8\",\"0.85\",\"0.9\",\"0.95\",\"1.0\"],\"changes\":WebIO.getval({\"name\":\"changes\",\"scope\":\"1729901699173198253\",\"id\":\"8407557787838100902\",\"type\":\"observable\"}),\"index\":WebIO.getval({\"name\":\"index\",\"scope\":\"1729901699173198253\",\"id\":\"8946300395296979746\",\"type\":\"observable\"})};\n    var self = this;\n    function AppViewModel() {\n        for (var key in json_data) {\n            var el = json_data[key];\n            this[key] = Array.isArray(el) ? ko.observableArray(el) : ko.observable(el);\n        }\n        \n        [this[\"formatted_val\"]=ko.computed(    function(){\n        return this.formatted_vals()[parseInt(this.index())-(1)];\n    }\n,this)]\n        [this[\"changes\"].subscribe((function (val){!(this.valueFromJulia[\"changes\"]) ? (WebIO.setval({\"name\":\"changes\",\"scope\":\"1729901699173198253\",\"id\":\"8407557787838100902\",\"type\":\"observable\"},val)) : undefined; return this.valueFromJulia[\"changes\"]=false}),self),this[\"index\"].subscribe((function (val){!(this.valueFromJulia[\"index\"]) ? (WebIO.setval({\"name\":\"index\",\"scope\":\"1729901699173198253\",\"id\":\"8946300395296979746\",\"type\":\"observable\"},val)) : undefined; return this.valueFromJulia[\"index\"]=false}),self)]\n        \n    }\n    self.model = new AppViewModel();\n    self.valueFromJulia = {};\n    for (var key in json_data) {\n        self.valueFromJulia[key] = false;\n    }\n    ko.applyBindings(self.model, self.dom);\n}\n);\n    (WebIO.importBlock({\"data\":[{\"name\":\"knockout\",\"type\":\"js\",\"url\":\"/assetserver/4e142ee0ad0c998de353f56b1a22e601395860e5-knockout.js\"},{\"name\":\"knockout_punches\",\"type\":\"js\",\"url\":\"/assetserver/40dc135a5ed691edabc1bf4ca7dc4709f127a380-knockout_punches.js\"}],\"type\":\"async_block\"})).then((imports) => handler.apply(this, imports));\n}\n"
            ],
            "observables": {
             "changes": {
              "id": "8407557787838100902",
              "sync": false,
              "value": 0
             },
             "index": {
              "id": "8946300395296979746",
              "sync": true,
              "value": 11
             }
            },
            "systemjs_options": null
           },
           "nodeType": "Scope",
           "props": {},
           "type": "node"
          }
         ],
         "instanceArgs": {
          "namespace": "html",
          "tag": "div"
         },
         "nodeType": "DOM",
         "props": {
          "className": "field interact-widget"
         },
         "type": "node"
        },
        {
         "children": [
          {
           "children": [
            {
             "children": [
              {
               "children": [
                {
                 "children": [
                  "Ke2"
                 ],
                 "instanceArgs": {
                  "namespace": "html",
                  "tag": "label"
                 },
                 "nodeType": "DOM",
                 "props": {
                  "className": "interact ",
                  "style": {
                   "padding": "5px 10px 0px 10px"
                  }
                 },
                 "type": "node"
                }
               ],
               "instanceArgs": {
                "namespace": "html",
                "tag": "div"
               },
               "nodeType": "DOM",
               "props": {
                "className": "interact-flex-row-left"
               },
               "type": "node"
              },
              {
               "children": [
                {
                 "children": [],
                 "instanceArgs": {
                  "namespace": "html",
                  "tag": "input"
                 },
                 "nodeType": "DOM",
                 "props": {
                  "attributes": {
                   "data-bind": "numericValue: index, valueUpdate: 'input', event: {change: function (){this.changes(this.changes()+1)}}",
                   "orient": "horizontal",
                   "type": "range"
                  },
                  "className": "slider slider is-fullwidth",
                  "max": 21,
                  "min": 1,
                  "step": 1,
                  "style": {}
                 },
                 "type": "node"
                }
               ],
               "instanceArgs": {
                "namespace": "html",
                "tag": "div"
               },
               "nodeType": "DOM",
               "props": {
                "className": "interact-flex-row-center"
               },
               "type": "node"
              },
              {
               "children": [
                {
                 "children": [],
                 "instanceArgs": {
                  "namespace": "html",
                  "tag": "p"
                 },
                 "nodeType": "DOM",
                 "props": {
                  "attributes": {
                   "data-bind": "text: formatted_val"
                  }
                 },
                 "type": "node"
                }
               ],
               "instanceArgs": {
                "namespace": "html",
                "tag": "div"
               },
               "nodeType": "DOM",
               "props": {
                "className": "interact-flex-row-right"
               },
               "type": "node"
              }
             ],
             "instanceArgs": {
              "namespace": "html",
              "tag": "div"
             },
             "nodeType": "DOM",
             "props": {
              "className": "interact-flex-row interact-widget"
             },
             "type": "node"
            }
           ],
           "instanceArgs": {
            "handlers": {
             "changes": [
              "(function (val){return (val!=this.model[\"changes\"]()) ? (this.valueFromJulia[\"changes\"]=true, this.model[\"changes\"](val)) : undefined})"
             ],
             "index": [
              "(function (val){return (val!=this.model[\"index\"]()) ? (this.valueFromJulia[\"index\"]=true, this.model[\"index\"](val)) : undefined})"
             ]
            },
            "id": "14725110027105797157",
            "imports": {
             "data": [
              {
               "name": "knockout",
               "type": "js",
               "url": "/assetserver/4e142ee0ad0c998de353f56b1a22e601395860e5-knockout.js"
              },
              {
               "name": "knockout_punches",
               "type": "js",
               "url": "/assetserver/40dc135a5ed691edabc1bf4ca7dc4709f127a380-knockout_punches.js"
              },
              {
               "name": null,
               "type": "js",
               "url": "/assetserver/30aa72339af74f9a627673d92d8040d5cfe9533e-all.js"
              },
              {
               "name": null,
               "type": "css",
               "url": "/assetserver/75af5f53e0088a81c77fec0c74dec23ed676eb50-style.css"
              },
              {
               "name": null,
               "type": "css",
               "url": "/assetserver/6ae6a66e550095b6b8e9dd509bd67c34fc3cbbc5-bulma_confined.min.css"
              }
             ],
             "type": "async_block"
            },
            "mount_callbacks": [
             "function () {\n    var handler = (function (ko, koPunches) {\n    ko.punches.enableAll();\n    ko.bindingHandlers.numericValue = {\n        init: function(element, valueAccessor, allBindings, data, context) {\n            var stringified = ko.observable(ko.unwrap(valueAccessor()));\n            stringified.subscribe(function(value) {\n                var val = parseFloat(value);\n                if (!isNaN(val)) {\n                    valueAccessor()(val);\n                }\n            });\n            valueAccessor().subscribe(function(value) {\n                var str = JSON.stringify(value);\n                if ((str == \"0\") && ([\"-0\", \"-0.\"].indexOf(stringified()) >= 0))\n                     return;\n                 if ([\"null\", \"\"].indexOf(str) >= 0)\n                     return;\n                stringified(str);\n            });\n            ko.applyBindingsToNode(\n                element,\n                {\n                    value: stringified,\n                    valueUpdate: allBindings.get('valueUpdate'),\n                },\n                context,\n            );\n        }\n    };\n    var json_data = {\"formatted_vals\":[\"0.0\",\"0.05\",\"0.1\",\"0.15\",\"0.2\",\"0.25\",\"0.3\",\"0.35\",\"0.4\",\"0.45\",\"0.5\",\"0.55\",\"0.6\",\"0.65\",\"0.7\",\"0.75\",\"0.8\",\"0.85\",\"0.9\",\"0.95\",\"1.0\"],\"changes\":WebIO.getval({\"name\":\"changes\",\"scope\":\"14725110027105797157\",\"id\":\"17582353211973647484\",\"type\":\"observable\"}),\"index\":WebIO.getval({\"name\":\"index\",\"scope\":\"14725110027105797157\",\"id\":\"12667833103813407793\",\"type\":\"observable\"})};\n    var self = this;\n    function AppViewModel() {\n        for (var key in json_data) {\n            var el = json_data[key];\n            this[key] = Array.isArray(el) ? ko.observableArray(el) : ko.observable(el);\n        }\n        \n        [this[\"formatted_val\"]=ko.computed(    function(){\n        return this.formatted_vals()[parseInt(this.index())-(1)];\n    }\n,this)]\n        [this[\"changes\"].subscribe((function (val){!(this.valueFromJulia[\"changes\"]) ? (WebIO.setval({\"name\":\"changes\",\"scope\":\"14725110027105797157\",\"id\":\"17582353211973647484\",\"type\":\"observable\"},val)) : undefined; return this.valueFromJulia[\"changes\"]=false}),self),this[\"index\"].subscribe((function (val){!(this.valueFromJulia[\"index\"]) ? (WebIO.setval({\"name\":\"index\",\"scope\":\"14725110027105797157\",\"id\":\"12667833103813407793\",\"type\":\"observable\"},val)) : undefined; return this.valueFromJulia[\"index\"]=false}),self)]\n        \n    }\n    self.model = new AppViewModel();\n    self.valueFromJulia = {};\n    for (var key in json_data) {\n        self.valueFromJulia[key] = false;\n    }\n    ko.applyBindings(self.model, self.dom);\n}\n);\n    (WebIO.importBlock({\"data\":[{\"name\":\"knockout\",\"type\":\"js\",\"url\":\"/assetserver/4e142ee0ad0c998de353f56b1a22e601395860e5-knockout.js\"},{\"name\":\"knockout_punches\",\"type\":\"js\",\"url\":\"/assetserver/40dc135a5ed691edabc1bf4ca7dc4709f127a380-knockout_punches.js\"}],\"type\":\"async_block\"})).then((imports) => handler.apply(this, imports));\n}\n"
            ],
            "observables": {
             "changes": {
              "id": "17582353211973647484",
              "sync": false,
              "value": 0
             },
             "index": {
              "id": "12667833103813407793",
              "sync": true,
              "value": 11
             }
            },
            "systemjs_options": null
           },
           "nodeType": "Scope",
           "props": {},
           "type": "node"
          }
         ],
         "instanceArgs": {
          "namespace": "html",
          "tag": "div"
         },
         "nodeType": "DOM",
         "props": {
          "className": "field interact-widget"
         },
         "type": "node"
        },
        {
         "children": [
          {
           "children": [
            {
             "children": [
              {
               "children": [
                {
                 "children": [
                  "T"
                 ],
                 "instanceArgs": {
                  "namespace": "html",
                  "tag": "label"
                 },
                 "nodeType": "DOM",
                 "props": {
                  "className": "interact ",
                  "style": {
                   "padding": "5px 10px 0px 10px"
                  }
                 },
                 "type": "node"
                }
               ],
               "instanceArgs": {
                "namespace": "html",
                "tag": "div"
               },
               "nodeType": "DOM",
               "props": {
                "className": "interact-flex-row-left"
               },
               "type": "node"
              },
              {
               "children": [
                {
                 "children": [],
                 "instanceArgs": {
                  "namespace": "html",
                  "tag": "input"
                 },
                 "nodeType": "DOM",
                 "props": {
                  "attributes": {
                   "data-bind": "numericValue: index, valueUpdate: 'input', event: {change: function (){this.changes(this.changes()+1)}}",
                   "orient": "horizontal",
                   "type": "range"
                  },
                  "className": "slider slider is-fullwidth",
                  "max": 12,
                  "min": 1,
                  "step": 1,
                  "style": {}
                 },
                 "type": "node"
                }
               ],
               "instanceArgs": {
                "namespace": "html",
                "tag": "div"
               },
               "nodeType": "DOM",
               "props": {
                "className": "interact-flex-row-center"
               },
               "type": "node"
              },
              {
               "children": [
                {
                 "children": [],
                 "instanceArgs": {
                  "namespace": "html",
                  "tag": "p"
                 },
                 "nodeType": "DOM",
                 "props": {
                  "attributes": {
                   "data-bind": "text: formatted_val"
                  }
                 },
                 "type": "node"
                }
               ],
               "instanceArgs": {
                "namespace": "html",
                "tag": "div"
               },
               "nodeType": "DOM",
               "props": {
                "className": "interact-flex-row-right"
               },
               "type": "node"
              }
             ],
             "instanceArgs": {
              "namespace": "html",
              "tag": "div"
             },
             "nodeType": "DOM",
             "props": {
              "className": "interact-flex-row interact-widget"
             },
             "type": "node"
            }
           ],
           "instanceArgs": {
            "handlers": {
             "changes": [
              "(function (val){return (val!=this.model[\"changes\"]()) ? (this.valueFromJulia[\"changes\"]=true, this.model[\"changes\"](val)) : undefined})"
             ],
             "index": [
              "(function (val){return (val!=this.model[\"index\"]()) ? (this.valueFromJulia[\"index\"]=true, this.model[\"index\"](val)) : undefined})"
             ]
            },
            "id": "11467803351525843658",
            "imports": {
             "data": [
              {
               "name": "knockout",
               "type": "js",
               "url": "/assetserver/4e142ee0ad0c998de353f56b1a22e601395860e5-knockout.js"
              },
              {
               "name": "knockout_punches",
               "type": "js",
               "url": "/assetserver/40dc135a5ed691edabc1bf4ca7dc4709f127a380-knockout_punches.js"
              },
              {
               "name": null,
               "type": "js",
               "url": "/assetserver/30aa72339af74f9a627673d92d8040d5cfe9533e-all.js"
              },
              {
               "name": null,
               "type": "css",
               "url": "/assetserver/75af5f53e0088a81c77fec0c74dec23ed676eb50-style.css"
              },
              {
               "name": null,
               "type": "css",
               "url": "/assetserver/6ae6a66e550095b6b8e9dd509bd67c34fc3cbbc5-bulma_confined.min.css"
              }
             ],
             "type": "async_block"
            },
            "mount_callbacks": [
             "function () {\n    var handler = (function (ko, koPunches) {\n    ko.punches.enableAll();\n    ko.bindingHandlers.numericValue = {\n        init: function(element, valueAccessor, allBindings, data, context) {\n            var stringified = ko.observable(ko.unwrap(valueAccessor()));\n            stringified.subscribe(function(value) {\n                var val = parseFloat(value);\n                if (!isNaN(val)) {\n                    valueAccessor()(val);\n                }\n            });\n            valueAccessor().subscribe(function(value) {\n                var str = JSON.stringify(value);\n                if ((str == \"0\") && ([\"-0\", \"-0.\"].indexOf(stringified()) >= 0))\n                     return;\n                 if ([\"null\", \"\"].indexOf(str) >= 0)\n                     return;\n                stringified(str);\n            });\n            ko.applyBindingsToNode(\n                element,\n                {\n                    value: stringified,\n                    valueUpdate: allBindings.get('valueUpdate'),\n                },\n                context,\n            );\n        }\n    };\n    var json_data = {\"formatted_vals\":[\"1\",\"2\",\"3\",\"4\",\"5\",\"6\",\"7\",\"8\",\"9\",\"10\",\"11\",\"12\"],\"changes\":WebIO.getval({\"name\":\"changes\",\"scope\":\"11467803351525843658\",\"id\":\"6724351610449396675\",\"type\":\"observable\"}),\"index\":WebIO.getval({\"name\":\"index\",\"scope\":\"11467803351525843658\",\"id\":\"11401054407894726955\",\"type\":\"observable\"})};\n    var self = this;\n    function AppViewModel() {\n        for (var key in json_data) {\n            var el = json_data[key];\n            this[key] = Array.isArray(el) ? ko.observableArray(el) : ko.observable(el);\n        }\n        \n        [this[\"formatted_val\"]=ko.computed(    function(){\n        return this.formatted_vals()[parseInt(this.index())-(1)];\n    }\n,this)]\n        [this[\"changes\"].subscribe((function (val){!(this.valueFromJulia[\"changes\"]) ? (WebIO.setval({\"name\":\"changes\",\"scope\":\"11467803351525843658\",\"id\":\"6724351610449396675\",\"type\":\"observable\"},val)) : undefined; return this.valueFromJulia[\"changes\"]=false}),self),this[\"index\"].subscribe((function (val){!(this.valueFromJulia[\"index\"]) ? (WebIO.setval({\"name\":\"index\",\"scope\":\"11467803351525843658\",\"id\":\"11401054407894726955\",\"type\":\"observable\"},val)) : undefined; return this.valueFromJulia[\"index\"]=false}),self)]\n        \n    }\n    self.model = new AppViewModel();\n    self.valueFromJulia = {};\n    for (var key in json_data) {\n        self.valueFromJulia[key] = false;\n    }\n    ko.applyBindings(self.model, self.dom);\n}\n);\n    (WebIO.importBlock({\"data\":[{\"name\":\"knockout\",\"type\":\"js\",\"url\":\"/assetserver/4e142ee0ad0c998de353f56b1a22e601395860e5-knockout.js\"},{\"name\":\"knockout_punches\",\"type\":\"js\",\"url\":\"/assetserver/40dc135a5ed691edabc1bf4ca7dc4709f127a380-knockout_punches.js\"}],\"type\":\"async_block\"})).then((imports) => handler.apply(this, imports));\n}\n"
            ],
            "observables": {
             "changes": {
              "id": "6724351610449396675",
              "sync": false,
              "value": 0
             },
             "index": {
              "id": "11401054407894726955",
              "sync": true,
              "value": 6
             }
            },
            "systemjs_options": null
           },
           "nodeType": "Scope",
           "props": {},
           "type": "node"
          }
         ],
         "instanceArgs": {
          "namespace": "html",
          "tag": "div"
         },
         "nodeType": "DOM",
         "props": {
          "className": "field interact-widget"
         },
         "type": "node"
        },
        {
         "children": [
          {
           "children": [],
           "instanceArgs": {
            "id": "15175560567174967675",
            "name": "obs-node"
           },
           "nodeType": "ObservableNode",
           "props": {},
           "type": "node"
          }
         ],
         "instanceArgs": {
          "handlers": {},
          "id": "14504111552748353643",
          "imports": {
           "data": [],
           "type": "async_block"
          },
          "mount_callbacks": [],
          "observables": {
           "obs-node": {
            "id": "15175560567174967675",
            "sync": false,
            "value": {
             "children": [
              {
               "children": [],
               "instanceArgs": {
                "namespace": "html",
                "tag": "div"
               },
               "nodeType": "DOM",
               "props": {
                "setInnerHtml": "<?xml version=\"1.0\" encoding=\"utf-8\"?>\n<svg xmlns=\"http://www.w3.org/2000/svg\" xmlns:xlink=\"http://www.w3.org/1999/xlink\" width=\"900\" height=\"600\" viewBox=\"0 0 3600 2400\">\n<defs>\n  <clipPath id=\"clip430\">\n    <rect x=\"0\" y=\"0\" width=\"3600\" height=\"2400\"/>\n  </clipPath>\n</defs>\n<path clip-path=\"url(#clip430)\" d=\"\nM0 2400 L3600 2400 L3600 0 L0 0  Z\n  \" fill=\"#ffffff\" fill-rule=\"evenodd\" fill-opacity=\"1\"/>\n<defs>\n  <clipPath id=\"clip431\">\n    <rect x=\"720\" y=\"0\" width=\"2521\" height=\"2400\"/>\n  </clipPath>\n</defs>\n<path clip-path=\"url(#clip430)\" d=\"\nM165.768 2234.23 L3529.13 2234.23 L3529.13 70.8661 L165.768 70.8661  Z\n  \" fill=\"#ffffff\" fill-rule=\"evenodd\" fill-opacity=\"1\"/>\n<defs>\n  <clipPath id=\"clip432\">\n    <rect x=\"165\" y=\"70\" width=\"3364\" height=\"2164\"/>\n  </clipPath>\n</defs>\n<polyline clip-path=\"url(#clip430)\" style=\"stroke:#000000; stroke-width:6; stroke-opacity:1; fill:none\" points=\"\n  165.768,2234.23 3529.13,2234.23 \n  \"/>\n<path clip-path=\"url(#clip430)\" d=\"M 0 0 M1817.3 2302.49 L1877.6 2302.49 L1877.6 2310.6 L1852.3 2310.6 L1852.3 2373.77 L1842.61 2373.77 L1842.61 2310.6 L1817.3 2310.6 L1817.3 2302.49 Z\" fill=\"#000000\" fill-rule=\"evenodd\" fill-opacity=\"1\" /><polyline clip-path=\"url(#clip430)\" style=\"stroke:#000000; stroke-width:6; stroke-opacity:1; fill:none\" points=\"\n  165.768,2234.23 165.768,70.8661 \n  \"/>\n<path clip-path=\"url(#clip430)\" d=\"M 0 0 M-29.4054 1123.81 L-19.2362 1123.81 Q-23.7717 1128.68 -26.0157 1134.22 Q-28.2596 1139.71 -28.2596 1145.91 Q-28.2596 1158.13 -20.7639 1164.63 Q-13.3161 1171.12 0.815803 1171.12 Q14.8999 1171.12 22.3955 1164.63 Q29.8434 1158.13 29.8434 1145.91 Q29.8434 1139.71 27.5995 1134.22 Q25.3556 1128.68 20.82 1123.81 L30.8938 1123.81 Q34.3312 1128.87 36.05 1134.55 Q37.7687 1140.18 37.7687 1146.49 Q37.7687 1162.67 27.886 1171.98 Q17.9555 1181.29 0.815803 1181.29 Q-16.3716 1181.29 -26.2544 1171.98 Q-36.1849 1162.67 -36.1849 1146.49 Q-36.1849 1140.09 -34.4661 1134.45 Q-32.7951 1128.77 -29.4054 1123.81 Z\" fill=\"#000000\" fill-rule=\"evenodd\" fill-opacity=\"1\" /><polyline clip-path=\"url(#clip432)\" style=\"stroke:#000000; stroke-width:18; stroke-opacity:1; fill:none\" points=\"\n  165.768,2173 165.768,2172.97 165.771,2172.67 165.798,2169.68 165.827,2166.41 165.886,2159.76 165.953,2152.29 166.065,2139.89 166.2,2124.97 166.399,2103.17 \n  166.646,2076.48 166.981,2040.81 167.393,1997.67 167.923,1943.57 168.567,1879.72 169.365,1803.56 170.321,1716.35 171.476,1616.82 172.842,1506.77 174.463,1386.57 \n  176.364,1259.09 178.592,1126.72 181.188,993.849 184.213,865.073 187.728,746.6 191.815,645.149 196.56,568.485 202.057,524.391 208.368,519.647 215.49,557.453 \n  223.388,635.796 231.934,746.977 241.051,880.904 250.65,1026.81 260.681,1175.58 271.104,1319.98 281.854,1454.55 285.888,1500.95 291.554,1008.31 \n  294.012,840.903 299.762,538.555 303.411,402.946 309.724,249.748 314.778,187.825 322.09,169.244 329.401,212.31 338.001,314.722 346.768,453.813 356.474,627.342 \n  366.336,808.85 376.842,996.039 387.5,1172.02 398.583,1336.06 406.009,1434.37 411.886,933.855 415.517,702.515 421.518,424.6 426.248,281.805 \n  432.916,168.53 439.584,134.647 447.373,166.591 455.454,254.964 464.531,394.823 473.904,562.509 483.973,750.762 494.282,939.358 505.065,1123.49 516.035,1292.28 \n  526.129,1429.48 532.026,928.125 536.36,658.565 542.415,393.519 548.469,232.798 555.291,146.614 562.455,136.088 570.461,191.814 578.996,302.263 \n  588.273,456.54 597.973,635.102 608.191,825.991 618.725,1014.51 629.618,1193.65 640.735,1356.36 646.249,1429.16 652.152,927.448 655.223,729.085 \n  661.229,440.764 665.487,303.91 672.111,177.517 678.736,133.257 686.449,155.822 694.457,236.977 703.463,371.436 712.781,536.178 722.801,723.453 733.07,912.681 \n  743.82,1098.57 754.763,1269.78 766.014,1424.61 766.369,1429.15 769.926,1107.28 770.763,1040.67 775.144,741.525 776.991,638.542 782.144,412.351 \n  785.295,313.299 791.339,190.153 796.02,144.809 803.195,138.683 810.37,189.29 818.892,297.678 827.574,440.393 837.248,617.308 847.078,801.179 857.582,990.616 \n  868.235,1168.16 879.324,1333.52 886.489,1429.13 892.39,927.558 895.961,700.393 901.982,421.507 906.666,279.969 913.348,166.142 920.03,132.159 \n  927.827,164.282 935.918,252.988 945.002,393.23 954.384,561.334 964.46,749.955 974.776,938.876 985.565,1123.25 996.541,1292.21 1006.61,1429.13 \n  1012.51,927.666 1016.84,658.442 1022.89,393.317 1028.95,232.577 1035.77,146.421 1042.94,135.946 1050.95,191.732 1059.48,302.24 1068.76,456.568 1078.46,635.172 \n  1088.68,826.087 1099.21,1014.63 1110.11,1193.77 1121.23,1356.47 1126.73,1429.14 1132.63,927.416 1135.7,729.244 1141.71,440.862 1145.96,304.048 \n  1152.59,177.578 1159.21,133.257 1166.92,155.768 1174.93,236.881 1183.94,371.309 1193.25,536.033 1203.27,723.302 1213.54,912.533 1224.29,1098.43 1235.23,1269.65 \n  1246.49,1424.5 1246.85,1429.15 1250.49,1100.28 1251.33,1033.93 1255.78,732.408 1257.63,630.285 1262.84,404.748 1266,307.247 1272.09,186.388 \n  1276.79,143.158 1284.02,139.946 1291.24,193.25 1299.81,304.218 1308.53,448.8 1318.24,626.857 1328.1,811.16 1338.63,1000.41 1349.3,1177.38 1360.4,1341.86 \n  1366.97,1429.13 1372.87,927.511 1376.27,710.289 1382.28,428.156 1386.82,288.03 1393.48,169.882 1400.14,132.36 1407.91,161.187 1415.97,247.297 \n  1425.03,385.564 1434.39,552.532 1444.45,740.714 1454.75,929.764 1465.52,1114.68 1476.49,1284.43 1487.09,1429.13 1492.99,927.627 1497.45,651.541 \n  1503.51,388.666 1509.57,229.831 1516.41,145.416 1523.59,136.476 1531.61,193.636 1540.16,305.225 1549.45,460.3 1559.16,639.292 1569.39,830.296 1579.93,1018.69 \n  1590.83,1197.54 1601.95,1359.85 1607.21,1429.14 1613.11,927.374 1616.1,733.925 1622.11,443.989 1626.29,308.121 1632.91,179.576 1639.52,133.564 \n  1647.22,154.51 1655.22,234.382 1664.21,367.849 1673.52,532.006 1683.53,719.036 1693.79,908.3 1704.53,1094.43 1715.47,1266.01 1726.72,1421.28 1727.33,1429.15 \n  1732.82,957.668 1733.91,880.472 1739.68,551.955 1741.92,456.122 1748.21,263.549 1751.9,195.269 1759.02,135.168 1764.41,139.218 1772.65,202.671 \n  1780.89,313.049 1790.32,471.844 1799.83,647.483 1810.15,839.883 1820.56,1025.49 1831.52,1204.44 1842.57,1364.91 1847.45,1429.14 1853.35,927.539 \n  1856.22,741.421 1862.21,449.053 1866.29,314.711 1872.89,182.848 1878.38,137.726 1886.01,145.728 1893.63,212.32 1902.53,336.77 1911.57,492.114 1921.51,676.705 \n  1931.59,864.049 1942.27,1052.59 1953.09,1226.77 1964.3,1386.58 1967.57,1429.13 1973.49,926.504 1975.75,776.651 1981.76,472.041 1985.28,347.569 \n  1991.83,199.574 1996.81,146.429 2004.33,137.663 2011.84,191.412 2020.62,305.122 2029.56,453.893 2039.41,635.091 2049.42,822.04 2060.04,1012.33 2070.81,1189.68 \n  2081.97,1353.52 2087.69,1429.13 2093.6,927.273 2096.73,725.107 2102.74,438.036 2107.06,300.495 2113.69,175.83 2120.32,132.998 2128.05,156.905 \n  2136.07,239.133 2145.09,374.427 2154.41,539.665 2164.44,727.149 2174.72,916.352 2185.47,1102.04 2196.42,1272.94 2207.68,1427.4 2207.81,1429.14 \n  2209.18,1298.14 2209.99,1224.26 2212.4,1026.2 2214.16,897.446 2217.61,683.479 2221.05,513.473 2225.55,347.902 2230.22,233.079 2235.91,155.997 2241.98,133.587 \n  2249.07,164.895 2256.69,246.669 2265.25,375.984 2274.29,535.709 2284.01,717.214 2294.09,903.171 2304.65,1086.58 2315.47,1257.23 2326.61,1412.16 2327.93,1429.13 \n  2333.87,924.735 2335.2,834.572 2341.25,508.024 2343.79,408.455 2350.31,231.762 2354.34,171.188 2361.71,132.093 2367.46,151.61 2375.97,234.911 \n  2384.49,360.65 2394.13,530.097 2403.84,711.341 2414.3,904.564 2424.86,1087.91 2435.91,1261.92 2447.05,1416.35 2448.05,1429.13 2453.84,935.502 \n  2455,855.684 2460.97,525.857 2463.3,430.834 2469.75,245.597 2473.55,182.267 2480.83,132.801 2486.35,144.606 2494.75,218.42 2503.15,337.136 2512.71,501.924 \n  2522.33,680.92 2532.74,874.065 2543.24,1058.72 2554.25,1235.2 2565.35,1392.56 2568.17,1429.14 2574.09,926.591 2576.16,788.43 2582.17,479.777 \n  2585.5,359.172 2592.04,205.685 2596.85,150.317 2604.33,135.743 2611.81,185.022 2620.54,294.912 2629.45,441.293 2639.27,621.16 2649.25,807.858 2659.85,998.629 \n  2670.6,1177 2681.75,1342.17 2688.29,1429.13 2694.2,927.368 2697.59,710.576 2703.6,428.307 2708.13,288.284 2714.8,170.006 2721.46,132.393 \n  2729.23,161.148 2737.29,247.209 2746.34,385.441 2755.7,552.392 2765.76,740.568 2776.06,929.622 2786.83,1114.55 2797.8,1284.31 2808.41,1429.14 \n  2814.31,927.637 2818.77,651.436 2824.84,388.598 2830.9,229.793 2837.73,145.407 2844.91,136.491 2852.93,193.672 2861.49,305.278 2870.78,460.365 2880.49,639.362 \n  2890.71,830.367 2901.26,1018.76 2912.16,1197.6 2923.28,1359.9 2928.53,1429.15 2934.44,927.374 2937.42,734.002 2943.43,444.042 2947.61,308.189 \n  2954.23,179.61 2960.84,133.57 2968.54,154.49 2976.54,234.342 2985.53,367.793 2994.83,531.94 3004.85,718.966 3015.11,908.23 3025.85,1094.37 3036.79,1265.95 \n  3048.03,1421.23 3048.65,1429.15 3054.14,957.423 3055.24,880.198 3061.01,551.664 3063.25,455.838 3069.54,263.344 3073.24,195.117 3080.35,135.134 \n  3085.75,139.269 3093.99,202.838 3102.23,313.309 3111.66,472.174 3121.17,647.852 3131.49,840.263 3141.91,1025.86 3152.86,1204.78 3163.91,1365.22 3168.77,1429.14 \n  3174.67,927.533 3177.53,741.878 3183.53,449.356 3187.6,315.118 3194.2,183.051 3199.68,137.812 3207.31,145.603 3214.93,212.033 3223.83,336.349 \n  3232.86,491.613 3242.8,676.166 3252.88,863.507 3263.57,1052.07 3274.38,1226.29 3285.59,1386.16 3288.89,1429.13 3294.81,926.521 3297.09,775.876 \n  3303.09,471.54 3306.62,346.815 3313.18,199.183 3318.17,146.191 3325.69,137.804 3333.21,191.842 3341.99,305.798 3350.93,454.72 3360.78,636.001 3370.79,822.964 \n  3381.42,1013.22 3392.18,1190.5 3403.35,1354.26 3409.01,1429.13 3414.92,927.265 3418.04,726.094 3424.05,438.694 3428.35,301.34 3434.98,176.239 \n  3441.61,133.053 3449.33,156.63 3457.35,238.598 3466.36,373.69 3475.69,538.81 3485.72,726.247 3495.99,915.458 3506.74,1101.2 3517.69,1272.17 3528.94,1426.73 \n  3529.13,1429.14 \n  \"/>\n<polyline clip-path=\"url(#clip432)\" style=\"stroke:#000000; stroke-width:18; stroke-opacity:1; fill:none\" stroke-dasharray=\"9, 18\" points=\"\n  165.768,2173 165.768,2173 165.771,2173 165.798,2173 165.827,2173 165.886,2172.98 165.953,2172.96 166.065,2172.88 166.2,2172.75 166.399,2172.45 \n  166.646,2171.95 166.981,2171 167.393,2169.45 167.923,2166.83 168.567,2162.76 169.365,2156.42 170.321,2147.06 171.476,2133.39 172.842,2114.19 174.463,2087.67 \n  176.364,2052.18 178.592,2005.6 181.188,1946.17 184.213,1872.05 187.728,1782.28 191.815,1676.61 196.56,1556.77 202.057,1426.8 208.368,1294.49 215.49,1170.94 \n  223.388,1067.88 231.934,995.438 241.051,958.596 250.65,957.904 260.681,990.151 271.104,1049.83 281.854,1130 285.888,1163.38 291.554,1174.17 \n  294.012,1159.21 299.762,1095.46 303.411,1040.84 309.724,935.809 314.778,850.448 322.09,737.639 329.401,645.965 338.001,571.755 346.768,534.88 356.474,536.395 \n  366.336,576.581 376.842,652.562 387.5,754.285 398.583,876.125 406.009,962.609 411.886,991.493 415.517,976.191 421.518,917.773 426.248,854.491 \n  432.916,757.142 439.584,663.685 447.373,572.44 455.454,506.051 464.531,469.252 473.904,471.452 483.973,513.161 494.282,589.238 505.065,694.569 516.035,818.59 \n  526.129,940.2 532.026,971.512 536.36,952.778 542.415,891.918 548.469,809.956 555.291,712.021 562.455,617.942 570.461,535.2 578.996,479.662 \n  588.273,458.996 597.973,478.038 608.191,535.551 618.725,625.373 629.618,740.383 640.735,871.027 646.249,938.282 652.152,969.814 655.223,959.193 \n  661.229,906.06 665.487,851.914 672.111,757.89 678.736,665.438 686.449,573.596 694.457,504.896 703.463,464.381 712.781,462.385 722.801,499.958 733.07,572.639 \n  743.82,675.505 754.763,798.145 766.014,933.7 766.369,938.062 769.926,965.801 770.763,968.034 775.144,959.562 776.991,947.375 782.144,895.807 \n  785.295,855.352 791.339,770.13 796.02,703.402 803.195,610.685 810.37,537.063 818.892,480.553 827.574,458.852 837.248,474.21 847.078,525.931 857.582,612.115 \n  868.235,722.181 879.324,851.106 886.489,938.27 892.39,969.8 895.961,956.246 901.982,900.061 906.666,839.041 913.348,743.553 920.03,651.629 \n  927.827,562.004 935.918,497.063 945.002,461.705 954.384,465.198 964.46,508.109 974.776,585.24 985.565,691.484 996.541,816.265 1006.61,938.075 \n  1012.51,969.632 1016.84,951.083 1022.89,890.422 1028.95,808.619 1035.77,710.843 1042.94,616.913 1050.95,534.328 1059.48,478.941 1068.76,458.424 1078.46,477.601 \n  1088.68,535.237 1099.21,625.162 1110.11,740.256 1121.23,870.964 1126.73,938.118 1132.63,969.67 1135.7,959.075 1141.71,905.975 1145.96,851.884 \n  1152.59,757.882 1159.21,665.439 1166.92,573.596 1174.93,504.885 1183.94,464.351 1193.25,462.333 1203.27,499.884 1213.54,572.546 1224.29,675.398 1235.23,798.031 \n  1246.49,933.584 1246.85,938.051 1250.49,966.109 1251.33,968.196 1255.78,958.737 1257.63,946.171 1262.84,893.257 1266,852.359 1272.09,766.208 \n  1276.79,699.372 1284.02,606.711 1291.24,533.722 1299.81,478.602 1308.53,458.668 1318.24,476.06 1328.1,529.656 1338.63,617.442 1349.3,728.676 1360.4,858.31 \n  1366.97,938.268 1372.87,969.798 1376.27,957.3 1382.28,902.172 1386.82,843.53 1393.48,748.521 1400.14,656.391 1407.91,565.968 1415.97,499.699 \n  1425.03,462.534 1434.39,464.117 1444.45,505.18 1454.75,580.779 1465.52,685.867 1476.49,809.922 1487.09,938.054 1492.99,969.615 1497.45,950.158 \n  1503.51,888.751 1509.57,806.574 1516.41,708.662 1523.59,614.908 1531.61,532.774 1540.16,478.08 1549.45,458.419 1559.16,478.467 1569.39,536.894 1579.93,627.452 \n  1590.83,742.992 1601.95,873.953 1607.21,938.118 1613.11,969.67 1616.1,959.517 1622.11,906.913 1626.29,853.942 1632.91,760.199 1639.52,667.686 \n  1647.22,575.506 1655.22,506.205 1664.21,464.85 1673.52,461.948 1683.53,498.632 1693.79,570.565 1704.53,672.859 1715.47,795.132 1726.72,930.512 1727.33,938.057 \n  1732.82,969.639 1733.91,968.263 1739.68,933.456 1741.92,910.021 1748.21,829.238 1751.9,776.189 1759.02,675.968 1764.41,607.848 1772.65,526.126 \n  1780.89,476.068 1790.32,458.611 1799.83,480.326 1810.15,540.813 1820.56,631.403 1831.52,748.125 1842.57,878.541 1847.45,938.189 1853.35,969.731 \n  1856.22,960.259 1862.21,908.457 1866.29,857.243 1872.89,763.934 1878.38,686.21 1886.01,591.173 1893.63,519.367 1902.53,470.399 1911.57,459.219 1921.51,487.18 \n  1931.59,550.84 1942.27,647.181 1953.09,764.751 1964.3,898.117 1967.57,938.131 1973.49,969.675 1975.75,963.106 1981.76,914.909 1985.28,872.2 \n  1991.83,780.977 1996.81,709.517 2004.33,611.737 2011.84,534.824 2020.62,478.18 2029.56,458.499 2039.41,477.632 2049.42,533.714 2060.04,623.924 2070.81,737.352 \n  2081.97,868.41 2087.69,938.157 2093.6,969.701 2096.73,958.707 2102.74,905.149 2107.06,850.088 2113.69,755.844 2120.32,663.449 2128.05,571.901 \n  2136.07,503.715 2145.09,463.918 2154.41,462.694 2164.44,501.026 2174.72,574.346 2185.47,677.701 2196.42,800.657 2207.68,936.364 2207.81,938.038 \n  2209.18,952.277 2209.99,958.519 2212.4,968.128 2214.16,967.82 2217.61,952.967 2221.05,923.542 2225.55,870.777 2230.22,806.608 2235.91,724.964 2241.98,643.009 \n  2249.07,562.435 2256.69,500.387 2265.25,463.924 2274.29,462.476 2284.01,498.287 2294.09,568.385 2304.65,668.126 2315.47,788.406 2326.61,922.06 2327.93,938.259 \n  2333.87,969.774 2335.2,966.821 2341.25,924.24 2343.79,895.58 2350.31,808.12 2354.34,749.862 2361.71,648.538 2367.46,580.543 2375.97,505.966 \n  2384.49,466.001 2394.13,461.79 2403.84,496.446 2414.3,568.849 2424.86,668.775 2435.91,791.912 2447.05,925.85 2448.05,938.071 2453.84,969.661 \n  2455,967.54 2460.97,928.121 2463.3,902.664 2469.75,817.788 2473.55,762.866 2480.83,661.532 2486.35,593.933 2494.75,515.443 2503.15,470.334 2512.71,459.698 \n  2522.33,488.247 2532.74,555.147 2543.24,650.852 2554.25,771.155 2565.35,903.612 2568.17,938.132 2574.09,969.677 2576.16,963.952 2582.17,916.983 \n  2585.5,877.048 2592.04,786.607 2596.85,717.436 2604.33,618.88 2611.81,540.358 2620.54,481.234 2629.45,458.713 2639.27,474.839 2649.25,528.301 2659.85,616.347 \n  2670.6,728.285 2681.75,858.47 2688.29,938.16 2694.2,969.704 2697.59,957.245 2703.6,902.145 2708.13,843.597 2714.8,748.602 2721.46,656.466 \n  2729.23,566.03 2737.29,499.738 2746.34,462.544 2755.7,464.097 2765.76,505.133 2776.06,580.709 2786.83,685.779 2797.8,809.825 2808.41,938.065 \n  2814.31,969.626 2818.77,950.154 2824.84,888.734 2830.9,806.551 2837.73,708.636 2844.91,614.884 2852.93,532.757 2861.49,478.074 2870.78,458.426 2880.49,478.487 \n  2890.71,536.927 2901.26,627.494 2912.16,743.041 2923.28,874.005 2928.53,938.121 2934.44,969.673 2937.42,959.527 2943.43,906.93 2947.61,853.978 \n  2954.23,760.239 2960.84,667.725 2968.54,575.539 2976.54,506.228 2985.53,464.86 2994.83,461.942 3004.85,498.612 3015.11,570.533 3025.85,672.818 3036.79,795.085 \n  3048.03,930.462 3048.65,938.058 3054.14,969.64 3055.24,968.257 3061.01,933.4 3063.25,909.942 3069.54,829.114 3073.24,776.043 3080.35,675.807 \n  3085.75,607.692 3093.99,526.004 3102.23,475.998 3111.66,458.616 3121.17,480.408 3131.49,540.967 3141.91,631.614 3152.86,748.378 3163.91,878.818 3168.77,938.188 \n  3174.67,969.731 3177.53,960.299 3183.53,908.545 3187.6,857.441 3194.2,764.157 3199.68,686.507 3207.31,591.432 3214.93,519.557 3223.83,470.488 \n  3232.86,459.197 3242.8,487.046 3252.88,550.609 3263.57,646.873 3274.38,764.392 3285.59,897.731 3288.89,938.131 3294.81,969.675 3297.09,963.049 \n  3303.09,914.774 3306.62,871.878 3313.18,780.607 3318.17,708.997 3325.69,611.272 3333.21,534.467 3341.99,477.988 3350.93,458.493 3360.78,477.821 3370.79,534.074 \n  3381.42,624.422 3392.18,737.946 3403.35,869.059 3409.01,938.157 3414.92,969.701 3418.04,958.803 3424.05,905.349 3428.35,850.524 3434.98,756.333 \n  3441.61,663.922 3449.33,572.301 3457.35,503.989 3466.36,464.017 3475.69,462.607 3485.72,500.756 3495.99,573.922 3506.74,677.16 3517.69,800.042 3528.94,935.714 \n  3529.13,938.039 \n  \"/>\n<path clip-path=\"url(#clip430)\" d=\"\nM277.88 415.138 L1062.59 415.138 L1062.59 142.978 L277.88 142.978  Z\n  \" fill=\"#ffffff\" fill-rule=\"evenodd\" fill-opacity=\"1\"/>\n<polyline clip-path=\"url(#clip430)\" style=\"stroke:#000000; stroke-width:6; stroke-opacity:1; fill:none\" points=\"\n  277.88,415.138 1062.59,415.138 1062.59,142.978 277.88,142.978 277.88,415.138 \n  \"/>\n<polyline clip-path=\"url(#clip430)\" style=\"stroke:#000000; stroke-width:6; stroke-opacity:1; fill:none\" points=\"\n  315.251,233.698 539.475,233.698 \n  \"/>\n<path clip-path=\"url(#clip430)\" d=\"M 0 0 M583.86 213.542 L583.86 233.021 L592.679 233.021 Q597.575 233.021 600.249 230.487 Q602.922 227.952 602.922 223.264 Q602.922 218.612 600.249 216.077 Q597.575 213.542 592.679 213.542 L583.86 213.542 M576.846 207.778 L592.679 207.778 Q601.395 207.778 605.839 211.737 Q610.318 215.66 610.318 223.264 Q610.318 230.938 605.839 234.862 Q601.395 238.785 592.679 238.785 L583.86 238.785 L583.86 259.618 L576.846 259.618 L576.846 207.778 Z\" fill=\"#000000\" fill-rule=\"evenodd\" fill-opacity=\"1\" /><path clip-path=\"url(#clip430)\" d=\"M 0 0 M633.929 240.07 Q626.186 240.07 623.2 241.841 Q620.214 243.611 620.214 247.882 Q620.214 251.285 622.436 253.299 Q624.693 255.278 628.547 255.278 Q633.86 255.278 637.054 251.528 Q640.283 247.743 640.283 241.493 L640.283 240.07 L633.929 240.07 M646.672 237.431 L646.672 259.618 L640.283 259.618 L640.283 253.716 Q638.096 257.257 634.832 258.959 Q631.568 260.625 626.846 260.625 Q620.874 260.625 617.332 257.292 Q613.825 253.924 613.825 248.299 Q613.825 241.736 618.2 238.403 Q622.61 235.07 631.325 235.07 L640.283 235.07 L640.283 234.445 Q640.283 230.035 637.367 227.639 Q634.485 225.209 629.242 225.209 Q625.908 225.209 622.749 226.007 Q619.589 226.806 616.672 228.403 L616.672 222.5 Q620.179 221.146 623.478 220.487 Q626.777 219.792 629.901 219.792 Q638.339 219.792 642.506 224.167 Q646.672 228.542 646.672 237.431 Z\" fill=\"#000000\" fill-rule=\"evenodd\" fill-opacity=\"1\" /><path clip-path=\"url(#clip430)\" d=\"M 0 0 M682.366 226.702 Q681.29 226.077 680.005 225.799 Q678.755 225.487 677.228 225.487 Q671.811 225.487 668.894 229.028 Q666.012 232.535 666.012 239.132 L666.012 259.618 L659.589 259.618 L659.589 220.73 L666.012 220.73 L666.012 226.771 Q668.026 223.23 671.255 221.528 Q674.485 219.792 679.103 219.792 Q679.762 219.792 680.561 219.896 Q681.36 219.966 682.332 220.139 L682.366 226.702 Z\" fill=\"#000000\" fill-rule=\"evenodd\" fill-opacity=\"1\" /><path clip-path=\"url(#clip430)\" d=\"M 0 0 M720.769 238.577 L720.769 241.702 L691.394 241.702 Q691.811 248.299 695.353 251.771 Q698.929 255.209 705.283 255.209 Q708.964 255.209 712.401 254.306 Q715.873 253.403 719.276 251.598 L719.276 257.639 Q715.839 259.098 712.227 259.861 Q708.616 260.625 704.901 260.625 Q695.596 260.625 690.144 255.209 Q684.728 249.792 684.728 240.556 Q684.728 231.007 689.866 225.417 Q695.04 219.792 703.79 219.792 Q711.637 219.792 716.186 224.862 Q720.769 229.896 720.769 238.577 M714.38 236.702 Q714.311 231.459 711.429 228.334 Q708.582 225.209 703.859 225.209 Q698.512 225.209 695.283 228.23 Q692.089 231.25 691.603 236.737 L714.38 236.702 Z\" fill=\"#000000\" fill-rule=\"evenodd\" fill-opacity=\"1\" /><path clip-path=\"url(#clip430)\" d=\"M 0 0 M763.581 236.146 L763.581 259.618 L757.192 259.618 L757.192 236.355 Q757.192 230.834 755.04 228.091 Q752.887 225.348 748.581 225.348 Q743.408 225.348 740.422 228.646 Q737.436 231.945 737.436 237.639 L737.436 259.618 L731.012 259.618 L731.012 220.73 L737.436 220.73 L737.436 226.771 Q739.727 223.264 742.818 221.528 Q745.943 219.792 750.005 219.792 Q756.706 219.792 760.144 223.959 Q763.581 228.091 763.581 236.146 Z\" fill=\"#000000\" fill-rule=\"evenodd\" fill-opacity=\"1\" /><path clip-path=\"url(#clip430)\" d=\"M 0 0 M782.644 209.688 L782.644 220.73 L795.803 220.73 L795.803 225.695 L782.644 225.695 L782.644 246.806 Q782.644 251.563 783.928 252.917 Q785.248 254.271 789.241 254.271 L795.803 254.271 L795.803 259.618 L789.241 259.618 Q781.845 259.618 779.033 256.875 Q776.22 254.098 776.22 246.806 L776.22 225.695 L771.533 225.695 L771.533 220.73 L776.22 220.73 L776.22 209.688 L782.644 209.688 Z\" fill=\"#000000\" fill-rule=\"evenodd\" fill-opacity=\"1\" /><path clip-path=\"url(#clip430)\" d=\"M 0 0 M834.102 213.542 L834.102 253.854 L842.574 253.854 Q853.303 253.854 858.268 248.993 Q863.268 244.132 863.268 233.646 Q863.268 223.23 858.268 218.403 Q853.303 213.542 842.574 213.542 L834.102 213.542 M827.088 207.778 L841.498 207.778 Q856.567 207.778 863.616 214.063 Q870.664 220.313 870.664 233.646 Q870.664 247.049 863.581 253.334 Q856.497 259.618 841.498 259.618 L827.088 259.618 L827.088 207.778 Z\" fill=\"#000000\" fill-rule=\"evenodd\" fill-opacity=\"1\" /><path clip-path=\"url(#clip430)\" d=\"M 0 0 M904.101 226.702 Q903.025 226.077 901.74 225.799 Q900.49 225.487 898.963 225.487 Q893.546 225.487 890.629 229.028 Q887.747 232.535 887.747 239.132 L887.747 259.618 L881.324 259.618 L881.324 220.73 L887.747 220.73 L887.747 226.771 Q889.761 223.23 892.99 221.528 Q896.22 219.792 900.838 219.792 Q901.497 219.792 902.296 219.896 Q903.094 219.966 904.067 220.139 L904.101 226.702 Z\" fill=\"#000000\" fill-rule=\"evenodd\" fill-opacity=\"1\" /><path clip-path=\"url(#clip430)\" d=\"M 0 0 M910.143 244.271 L910.143 220.73 L916.532 220.73 L916.532 244.028 Q916.532 249.549 918.685 252.327 Q920.837 255.07 925.143 255.07 Q930.317 255.07 933.303 251.771 Q936.323 248.473 936.323 242.778 L936.323 220.73 L942.712 220.73 L942.712 259.618 L936.323 259.618 L936.323 253.646 Q933.997 257.188 930.907 258.924 Q927.851 260.625 923.789 260.625 Q917.087 260.625 913.615 256.459 Q910.143 252.292 910.143 244.271 M926.219 219.792 L926.219 219.792 Z\" fill=\"#000000\" fill-rule=\"evenodd\" fill-opacity=\"1\" /><path clip-path=\"url(#clip430)\" d=\"M 0 0 M981.462 239.723 Q981.462 232.778 978.58 228.959 Q975.733 225.139 970.559 225.139 Q965.421 225.139 962.539 228.959 Q959.691 232.778 959.691 239.723 Q959.691 246.632 962.539 250.452 Q965.421 254.271 970.559 254.271 Q975.733 254.271 978.58 250.452 Q981.462 246.632 981.462 239.723 M987.851 254.792 Q987.851 264.722 983.441 269.549 Q979.032 274.41 969.934 274.41 Q966.566 274.41 963.58 273.889 Q960.594 273.403 957.782 272.361 L957.782 266.146 Q960.594 267.674 963.337 268.403 Q966.08 269.132 968.927 269.132 Q975.212 269.132 978.337 265.834 Q981.462 262.57 981.462 255.938 L981.462 252.778 Q979.483 256.216 976.393 257.917 Q973.302 259.618 968.997 259.618 Q961.844 259.618 957.469 254.167 Q953.094 248.716 953.094 239.723 Q953.094 230.695 957.469 225.244 Q961.844 219.792 968.997 219.792 Q973.302 219.792 976.393 221.494 Q979.483 223.195 981.462 226.632 L981.462 220.73 L987.851 220.73 L987.851 254.792 Z\" fill=\"#000000\" fill-rule=\"evenodd\" fill-opacity=\"1\" /><polyline clip-path=\"url(#clip430)\" style=\"stroke:#000000; stroke-width:6; stroke-opacity:1; fill:none\" stroke-dasharray=\"3, 6\" points=\"\n  315.251,324.418 539.475,324.418 \n  \"/>\n<path clip-path=\"url(#clip430)\" d=\"M 0 0 M576.846 298.498 L587.298 298.498 L600.527 333.776 L613.825 298.498 L624.277 298.498 L624.277 350.338 L617.436 350.338 L617.436 304.818 L604.068 340.373 L597.02 340.373 L583.652 304.818 L583.652 350.338 L576.846 350.338 L576.846 298.498 Z\" fill=\"#000000\" fill-rule=\"evenodd\" fill-opacity=\"1\" /><path clip-path=\"url(#clip430)\" d=\"M 0 0 M671.186 329.297 L671.186 332.422 L641.811 332.422 Q642.228 339.019 645.769 342.491 Q649.346 345.929 655.7 345.929 Q659.38 345.929 662.818 345.026 Q666.29 344.123 669.693 342.318 L669.693 348.359 Q666.255 349.818 662.644 350.581 Q659.033 351.345 655.318 351.345 Q646.013 351.345 640.561 345.929 Q635.145 340.512 635.145 331.276 Q635.145 321.727 640.283 316.137 Q645.457 310.512 654.207 310.512 Q662.054 310.512 666.603 315.582 Q671.186 320.616 671.186 329.297 M664.797 327.422 Q664.728 322.179 661.846 319.054 Q658.999 315.929 654.276 315.929 Q648.929 315.929 645.7 318.95 Q642.506 321.97 642.019 327.457 L664.797 327.422 Z\" fill=\"#000000\" fill-rule=\"evenodd\" fill-opacity=\"1\" /><path clip-path=\"url(#clip430)\" d=\"M 0 0 M687.991 300.408 L687.991 311.45 L701.151 311.45 L701.151 316.415 L687.991 316.415 L687.991 337.526 Q687.991 342.283 689.276 343.637 Q690.596 344.991 694.589 344.991 L701.151 344.991 L701.151 350.338 L694.589 350.338 Q687.193 350.338 684.38 347.595 Q681.568 344.818 681.568 337.526 L681.568 316.415 L676.88 316.415 L676.88 311.45 L681.568 311.45 L681.568 300.408 L687.991 300.408 Z\" fill=\"#000000\" fill-rule=\"evenodd\" fill-opacity=\"1\" /><path clip-path=\"url(#clip430)\" d=\"M 0 0 M727.227 330.79 Q719.484 330.79 716.498 332.561 Q713.512 334.331 713.512 338.602 Q713.512 342.005 715.734 344.019 Q717.991 345.998 721.845 345.998 Q727.158 345.998 730.352 342.248 Q733.581 338.463 733.581 332.213 L733.581 330.79 L727.227 330.79 M739.97 328.151 L739.97 350.338 L733.581 350.338 L733.581 344.436 Q731.394 347.977 728.13 349.679 Q724.866 351.345 720.144 351.345 Q714.172 351.345 710.63 348.012 Q707.123 344.644 707.123 339.019 Q707.123 332.456 711.498 329.123 Q715.908 325.79 724.623 325.79 L733.581 325.79 L733.581 325.165 Q733.581 320.755 730.665 318.359 Q727.783 315.929 722.54 315.929 Q719.207 315.929 716.047 316.727 Q712.887 317.526 709.971 319.123 L709.971 313.22 Q713.477 311.866 716.776 311.207 Q720.075 310.512 723.2 310.512 Q731.637 310.512 735.804 314.887 Q739.97 319.262 739.97 328.151 Z\" fill=\"#000000\" fill-rule=\"evenodd\" fill-opacity=\"1\" /><path clip-path=\"url(#clip430)\" d=\"M 0 0 M781.047 330.929 Q781.047 323.88 778.13 319.887 Q775.248 315.859 770.179 315.859 Q765.109 315.859 762.192 319.887 Q759.311 323.88 759.311 330.929 Q759.311 337.977 762.192 342.005 Q765.109 345.998 770.179 345.998 Q775.248 345.998 778.13 342.005 Q781.047 337.977 781.047 330.929 M759.311 317.352 Q761.324 313.88 764.38 312.214 Q767.47 310.512 771.741 310.512 Q778.824 310.512 783.234 316.137 Q787.678 321.762 787.678 330.929 Q787.678 340.095 783.234 345.72 Q778.824 351.345 771.741 351.345 Q767.47 351.345 764.38 349.679 Q761.324 347.977 759.311 344.505 L759.311 350.338 L752.887 350.338 L752.887 296.311 L759.311 296.311 L759.311 317.352 Z\" fill=\"#000000\" fill-rule=\"evenodd\" fill-opacity=\"1\" /><path clip-path=\"url(#clip430)\" d=\"M 0 0 M813.338 315.929 Q808.199 315.929 805.213 319.957 Q802.227 323.95 802.227 330.929 Q802.227 337.908 805.178 341.936 Q808.164 345.929 813.338 345.929 Q818.442 345.929 821.428 341.901 Q824.414 337.873 824.414 330.929 Q824.414 324.019 821.428 319.991 Q818.442 315.929 813.338 315.929 M813.338 310.512 Q821.671 310.512 826.428 315.929 Q831.185 321.345 831.185 330.929 Q831.185 340.477 826.428 345.929 Q821.671 351.345 813.338 351.345 Q804.97 351.345 800.213 345.929 Q795.491 340.477 795.491 330.929 Q795.491 321.345 800.213 315.929 Q804.97 310.512 813.338 310.512 Z\" fill=\"#000000\" fill-rule=\"evenodd\" fill-opacity=\"1\" /><path clip-path=\"url(#clip430)\" d=\"M 0 0 M841.775 296.311 L848.164 296.311 L848.164 350.338 L841.775 350.338 L841.775 296.311 Z\" fill=\"#000000\" fill-rule=\"evenodd\" fill-opacity=\"1\" /><path clip-path=\"url(#clip430)\" d=\"M 0 0 M861.532 311.45 L867.921 311.45 L867.921 350.338 L861.532 350.338 L861.532 311.45 M861.532 296.311 L867.921 296.311 L867.921 304.401 L861.532 304.401 L861.532 296.311 Z\" fill=\"#000000\" fill-rule=\"evenodd\" fill-opacity=\"1\" /><path clip-path=\"url(#clip430)\" d=\"M 0 0 M887.608 300.408 L887.608 311.45 L900.768 311.45 L900.768 316.415 L887.608 316.415 L887.608 337.526 Q887.608 342.283 888.893 343.637 Q890.213 344.991 894.206 344.991 L900.768 344.991 L900.768 350.338 L894.206 350.338 Q886.81 350.338 883.997 347.595 Q881.185 344.818 881.185 337.526 L881.185 316.415 L876.497 316.415 L876.497 311.45 L881.185 311.45 L881.185 300.408 L887.608 300.408 Z\" fill=\"#000000\" fill-rule=\"evenodd\" fill-opacity=\"1\" /><path clip-path=\"url(#clip430)\" d=\"M 0 0 M942.435 329.297 L942.435 332.422 L913.06 332.422 Q913.476 339.019 917.018 342.491 Q920.594 345.929 926.949 345.929 Q930.629 345.929 934.067 345.026 Q937.539 344.123 940.941 342.318 L940.941 348.359 Q937.504 349.818 933.893 350.581 Q930.282 351.345 926.567 351.345 Q917.261 351.345 911.81 345.929 Q906.393 340.512 906.393 331.276 Q906.393 321.727 911.532 316.137 Q916.706 310.512 925.455 310.512 Q933.303 310.512 937.851 315.582 Q942.435 320.616 942.435 329.297 M936.046 327.422 Q935.976 322.179 933.094 319.054 Q930.247 315.929 925.525 315.929 Q920.178 315.929 916.949 318.95 Q913.754 321.97 913.268 327.457 L936.046 327.422 Z\" fill=\"#000000\" fill-rule=\"evenodd\" fill-opacity=\"1\" /></svg>\n"
               },
               "type": "node"
              }
             ],
             "instanceArgs": {
              "namespace": "html",
              "tag": "div"
             },
             "nodeType": "DOM",
             "props": {
              "className": "interact-flex-row interact-widget"
             },
             "type": "node"
            }
           }
          },
          "systemjs_options": null
         },
         "nodeType": "Scope",
         "props": {},
         "type": "node"
        }
       ],
       "instanceArgs": {
        "namespace": "html",
        "tag": "div"
       },
       "nodeType": "DOM",
       "props": {},
       "type": "node"
      },
      "text/html": [
       "<div\n",
       "    class=\"webio-mountpoint\"\n",
       "    data-webio-mountpoint=\"9358510874975701566\"\n",
       ">\n",
       "    <script>\n",
       "    if (window.require && require.defined && require.defined(\"nbextensions/webio-jupyter-notebook\")) {\n",
       "        console.log(\"Jupyter WebIO extension detected, not mounting.\");\n",
       "    } else if (window.WebIO) {\n",
       "        WebIO.mount(\n",
       "            document.querySelector('[data-webio-mountpoint=\"9358510874975701566\"]'),\n",
       "            {\"props\":{},\"nodeType\":\"DOM\",\"type\":\"node\",\"instanceArgs\":{\"namespace\":\"html\",\"tag\":\"div\"},\"children\":[{\"props\":{\"className\":\"field interact-widget\"},\"nodeType\":\"DOM\",\"type\":\"node\",\"instanceArgs\":{\"namespace\":\"html\",\"tag\":\"div\"},\"children\":[{\"props\":{},\"nodeType\":\"Scope\",\"type\":\"node\",\"instanceArgs\":{\"imports\":{\"data\":[{\"name\":\"knockout\",\"type\":\"js\",\"url\":\"\\/assetserver\\/4e142ee0ad0c998de353f56b1a22e601395860e5-knockout.js\"},{\"name\":\"knockout_punches\",\"type\":\"js\",\"url\":\"\\/assetserver\\/40dc135a5ed691edabc1bf4ca7dc4709f127a380-knockout_punches.js\"},{\"name\":null,\"type\":\"js\",\"url\":\"\\/assetserver\\/30aa72339af74f9a627673d92d8040d5cfe9533e-all.js\"},{\"name\":null,\"type\":\"css\",\"url\":\"\\/assetserver\\/75af5f53e0088a81c77fec0c74dec23ed676eb50-style.css\"},{\"name\":null,\"type\":\"css\",\"url\":\"\\/assetserver\\/6ae6a66e550095b6b8e9dd509bd67c34fc3cbbc5-bulma_confined.min.css\"}],\"type\":\"async_block\"},\"id\":\"7374652656293517613\",\"handlers\":{\"changes\":[\"(function (val){return (val!=this.model[\\\"changes\\\"]()) ? (this.valueFromJulia[\\\"changes\\\"]=true, this.model[\\\"changes\\\"](val)) : undefined})\"],\"index\":[\"(function (val){return (val!=this.model[\\\"index\\\"]()) ? (this.valueFromJulia[\\\"index\\\"]=true, this.model[\\\"index\\\"](val)) : undefined})\"]},\"systemjs_options\":null,\"mount_callbacks\":[\"function () {\\n    var handler = (function (ko, koPunches) {\\n    ko.punches.enableAll();\\n    ko.bindingHandlers.numericValue = {\\n        init: function(element, valueAccessor, allBindings, data, context) {\\n            var stringified = ko.observable(ko.unwrap(valueAccessor()));\\n            stringified.subscribe(function(value) {\\n                var val = parseFloat(value);\\n                if (!isNaN(val)) {\\n                    valueAccessor()(val);\\n                }\\n            });\\n            valueAccessor().subscribe(function(value) {\\n                var str = JSON.stringify(value);\\n                if ((str == \\\"0\\\") && ([\\\"-0\\\", \\\"-0.\\\"].indexOf(stringified()) >= 0))\\n                     return;\\n                 if ([\\\"null\\\", \\\"\\\"].indexOf(str) >= 0)\\n                     return;\\n                stringified(str);\\n            });\\n            ko.applyBindingsToNode(\\n                element,\\n                {\\n                    value: stringified,\\n                    valueUpdate: allBindings.get('valueUpdate'),\\n                },\\n                context,\\n            );\\n        }\\n    };\\n    var json_data = {\\\"formatted_vals\\\":[\\\"0.0\\\",\\\"0.05\\\",\\\"0.1\\\",\\\"0.15\\\",\\\"0.2\\\",\\\"0.25\\\",\\\"0.3\\\",\\\"0.35\\\",\\\"0.4\\\",\\\"0.45\\\",\\\"0.5\\\",\\\"0.55\\\",\\\"0.6\\\",\\\"0.65\\\",\\\"0.7\\\",\\\"0.75\\\",\\\"0.8\\\",\\\"0.85\\\",\\\"0.9\\\",\\\"0.95\\\",\\\"1.0\\\"],\\\"changes\\\":WebIO.getval({\\\"name\\\":\\\"changes\\\",\\\"scope\\\":\\\"7374652656293517613\\\",\\\"id\\\":\\\"5993492304702495206\\\",\\\"type\\\":\\\"observable\\\"}),\\\"index\\\":WebIO.getval({\\\"name\\\":\\\"index\\\",\\\"scope\\\":\\\"7374652656293517613\\\",\\\"id\\\":\\\"12279211831197372087\\\",\\\"type\\\":\\\"observable\\\"})};\\n    var self = this;\\n    function AppViewModel() {\\n        for (var key in json_data) {\\n            var el = json_data[key];\\n            this[key] = Array.isArray(el) ? ko.observableArray(el) : ko.observable(el);\\n        }\\n        \\n        [this[\\\"formatted_val\\\"]=ko.computed(    function(){\\n        return this.formatted_vals()[parseInt(this.index())-(1)];\\n    }\\n,this)]\\n        [this[\\\"changes\\\"].subscribe((function (val){!(this.valueFromJulia[\\\"changes\\\"]) ? (WebIO.setval({\\\"name\\\":\\\"changes\\\",\\\"scope\\\":\\\"7374652656293517613\\\",\\\"id\\\":\\\"5993492304702495206\\\",\\\"type\\\":\\\"observable\\\"},val)) : undefined; return this.valueFromJulia[\\\"changes\\\"]=false}),self),this[\\\"index\\\"].subscribe((function (val){!(this.valueFromJulia[\\\"index\\\"]) ? (WebIO.setval({\\\"name\\\":\\\"index\\\",\\\"scope\\\":\\\"7374652656293517613\\\",\\\"id\\\":\\\"12279211831197372087\\\",\\\"type\\\":\\\"observable\\\"},val)) : undefined; return this.valueFromJulia[\\\"index\\\"]=false}),self)]\\n        \\n    }\\n    self.model = new AppViewModel();\\n    self.valueFromJulia = {};\\n    for (var key in json_data) {\\n        self.valueFromJulia[key] = false;\\n    }\\n    ko.applyBindings(self.model, self.dom);\\n}\\n);\\n    (WebIO.importBlock({\\\"data\\\":[{\\\"name\\\":\\\"knockout\\\",\\\"type\\\":\\\"js\\\",\\\"url\\\":\\\"\\/assetserver\\/4e142ee0ad0c998de353f56b1a22e601395860e5-knockout.js\\\"},{\\\"name\\\":\\\"knockout_punches\\\",\\\"type\\\":\\\"js\\\",\\\"url\\\":\\\"\\/assetserver\\/40dc135a5ed691edabc1bf4ca7dc4709f127a380-knockout_punches.js\\\"}],\\\"type\\\":\\\"async_block\\\"})).then((imports) => handler.apply(this, imports));\\n}\\n\"],\"observables\":{\"changes\":{\"sync\":false,\"id\":\"5993492304702495206\",\"value\":0},\"index\":{\"sync\":true,\"id\":\"12279211831197372087\",\"value\":11}}},\"children\":[{\"props\":{\"className\":\"interact-flex-row interact-widget\"},\"nodeType\":\"DOM\",\"type\":\"node\",\"instanceArgs\":{\"namespace\":\"html\",\"tag\":\"div\"},\"children\":[{\"props\":{\"className\":\"interact-flex-row-left\"},\"nodeType\":\"DOM\",\"type\":\"node\",\"instanceArgs\":{\"namespace\":\"html\",\"tag\":\"div\"},\"children\":[{\"props\":{\"className\":\"interact \",\"style\":{\"padding\":\"5px 10px 0px 10px\"}},\"nodeType\":\"DOM\",\"type\":\"node\",\"instanceArgs\":{\"namespace\":\"html\",\"tag\":\"label\"},\"children\":[\"Ka\"]}]},{\"props\":{\"className\":\"interact-flex-row-center\"},\"nodeType\":\"DOM\",\"type\":\"node\",\"instanceArgs\":{\"namespace\":\"html\",\"tag\":\"div\"},\"children\":[{\"props\":{\"max\":21,\"min\":1,\"attributes\":{\"type\":\"range\",\"data-bind\":\"numericValue: index, valueUpdate: 'input', event: {change: function (){this.changes(this.changes()+1)}}\",\"orient\":\"horizontal\"},\"step\":1,\"className\":\"slider slider is-fullwidth\",\"style\":{}},\"nodeType\":\"DOM\",\"type\":\"node\",\"instanceArgs\":{\"namespace\":\"html\",\"tag\":\"input\"},\"children\":[]}]},{\"props\":{\"className\":\"interact-flex-row-right\"},\"nodeType\":\"DOM\",\"type\":\"node\",\"instanceArgs\":{\"namespace\":\"html\",\"tag\":\"div\"},\"children\":[{\"props\":{\"attributes\":{\"data-bind\":\"text: formatted_val\"}},\"nodeType\":\"DOM\",\"type\":\"node\",\"instanceArgs\":{\"namespace\":\"html\",\"tag\":\"p\"},\"children\":[]}]}]}]}]},{\"props\":{\"className\":\"field interact-widget\"},\"nodeType\":\"DOM\",\"type\":\"node\",\"instanceArgs\":{\"namespace\":\"html\",\"tag\":\"div\"},\"children\":[{\"props\":{},\"nodeType\":\"Scope\",\"type\":\"node\",\"instanceArgs\":{\"imports\":{\"data\":[{\"name\":\"knockout\",\"type\":\"js\",\"url\":\"\\/assetserver\\/4e142ee0ad0c998de353f56b1a22e601395860e5-knockout.js\"},{\"name\":\"knockout_punches\",\"type\":\"js\",\"url\":\"\\/assetserver\\/40dc135a5ed691edabc1bf4ca7dc4709f127a380-knockout_punches.js\"},{\"name\":null,\"type\":\"js\",\"url\":\"\\/assetserver\\/30aa72339af74f9a627673d92d8040d5cfe9533e-all.js\"},{\"name\":null,\"type\":\"css\",\"url\":\"\\/assetserver\\/75af5f53e0088a81c77fec0c74dec23ed676eb50-style.css\"},{\"name\":null,\"type\":\"css\",\"url\":\"\\/assetserver\\/6ae6a66e550095b6b8e9dd509bd67c34fc3cbbc5-bulma_confined.min.css\"}],\"type\":\"async_block\"},\"id\":\"1729901699173198253\",\"handlers\":{\"changes\":[\"(function (val){return (val!=this.model[\\\"changes\\\"]()) ? (this.valueFromJulia[\\\"changes\\\"]=true, this.model[\\\"changes\\\"](val)) : undefined})\"],\"index\":[\"(function (val){return (val!=this.model[\\\"index\\\"]()) ? (this.valueFromJulia[\\\"index\\\"]=true, this.model[\\\"index\\\"](val)) : undefined})\"]},\"systemjs_options\":null,\"mount_callbacks\":[\"function () {\\n    var handler = (function (ko, koPunches) {\\n    ko.punches.enableAll();\\n    ko.bindingHandlers.numericValue = {\\n        init: function(element, valueAccessor, allBindings, data, context) {\\n            var stringified = ko.observable(ko.unwrap(valueAccessor()));\\n            stringified.subscribe(function(value) {\\n                var val = parseFloat(value);\\n                if (!isNaN(val)) {\\n                    valueAccessor()(val);\\n                }\\n            });\\n            valueAccessor().subscribe(function(value) {\\n                var str = JSON.stringify(value);\\n                if ((str == \\\"0\\\") && ([\\\"-0\\\", \\\"-0.\\\"].indexOf(stringified()) >= 0))\\n                     return;\\n                 if ([\\\"null\\\", \\\"\\\"].indexOf(str) >= 0)\\n                     return;\\n                stringified(str);\\n            });\\n            ko.applyBindingsToNode(\\n                element,\\n                {\\n                    value: stringified,\\n                    valueUpdate: allBindings.get('valueUpdate'),\\n                },\\n                context,\\n            );\\n        }\\n    };\\n    var json_data = {\\\"formatted_vals\\\":[\\\"0.0\\\",\\\"0.05\\\",\\\"0.1\\\",\\\"0.15\\\",\\\"0.2\\\",\\\"0.25\\\",\\\"0.3\\\",\\\"0.35\\\",\\\"0.4\\\",\\\"0.45\\\",\\\"0.5\\\",\\\"0.55\\\",\\\"0.6\\\",\\\"0.65\\\",\\\"0.7\\\",\\\"0.75\\\",\\\"0.8\\\",\\\"0.85\\\",\\\"0.9\\\",\\\"0.95\\\",\\\"1.0\\\"],\\\"changes\\\":WebIO.getval({\\\"name\\\":\\\"changes\\\",\\\"scope\\\":\\\"1729901699173198253\\\",\\\"id\\\":\\\"8407557787838100902\\\",\\\"type\\\":\\\"observable\\\"}),\\\"index\\\":WebIO.getval({\\\"name\\\":\\\"index\\\",\\\"scope\\\":\\\"1729901699173198253\\\",\\\"id\\\":\\\"8946300395296979746\\\",\\\"type\\\":\\\"observable\\\"})};\\n    var self = this;\\n    function AppViewModel() {\\n        for (var key in json_data) {\\n            var el = json_data[key];\\n            this[key] = Array.isArray(el) ? ko.observableArray(el) : ko.observable(el);\\n        }\\n        \\n        [this[\\\"formatted_val\\\"]=ko.computed(    function(){\\n        return this.formatted_vals()[parseInt(this.index())-(1)];\\n    }\\n,this)]\\n        [this[\\\"changes\\\"].subscribe((function (val){!(this.valueFromJulia[\\\"changes\\\"]) ? (WebIO.setval({\\\"name\\\":\\\"changes\\\",\\\"scope\\\":\\\"1729901699173198253\\\",\\\"id\\\":\\\"8407557787838100902\\\",\\\"type\\\":\\\"observable\\\"},val)) : undefined; return this.valueFromJulia[\\\"changes\\\"]=false}),self),this[\\\"index\\\"].subscribe((function (val){!(this.valueFromJulia[\\\"index\\\"]) ? (WebIO.setval({\\\"name\\\":\\\"index\\\",\\\"scope\\\":\\\"1729901699173198253\\\",\\\"id\\\":\\\"8946300395296979746\\\",\\\"type\\\":\\\"observable\\\"},val)) : undefined; return this.valueFromJulia[\\\"index\\\"]=false}),self)]\\n        \\n    }\\n    self.model = new AppViewModel();\\n    self.valueFromJulia = {};\\n    for (var key in json_data) {\\n        self.valueFromJulia[key] = false;\\n    }\\n    ko.applyBindings(self.model, self.dom);\\n}\\n);\\n    (WebIO.importBlock({\\\"data\\\":[{\\\"name\\\":\\\"knockout\\\",\\\"type\\\":\\\"js\\\",\\\"url\\\":\\\"\\/assetserver\\/4e142ee0ad0c998de353f56b1a22e601395860e5-knockout.js\\\"},{\\\"name\\\":\\\"knockout_punches\\\",\\\"type\\\":\\\"js\\\",\\\"url\\\":\\\"\\/assetserver\\/40dc135a5ed691edabc1bf4ca7dc4709f127a380-knockout_punches.js\\\"}],\\\"type\\\":\\\"async_block\\\"})).then((imports) => handler.apply(this, imports));\\n}\\n\"],\"observables\":{\"changes\":{\"sync\":false,\"id\":\"8407557787838100902\",\"value\":0},\"index\":{\"sync\":true,\"id\":\"8946300395296979746\",\"value\":11}}},\"children\":[{\"props\":{\"className\":\"interact-flex-row interact-widget\"},\"nodeType\":\"DOM\",\"type\":\"node\",\"instanceArgs\":{\"namespace\":\"html\",\"tag\":\"div\"},\"children\":[{\"props\":{\"className\":\"interact-flex-row-left\"},\"nodeType\":\"DOM\",\"type\":\"node\",\"instanceArgs\":{\"namespace\":\"html\",\"tag\":\"div\"},\"children\":[{\"props\":{\"className\":\"interact \",\"style\":{\"padding\":\"5px 10px 0px 10px\"}},\"nodeType\":\"DOM\",\"type\":\"node\",\"instanceArgs\":{\"namespace\":\"html\",\"tag\":\"label\"},\"children\":[\"Ke1\"]}]},{\"props\":{\"className\":\"interact-flex-row-center\"},\"nodeType\":\"DOM\",\"type\":\"node\",\"instanceArgs\":{\"namespace\":\"html\",\"tag\":\"div\"},\"children\":[{\"props\":{\"max\":21,\"min\":1,\"attributes\":{\"type\":\"range\",\"data-bind\":\"numericValue: index, valueUpdate: 'input', event: {change: function (){this.changes(this.changes()+1)}}\",\"orient\":\"horizontal\"},\"step\":1,\"className\":\"slider slider is-fullwidth\",\"style\":{}},\"nodeType\":\"DOM\",\"type\":\"node\",\"instanceArgs\":{\"namespace\":\"html\",\"tag\":\"input\"},\"children\":[]}]},{\"props\":{\"className\":\"interact-flex-row-right\"},\"nodeType\":\"DOM\",\"type\":\"node\",\"instanceArgs\":{\"namespace\":\"html\",\"tag\":\"div\"},\"children\":[{\"props\":{\"attributes\":{\"data-bind\":\"text: formatted_val\"}},\"nodeType\":\"DOM\",\"type\":\"node\",\"instanceArgs\":{\"namespace\":\"html\",\"tag\":\"p\"},\"children\":[]}]}]}]}]},{\"props\":{\"className\":\"field interact-widget\"},\"nodeType\":\"DOM\",\"type\":\"node\",\"instanceArgs\":{\"namespace\":\"html\",\"tag\":\"div\"},\"children\":[{\"props\":{},\"nodeType\":\"Scope\",\"type\":\"node\",\"instanceArgs\":{\"imports\":{\"data\":[{\"name\":\"knockout\",\"type\":\"js\",\"url\":\"\\/assetserver\\/4e142ee0ad0c998de353f56b1a22e601395860e5-knockout.js\"},{\"name\":\"knockout_punches\",\"type\":\"js\",\"url\":\"\\/assetserver\\/40dc135a5ed691edabc1bf4ca7dc4709f127a380-knockout_punches.js\"},{\"name\":null,\"type\":\"js\",\"url\":\"\\/assetserver\\/30aa72339af74f9a627673d92d8040d5cfe9533e-all.js\"},{\"name\":null,\"type\":\"css\",\"url\":\"\\/assetserver\\/75af5f53e0088a81c77fec0c74dec23ed676eb50-style.css\"},{\"name\":null,\"type\":\"css\",\"url\":\"\\/assetserver\\/6ae6a66e550095b6b8e9dd509bd67c34fc3cbbc5-bulma_confined.min.css\"}],\"type\":\"async_block\"},\"id\":\"14725110027105797157\",\"handlers\":{\"changes\":[\"(function (val){return (val!=this.model[\\\"changes\\\"]()) ? (this.valueFromJulia[\\\"changes\\\"]=true, this.model[\\\"changes\\\"](val)) : undefined})\"],\"index\":[\"(function (val){return (val!=this.model[\\\"index\\\"]()) ? (this.valueFromJulia[\\\"index\\\"]=true, this.model[\\\"index\\\"](val)) : undefined})\"]},\"systemjs_options\":null,\"mount_callbacks\":[\"function () {\\n    var handler = (function (ko, koPunches) {\\n    ko.punches.enableAll();\\n    ko.bindingHandlers.numericValue = {\\n        init: function(element, valueAccessor, allBindings, data, context) {\\n            var stringified = ko.observable(ko.unwrap(valueAccessor()));\\n            stringified.subscribe(function(value) {\\n                var val = parseFloat(value);\\n                if (!isNaN(val)) {\\n                    valueAccessor()(val);\\n                }\\n            });\\n            valueAccessor().subscribe(function(value) {\\n                var str = JSON.stringify(value);\\n                if ((str == \\\"0\\\") && ([\\\"-0\\\", \\\"-0.\\\"].indexOf(stringified()) >= 0))\\n                     return;\\n                 if ([\\\"null\\\", \\\"\\\"].indexOf(str) >= 0)\\n                     return;\\n                stringified(str);\\n            });\\n            ko.applyBindingsToNode(\\n                element,\\n                {\\n                    value: stringified,\\n                    valueUpdate: allBindings.get('valueUpdate'),\\n                },\\n                context,\\n            );\\n        }\\n    };\\n    var json_data = {\\\"formatted_vals\\\":[\\\"0.0\\\",\\\"0.05\\\",\\\"0.1\\\",\\\"0.15\\\",\\\"0.2\\\",\\\"0.25\\\",\\\"0.3\\\",\\\"0.35\\\",\\\"0.4\\\",\\\"0.45\\\",\\\"0.5\\\",\\\"0.55\\\",\\\"0.6\\\",\\\"0.65\\\",\\\"0.7\\\",\\\"0.75\\\",\\\"0.8\\\",\\\"0.85\\\",\\\"0.9\\\",\\\"0.95\\\",\\\"1.0\\\"],\\\"changes\\\":WebIO.getval({\\\"name\\\":\\\"changes\\\",\\\"scope\\\":\\\"14725110027105797157\\\",\\\"id\\\":\\\"17582353211973647484\\\",\\\"type\\\":\\\"observable\\\"}),\\\"index\\\":WebIO.getval({\\\"name\\\":\\\"index\\\",\\\"scope\\\":\\\"14725110027105797157\\\",\\\"id\\\":\\\"12667833103813407793\\\",\\\"type\\\":\\\"observable\\\"})};\\n    var self = this;\\n    function AppViewModel() {\\n        for (var key in json_data) {\\n            var el = json_data[key];\\n            this[key] = Array.isArray(el) ? ko.observableArray(el) : ko.observable(el);\\n        }\\n        \\n        [this[\\\"formatted_val\\\"]=ko.computed(    function(){\\n        return this.formatted_vals()[parseInt(this.index())-(1)];\\n    }\\n,this)]\\n        [this[\\\"changes\\\"].subscribe((function (val){!(this.valueFromJulia[\\\"changes\\\"]) ? (WebIO.setval({\\\"name\\\":\\\"changes\\\",\\\"scope\\\":\\\"14725110027105797157\\\",\\\"id\\\":\\\"17582353211973647484\\\",\\\"type\\\":\\\"observable\\\"},val)) : undefined; return this.valueFromJulia[\\\"changes\\\"]=false}),self),this[\\\"index\\\"].subscribe((function (val){!(this.valueFromJulia[\\\"index\\\"]) ? (WebIO.setval({\\\"name\\\":\\\"index\\\",\\\"scope\\\":\\\"14725110027105797157\\\",\\\"id\\\":\\\"12667833103813407793\\\",\\\"type\\\":\\\"observable\\\"},val)) : undefined; return this.valueFromJulia[\\\"index\\\"]=false}),self)]\\n        \\n    }\\n    self.model = new AppViewModel();\\n    self.valueFromJulia = {};\\n    for (var key in json_data) {\\n        self.valueFromJulia[key] = false;\\n    }\\n    ko.applyBindings(self.model, self.dom);\\n}\\n);\\n    (WebIO.importBlock({\\\"data\\\":[{\\\"name\\\":\\\"knockout\\\",\\\"type\\\":\\\"js\\\",\\\"url\\\":\\\"\\/assetserver\\/4e142ee0ad0c998de353f56b1a22e601395860e5-knockout.js\\\"},{\\\"name\\\":\\\"knockout_punches\\\",\\\"type\\\":\\\"js\\\",\\\"url\\\":\\\"\\/assetserver\\/40dc135a5ed691edabc1bf4ca7dc4709f127a380-knockout_punches.js\\\"}],\\\"type\\\":\\\"async_block\\\"})).then((imports) => handler.apply(this, imports));\\n}\\n\"],\"observables\":{\"changes\":{\"sync\":false,\"id\":\"17582353211973647484\",\"value\":0},\"index\":{\"sync\":true,\"id\":\"12667833103813407793\",\"value\":11}}},\"children\":[{\"props\":{\"className\":\"interact-flex-row interact-widget\"},\"nodeType\":\"DOM\",\"type\":\"node\",\"instanceArgs\":{\"namespace\":\"html\",\"tag\":\"div\"},\"children\":[{\"props\":{\"className\":\"interact-flex-row-left\"},\"nodeType\":\"DOM\",\"type\":\"node\",\"instanceArgs\":{\"namespace\":\"html\",\"tag\":\"div\"},\"children\":[{\"props\":{\"className\":\"interact \",\"style\":{\"padding\":\"5px 10px 0px 10px\"}},\"nodeType\":\"DOM\",\"type\":\"node\",\"instanceArgs\":{\"namespace\":\"html\",\"tag\":\"label\"},\"children\":[\"Ke2\"]}]},{\"props\":{\"className\":\"interact-flex-row-center\"},\"nodeType\":\"DOM\",\"type\":\"node\",\"instanceArgs\":{\"namespace\":\"html\",\"tag\":\"div\"},\"children\":[{\"props\":{\"max\":21,\"min\":1,\"attributes\":{\"type\":\"range\",\"data-bind\":\"numericValue: index, valueUpdate: 'input', event: {change: function (){this.changes(this.changes()+1)}}\",\"orient\":\"horizontal\"},\"step\":1,\"className\":\"slider slider is-fullwidth\",\"style\":{}},\"nodeType\":\"DOM\",\"type\":\"node\",\"instanceArgs\":{\"namespace\":\"html\",\"tag\":\"input\"},\"children\":[]}]},{\"props\":{\"className\":\"interact-flex-row-right\"},\"nodeType\":\"DOM\",\"type\":\"node\",\"instanceArgs\":{\"namespace\":\"html\",\"tag\":\"div\"},\"children\":[{\"props\":{\"attributes\":{\"data-bind\":\"text: formatted_val\"}},\"nodeType\":\"DOM\",\"type\":\"node\",\"instanceArgs\":{\"namespace\":\"html\",\"tag\":\"p\"},\"children\":[]}]}]}]}]},{\"props\":{\"className\":\"field interact-widget\"},\"nodeType\":\"DOM\",\"type\":\"node\",\"instanceArgs\":{\"namespace\":\"html\",\"tag\":\"div\"},\"children\":[{\"props\":{},\"nodeType\":\"Scope\",\"type\":\"node\",\"instanceArgs\":{\"imports\":{\"data\":[{\"name\":\"knockout\",\"type\":\"js\",\"url\":\"\\/assetserver\\/4e142ee0ad0c998de353f56b1a22e601395860e5-knockout.js\"},{\"name\":\"knockout_punches\",\"type\":\"js\",\"url\":\"\\/assetserver\\/40dc135a5ed691edabc1bf4ca7dc4709f127a380-knockout_punches.js\"},{\"name\":null,\"type\":\"js\",\"url\":\"\\/assetserver\\/30aa72339af74f9a627673d92d8040d5cfe9533e-all.js\"},{\"name\":null,\"type\":\"css\",\"url\":\"\\/assetserver\\/75af5f53e0088a81c77fec0c74dec23ed676eb50-style.css\"},{\"name\":null,\"type\":\"css\",\"url\":\"\\/assetserver\\/6ae6a66e550095b6b8e9dd509bd67c34fc3cbbc5-bulma_confined.min.css\"}],\"type\":\"async_block\"},\"id\":\"11467803351525843658\",\"handlers\":{\"changes\":[\"(function (val){return (val!=this.model[\\\"changes\\\"]()) ? (this.valueFromJulia[\\\"changes\\\"]=true, this.model[\\\"changes\\\"](val)) : undefined})\"],\"index\":[\"(function (val){return (val!=this.model[\\\"index\\\"]()) ? (this.valueFromJulia[\\\"index\\\"]=true, this.model[\\\"index\\\"](val)) : undefined})\"]},\"systemjs_options\":null,\"mount_callbacks\":[\"function () {\\n    var handler = (function (ko, koPunches) {\\n    ko.punches.enableAll();\\n    ko.bindingHandlers.numericValue = {\\n        init: function(element, valueAccessor, allBindings, data, context) {\\n            var stringified = ko.observable(ko.unwrap(valueAccessor()));\\n            stringified.subscribe(function(value) {\\n                var val = parseFloat(value);\\n                if (!isNaN(val)) {\\n                    valueAccessor()(val);\\n                }\\n            });\\n            valueAccessor().subscribe(function(value) {\\n                var str = JSON.stringify(value);\\n                if ((str == \\\"0\\\") && ([\\\"-0\\\", \\\"-0.\\\"].indexOf(stringified()) >= 0))\\n                     return;\\n                 if ([\\\"null\\\", \\\"\\\"].indexOf(str) >= 0)\\n                     return;\\n                stringified(str);\\n            });\\n            ko.applyBindingsToNode(\\n                element,\\n                {\\n                    value: stringified,\\n                    valueUpdate: allBindings.get('valueUpdate'),\\n                },\\n                context,\\n            );\\n        }\\n    };\\n    var json_data = {\\\"formatted_vals\\\":[\\\"1\\\",\\\"2\\\",\\\"3\\\",\\\"4\\\",\\\"5\\\",\\\"6\\\",\\\"7\\\",\\\"8\\\",\\\"9\\\",\\\"10\\\",\\\"11\\\",\\\"12\\\"],\\\"changes\\\":WebIO.getval({\\\"name\\\":\\\"changes\\\",\\\"scope\\\":\\\"11467803351525843658\\\",\\\"id\\\":\\\"6724351610449396675\\\",\\\"type\\\":\\\"observable\\\"}),\\\"index\\\":WebIO.getval({\\\"name\\\":\\\"index\\\",\\\"scope\\\":\\\"11467803351525843658\\\",\\\"id\\\":\\\"11401054407894726955\\\",\\\"type\\\":\\\"observable\\\"})};\\n    var self = this;\\n    function AppViewModel() {\\n        for (var key in json_data) {\\n            var el = json_data[key];\\n            this[key] = Array.isArray(el) ? ko.observableArray(el) : ko.observable(el);\\n        }\\n        \\n        [this[\\\"formatted_val\\\"]=ko.computed(    function(){\\n        return this.formatted_vals()[parseInt(this.index())-(1)];\\n    }\\n,this)]\\n        [this[\\\"changes\\\"].subscribe((function (val){!(this.valueFromJulia[\\\"changes\\\"]) ? (WebIO.setval({\\\"name\\\":\\\"changes\\\",\\\"scope\\\":\\\"11467803351525843658\\\",\\\"id\\\":\\\"6724351610449396675\\\",\\\"type\\\":\\\"observable\\\"},val)) : undefined; return this.valueFromJulia[\\\"changes\\\"]=false}),self),this[\\\"index\\\"].subscribe((function (val){!(this.valueFromJulia[\\\"index\\\"]) ? (WebIO.setval({\\\"name\\\":\\\"index\\\",\\\"scope\\\":\\\"11467803351525843658\\\",\\\"id\\\":\\\"11401054407894726955\\\",\\\"type\\\":\\\"observable\\\"},val)) : undefined; return this.valueFromJulia[\\\"index\\\"]=false}),self)]\\n        \\n    }\\n    self.model = new AppViewModel();\\n    self.valueFromJulia = {};\\n    for (var key in json_data) {\\n        self.valueFromJulia[key] = false;\\n    }\\n    ko.applyBindings(self.model, self.dom);\\n}\\n);\\n    (WebIO.importBlock({\\\"data\\\":[{\\\"name\\\":\\\"knockout\\\",\\\"type\\\":\\\"js\\\",\\\"url\\\":\\\"\\/assetserver\\/4e142ee0ad0c998de353f56b1a22e601395860e5-knockout.js\\\"},{\\\"name\\\":\\\"knockout_punches\\\",\\\"type\\\":\\\"js\\\",\\\"url\\\":\\\"\\/assetserver\\/40dc135a5ed691edabc1bf4ca7dc4709f127a380-knockout_punches.js\\\"}],\\\"type\\\":\\\"async_block\\\"})).then((imports) => handler.apply(this, imports));\\n}\\n\"],\"observables\":{\"changes\":{\"sync\":false,\"id\":\"6724351610449396675\",\"value\":0},\"index\":{\"sync\":true,\"id\":\"11401054407894726955\",\"value\":6}}},\"children\":[{\"props\":{\"className\":\"interact-flex-row interact-widget\"},\"nodeType\":\"DOM\",\"type\":\"node\",\"instanceArgs\":{\"namespace\":\"html\",\"tag\":\"div\"},\"children\":[{\"props\":{\"className\":\"interact-flex-row-left\"},\"nodeType\":\"DOM\",\"type\":\"node\",\"instanceArgs\":{\"namespace\":\"html\",\"tag\":\"div\"},\"children\":[{\"props\":{\"className\":\"interact \",\"style\":{\"padding\":\"5px 10px 0px 10px\"}},\"nodeType\":\"DOM\",\"type\":\"node\",\"instanceArgs\":{\"namespace\":\"html\",\"tag\":\"label\"},\"children\":[\"T\"]}]},{\"props\":{\"className\":\"interact-flex-row-center\"},\"nodeType\":\"DOM\",\"type\":\"node\",\"instanceArgs\":{\"namespace\":\"html\",\"tag\":\"div\"},\"children\":[{\"props\":{\"max\":12,\"min\":1,\"attributes\":{\"type\":\"range\",\"data-bind\":\"numericValue: index, valueUpdate: 'input', event: {change: function (){this.changes(this.changes()+1)}}\",\"orient\":\"horizontal\"},\"step\":1,\"className\":\"slider slider is-fullwidth\",\"style\":{}},\"nodeType\":\"DOM\",\"type\":\"node\",\"instanceArgs\":{\"namespace\":\"html\",\"tag\":\"input\"},\"children\":[]}]},{\"props\":{\"className\":\"interact-flex-row-right\"},\"nodeType\":\"DOM\",\"type\":\"node\",\"instanceArgs\":{\"namespace\":\"html\",\"tag\":\"div\"},\"children\":[{\"props\":{\"attributes\":{\"data-bind\":\"text: formatted_val\"}},\"nodeType\":\"DOM\",\"type\":\"node\",\"instanceArgs\":{\"namespace\":\"html\",\"tag\":\"p\"},\"children\":[]}]}]}]}]},{\"props\":{},\"nodeType\":\"Scope\",\"type\":\"node\",\"instanceArgs\":{\"imports\":{\"data\":[],\"type\":\"async_block\"},\"id\":\"12818333005635813695\",\"handlers\":{},\"systemjs_options\":null,\"mount_callbacks\":[],\"observables\":{\"obs-node\":{\"sync\":false,\"id\":\"6786374752160960099\",\"value\":{\"props\":{\"className\":\"interact-flex-row interact-widget\"},\"nodeType\":\"DOM\",\"type\":\"node\",\"instanceArgs\":{\"namespace\":\"html\",\"tag\":\"div\"},\"children\":[{\"props\":{\"setInnerHtml\":\"<?xml version=\\\"1.0\\\" encoding=\\\"utf-8\\\"?>\\n<svg xmlns=\\\"http:\\/\\/www.w3.org\\/2000\\/svg\\\" xmlns:xlink=\\\"http:\\/\\/www.w3.org\\/1999\\/xlink\\\" width=\\\"900\\\" height=\\\"600\\\" viewBox=\\\"0 0 3600 2400\\\">\\n<defs>\\n  <clipPath id=\\\"clip390\\\">\\n    <rect x=\\\"0\\\" y=\\\"0\\\" width=\\\"3600\\\" height=\\\"2400\\\"\\/>\\n  <\\/clipPath>\\n<\\/defs>\\n<path clip-path=\\\"url(#clip390)\\\" d=\\\"\\nM0 2400 L3600 2400 L3600 0 L0 0  Z\\n  \\\" fill=\\\"#ffffff\\\" fill-rule=\\\"evenodd\\\" fill-opacity=\\\"1\\\"\\/>\\n<defs>\\n  <clipPath id=\\\"clip391\\\">\\n    <rect x=\\\"720\\\" y=\\\"0\\\" width=\\\"2521\\\" height=\\\"2400\\\"\\/>\\n  <\\/clipPath>\\n<\\/defs>\\n<path clip-path=\\\"url(#clip390)\\\" d=\\\"\\nM165.768 2234.23 L3529.13 2234.23 L3529.13 70.8661 L165.768 70.8661  Z\\n  \\\" fill=\\\"#ffffff\\\" fill-rule=\\\"evenodd\\\" fill-opacity=\\\"1\\\"\\/>\\n<defs>\\n  <clipPath id=\\\"clip392\\\">\\n    <rect x=\\\"165\\\" y=\\\"70\\\" width=\\\"3364\\\" height=\\\"2164\\\"\\/>\\n  <\\/clipPath>\\n<\\/defs>\\n<polyline clip-path=\\\"url(#clip390)\\\" style=\\\"stroke:#000000; stroke-width:6; stroke-opacity:1; fill:none\\\" points=\\\"\\n  165.768,2234.23 3529.13,2234.23 \\n  \\\"\\/>\\n<path clip-path=\\\"url(#clip390)\\\" d=\\\"M 0 0 M1817.3 2302.49 L1877.6 2302.49 L1877.6 2310.6 L1852.3 2310.6 L1852.3 2373.77 L1842.61 2373.77 L1842.61 2310.6 L1817.3 2310.6 L1817.3 2302.49 Z\\\" fill=\\\"#000000\\\" fill-rule=\\\"evenodd\\\" fill-opacity=\\\"1\\\" \\/><polyline clip-path=\\\"url(#clip390)\\\" style=\\\"stroke:#000000; stroke-width:6; stroke-opacity:1; fill:none\\\" points=\\\"\\n  165.768,2234.23 165.768,70.8661 \\n  \\\"\\/>\\n<path clip-path=\\\"url(#clip390)\\\" d=\\\"M 0 0 M-29.4054 1123.81 L-19.2362 1123.81 Q-23.7717 1128.68 -26.0157 1134.22 Q-28.2596 1139.71 -28.2596 1145.91 Q-28.2596 1158.13 -20.7639 1164.63 Q-13.3161 1171.12 0.815803 1171.12 Q14.8999 1171.12 22.3955 1164.63 Q29.8434 1158.13 29.8434 1145.91 Q29.8434 1139.71 27.5995 1134.22 Q25.3556 1128.68 20.82 1123.81 L30.8938 1123.81 Q34.3312 1128.87 36.05 1134.55 Q37.7687 1140.18 37.7687 1146.49 Q37.7687 1162.67 27.886 1171.98 Q17.9555 1181.29 0.815803 1181.29 Q-16.3716 1181.29 -26.2544 1171.98 Q-36.1849 1162.67 -36.1849 1146.49 Q-36.1849 1140.09 -34.4661 1134.45 Q-32.7951 1128.77 -29.4054 1123.81 Z\\\" fill=\\\"#000000\\\" fill-rule=\\\"evenodd\\\" fill-opacity=\\\"1\\\" \\/><polyline clip-path=\\\"url(#clip392)\\\" style=\\\"stroke:#000000; stroke-width:18; stroke-opacity:1; fill:none\\\" points=\\\"\\n  165.768,2173 165.768,2172.97 165.771,2172.67 165.798,2169.68 165.827,2166.41 165.886,2159.76 165.953,2152.29 166.065,2139.89 166.2,2124.97 166.399,2103.17 \\n  166.646,2076.48 166.981,2040.81 167.393,1997.67 167.923,1943.57 168.567,1879.72 169.365,1803.56 170.321,1716.35 171.476,1616.82 172.842,1506.77 174.463,1386.57 \\n  176.364,1259.09 178.592,1126.72 181.188,993.849 184.213,865.073 187.728,746.6 191.815,645.149 196.56,568.485 202.057,524.391 208.368,519.647 215.49,557.453 \\n  223.388,635.796 231.934,746.977 241.051,880.904 250.65,1026.81 260.681,1175.58 271.104,1319.98 281.854,1454.55 285.888,1500.95 291.554,1008.31 \\n  294.012,840.903 299.762,538.555 303.411,402.946 309.724,249.748 314.778,187.825 322.09,169.244 329.401,212.31 338.001,314.722 346.768,453.813 356.474,627.342 \\n  366.336,808.85 376.842,996.039 387.5,1172.02 398.583,1336.06 406.009,1434.37 411.886,933.855 415.517,702.515 421.518,424.6 426.248,281.805 \\n  432.916,168.53 439.584,134.647 447.373,166.591 455.454,254.964 464.531,394.823 473.904,562.509 483.973,750.762 494.282,939.358 505.065,1123.49 516.035,1292.28 \\n  526.129,1429.48 532.026,928.125 536.36,658.565 542.415,393.519 548.469,232.798 555.291,146.614 562.455,136.088 570.461,191.814 578.996,302.263 \\n  588.273,456.54 597.973,635.102 608.191,825.991 618.725,1014.51 629.618,1193.65 640.735,1356.36 646.249,1429.16 652.152,927.448 655.223,729.085 \\n  661.229,440.764 665.487,303.91 672.111,177.517 678.736,133.257 686.449,155.822 694.457,236.977 703.463,371.436 712.781,536.178 722.801,723.453 733.07,912.681 \\n  743.82,1098.57 754.763,1269.78 766.014,1424.61 766.369,1429.15 769.926,1107.28 770.763,1040.67 775.144,741.525 776.991,638.542 782.144,412.351 \\n  785.295,313.299 791.339,190.153 796.02,144.809 803.195,138.683 810.37,189.29 818.892,297.678 827.574,440.393 837.248,617.308 847.078,801.179 857.582,990.616 \\n  868.235,1168.16 879.324,1333.52 886.489,1429.13 892.39,927.558 895.961,700.393 901.982,421.507 906.666,279.969 913.348,166.142 920.03,132.159 \\n  927.827,164.282 935.918,252.988 945.002,393.23 954.384,561.334 964.46,749.955 974.776,938.876 985.565,1123.25 996.541,1292.21 1006.61,1429.13 \\n  1012.51,927.666 1016.84,658.442 1022.89,393.317 1028.95,232.577 1035.77,146.421 1042.94,135.946 1050.95,191.732 1059.48,302.24 1068.76,456.568 1078.46,635.172 \\n  1088.68,826.087 1099.21,1014.63 1110.11,1193.77 1121.23,1356.47 1126.73,1429.14 1132.63,927.416 1135.7,729.244 1141.71,440.862 1145.96,304.048 \\n  1152.59,177.578 1159.21,133.257 1166.92,155.768 1174.93,236.881 1183.94,371.309 1193.25,536.033 1203.27,723.302 1213.54,912.533 1224.29,1098.43 1235.23,1269.65 \\n  1246.49,1424.5 1246.85,1429.15 1250.49,1100.28 1251.33,1033.93 1255.78,732.408 1257.63,630.285 1262.84,404.748 1266,307.247 1272.09,186.388 \\n  1276.79,143.158 1284.02,139.946 1291.24,193.25 1299.81,304.218 1308.53,448.8 1318.24,626.857 1328.1,811.16 1338.63,1000.41 1349.3,1177.38 1360.4,1341.86 \\n  1366.97,1429.13 1372.87,927.511 1376.27,710.289 1382.28,428.156 1386.82,288.03 1393.48,169.882 1400.14,132.36 1407.91,161.187 1415.97,247.297 \\n  1425.03,385.564 1434.39,552.532 1444.45,740.714 1454.75,929.764 1465.52,1114.68 1476.49,1284.43 1487.09,1429.13 1492.99,927.627 1497.45,651.541 \\n  1503.51,388.666 1509.57,229.831 1516.41,145.416 1523.59,136.476 1531.61,193.636 1540.16,305.225 1549.45,460.3 1559.16,639.292 1569.39,830.296 1579.93,1018.69 \\n  1590.83,1197.54 1601.95,1359.85 1607.21,1429.14 1613.11,927.374 1616.1,733.925 1622.11,443.989 1626.29,308.121 1632.91,179.576 1639.52,133.564 \\n  1647.22,154.51 1655.22,234.382 1664.21,367.849 1673.52,532.006 1683.53,719.036 1693.79,908.3 1704.53,1094.43 1715.47,1266.01 1726.72,1421.28 1727.33,1429.15 \\n  1732.82,957.668 1733.91,880.472 1739.68,551.955 1741.92,456.122 1748.21,263.549 1751.9,195.269 1759.02,135.168 1764.41,139.218 1772.65,202.671 \\n  1780.89,313.049 1790.32,471.844 1799.83,647.483 1810.15,839.883 1820.56,1025.49 1831.52,1204.44 1842.57,1364.91 1847.45,1429.14 1853.35,927.539 \\n  1856.22,741.421 1862.21,449.053 1866.29,314.711 1872.89,182.848 1878.38,137.726 1886.01,145.728 1893.63,212.32 1902.53,336.77 1911.57,492.114 1921.51,676.705 \\n  1931.59,864.049 1942.27,1052.59 1953.09,1226.77 1964.3,1386.58 1967.57,1429.13 1973.49,926.504 1975.75,776.651 1981.76,472.041 1985.28,347.569 \\n  1991.83,199.574 1996.81,146.429 2004.33,137.663 2011.84,191.412 2020.62,305.122 2029.56,453.893 2039.41,635.091 2049.42,822.04 2060.04,1012.33 2070.81,1189.68 \\n  2081.97,1353.52 2087.69,1429.13 2093.6,927.273 2096.73,725.107 2102.74,438.036 2107.06,300.495 2113.69,175.83 2120.32,132.998 2128.05,156.905 \\n  2136.07,239.133 2145.09,374.427 2154.41,539.665 2164.44,727.149 2174.72,916.352 2185.47,1102.04 2196.42,1272.94 2207.68,1427.4 2207.81,1429.14 \\n  2209.18,1298.14 2209.99,1224.26 2212.4,1026.2 2214.16,897.446 2217.61,683.479 2221.05,513.473 2225.55,347.902 2230.22,233.079 2235.91,155.997 2241.98,133.587 \\n  2249.07,164.895 2256.69,246.669 2265.25,375.984 2274.29,535.709 2284.01,717.214 2294.09,903.171 2304.65,1086.58 2315.47,1257.23 2326.61,1412.16 2327.93,1429.13 \\n  2333.87,924.735 2335.2,834.572 2341.25,508.024 2343.79,408.455 2350.31,231.762 2354.34,171.188 2361.71,132.093 2367.46,151.61 2375.97,234.911 \\n  2384.49,360.65 2394.13,530.097 2403.84,711.341 2414.3,904.564 2424.86,1087.91 2435.91,1261.92 2447.05,1416.35 2448.05,1429.13 2453.84,935.502 \\n  2455,855.684 2460.97,525.857 2463.3,430.834 2469.75,245.597 2473.55,182.267 2480.83,132.801 2486.35,144.606 2494.75,218.42 2503.15,337.136 2512.71,501.924 \\n  2522.33,680.92 2532.74,874.065 2543.24,1058.72 2554.25,1235.2 2565.35,1392.56 2568.17,1429.14 2574.09,926.591 2576.16,788.43 2582.17,479.777 \\n  2585.5,359.172 2592.04,205.685 2596.85,150.317 2604.33,135.743 2611.81,185.022 2620.54,294.912 2629.45,441.293 2639.27,621.16 2649.25,807.858 2659.85,998.629 \\n  2670.6,1177 2681.75,1342.17 2688.29,1429.13 2694.2,927.368 2697.59,710.576 2703.6,428.307 2708.13,288.284 2714.8,170.006 2721.46,132.393 \\n  2729.23,161.148 2737.29,247.209 2746.34,385.441 2755.7,552.392 2765.76,740.568 2776.06,929.622 2786.83,1114.55 2797.8,1284.31 2808.41,1429.14 \\n  2814.31,927.637 2818.77,651.436 2824.84,388.598 2830.9,229.793 2837.73,145.407 2844.91,136.491 2852.93,193.672 2861.49,305.278 2870.78,460.365 2880.49,639.362 \\n  2890.71,830.367 2901.26,1018.76 2912.16,1197.6 2923.28,1359.9 2928.53,1429.15 2934.44,927.374 2937.42,734.002 2943.43,444.042 2947.61,308.189 \\n  2954.23,179.61 2960.84,133.57 2968.54,154.49 2976.54,234.342 2985.53,367.793 2994.83,531.94 3004.85,718.966 3015.11,908.23 3025.85,1094.37 3036.79,1265.95 \\n  3048.03,1421.23 3048.65,1429.15 3054.14,957.423 3055.24,880.198 3061.01,551.664 3063.25,455.838 3069.54,263.344 3073.24,195.117 3080.35,135.134 \\n  3085.75,139.269 3093.99,202.838 3102.23,313.309 3111.66,472.174 3121.17,647.852 3131.49,840.263 3141.91,1025.86 3152.86,1204.78 3163.91,1365.22 3168.77,1429.14 \\n  3174.67,927.533 3177.53,741.878 3183.53,449.356 3187.6,315.118 3194.2,183.051 3199.68,137.812 3207.31,145.603 3214.93,212.033 3223.83,336.349 \\n  3232.86,491.613 3242.8,676.166 3252.88,863.507 3263.57,1052.07 3274.38,1226.29 3285.59,1386.16 3288.89,1429.13 3294.81,926.521 3297.09,775.876 \\n  3303.09,471.54 3306.62,346.815 3313.18,199.183 3318.17,146.191 3325.69,137.804 3333.21,191.842 3341.99,305.798 3350.93,454.72 3360.78,636.001 3370.79,822.964 \\n  3381.42,1013.22 3392.18,1190.5 3403.35,1354.26 3409.01,1429.13 3414.92,927.265 3418.04,726.094 3424.05,438.694 3428.35,301.34 3434.98,176.239 \\n  3441.61,133.053 3449.33,156.63 3457.35,238.598 3466.36,373.69 3475.69,538.81 3485.72,726.247 3495.99,915.458 3506.74,1101.2 3517.69,1272.17 3528.94,1426.73 \\n  3529.13,1429.14 \\n  \\\"\\/>\\n<polyline clip-path=\\\"url(#clip392)\\\" style=\\\"stroke:#000000; stroke-width:18; stroke-opacity:1; fill:none\\\" stroke-dasharray=\\\"9, 18\\\" points=\\\"\\n  165.768,2173 165.768,2173 165.771,2173 165.798,2173 165.827,2173 165.886,2172.98 165.953,2172.96 166.065,2172.88 166.2,2172.75 166.399,2172.45 \\n  166.646,2171.95 166.981,2171 167.393,2169.45 167.923,2166.83 168.567,2162.76 169.365,2156.42 170.321,2147.06 171.476,2133.39 172.842,2114.19 174.463,2087.67 \\n  176.364,2052.18 178.592,2005.6 181.188,1946.17 184.213,1872.05 187.728,1782.28 191.815,1676.61 196.56,1556.77 202.057,1426.8 208.368,1294.49 215.49,1170.94 \\n  223.388,1067.88 231.934,995.438 241.051,958.596 250.65,957.904 260.681,990.151 271.104,1049.83 281.854,1130 285.888,1163.38 291.554,1174.17 \\n  294.012,1159.21 299.762,1095.46 303.411,1040.84 309.724,935.809 314.778,850.448 322.09,737.639 329.401,645.965 338.001,571.755 346.768,534.88 356.474,536.395 \\n  366.336,576.581 376.842,652.562 387.5,754.285 398.583,876.125 406.009,962.609 411.886,991.493 415.517,976.191 421.518,917.773 426.248,854.491 \\n  432.916,757.142 439.584,663.685 447.373,572.44 455.454,506.051 464.531,469.252 473.904,471.452 483.973,513.161 494.282,589.238 505.065,694.569 516.035,818.59 \\n  526.129,940.2 532.026,971.512 536.36,952.778 542.415,891.918 548.469,809.956 555.291,712.021 562.455,617.942 570.461,535.2 578.996,479.662 \\n  588.273,458.996 597.973,478.038 608.191,535.551 618.725,625.373 629.618,740.383 640.735,871.027 646.249,938.282 652.152,969.814 655.223,959.193 \\n  661.229,906.06 665.487,851.914 672.111,757.89 678.736,665.438 686.449,573.596 694.457,504.896 703.463,464.381 712.781,462.385 722.801,499.958 733.07,572.639 \\n  743.82,675.505 754.763,798.145 766.014,933.7 766.369,938.062 769.926,965.801 770.763,968.034 775.144,959.562 776.991,947.375 782.144,895.807 \\n  785.295,855.352 791.339,770.13 796.02,703.402 803.195,610.685 810.37,537.063 818.892,480.553 827.574,458.852 837.248,474.21 847.078,525.931 857.582,612.115 \\n  868.235,722.181 879.324,851.106 886.489,938.27 892.39,969.8 895.961,956.246 901.982,900.061 906.666,839.041 913.348,743.553 920.03,651.629 \\n  927.827,562.004 935.918,497.063 945.002,461.705 954.384,465.198 964.46,508.109 974.776,585.24 985.565,691.484 996.541,816.265 1006.61,938.075 \\n  1012.51,969.632 1016.84,951.083 1022.89,890.422 1028.95,808.619 1035.77,710.843 1042.94,616.913 1050.95,534.328 1059.48,478.941 1068.76,458.424 1078.46,477.601 \\n  1088.68,535.237 1099.21,625.162 1110.11,740.256 1121.23,870.964 1126.73,938.118 1132.63,969.67 1135.7,959.075 1141.71,905.975 1145.96,851.884 \\n  1152.59,757.882 1159.21,665.439 1166.92,573.596 1174.93,504.885 1183.94,464.351 1193.25,462.333 1203.27,499.884 1213.54,572.546 1224.29,675.398 1235.23,798.031 \\n  1246.49,933.584 1246.85,938.051 1250.49,966.109 1251.33,968.196 1255.78,958.737 1257.63,946.171 1262.84,893.257 1266,852.359 1272.09,766.208 \\n  1276.79,699.372 1284.02,606.711 1291.24,533.722 1299.81,478.602 1308.53,458.668 1318.24,476.06 1328.1,529.656 1338.63,617.442 1349.3,728.676 1360.4,858.31 \\n  1366.97,938.268 1372.87,969.798 1376.27,957.3 1382.28,902.172 1386.82,843.53 1393.48,748.521 1400.14,656.391 1407.91,565.968 1415.97,499.699 \\n  1425.03,462.534 1434.39,464.117 1444.45,505.18 1454.75,580.779 1465.52,685.867 1476.49,809.922 1487.09,938.054 1492.99,969.615 1497.45,950.158 \\n  1503.51,888.751 1509.57,806.574 1516.41,708.662 1523.59,614.908 1531.61,532.774 1540.16,478.08 1549.45,458.419 1559.16,478.467 1569.39,536.894 1579.93,627.452 \\n  1590.83,742.992 1601.95,873.953 1607.21,938.118 1613.11,969.67 1616.1,959.517 1622.11,906.913 1626.29,853.942 1632.91,760.199 1639.52,667.686 \\n  1647.22,575.506 1655.22,506.205 1664.21,464.85 1673.52,461.948 1683.53,498.632 1693.79,570.565 1704.53,672.859 1715.47,795.132 1726.72,930.512 1727.33,938.057 \\n  1732.82,969.639 1733.91,968.263 1739.68,933.456 1741.92,910.021 1748.21,829.238 1751.9,776.189 1759.02,675.968 1764.41,607.848 1772.65,526.126 \\n  1780.89,476.068 1790.32,458.611 1799.83,480.326 1810.15,540.813 1820.56,631.403 1831.52,748.125 1842.57,878.541 1847.45,938.189 1853.35,969.731 \\n  1856.22,960.259 1862.21,908.457 1866.29,857.243 1872.89,763.934 1878.38,686.21 1886.01,591.173 1893.63,519.367 1902.53,470.399 1911.57,459.219 1921.51,487.18 \\n  1931.59,550.84 1942.27,647.181 1953.09,764.751 1964.3,898.117 1967.57,938.131 1973.49,969.675 1975.75,963.106 1981.76,914.909 1985.28,872.2 \\n  1991.83,780.977 1996.81,709.517 2004.33,611.737 2011.84,534.824 2020.62,478.18 2029.56,458.499 2039.41,477.632 2049.42,533.714 2060.04,623.924 2070.81,737.352 \\n  2081.97,868.41 2087.69,938.157 2093.6,969.701 2096.73,958.707 2102.74,905.149 2107.06,850.088 2113.69,755.844 2120.32,663.449 2128.05,571.901 \\n  2136.07,503.715 2145.09,463.918 2154.41,462.694 2164.44,501.026 2174.72,574.346 2185.47,677.701 2196.42,800.657 2207.68,936.364 2207.81,938.038 \\n  2209.18,952.277 2209.99,958.519 2212.4,968.128 2214.16,967.82 2217.61,952.967 2221.05,923.542 2225.55,870.777 2230.22,806.608 2235.91,724.964 2241.98,643.009 \\n  2249.07,562.435 2256.69,500.387 2265.25,463.924 2274.29,462.476 2284.01,498.287 2294.09,568.385 2304.65,668.126 2315.47,788.406 2326.61,922.06 2327.93,938.259 \\n  2333.87,969.774 2335.2,966.821 2341.25,924.24 2343.79,895.58 2350.31,808.12 2354.34,749.862 2361.71,648.538 2367.46,580.543 2375.97,505.966 \\n  2384.49,466.001 2394.13,461.79 2403.84,496.446 2414.3,568.849 2424.86,668.775 2435.91,791.912 2447.05,925.85 2448.05,938.071 2453.84,969.661 \\n  2455,967.54 2460.97,928.121 2463.3,902.664 2469.75,817.788 2473.55,762.866 2480.83,661.532 2486.35,593.933 2494.75,515.443 2503.15,470.334 2512.71,459.698 \\n  2522.33,488.247 2532.74,555.147 2543.24,650.852 2554.25,771.155 2565.35,903.612 2568.17,938.132 2574.09,969.677 2576.16,963.952 2582.17,916.983 \\n  2585.5,877.048 2592.04,786.607 2596.85,717.436 2604.33,618.88 2611.81,540.358 2620.54,481.234 2629.45,458.713 2639.27,474.839 2649.25,528.301 2659.85,616.347 \\n  2670.6,728.285 2681.75,858.47 2688.29,938.16 2694.2,969.704 2697.59,957.245 2703.6,902.145 2708.13,843.597 2714.8,748.602 2721.46,656.466 \\n  2729.23,566.03 2737.29,499.738 2746.34,462.544 2755.7,464.097 2765.76,505.133 2776.06,580.709 2786.83,685.779 2797.8,809.825 2808.41,938.065 \\n  2814.31,969.626 2818.77,950.154 2824.84,888.734 2830.9,806.551 2837.73,708.636 2844.91,614.884 2852.93,532.757 2861.49,478.074 2870.78,458.426 2880.49,478.487 \\n  2890.71,536.927 2901.26,627.494 2912.16,743.041 2923.28,874.005 2928.53,938.121 2934.44,969.673 2937.42,959.527 2943.43,906.93 2947.61,853.978 \\n  2954.23,760.239 2960.84,667.725 2968.54,575.539 2976.54,506.228 2985.53,464.86 2994.83,461.942 3004.85,498.612 3015.11,570.533 3025.85,672.818 3036.79,795.085 \\n  3048.03,930.462 3048.65,938.058 3054.14,969.64 3055.24,968.257 3061.01,933.4 3063.25,909.942 3069.54,829.114 3073.24,776.043 3080.35,675.807 \\n  3085.75,607.692 3093.99,526.004 3102.23,475.998 3111.66,458.616 3121.17,480.408 3131.49,540.967 3141.91,631.614 3152.86,748.378 3163.91,878.818 3168.77,938.188 \\n  3174.67,969.731 3177.53,960.299 3183.53,908.545 3187.6,857.441 3194.2,764.157 3199.68,686.507 3207.31,591.432 3214.93,519.557 3223.83,470.488 \\n  3232.86,459.197 3242.8,487.046 3252.88,550.609 3263.57,646.873 3274.38,764.392 3285.59,897.731 3288.89,938.131 3294.81,969.675 3297.09,963.049 \\n  3303.09,914.774 3306.62,871.878 3313.18,780.607 3318.17,708.997 3325.69,611.272 3333.21,534.467 3341.99,477.988 3350.93,458.493 3360.78,477.821 3370.79,534.074 \\n  3381.42,624.422 3392.18,737.946 3403.35,869.059 3409.01,938.157 3414.92,969.701 3418.04,958.803 3424.05,905.349 3428.35,850.524 3434.98,756.333 \\n  3441.61,663.922 3449.33,572.301 3457.35,503.989 3466.36,464.017 3475.69,462.607 3485.72,500.756 3495.99,573.922 3506.74,677.16 3517.69,800.042 3528.94,935.714 \\n  3529.13,938.039 \\n  \\\"\\/>\\n<path clip-path=\\\"url(#clip390)\\\" d=\\\"\\nM277.88 415.138 L1062.59 415.138 L1062.59 142.978 L277.88 142.978  Z\\n  \\\" fill=\\\"#ffffff\\\" fill-rule=\\\"evenodd\\\" fill-opacity=\\\"1\\\"\\/>\\n<polyline clip-path=\\\"url(#clip390)\\\" style=\\\"stroke:#000000; stroke-width:6; stroke-opacity:1; fill:none\\\" points=\\\"\\n  277.88,415.138 1062.59,415.138 1062.59,142.978 277.88,142.978 277.88,415.138 \\n  \\\"\\/>\\n<polyline clip-path=\\\"url(#clip390)\\\" style=\\\"stroke:#000000; stroke-width:6; stroke-opacity:1; fill:none\\\" points=\\\"\\n  315.251,233.698 539.475,233.698 \\n  \\\"\\/>\\n<path clip-path=\\\"url(#clip390)\\\" d=\\\"M 0 0 M583.86 213.542 L583.86 233.021 L592.679 233.021 Q597.575 233.021 600.249 230.487 Q602.922 227.952 602.922 223.264 Q602.922 218.612 600.249 216.077 Q597.575 213.542 592.679 213.542 L583.86 213.542 M576.846 207.778 L592.679 207.778 Q601.395 207.778 605.839 211.737 Q610.318 215.66 610.318 223.264 Q610.318 230.938 605.839 234.862 Q601.395 238.785 592.679 238.785 L583.86 238.785 L583.86 259.618 L576.846 259.618 L576.846 207.778 Z\\\" fill=\\\"#000000\\\" fill-rule=\\\"evenodd\\\" fill-opacity=\\\"1\\\" \\/><path clip-path=\\\"url(#clip390)\\\" d=\\\"M 0 0 M633.929 240.07 Q626.186 240.07 623.2 241.841 Q620.214 243.611 620.214 247.882 Q620.214 251.285 622.436 253.299 Q624.693 255.278 628.547 255.278 Q633.86 255.278 637.054 251.528 Q640.283 247.743 640.283 241.493 L640.283 240.07 L633.929 240.07 M646.672 237.431 L646.672 259.618 L640.283 259.618 L640.283 253.716 Q638.096 257.257 634.832 258.959 Q631.568 260.625 626.846 260.625 Q620.874 260.625 617.332 257.292 Q613.825 253.924 613.825 248.299 Q613.825 241.736 618.2 238.403 Q622.61 235.07 631.325 235.07 L640.283 235.07 L640.283 234.445 Q640.283 230.035 637.367 227.639 Q634.485 225.209 629.242 225.209 Q625.908 225.209 622.749 226.007 Q619.589 226.806 616.672 228.403 L616.672 222.5 Q620.179 221.146 623.478 220.487 Q626.777 219.792 629.901 219.792 Q638.339 219.792 642.506 224.167 Q646.672 228.542 646.672 237.431 Z\\\" fill=\\\"#000000\\\" fill-rule=\\\"evenodd\\\" fill-opacity=\\\"1\\\" \\/><path clip-path=\\\"url(#clip390)\\\" d=\\\"M 0 0 M682.366 226.702 Q681.29 226.077 680.005 225.799 Q678.755 225.487 677.228 225.487 Q671.811 225.487 668.894 229.028 Q666.012 232.535 666.012 239.132 L666.012 259.618 L659.589 259.618 L659.589 220.73 L666.012 220.73 L666.012 226.771 Q668.026 223.23 671.255 221.528 Q674.485 219.792 679.103 219.792 Q679.762 219.792 680.561 219.896 Q681.36 219.966 682.332 220.139 L682.366 226.702 Z\\\" fill=\\\"#000000\\\" fill-rule=\\\"evenodd\\\" fill-opacity=\\\"1\\\" \\/><path clip-path=\\\"url(#clip390)\\\" d=\\\"M 0 0 M720.769 238.577 L720.769 241.702 L691.394 241.702 Q691.811 248.299 695.353 251.771 Q698.929 255.209 705.283 255.209 Q708.964 255.209 712.401 254.306 Q715.873 253.403 719.276 251.598 L719.276 257.639 Q715.839 259.098 712.227 259.861 Q708.616 260.625 704.901 260.625 Q695.596 260.625 690.144 255.209 Q684.728 249.792 684.728 240.556 Q684.728 231.007 689.866 225.417 Q695.04 219.792 703.79 219.792 Q711.637 219.792 716.186 224.862 Q720.769 229.896 720.769 238.577 M714.38 236.702 Q714.311 231.459 711.429 228.334 Q708.582 225.209 703.859 225.209 Q698.512 225.209 695.283 228.23 Q692.089 231.25 691.603 236.737 L714.38 236.702 Z\\\" fill=\\\"#000000\\\" fill-rule=\\\"evenodd\\\" fill-opacity=\\\"1\\\" \\/><path clip-path=\\\"url(#clip390)\\\" d=\\\"M 0 0 M763.581 236.146 L763.581 259.618 L757.192 259.618 L757.192 236.355 Q757.192 230.834 755.04 228.091 Q752.887 225.348 748.581 225.348 Q743.408 225.348 740.422 228.646 Q737.436 231.945 737.436 237.639 L737.436 259.618 L731.012 259.618 L731.012 220.73 L737.436 220.73 L737.436 226.771 Q739.727 223.264 742.818 221.528 Q745.943 219.792 750.005 219.792 Q756.706 219.792 760.144 223.959 Q763.581 228.091 763.581 236.146 Z\\\" fill=\\\"#000000\\\" fill-rule=\\\"evenodd\\\" fill-opacity=\\\"1\\\" \\/><path clip-path=\\\"url(#clip390)\\\" d=\\\"M 0 0 M782.644 209.688 L782.644 220.73 L795.803 220.73 L795.803 225.695 L782.644 225.695 L782.644 246.806 Q782.644 251.563 783.928 252.917 Q785.248 254.271 789.241 254.271 L795.803 254.271 L795.803 259.618 L789.241 259.618 Q781.845 259.618 779.033 256.875 Q776.22 254.098 776.22 246.806 L776.22 225.695 L771.533 225.695 L771.533 220.73 L776.22 220.73 L776.22 209.688 L782.644 209.688 Z\\\" fill=\\\"#000000\\\" fill-rule=\\\"evenodd\\\" fill-opacity=\\\"1\\\" \\/><path clip-path=\\\"url(#clip390)\\\" d=\\\"M 0 0 M834.102 213.542 L834.102 253.854 L842.574 253.854 Q853.303 253.854 858.268 248.993 Q863.268 244.132 863.268 233.646 Q863.268 223.23 858.268 218.403 Q853.303 213.542 842.574 213.542 L834.102 213.542 M827.088 207.778 L841.498 207.778 Q856.567 207.778 863.616 214.063 Q870.664 220.313 870.664 233.646 Q870.664 247.049 863.581 253.334 Q856.497 259.618 841.498 259.618 L827.088 259.618 L827.088 207.778 Z\\\" fill=\\\"#000000\\\" fill-rule=\\\"evenodd\\\" fill-opacity=\\\"1\\\" \\/><path clip-path=\\\"url(#clip390)\\\" d=\\\"M 0 0 M904.101 226.702 Q903.025 226.077 901.74 225.799 Q900.49 225.487 898.963 225.487 Q893.546 225.487 890.629 229.028 Q887.747 232.535 887.747 239.132 L887.747 259.618 L881.324 259.618 L881.324 220.73 L887.747 220.73 L887.747 226.771 Q889.761 223.23 892.99 221.528 Q896.22 219.792 900.838 219.792 Q901.497 219.792 902.296 219.896 Q903.094 219.966 904.067 220.139 L904.101 226.702 Z\\\" fill=\\\"#000000\\\" fill-rule=\\\"evenodd\\\" fill-opacity=\\\"1\\\" \\/><path clip-path=\\\"url(#clip390)\\\" d=\\\"M 0 0 M910.143 244.271 L910.143 220.73 L916.532 220.73 L916.532 244.028 Q916.532 249.549 918.685 252.327 Q920.837 255.07 925.143 255.07 Q930.317 255.07 933.303 251.771 Q936.323 248.473 936.323 242.778 L936.323 220.73 L942.712 220.73 L942.712 259.618 L936.323 259.618 L936.323 253.646 Q933.997 257.188 930.907 258.924 Q927.851 260.625 923.789 260.625 Q917.087 260.625 913.615 256.459 Q910.143 252.292 910.143 244.271 M926.219 219.792 L926.219 219.792 Z\\\" fill=\\\"#000000\\\" fill-rule=\\\"evenodd\\\" fill-opacity=\\\"1\\\" \\/><path clip-path=\\\"url(#clip390)\\\" d=\\\"M 0 0 M981.462 239.723 Q981.462 232.778 978.58 228.959 Q975.733 225.139 970.559 225.139 Q965.421 225.139 962.539 228.959 Q959.691 232.778 959.691 239.723 Q959.691 246.632 962.539 250.452 Q965.421 254.271 970.559 254.271 Q975.733 254.271 978.58 250.452 Q981.462 246.632 981.462 239.723 M987.851 254.792 Q987.851 264.722 983.441 269.549 Q979.032 274.41 969.934 274.41 Q966.566 274.41 963.58 273.889 Q960.594 273.403 957.782 272.361 L957.782 266.146 Q960.594 267.674 963.337 268.403 Q966.08 269.132 968.927 269.132 Q975.212 269.132 978.337 265.834 Q981.462 262.57 981.462 255.938 L981.462 252.778 Q979.483 256.216 976.393 257.917 Q973.302 259.618 968.997 259.618 Q961.844 259.618 957.469 254.167 Q953.094 248.716 953.094 239.723 Q953.094 230.695 957.469 225.244 Q961.844 219.792 968.997 219.792 Q973.302 219.792 976.393 221.494 Q979.483 223.195 981.462 226.632 L981.462 220.73 L987.851 220.73 L987.851 254.792 Z\\\" fill=\\\"#000000\\\" fill-rule=\\\"evenodd\\\" fill-opacity=\\\"1\\\" \\/><polyline clip-path=\\\"url(#clip390)\\\" style=\\\"stroke:#000000; stroke-width:6; stroke-opacity:1; fill:none\\\" stroke-dasharray=\\\"3, 6\\\" points=\\\"\\n  315.251,324.418 539.475,324.418 \\n  \\\"\\/>\\n<path clip-path=\\\"url(#clip390)\\\" d=\\\"M 0 0 M576.846 298.498 L587.298 298.498 L600.527 333.776 L613.825 298.498 L624.277 298.498 L624.277 350.338 L617.436 350.338 L617.436 304.818 L604.068 340.373 L597.02 340.373 L583.652 304.818 L583.652 350.338 L576.846 350.338 L576.846 298.498 Z\\\" fill=\\\"#000000\\\" fill-rule=\\\"evenodd\\\" fill-opacity=\\\"1\\\" \\/><path clip-path=\\\"url(#clip390)\\\" d=\\\"M 0 0 M671.186 329.297 L671.186 332.422 L641.811 332.422 Q642.228 339.019 645.769 342.491 Q649.346 345.929 655.7 345.929 Q659.38 345.929 662.818 345.026 Q666.29 344.123 669.693 342.318 L669.693 348.359 Q666.255 349.818 662.644 350.581 Q659.033 351.345 655.318 351.345 Q646.013 351.345 640.561 345.929 Q635.145 340.512 635.145 331.276 Q635.145 321.727 640.283 316.137 Q645.457 310.512 654.207 310.512 Q662.054 310.512 666.603 315.582 Q671.186 320.616 671.186 329.297 M664.797 327.422 Q664.728 322.179 661.846 319.054 Q658.999 315.929 654.276 315.929 Q648.929 315.929 645.7 318.95 Q642.506 321.97 642.019 327.457 L664.797 327.422 Z\\\" fill=\\\"#000000\\\" fill-rule=\\\"evenodd\\\" fill-opacity=\\\"1\\\" \\/><path clip-path=\\\"url(#clip390)\\\" d=\\\"M 0 0 M687.991 300.408 L687.991 311.45 L701.151 311.45 L701.151 316.415 L687.991 316.415 L687.991 337.526 Q687.991 342.283 689.276 343.637 Q690.596 344.991 694.589 344.991 L701.151 344.991 L701.151 350.338 L694.589 350.338 Q687.193 350.338 684.38 347.595 Q681.568 344.818 681.568 337.526 L681.568 316.415 L676.88 316.415 L676.88 311.45 L681.568 311.45 L681.568 300.408 L687.991 300.408 Z\\\" fill=\\\"#000000\\\" fill-rule=\\\"evenodd\\\" fill-opacity=\\\"1\\\" \\/><path clip-path=\\\"url(#clip390)\\\" d=\\\"M 0 0 M727.227 330.79 Q719.484 330.79 716.498 332.561 Q713.512 334.331 713.512 338.602 Q713.512 342.005 715.734 344.019 Q717.991 345.998 721.845 345.998 Q727.158 345.998 730.352 342.248 Q733.581 338.463 733.581 332.213 L733.581 330.79 L727.227 330.79 M739.97 328.151 L739.97 350.338 L733.581 350.338 L733.581 344.436 Q731.394 347.977 728.13 349.679 Q724.866 351.345 720.144 351.345 Q714.172 351.345 710.63 348.012 Q707.123 344.644 707.123 339.019 Q707.123 332.456 711.498 329.123 Q715.908 325.79 724.623 325.79 L733.581 325.79 L733.581 325.165 Q733.581 320.755 730.665 318.359 Q727.783 315.929 722.54 315.929 Q719.207 315.929 716.047 316.727 Q712.887 317.526 709.971 319.123 L709.971 313.22 Q713.477 311.866 716.776 311.207 Q720.075 310.512 723.2 310.512 Q731.637 310.512 735.804 314.887 Q739.97 319.262 739.97 328.151 Z\\\" fill=\\\"#000000\\\" fill-rule=\\\"evenodd\\\" fill-opacity=\\\"1\\\" \\/><path clip-path=\\\"url(#clip390)\\\" d=\\\"M 0 0 M781.047 330.929 Q781.047 323.88 778.13 319.887 Q775.248 315.859 770.179 315.859 Q765.109 315.859 762.192 319.887 Q759.311 323.88 759.311 330.929 Q759.311 337.977 762.192 342.005 Q765.109 345.998 770.179 345.998 Q775.248 345.998 778.13 342.005 Q781.047 337.977 781.047 330.929 M759.311 317.352 Q761.324 313.88 764.38 312.214 Q767.47 310.512 771.741 310.512 Q778.824 310.512 783.234 316.137 Q787.678 321.762 787.678 330.929 Q787.678 340.095 783.234 345.72 Q778.824 351.345 771.741 351.345 Q767.47 351.345 764.38 349.679 Q761.324 347.977 759.311 344.505 L759.311 350.338 L752.887 350.338 L752.887 296.311 L759.311 296.311 L759.311 317.352 Z\\\" fill=\\\"#000000\\\" fill-rule=\\\"evenodd\\\" fill-opacity=\\\"1\\\" \\/><path clip-path=\\\"url(#clip390)\\\" d=\\\"M 0 0 M813.338 315.929 Q808.199 315.929 805.213 319.957 Q802.227 323.95 802.227 330.929 Q802.227 337.908 805.178 341.936 Q808.164 345.929 813.338 345.929 Q818.442 345.929 821.428 341.901 Q824.414 337.873 824.414 330.929 Q824.414 324.019 821.428 319.991 Q818.442 315.929 813.338 315.929 M813.338 310.512 Q821.671 310.512 826.428 315.929 Q831.185 321.345 831.185 330.929 Q831.185 340.477 826.428 345.929 Q821.671 351.345 813.338 351.345 Q804.97 351.345 800.213 345.929 Q795.491 340.477 795.491 330.929 Q795.491 321.345 800.213 315.929 Q804.97 310.512 813.338 310.512 Z\\\" fill=\\\"#000000\\\" fill-rule=\\\"evenodd\\\" fill-opacity=\\\"1\\\" \\/><path clip-path=\\\"url(#clip390)\\\" d=\\\"M 0 0 M841.775 296.311 L848.164 296.311 L848.164 350.338 L841.775 350.338 L841.775 296.311 Z\\\" fill=\\\"#000000\\\" fill-rule=\\\"evenodd\\\" fill-opacity=\\\"1\\\" \\/><path clip-path=\\\"url(#clip390)\\\" d=\\\"M 0 0 M861.532 311.45 L867.921 311.45 L867.921 350.338 L861.532 350.338 L861.532 311.45 M861.532 296.311 L867.921 296.311 L867.921 304.401 L861.532 304.401 L861.532 296.311 Z\\\" fill=\\\"#000000\\\" fill-rule=\\\"evenodd\\\" fill-opacity=\\\"1\\\" \\/><path clip-path=\\\"url(#clip390)\\\" d=\\\"M 0 0 M887.608 300.408 L887.608 311.45 L900.768 311.45 L900.768 316.415 L887.608 316.415 L887.608 337.526 Q887.608 342.283 888.893 343.637 Q890.213 344.991 894.206 344.991 L900.768 344.991 L900.768 350.338 L894.206 350.338 Q886.81 350.338 883.997 347.595 Q881.185 344.818 881.185 337.526 L881.185 316.415 L876.497 316.415 L876.497 311.45 L881.185 311.45 L881.185 300.408 L887.608 300.408 Z\\\" fill=\\\"#000000\\\" fill-rule=\\\"evenodd\\\" fill-opacity=\\\"1\\\" \\/><path clip-path=\\\"url(#clip390)\\\" d=\\\"M 0 0 M942.435 329.297 L942.435 332.422 L913.06 332.422 Q913.476 339.019 917.018 342.491 Q920.594 345.929 926.949 345.929 Q930.629 345.929 934.067 345.026 Q937.539 344.123 940.941 342.318 L940.941 348.359 Q937.504 349.818 933.893 350.581 Q930.282 351.345 926.567 351.345 Q917.261 351.345 911.81 345.929 Q906.393 340.512 906.393 331.276 Q906.393 321.727 911.532 316.137 Q916.706 310.512 925.455 310.512 Q933.303 310.512 937.851 315.582 Q942.435 320.616 942.435 329.297 M936.046 327.422 Q935.976 322.179 933.094 319.054 Q930.247 315.929 925.525 315.929 Q920.178 315.929 916.949 318.95 Q913.754 321.97 913.268 327.457 L936.046 327.422 Z\\\" fill=\\\"#000000\\\" fill-rule=\\\"evenodd\\\" fill-opacity=\\\"1\\\" \\/><\\/svg>\\n\"},\"nodeType\":\"DOM\",\"type\":\"node\",\"instanceArgs\":{\"namespace\":\"html\",\"tag\":\"div\"},\"children\":[]}]}}}},\"children\":[{\"props\":{},\"nodeType\":\"ObservableNode\",\"type\":\"node\",\"instanceArgs\":{\"id\":\"6786374752160960099\",\"name\":\"obs-node\"},\"children\":[]}]}]},\n",
       "            window,\n",
       "        );\n",
       "    } else {\n",
       "        document\n",
       "            .querySelector('[data-webio-mountpoint=\"9358510874975701566\"]')\n",
       "            .innerHTML = (\n",
       "                '<div style=\"padding: 1em; background-color: #f8d6da; border: 1px solid #f5c6cb\">' +\n",
       "                '<p><strong>WebIO not detected.</strong></p>' +\n",
       "                '<p>Please read ' +\n",
       "                '<a href=\"https://juliagizmos.github.io/WebIO.jl/latest/troubleshooting/not-detected/\" target=\"_blank\">the troubleshooting guide</a> ' +\n",
       "                'for more information on how to resolve this issue.</p>' +\n",
       "                '<p><a href=\"https://juliagizmos.github.io/WebIO.jl/latest/troubleshooting/not-detected/\" target=\"_blank\">https://juliagizmos.github.io/WebIO.jl/latest/troubleshooting/not-detected/</a></p>' +\n",
       "                '</div>'\n",
       "            );\n",
       "    }\n",
       "    </script>\n",
       "</div>\n"
      ],
      "text/plain": [
       "Node{WebIO.DOM}(WebIO.DOM(:html, :div), Any[Node{WebIO.DOM}(WebIO.DOM(:html, :div), Any[Scope(Node{WebIO.DOM}(WebIO.DOM(:html, :div), Any[Node{WebIO.DOM}(WebIO.DOM(:html, :div), Any[Node{WebIO.DOM}(WebIO.DOM(:html, :label), Any[\"Ka\"], Dict{Symbol, Any}(:className => \"interact \", :style => Dict{Any, Any}(:padding => \"5px 10px 0px 10px\")))], Dict{Symbol, Any}(:className => \"interact-flex-row-left\")), Node{WebIO.DOM}(WebIO.DOM(:html, :div), Any[Node{WebIO.DOM}(WebIO.DOM(:html, :input), Any[], Dict{Symbol, Any}(:max => 21, :min => 1, :attributes => Dict{Any, Any}(:type => \"range\", Symbol(\"data-bind\") => \"numericValue: index, valueUpdate: 'input', event: {change: function (){this.changes(this.changes()+1)}}\", \"orient\" => \"horizontal\"), :step => 1, :className => \"slider slider is-fullwidth\", :style => Dict{Any, Any}()))], Dict{Symbol, Any}(:className => \"interact-flex-row-center\")), Node{WebIO.DOM}(WebIO.DOM(:html, :div), Any[Node{WebIO.DOM}(WebIO.DOM(:html, :p), Any[], Dict{Symbol, Any}(:attributes => Dict(\"data-bind\" => \"text: formatted_val\")))], Dict{Symbol, Any}(:className => \"interact-flex-row-right\"))], Dict{Symbol, Any}(:className => \"interact-flex-row interact-widget\")), Dict{String, Tuple{Observables.AbstractObservable, Union{Nothing, Bool}}}(\"changes\" => (Observable{Int64} with 1 listeners. Value:\n",
       "0, nothing), \"index\" => (Observable{Any} with 2 listeners. Value:\n",
       "11, nothing)), Set{String}(), nothing, Asset[Asset(\"js\", \"knockout\", \"C:\\\\Users\\\\Omar Kana\\\\.julia\\\\packages\\\\Knockout\\\\IP1uR\\\\src\\\\..\\\\assets\\\\knockout.js\"), Asset(\"js\", \"knockout_punches\", \"C:\\\\Users\\\\Omar Kana\\\\.julia\\\\packages\\\\Knockout\\\\IP1uR\\\\src\\\\..\\\\assets\\\\knockout_punches.js\"), Asset(\"js\", nothing, \"C:\\\\Users\\\\Omar Kana\\\\.julia\\\\packages\\\\InteractBase\\\\Zfu5P\\\\src\\\\..\\\\assets\\\\all.js\"), Asset(\"css\", nothing, \"C:\\\\Users\\\\Omar Kana\\\\.julia\\\\packages\\\\InteractBase\\\\Zfu5P\\\\src\\\\..\\\\assets\\\\style.css\"), Asset(\"css\", nothing, \"C:\\\\Users\\\\Omar Kana\\\\.julia\\\\packages\\\\Interact\\\\SbgIk\\\\src\\\\..\\\\assets\\\\bulma_confined.min.css\")], Dict{Any, Any}(\"changes\" => Any[WebIO.JSString(\"(function (val){return (val!=this.model[\\\"changes\\\"]()) ? (this.valueFromJulia[\\\"changes\\\"]=true, this.model[\\\"changes\\\"](val)) : undefined})\")], \"index\" => Any[WebIO.JSString(\"(function (val){return (val!=this.model[\\\"index\\\"]()) ? (this.valueFromJulia[\\\"index\\\"]=true, this.model[\\\"index\\\"](val)) : undefined})\")]), WebIO.ConnectionPool(Channel{Any}(32), Set{AbstractConnection}(), Condition(Base.InvasiveLinkedList{Task}(Task (runnable) @0x0000000073682720, Task (runnable) @0x0000000073682720), Base.AlwaysLockedST(1))), WebIO.JSString[WebIO.JSString(\"function () {\\n    var handler = (function (ko, koPunches) {\\n    ko.punches.enableAll();\\n    ko.bindingHandlers.numericValue = {\\n        init: function(element, valueAccessor, allBindings, data, context) {\\n            var stringified = ko.observable(ko.unwrap(valueAccessor()));\\n            stringified.subscribe(function(value) {\\n                var val = parseFloat(value);\\n                if (!isNaN(val)) {\\n                    valueAccessor()(val);\\n                }\\n            });\\n            valueAccessor().subscribe(function(value) {\\n                var str = JSON.stringify(value);\\n                if ((str == \\\"0\\\") && ([\\\"-0\\\", \\\"-0.\\\"].indexOf(stringified()) >= 0))\\n                     return;\\n                 if ([\\\"null\\\", \\\"\\\"].indexOf(str) >= 0)\\n                     return;\\n                stringified(str);\\n            });\\n            ko.applyBindingsToNode(\\n                element,\\n                {\\n                    value: stringified,\\n                    valueUpdate: allBindings.get('valueUpdate'),\\n                },\\n                context,\\n            );\\n        }\\n    };\\n    var json_data = {\\\"formatted_vals\\\":[\\\"0.0\\\",\\\"0.05\\\",\\\"0.1\\\",\\\"0.15\\\",\\\"0.2\\\",\\\"0.25\\\",\\\"0.3\\\",\\\"0.35\\\",\\\"0.4\\\",\\\"0.45\\\",\\\"0.5\\\",\\\"0.55\\\",\\\"0.6\\\",\\\"0.65\\\",\\\"0.7\\\",\\\"0.75\\\",\\\"0.8\\\",\\\"0.85\\\",\\\"0.9\\\",\\\"0.95\\\",\\\"1.0\\\"],\\\"changes\\\":WebIO.getval({\\\"name\\\":\\\"changes\\\",\\\"scope\\\":\\\"7374652656293517613\\\",\\\"id\\\":\\\"5993492304702495206\\\",\\\"type\\\":\\\"observable\\\"}),\\\"index\\\":WebIO.getval({\\\"name\\\":\\\"index\\\",\\\"scope\\\":\\\"7374652656293517613\\\",\\\"id\\\":\\\"12279211831197372087\\\",\\\"type\\\":\\\"observable\\\"})};\\n    var self = this;\\n    function AppViewModel() {\\n        for (var key in json_data) {\\n            var el = json_data[key];\\n            this[key] = Array.isArray(el) ? ko.observableArray(el) : ko.observable(el);\\n        }\\n        \\n        [this[\\\"formatted_val\\\"]=ko.computed(    function(){\\n        return this.formatted_vals()[parseInt(this.index())-(1)];\\n    }\\n,this)]\\n        [this[\\\"changes\\\"].subscribe((function (val){!(this.valueFromJulia[\\\"changes\\\"]) ? (WebIO.setval({\\\"name\\\":\\\"changes\\\",\\\"scope\\\":\\\"7374652656293517613\\\",\\\"id\\\":\\\"5993492304702495206\\\",\\\"type\\\":\\\"observable\\\"},val)) : undefined; return this.valueFromJulia[\\\"changes\\\"]=false}),self),this[\\\"index\\\"].subscribe((function (val){!(this.valueFromJulia[\\\"index\\\"]) ? (WebIO.setval({\\\"name\\\":\\\"index\\\",\\\"scope\\\":\\\"7374652656293517613\\\",\\\"id\\\":\\\"12279211831197372087\\\",\\\"type\\\":\\\"observable\\\"},val)) : undefined; return this.valueFromJulia[\\\"index\\\"]=false}),self)]\\n        \\n    }\\n    self.model = new AppViewModel();\\n    self.valueFromJulia = {};\\n    for (var key in json_data) {\\n        self.valueFromJulia[key] = false;\\n    }\\n    ko.applyBindings(self.model, self.dom);\\n}\\n);\\n    (WebIO.importBlock({\\\"data\\\":[{\\\"name\\\":\\\"knockout\\\",\\\"type\\\":\\\"js\\\",\\\"url\\\":\\\"/assetserver/4e142ee0ad0c998de353f56b1a22e601395860e5-knockout.js\\\"},{\\\"name\\\":\\\"knockout_punches\\\",\\\"type\\\":\\\"js\\\",\\\"url\\\":\\\"/assetserver/40dc135a5ed691edabc1bf4ca7dc4709f127a380-knockout_punches.js\\\"}],\\\"type\\\":\\\"async_block\\\"})).then((imports) => handler.apply(this, imports));\\n}\\n\")])], Dict{Symbol, Any}(:className => \"field interact-widget\")), Node{WebIO.DOM}(WebIO.DOM(:html, :div), Any[Scope(Node{WebIO.DOM}(WebIO.DOM(:html, :div), Any[Node{WebIO.DOM}(WebIO.DOM(:html, :div), Any[Node{WebIO.DOM}(WebIO.DOM(:html, :label), Any[\"Ke1\"], Dict{Symbol, Any}(:className => \"interact \", :style => Dict{Any, Any}(:padding => \"5px 10px 0px 10px\")))], Dict{Symbol, Any}(:className => \"interact-flex-row-left\")), Node{WebIO.DOM}(WebIO.DOM(:html, :div), Any[Node{WebIO.DOM}(WebIO.DOM(:html, :input), Any[], Dict{Symbol, Any}(:max => 21, :min => 1, :attributes => Dict{Any, Any}(:type => \"range\", Symbol(\"data-bind\") => \"numericValue: index, valueUpdate: 'input', event: {change: function (){this.changes(this.changes()+1)}}\", \"orient\" => \"horizontal\"), :step => 1, :className => \"slider slider is-fullwidth\", :style => Dict{Any, Any}()))], Dict{Symbol, Any}(:className => \"interact-flex-row-center\")), Node{WebIO.DOM}(WebIO.DOM(:html, :div), Any[Node{WebIO.DOM}(WebIO.DOM(:html, :p), Any[], Dict{Symbol, Any}(:attributes => Dict(\"data-bind\" => \"text: formatted_val\")))], Dict{Symbol, Any}(:className => \"interact-flex-row-right\"))], Dict{Symbol, Any}(:className => \"interact-flex-row interact-widget\")), Dict{String, Tuple{Observables.AbstractObservable, Union{Nothing, Bool}}}(\"changes\" => (Observable{Int64} with 1 listeners. Value:\n",
       "0, nothing), \"index\" => (Observable{Any} with 2 listeners. Value:\n",
       "11, nothing)), Set{String}(), nothing, Asset[Asset(\"js\", \"knockout\", \"C:\\\\Users\\\\Omar Kana\\\\.julia\\\\packages\\\\Knockout\\\\IP1uR\\\\src\\\\..\\\\assets\\\\knockout.js\"), Asset(\"js\", \"knockout_punches\", \"C:\\\\Users\\\\Omar Kana\\\\.julia\\\\packages\\\\Knockout\\\\IP1uR\\\\src\\\\..\\\\assets\\\\knockout_punches.js\"), Asset(\"js\", nothing, \"C:\\\\Users\\\\Omar Kana\\\\.julia\\\\packages\\\\InteractBase\\\\Zfu5P\\\\src\\\\..\\\\assets\\\\all.js\"), Asset(\"css\", nothing, \"C:\\\\Users\\\\Omar Kana\\\\.julia\\\\packages\\\\InteractBase\\\\Zfu5P\\\\src\\\\..\\\\assets\\\\style.css\"), Asset(\"css\", nothing, \"C:\\\\Users\\\\Omar Kana\\\\.julia\\\\packages\\\\Interact\\\\SbgIk\\\\src\\\\..\\\\assets\\\\bulma_confined.min.css\")], Dict{Any, Any}(\"changes\" => Any[WebIO.JSString(\"(function (val){return (val!=this.model[\\\"changes\\\"]()) ? (this.valueFromJulia[\\\"changes\\\"]=true, this.model[\\\"changes\\\"](val)) : undefined})\")], \"index\" => Any[WebIO.JSString(\"(function (val){return (val!=this.model[\\\"index\\\"]()) ? (this.valueFromJulia[\\\"index\\\"]=true, this.model[\\\"index\\\"](val)) : undefined})\")]), WebIO.ConnectionPool(Channel{Any}(32), Set{AbstractConnection}(), Condition(Base.InvasiveLinkedList{Task}(Task (runnable) @0x0000000073d92d60, Task (runnable) @0x0000000073d92d60), Base.AlwaysLockedST(1))), WebIO.JSString[WebIO.JSString(\"function () {\\n    var handler = (function (ko, koPunches) {\\n    ko.punches.enableAll();\\n    ko.bindingHandlers.numericValue = {\\n        init: function(element, valueAccessor, allBindings, data, context) {\\n            var stringified = ko.observable(ko.unwrap(valueAccessor()));\\n            stringified.subscribe(function(value) {\\n                var val = parseFloat(value);\\n                if (!isNaN(val)) {\\n                    valueAccessor()(val);\\n                }\\n            });\\n            valueAccessor().subscribe(function(value) {\\n                var str = JSON.stringify(value);\\n                if ((str == \\\"0\\\") && ([\\\"-0\\\", \\\"-0.\\\"].indexOf(stringified()) >= 0))\\n                     return;\\n                 if ([\\\"null\\\", \\\"\\\"].indexOf(str) >= 0)\\n                     return;\\n                stringified(str);\\n            });\\n            ko.applyBindingsToNode(\\n                element,\\n                {\\n                    value: stringified,\\n                    valueUpdate: allBindings.get('valueUpdate'),\\n                },\\n                context,\\n            );\\n        }\\n    };\\n    var json_data = {\\\"formatted_vals\\\":[\\\"0.0\\\",\\\"0.05\\\",\\\"0.1\\\",\\\"0.15\\\",\\\"0.2\\\",\\\"0.25\\\",\\\"0.3\\\",\\\"0.35\\\",\\\"0.4\\\",\\\"0.45\\\",\\\"0.5\\\",\\\"0.55\\\",\\\"0.6\\\",\\\"0.65\\\",\\\"0.7\\\",\\\"0.75\\\",\\\"0.8\\\",\\\"0.85\\\",\\\"0.9\\\",\\\"0.95\\\",\\\"1.0\\\"],\\\"changes\\\":WebIO.getval({\\\"name\\\":\\\"changes\\\",\\\"scope\\\":\\\"1729901699173198253\\\",\\\"id\\\":\\\"8407557787838100902\\\",\\\"type\\\":\\\"observable\\\"}),\\\"index\\\":WebIO.getval({\\\"name\\\":\\\"index\\\",\\\"scope\\\":\\\"1729901699173198253\\\",\\\"id\\\":\\\"8946300395296979746\\\",\\\"type\\\":\\\"observable\\\"})};\\n    var self = this;\\n    function AppViewModel() {\\n        for (var key in json_data) {\\n            var el = json_data[key];\\n            this[key] = Array.isArray(el) ? ko.observableArray(el) : ko.observable(el);\\n        }\\n        \\n        [this[\\\"formatted_val\\\"]=ko.computed(    function(){\\n        return this.formatted_vals()[parseInt(this.index())-(1)];\\n    }\\n,this)]\\n        [this[\\\"changes\\\"].subscribe((function (val){!(this.valueFromJulia[\\\"changes\\\"]) ? (WebIO.setval({\\\"name\\\":\\\"changes\\\",\\\"scope\\\":\\\"1729901699173198253\\\",\\\"id\\\":\\\"8407557787838100902\\\",\\\"type\\\":\\\"observable\\\"},val)) : undefined; return this.valueFromJulia[\\\"changes\\\"]=false}),self),this[\\\"index\\\"].subscribe((function (val){!(this.valueFromJulia[\\\"index\\\"]) ? (WebIO.setval({\\\"name\\\":\\\"index\\\",\\\"scope\\\":\\\"1729901699173198253\\\",\\\"id\\\":\\\"8946300395296979746\\\",\\\"type\\\":\\\"observable\\\"},val)) : undefined; return this.valueFromJulia[\\\"index\\\"]=false}),self)]\\n        \\n    }\\n    self.model = new AppViewModel();\\n    self.valueFromJulia = {};\\n    for (var key in json_data) {\\n        self.valueFromJulia[key] = false;\\n    }\\n    ko.applyBindings(self.model, self.dom);\\n}\\n);\\n    (WebIO.importBlock({\\\"data\\\":[{\\\"name\\\":\\\"knockout\\\",\\\"type\\\":\\\"js\\\",\\\"url\\\":\\\"/assetserver/4e142ee0ad0c998de353f56b1a22e601395860e5-knockout.js\\\"},{\\\"name\\\":\\\"knockout_punches\\\",\\\"type\\\":\\\"js\\\",\\\"url\\\":\\\"/assetserver/40dc135a5ed691edabc1bf4ca7dc4709f127a380-knockout_punches.js\\\"}],\\\"type\\\":\\\"async_block\\\"})).then((imports) => handler.apply(this, imports));\\n}\\n\")])], Dict{Symbol, Any}(:className => \"field interact-widget\")), Node{WebIO.DOM}(WebIO.DOM(:html, :div), Any[Scope(Node{WebIO.DOM}(WebIO.DOM(:html, :div), Any[Node{WebIO.DOM}(WebIO.DOM(:html, :div), Any[Node{WebIO.DOM}(WebIO.DOM(:html, :label), Any[\"Ke2\"], Dict{Symbol, Any}(:className => \"interact \", :style => Dict{Any, Any}(:padding => \"5px 10px 0px 10px\")))], Dict{Symbol, Any}(:className => \"interact-flex-row-left\")), Node{WebIO.DOM}(WebIO.DOM(:html, :div), Any[Node{WebIO.DOM}(WebIO.DOM(:html, :input), Any[], Dict{Symbol, Any}(:max => 21, :min => 1, :attributes => Dict{Any, Any}(:type => \"range\", Symbol(\"data-bind\") => \"numericValue: index, valueUpdate: 'input', event: {change: function (){this.changes(this.changes()+1)}}\", \"orient\" => \"horizontal\"), :step => 1, :className => \"slider slider is-fullwidth\", :style => Dict{Any, Any}()))], Dict{Symbol, Any}(:className => \"interact-flex-row-center\")), Node{WebIO.DOM}(WebIO.DOM(:html, :div), Any[Node{WebIO.DOM}(WebIO.DOM(:html, :p), Any[], Dict{Symbol, Any}(:attributes => Dict(\"data-bind\" => \"text: formatted_val\")))], Dict{Symbol, Any}(:className => \"interact-flex-row-right\"))], Dict{Symbol, Any}(:className => \"interact-flex-row interact-widget\")), Dict{String, Tuple{Observables.AbstractObservable, Union{Nothing, Bool}}}(\"changes\" => (Observable{Int64} with 1 listeners. Value:\n",
       "0, nothing), \"index\" => (Observable{Any} with 2 listeners. Value:\n",
       "11, nothing)), Set{String}(), nothing, Asset[Asset(\"js\", \"knockout\", \"C:\\\\Users\\\\Omar Kana\\\\.julia\\\\packages\\\\Knockout\\\\IP1uR\\\\src\\\\..\\\\assets\\\\knockout.js\"), Asset(\"js\", \"knockout_punches\", \"C:\\\\Users\\\\Omar Kana\\\\.julia\\\\packages\\\\Knockout\\\\IP1uR\\\\src\\\\..\\\\assets\\\\knockout_punches.js\"), Asset(\"js\", nothing, \"C:\\\\Users\\\\Omar Kana\\\\.julia\\\\packages\\\\InteractBase\\\\Zfu5P\\\\src\\\\..\\\\assets\\\\all.js\"), Asset(\"css\", nothing, \"C:\\\\Users\\\\Omar Kana\\\\.julia\\\\packages\\\\InteractBase\\\\Zfu5P\\\\src\\\\..\\\\assets\\\\style.css\"), Asset(\"css\", nothing, \"C:\\\\Users\\\\Omar Kana\\\\.julia\\\\packages\\\\Interact\\\\SbgIk\\\\src\\\\..\\\\assets\\\\bulma_confined.min.css\")], Dict{Any, Any}(\"changes\" => Any[WebIO.JSString(\"(function (val){return (val!=this.model[\\\"changes\\\"]()) ? (this.valueFromJulia[\\\"changes\\\"]=true, this.model[\\\"changes\\\"](val)) : undefined})\")], \"index\" => Any[WebIO.JSString(\"(function (val){return (val!=this.model[\\\"index\\\"]()) ? (this.valueFromJulia[\\\"index\\\"]=true, this.model[\\\"index\\\"](val)) : undefined})\")]), WebIO.ConnectionPool(Channel{Any}(32), Set{AbstractConnection}(), Condition(Base.InvasiveLinkedList{Task}(Task (runnable) @0x0000000073f4f3a0, Task (runnable) @0x0000000073f4f3a0), Base.AlwaysLockedST(1))), WebIO.JSString[WebIO.JSString(\"function () {\\n    var handler = (function (ko, koPunches) {\\n    ko.punches.enableAll();\\n    ko.bindingHandlers.numericValue = {\\n        init: function(element, valueAccessor, allBindings, data, context) {\\n            var stringified = ko.observable(ko.unwrap(valueAccessor()));\\n            stringified.subscribe(function(value) {\\n                var val = parseFloat(value);\\n                if (!isNaN(val)) {\\n                    valueAccessor()(val);\\n                }\\n            });\\n            valueAccessor().subscribe(function(value) {\\n                var str = JSON.stringify(value);\\n                if ((str == \\\"0\\\") && ([\\\"-0\\\", \\\"-0.\\\"].indexOf(stringified()) >= 0))\\n                     return;\\n                 if ([\\\"null\\\", \\\"\\\"].indexOf(str) >= 0)\\n                     return;\\n                stringified(str);\\n            });\\n            ko.applyBindingsToNode(\\n                element,\\n                {\\n                    value: stringified,\\n                    valueUpdate: allBindings.get('valueUpdate'),\\n                },\\n                context,\\n            );\\n        }\\n    };\\n    var json_data = {\\\"formatted_vals\\\":[\\\"0.0\\\",\\\"0.05\\\",\\\"0.1\\\",\\\"0.15\\\",\\\"0.2\\\",\\\"0.25\\\",\\\"0.3\\\",\\\"0.35\\\",\\\"0.4\\\",\\\"0.45\\\",\\\"0.5\\\",\\\"0.55\\\",\\\"0.6\\\",\\\"0.65\\\",\\\"0.7\\\",\\\"0.75\\\",\\\"0.8\\\",\\\"0.85\\\",\\\"0.9\\\",\\\"0.95\\\",\\\"1.0\\\"],\\\"changes\\\":WebIO.getval({\\\"name\\\":\\\"changes\\\",\\\"scope\\\":\\\"14725110027105797157\\\",\\\"id\\\":\\\"17582353211973647484\\\",\\\"type\\\":\\\"observable\\\"}),\\\"index\\\":WebIO.getval({\\\"name\\\":\\\"index\\\",\\\"scope\\\":\\\"14725110027105797157\\\",\\\"id\\\":\\\"12667833103813407793\\\",\\\"type\\\":\\\"observable\\\"})};\\n    var self = this;\\n    function AppViewModel() {\\n        for (var key in json_data) {\\n            var el = json_data[key];\\n            this[key] = Array.isArray(el) ? ko.observableArray(el) : ko.observable(el);\\n        }\\n        \\n        [this[\\\"formatted_val\\\"]=ko.computed(    function(){\\n        return this.formatted_vals()[parseInt(this.index())-(1)];\\n    }\\n,this)]\\n        [this[\\\"changes\\\"].subscribe((function (val){!(this.valueFromJulia[\\\"changes\\\"]) ? (WebIO.setval({\\\"name\\\":\\\"changes\\\",\\\"scope\\\":\\\"14725110027105797157\\\",\\\"id\\\":\\\"17582353211973647484\\\",\\\"type\\\":\\\"observable\\\"},val)) : undefined; return this.valueFromJulia[\\\"changes\\\"]=false}),self),this[\\\"index\\\"].subscribe((function (val){!(this.valueFromJulia[\\\"index\\\"]) ? (WebIO.setval({\\\"name\\\":\\\"index\\\",\\\"scope\\\":\\\"14725110027105797157\\\",\\\"id\\\":\\\"12667833103813407793\\\",\\\"type\\\":\\\"observable\\\"},val)) : undefined; return this.valueFromJulia[\\\"index\\\"]=false}),self)]\\n        \\n    }\\n    self.model = new AppViewModel();\\n    self.valueFromJulia = {};\\n    for (var key in json_data) {\\n        self.valueFromJulia[key] = false;\\n    }\\n    ko.applyBindings(self.model, self.dom);\\n}\\n);\\n    (WebIO.importBlock({\\\"data\\\":[{\\\"name\\\":\\\"knockout\\\",\\\"type\\\":\\\"js\\\",\\\"url\\\":\\\"/assetserver/4e142ee0ad0c998de353f56b1a22e601395860e5-knockout.js\\\"},{\\\"name\\\":\\\"knockout_punches\\\",\\\"type\\\":\\\"js\\\",\\\"url\\\":\\\"/assetserver/40dc135a5ed691edabc1bf4ca7dc4709f127a380-knockout_punches.js\\\"}],\\\"type\\\":\\\"async_block\\\"})).then((imports) => handler.apply(this, imports));\\n}\\n\")])], Dict{Symbol, Any}(:className => \"field interact-widget\")), Node{WebIO.DOM}(WebIO.DOM(:html, :div), Any[Scope(Node{WebIO.DOM}(WebIO.DOM(:html, :div), Any[Node{WebIO.DOM}(WebIO.DOM(:html, :div), Any[Node{WebIO.DOM}(WebIO.DOM(:html, :label), Any[\"T\"], Dict{Symbol, Any}(:className => \"interact \", :style => Dict{Any, Any}(:padding => \"5px 10px 0px 10px\")))], Dict{Symbol, Any}(:className => \"interact-flex-row-left\")), Node{WebIO.DOM}(WebIO.DOM(:html, :div), Any[Node{WebIO.DOM}(WebIO.DOM(:html, :input), Any[], Dict{Symbol, Any}(:max => 12, :min => 1, :attributes => Dict{Any, Any}(:type => \"range\", Symbol(\"data-bind\") => \"numericValue: index, valueUpdate: 'input', event: {change: function (){this.changes(this.changes()+1)}}\", \"orient\" => \"horizontal\"), :step => 1, :className => \"slider slider is-fullwidth\", :style => Dict{Any, Any}()))], Dict{Symbol, Any}(:className => \"interact-flex-row-center\")), Node{WebIO.DOM}(WebIO.DOM(:html, :div), Any[Node{WebIO.DOM}(WebIO.DOM(:html, :p), Any[], Dict{Symbol, Any}(:attributes => Dict(\"data-bind\" => \"text: formatted_val\")))], Dict{Symbol, Any}(:className => \"interact-flex-row-right\"))], Dict{Symbol, Any}(:className => \"interact-flex-row interact-widget\")), Dict{String, Tuple{Observables.AbstractObservable, Union{Nothing, Bool}}}(\"changes\" => (Observable{Int64} with 1 listeners. Value:\n",
       "0, nothing), \"index\" => (Observable{Any} with 2 listeners. Value:\n",
       "6, nothing)), Set{String}(), nothing, Asset[Asset(\"js\", \"knockout\", \"C:\\\\Users\\\\Omar Kana\\\\.julia\\\\packages\\\\Knockout\\\\IP1uR\\\\src\\\\..\\\\assets\\\\knockout.js\"), Asset(\"js\", \"knockout_punches\", \"C:\\\\Users\\\\Omar Kana\\\\.julia\\\\packages\\\\Knockout\\\\IP1uR\\\\src\\\\..\\\\assets\\\\knockout_punches.js\"), Asset(\"js\", nothing, \"C:\\\\Users\\\\Omar Kana\\\\.julia\\\\packages\\\\InteractBase\\\\Zfu5P\\\\src\\\\..\\\\assets\\\\all.js\"), Asset(\"css\", nothing, \"C:\\\\Users\\\\Omar Kana\\\\.julia\\\\packages\\\\InteractBase\\\\Zfu5P\\\\src\\\\..\\\\assets\\\\style.css\"), Asset(\"css\", nothing, \"C:\\\\Users\\\\Omar Kana\\\\.julia\\\\packages\\\\Interact\\\\SbgIk\\\\src\\\\..\\\\assets\\\\bulma_confined.min.css\")], Dict{Any, Any}(\"changes\" => Any[WebIO.JSString(\"(function (val){return (val!=this.model[\\\"changes\\\"]()) ? (this.valueFromJulia[\\\"changes\\\"]=true, this.model[\\\"changes\\\"](val)) : undefined})\")], \"index\" => Any[WebIO.JSString(\"(function (val){return (val!=this.model[\\\"index\\\"]()) ? (this.valueFromJulia[\\\"index\\\"]=true, this.model[\\\"index\\\"](val)) : undefined})\")]), WebIO.ConnectionPool(Channel{Any}(32), Set{AbstractConnection}(), Condition(Base.InvasiveLinkedList{Task}(Task (runnable) @0x00000000741b4c90, Task (runnable) @0x00000000741b4c90), Base.AlwaysLockedST(1))), WebIO.JSString[WebIO.JSString(\"function () {\\n    var handler = (function (ko, koPunches) {\\n    ko.punches.enableAll();\\n    ko.bindingHandlers.numericValue = {\\n        init: function(element, valueAccessor, allBindings, data, context) {\\n            var stringified = ko.observable(ko.unwrap(valueAccessor()));\\n            stringified.subscribe(function(value) {\\n                var val = parseFloat(value);\\n                if (!isNaN(val)) {\\n                    valueAccessor()(val);\\n                }\\n            });\\n            valueAccessor().subscribe(function(value) {\\n                var str = JSON.stringify(value);\\n                if ((str == \\\"0\\\") && ([\\\"-0\\\", \\\"-0.\\\"].indexOf(stringified()) >= 0))\\n                     return;\\n                 if ([\\\"null\\\", \\\"\\\"].indexOf(str) >= 0)\\n                     return;\\n                stringified(str);\\n            });\\n            ko.applyBindingsToNode(\\n                element,\\n                {\\n                    value: stringified,\\n                    valueUpdate: allBindings.get('valueUpdate'),\\n                },\\n                context,\\n            );\\n        }\\n    };\\n    var json_data = {\\\"formatted_vals\\\":[\\\"1\\\",\\\"2\\\",\\\"3\\\",\\\"4\\\",\\\"5\\\",\\\"6\\\",\\\"7\\\",\\\"8\\\",\\\"9\\\",\\\"10\\\",\\\"11\\\",\\\"12\\\"],\\\"changes\\\":WebIO.getval({\\\"name\\\":\\\"changes\\\",\\\"scope\\\":\\\"11467803351525843658\\\",\\\"id\\\":\\\"6724351610449396675\\\",\\\"type\\\":\\\"observable\\\"}),\\\"index\\\":WebIO.getval({\\\"name\\\":\\\"index\\\",\\\"scope\\\":\\\"11467803351525843658\\\",\\\"id\\\":\\\"11401054407894726955\\\",\\\"type\\\":\\\"observable\\\"})};\\n    var self = this;\\n    function AppViewModel() {\\n        for (var key in json_data) {\\n            var el = json_data[key];\\n            this[key] = Array.isArray(el) ? ko.observableArray(el) : ko.observable(el);\\n        }\\n        \\n        [this[\\\"formatted_val\\\"]=ko.computed(    function(){\\n        return this.formatted_vals()[parseInt(this.index())-(1)];\\n    }\\n,this)]\\n        [this[\\\"changes\\\"].subscribe((function (val){!(this.valueFromJulia[\\\"changes\\\"]) ? (WebIO.setval({\\\"name\\\":\\\"changes\\\",\\\"scope\\\":\\\"11467803351525843658\\\",\\\"id\\\":\\\"6724351610449396675\\\",\\\"type\\\":\\\"observable\\\"},val)) : undefined; return this.valueFromJulia[\\\"changes\\\"]=false}),self),this[\\\"index\\\"].subscribe((function (val){!(this.valueFromJulia[\\\"index\\\"]) ? (WebIO.setval({\\\"name\\\":\\\"index\\\",\\\"scope\\\":\\\"11467803351525843658\\\",\\\"id\\\":\\\"11401054407894726955\\\",\\\"type\\\":\\\"observable\\\"},val)) : undefined; return this.valueFromJulia[\\\"index\\\"]=false}),self)]\\n        \\n    }\\n    self.model = new AppViewModel();\\n    self.valueFromJulia = {};\\n    for (var key in json_data) {\\n        self.valueFromJulia[key] = false;\\n    }\\n    ko.applyBindings(self.model, self.dom);\\n}\\n);\\n    (WebIO.importBlock({\\\"data\\\":[{\\\"name\\\":\\\"knockout\\\",\\\"type\\\":\\\"js\\\",\\\"url\\\":\\\"/assetserver/4e142ee0ad0c998de353f56b1a22e601395860e5-knockout.js\\\"},{\\\"name\\\":\\\"knockout_punches\\\",\\\"type\\\":\\\"js\\\",\\\"url\\\":\\\"/assetserver/40dc135a5ed691edabc1bf4ca7dc4709f127a380-knockout_punches.js\\\"}],\\\"type\\\":\\\"async_block\\\"})).then((imports) => handler.apply(this, imports));\\n}\\n\")])], Dict{Symbol, Any}(:className => \"field interact-widget\")), Observable{Any} with 0 listeners. Value:\n",
       "Node{WebIO.DOM}(WebIO.DOM(:html, :div), Any[Plot{Plots.GRBackend() n=2}], Dict{Symbol, Any}(:className => \"interact-flex-row interact-widget\"))], Dict{Symbol, Any}())"
      ]
     },
     "execution_count": 10,
     "metadata": {
      "application/vnd.webio.node+json": {
       "kernelId": "fef2849e-615e-4b61-acc4-8c8be64479ea"
      }
     },
     "output_type": "execute_result"
    }
   ],
   "source": [
    "@manipulate for Ka = 0:0.05:1, Ke1 = 0:0.05:1, Ke2 = 0:0.05:1, T = 1:1:12\n",
    "    dosetimes = 0:T:168 # we will dose every 4 hours \n",
    "    condition(u,t,integrator) = t ∈ dosetimes\n",
    "    affect!(integrator) = integrator.u[1] += 150 \n",
    "    cb = DiscreteCallback(condition,affect!)\n",
    "    p = [Ka, Ke1, Ke2]\n",
    "    u0 = [150, 0, 0]\n",
    "    tspan = (0 , 168)\n",
    "    prob = ODEProblem(dCdt, u0, tspan, p)\n",
    "    sol = solve(prob,Rosenbrock23(),callback=cb,tstops=dosetimes)\n",
    "    plot(sol.t, sol[2,:]; xlabel = \"T\", ylabel = \"C\", labels = \"Parent Drug\", legend = :topleft, dpi = 150, ticks = false, color = :black, width = 3, xlim = tspan)\n",
    "    plot!(sol.t, sol[3,:]; xlabel = \"T\", ylabel = \"C\", labels = \"Metabolite\", legend = :topleft, line = :dot, color = :black, width = 3)\n",
    "end"
   ]
  }
 ],
 "metadata": {
  "@webio": {
   "lastCommId": "7d0bb359fd714e8f80e32f339b460b50",
   "lastKernelId": "fef2849e-615e-4b61-acc4-8c8be64479ea"
  },
  "kernelspec": {
   "display_name": "Julia 1.6.1",
   "language": "julia",
   "name": "julia-1.6"
  },
  "language_info": {
   "file_extension": ".jl",
   "mimetype": "application/julia",
   "name": "julia",
   "version": "1.6.1"
  }
 },
 "nbformat": 4,
 "nbformat_minor": 4
}
