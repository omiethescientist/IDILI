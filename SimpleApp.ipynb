{
 "cells": [
  {
   "cell_type": "code",
   "execution_count": 1,
   "metadata": {},
   "outputs": [],
   "source": [
    "using Pkg\n",
    "Pkg.activate(\".\")"
   ]
  },
  {
   "cell_type": "code",
   "execution_count": 2,
   "metadata": {},
   "outputs": [
    {
     "data": {
      "text/html": [
       "<script>\n",
       "// Immediately-invoked-function-expression to avoid global variables.\n",
       "(function() {\n",
       "    var warning_div = document.getElementById(\"webio-warning-8966913373317125410\");\n",
       "    var hide = function () {\n",
       "        var script = document.getElementById(\"webio-setup-11044407517978353243\");\n",
       "        var parent = script && script.parentElement;\n",
       "        var grandparent = parent && parent.parentElement;\n",
       "        if (grandparent) {\n",
       "            grandparent.style.display = \"none\";\n",
       "        }\n",
       "        warning_div.style.display = \"none\";\n",
       "    };\n",
       "    if (typeof Jupyter !== \"undefined\") {\n",
       "        console.log(\"WebIO detected Jupyter notebook environment.\");\n",
       "        // Jupyter notebook.\n",
       "        var extensions = (\n",
       "            Jupyter\n",
       "            && Jupyter.notebook.config.data\n",
       "            && Jupyter.notebook.config.data.load_extensions\n",
       "        );\n",
       "        if (extensions && extensions[\"webio-jupyter-notebook\"]) {\n",
       "            // Extension already loaded.\n",
       "            console.log(\"Jupyter WebIO nbextension detected; not loading ad-hoc.\");\n",
       "            hide();\n",
       "            return;\n",
       "        }\n",
       "    } else if (window.location.pathname.includes(\"/lab\")) {\n",
       "        // Guessing JupyterLa\n",
       "        console.log(\"Jupyter Lab detected; make sure the @webio/jupyter-lab-provider labextension is installed.\");\n",
       "        hide();\n",
       "        return;\n",
       "    }\n",
       "})();\n",
       "\n",
       "</script>\n",
       "<p\n",
       "    id=\"webio-warning-8966913373317125410\"\n",
       "    class=\"output_text output_stderr\"\n",
       "    style=\"padding: 1em; font-weight: bold;\"\n",
       ">\n",
       "    Unable to load WebIO. Please make sure WebIO works for your Jupyter client.\n",
       "    For troubleshooting, please see <a href=\"https://juliagizmos.github.io/WebIO.jl/latest/providers/ijulia/\">\n",
       "    the WebIO/IJulia documentation</a>.\n",
       "    <!-- TODO: link to installation docs. -->\n",
       "</p>\n"
      ],
      "text/plain": [
       "HTML{String}(\"<script>\\n// Immediately-invoked-function-expression to avoid global variables.\\n(function() {\\n    var warning_div = document.getElementById(\\\"webio-warning-8966913373317125410\\\");\\n    var hide = function () {\\n        var script = document.getElementById(\\\"webio-setup-11044407517978353243\\\");\\n        var parent = script && script.parentElement;\\n        var grandparent = parent && parent.parentElement;\\n        if (grandparent) {\\n            grandparent.style.display = \\\"none\\\";\\n        }\\n        warning_div.style.display = \\\"none\\\";\\n    };\\n    if (typeof Jupyter !== \\\"undefined\\\") {\\n        console.log(\\\"WebIO detected Jupyter notebook environment.\\\");\\n        // Jupyter notebook.\\n        var extensions = (\\n            Jupyter\\n            && Jupyter.notebook.config.data\\n            && Jupyter.notebook.config.data.load_extensions\\n        );\\n        if (extensions && extensions[\\\"webio-jupyter-notebook\\\"]) {\\n            // Extension already loaded.\\n            console.log(\\\"Jupyter WebIO nbextension detected; not loading ad-hoc.\\\");\\n            hide();\\n            return;\\n        }\\n    } else if (window.location.pathname.includes(\\\"/lab\\\")) {\\n        // Guessing JupyterLa\\n        console.log(\\\"Jupyter Lab detected; make sure the @webio/jupyter-lab-provider labextension is installed.\\\");\\n        hide();\\n        return;\\n    }\\n})();\\n\\n</script>\\n<p\\n    id=\\\"webio-warning-8966913373317125410\\\"\\n    class=\\\"output_text output_stderr\\\"\\n    style=\\\"padding: 1em; font-weight: bold;\\\"\\n>\\n    Unable to load WebIO. Please make sure WebIO works for your Jupyter client.\\n    For troubleshooting, please see <a href=\\\"https://juliagizmos.github.io/WebIO.jl/latest/providers/ijulia/\\\">\\n    the WebIO/IJulia documentation</a>.\\n    <!-- TODO: link to installation docs. -->\\n</p>\\n\")"
      ]
     },
     "metadata": {},
     "output_type": "display_data"
    }
   ],
   "source": [
    "using Interact, Plots, OrdinaryDiffEq"
   ]
  },
  {
   "cell_type": "markdown",
   "metadata": {},
   "source": [
    "## Generic System"
   ]
  },
  {
   "cell_type": "markdown",
   "metadata": {},
   "source": [
    "We can do  a model where we simulate the action of \n",
    "\n",
    "$GI \\rightarrow Plasma \\rightarrow \\emptyset$\n",
    "\n",
    "Where:\n",
    "\n",
    "$\\frac{dC_{GI}}{dt} = -K_a*C_{GI} \\tag{1}$\n",
    "\n",
    "represents the transport from the gut to the plasma and \n",
    "\n",
    "$ \\frac{dC_{p}}{dt} = K_a*C_{GI} - Ke*C_p \\tag{2}$\n",
    "\n",
    "represents the absorption from the gut minus the elimination from the plasma.\n",
    "\n",
    "For some time period $T$, we use a callback function in julia to simulate the appearance of more drug in the GI compartment. "
   ]
  },
  {
   "cell_type": "code",
   "execution_count": 3,
   "metadata": {},
   "outputs": [
    {
     "data": {
      "text/plain": [
       "dCdt (generic function with 1 method)"
      ]
     },
     "execution_count": 3,
     "metadata": {},
     "output_type": "execute_result"
    }
   ],
   "source": [
    "#Create ODE Object\n",
    "function dCdt(du, u, p, t)\n",
    "    Ka, Ke = p\n",
    "    du[1] = -Ka*u[1] #Where u[1] = C_GI & u[2] = C_P\n",
    "    du[2] = Ka*u[1] - Ke*u[2] \n",
    "end"
   ]
  },
  {
   "cell_type": "code",
   "execution_count": 4,
   "metadata": {},
   "outputs": [
    {
     "data": {
      "application/vnd.webio.node+json": {
       "children": [
        {
         "children": [
          {
           "children": [
            {
             "children": [
              {
               "children": [
                {
                 "children": [
                  "Ka"
                 ],
                 "instanceArgs": {
                  "namespace": "html",
                  "tag": "label"
                 },
                 "nodeType": "DOM",
                 "props": {
                  "className": "interact ",
                  "style": {
                   "padding": "5px 10px 0px 10px"
                  }
                 },
                 "type": "node"
                }
               ],
               "instanceArgs": {
                "namespace": "html",
                "tag": "div"
               },
               "nodeType": "DOM",
               "props": {
                "className": "interact-flex-row-left"
               },
               "type": "node"
              },
              {
               "children": [
                {
                 "children": [],
                 "instanceArgs": {
                  "namespace": "html",
                  "tag": "input"
                 },
                 "nodeType": "DOM",
                 "props": {
                  "attributes": {
                   "data-bind": "numericValue: index, valueUpdate: 'input', event: {change: function (){this.changes(this.changes()+1)}}",
                   "orient": "horizontal",
                   "type": "range"
                  },
                  "className": "slider slider is-fullwidth",
                  "max": 101,
                  "min": 1,
                  "step": 1,
                  "style": {}
                 },
                 "type": "node"
                }
               ],
               "instanceArgs": {
                "namespace": "html",
                "tag": "div"
               },
               "nodeType": "DOM",
               "props": {
                "className": "interact-flex-row-center"
               },
               "type": "node"
              },
              {
               "children": [
                {
                 "children": [],
                 "instanceArgs": {
                  "namespace": "html",
                  "tag": "p"
                 },
                 "nodeType": "DOM",
                 "props": {
                  "attributes": {
                   "data-bind": "text: formatted_val"
                  }
                 },
                 "type": "node"
                }
               ],
               "instanceArgs": {
                "namespace": "html",
                "tag": "div"
               },
               "nodeType": "DOM",
               "props": {
                "className": "interact-flex-row-right"
               },
               "type": "node"
              }
             ],
             "instanceArgs": {
              "namespace": "html",
              "tag": "div"
             },
             "nodeType": "DOM",
             "props": {
              "className": "interact-flex-row interact-widget"
             },
             "type": "node"
            }
           ],
           "instanceArgs": {
            "handlers": {
             "changes": [
              "(function (val){return (val!=this.model[\"changes\"]()) ? (this.valueFromJulia[\"changes\"]=true, this.model[\"changes\"](val)) : undefined})"
             ],
             "index": [
              "(function (val){return (val!=this.model[\"index\"]()) ? (this.valueFromJulia[\"index\"]=true, this.model[\"index\"](val)) : undefined})"
             ]
            },
            "id": "597396734889789434",
            "imports": {
             "data": [
              {
               "name": "knockout",
               "type": "js",
               "url": "/assetserver/4e142ee0ad0c998de353f56b1a22e601395860e5-knockout.js"
              },
              {
               "name": "knockout_punches",
               "type": "js",
               "url": "/assetserver/40dc135a5ed691edabc1bf4ca7dc4709f127a380-knockout_punches.js"
              },
              {
               "name": null,
               "type": "js",
               "url": "/assetserver/30aa72339af74f9a627673d92d8040d5cfe9533e-all.js"
              },
              {
               "name": null,
               "type": "css",
               "url": "/assetserver/75af5f53e0088a81c77fec0c74dec23ed676eb50-style.css"
              },
              {
               "name": null,
               "type": "css",
               "url": "/assetserver/6ae6a66e550095b6b8e9dd509bd67c34fc3cbbc5-bulma_confined.min.css"
              }
             ],
             "type": "async_block"
            },
            "mount_callbacks": [
             "function () {\n    var handler = (function (ko, koPunches) {\n    ko.punches.enableAll();\n    ko.bindingHandlers.numericValue = {\n        init: function(element, valueAccessor, allBindings, data, context) {\n            var stringified = ko.observable(ko.unwrap(valueAccessor()));\n            stringified.subscribe(function(value) {\n                var val = parseFloat(value);\n                if (!isNaN(val)) {\n                    valueAccessor()(val);\n                }\n            });\n            valueAccessor().subscribe(function(value) {\n                var str = JSON.stringify(value);\n                if ((str == \"0\") && ([\"-0\", \"-0.\"].indexOf(stringified()) >= 0))\n                     return;\n                 if ([\"null\", \"\"].indexOf(str) >= 0)\n                     return;\n                stringified(str);\n            });\n            ko.applyBindingsToNode(\n                element,\n                {\n                    value: stringified,\n                    valueUpdate: allBindings.get('valueUpdate'),\n                },\n                context,\n            );\n        }\n    };\n    var json_data = {\"formatted_vals\":[\"0.0\",\"0.01\",\"0.02\",\"0.03\",\"0.04\",\"0.05\",\"0.06\",\"0.07\",\"0.08\",\"0.09\",\"0.1\",\"0.11\",\"0.12\",\"0.13\",\"0.14\",\"0.15\",\"0.16\",\"0.17\",\"0.18\",\"0.19\",\"0.2\",\"0.21\",\"0.22\",\"0.23\",\"0.24\",\"0.25\",\"0.26\",\"0.27\",\"0.28\",\"0.29\",\"0.3\",\"0.31\",\"0.32\",\"0.33\",\"0.34\",\"0.35\",\"0.36\",\"0.37\",\"0.38\",\"0.39\",\"0.4\",\"0.41\",\"0.42\",\"0.43\",\"0.44\",\"0.45\",\"0.46\",\"0.47\",\"0.48\",\"0.49\",\"0.5\",\"0.51\",\"0.52\",\"0.53\",\"0.54\",\"0.55\",\"0.56\",\"0.57\",\"0.58\",\"0.59\",\"0.6\",\"0.61\",\"0.62\",\"0.63\",\"0.64\",\"0.65\",\"0.66\",\"0.67\",\"0.68\",\"0.69\",\"0.7\",\"0.71\",\"0.72\",\"0.73\",\"0.74\",\"0.75\",\"0.76\",\"0.77\",\"0.78\",\"0.79\",\"0.8\",\"0.81\",\"0.82\",\"0.83\",\"0.84\",\"0.85\",\"0.86\",\"0.87\",\"0.88\",\"0.89\",\"0.9\",\"0.91\",\"0.92\",\"0.93\",\"0.94\",\"0.95\",\"0.96\",\"0.97\",\"0.98\",\"0.99\",\"1.0\"],\"changes\":WebIO.getval({\"name\":\"changes\",\"scope\":\"597396734889789434\",\"id\":\"4664137395500697908\",\"type\":\"observable\"}),\"index\":WebIO.getval({\"name\":\"index\",\"scope\":\"597396734889789434\",\"id\":\"11197986791441030343\",\"type\":\"observable\"})};\n    var self = this;\n    function AppViewModel() {\n        for (var key in json_data) {\n            var el = json_data[key];\n            this[key] = Array.isArray(el) ? ko.observableArray(el) : ko.observable(el);\n        }\n        \n        [this[\"formatted_val\"]=ko.computed(    function(){\n        return this.formatted_vals()[parseInt(this.index())-(1)];\n    }\n,this)]\n        [this[\"changes\"].subscribe((function (val){!(this.valueFromJulia[\"changes\"]) ? (WebIO.setval({\"name\":\"changes\",\"scope\":\"597396734889789434\",\"id\":\"4664137395500697908\",\"type\":\"observable\"},val)) : undefined; return this.valueFromJulia[\"changes\"]=false}),self),this[\"index\"].subscribe((function (val){!(this.valueFromJulia[\"index\"]) ? (WebIO.setval({\"name\":\"index\",\"scope\":\"597396734889789434\",\"id\":\"11197986791441030343\",\"type\":\"observable\"},val)) : undefined; return this.valueFromJulia[\"index\"]=false}),self)]\n        \n    }\n    self.model = new AppViewModel();\n    self.valueFromJulia = {};\n    for (var key in json_data) {\n        self.valueFromJulia[key] = false;\n    }\n    ko.applyBindings(self.model, self.dom);\n}\n);\n    (WebIO.importBlock({\"data\":[{\"name\":\"knockout\",\"type\":\"js\",\"url\":\"/assetserver/4e142ee0ad0c998de353f56b1a22e601395860e5-knockout.js\"},{\"name\":\"knockout_punches\",\"type\":\"js\",\"url\":\"/assetserver/40dc135a5ed691edabc1bf4ca7dc4709f127a380-knockout_punches.js\"}],\"type\":\"async_block\"})).then((imports) => handler.apply(this, imports));\n}\n"
            ],
            "observables": {
             "changes": {
              "id": "4664137395500697908",
              "sync": false,
              "value": 0
             },
             "index": {
              "id": "11197986791441030343",
              "sync": true,
              "value": 51
             }
            },
            "systemjs_options": null
           },
           "nodeType": "Scope",
           "props": {},
           "type": "node"
          }
         ],
         "instanceArgs": {
          "namespace": "html",
          "tag": "div"
         },
         "nodeType": "DOM",
         "props": {
          "className": "field interact-widget"
         },
         "type": "node"
        },
        {
         "children": [
          {
           "children": [
            {
             "children": [
              {
               "children": [
                {
                 "children": [
                  "Ke"
                 ],
                 "instanceArgs": {
                  "namespace": "html",
                  "tag": "label"
                 },
                 "nodeType": "DOM",
                 "props": {
                  "className": "interact ",
                  "style": {
                   "padding": "5px 10px 0px 10px"
                  }
                 },
                 "type": "node"
                }
               ],
               "instanceArgs": {
                "namespace": "html",
                "tag": "div"
               },
               "nodeType": "DOM",
               "props": {
                "className": "interact-flex-row-left"
               },
               "type": "node"
              },
              {
               "children": [
                {
                 "children": [],
                 "instanceArgs": {
                  "namespace": "html",
                  "tag": "input"
                 },
                 "nodeType": "DOM",
                 "props": {
                  "attributes": {
                   "data-bind": "numericValue: index, valueUpdate: 'input', event: {change: function (){this.changes(this.changes()+1)}}",
                   "orient": "horizontal",
                   "type": "range"
                  },
                  "className": "slider slider is-fullwidth",
                  "max": 101,
                  "min": 1,
                  "step": 1,
                  "style": {}
                 },
                 "type": "node"
                }
               ],
               "instanceArgs": {
                "namespace": "html",
                "tag": "div"
               },
               "nodeType": "DOM",
               "props": {
                "className": "interact-flex-row-center"
               },
               "type": "node"
              },
              {
               "children": [
                {
                 "children": [],
                 "instanceArgs": {
                  "namespace": "html",
                  "tag": "p"
                 },
                 "nodeType": "DOM",
                 "props": {
                  "attributes": {
                   "data-bind": "text: formatted_val"
                  }
                 },
                 "type": "node"
                }
               ],
               "instanceArgs": {
                "namespace": "html",
                "tag": "div"
               },
               "nodeType": "DOM",
               "props": {
                "className": "interact-flex-row-right"
               },
               "type": "node"
              }
             ],
             "instanceArgs": {
              "namespace": "html",
              "tag": "div"
             },
             "nodeType": "DOM",
             "props": {
              "className": "interact-flex-row interact-widget"
             },
             "type": "node"
            }
           ],
           "instanceArgs": {
            "handlers": {
             "changes": [
              "(function (val){return (val!=this.model[\"changes\"]()) ? (this.valueFromJulia[\"changes\"]=true, this.model[\"changes\"](val)) : undefined})"
             ],
             "index": [
              "(function (val){return (val!=this.model[\"index\"]()) ? (this.valueFromJulia[\"index\"]=true, this.model[\"index\"](val)) : undefined})"
             ]
            },
            "id": "16198127370425078513",
            "imports": {
             "data": [
              {
               "name": "knockout",
               "type": "js",
               "url": "/assetserver/4e142ee0ad0c998de353f56b1a22e601395860e5-knockout.js"
              },
              {
               "name": "knockout_punches",
               "type": "js",
               "url": "/assetserver/40dc135a5ed691edabc1bf4ca7dc4709f127a380-knockout_punches.js"
              },
              {
               "name": null,
               "type": "js",
               "url": "/assetserver/30aa72339af74f9a627673d92d8040d5cfe9533e-all.js"
              },
              {
               "name": null,
               "type": "css",
               "url": "/assetserver/75af5f53e0088a81c77fec0c74dec23ed676eb50-style.css"
              },
              {
               "name": null,
               "type": "css",
               "url": "/assetserver/6ae6a66e550095b6b8e9dd509bd67c34fc3cbbc5-bulma_confined.min.css"
              }
             ],
             "type": "async_block"
            },
            "mount_callbacks": [
             "function () {\n    var handler = (function (ko, koPunches) {\n    ko.punches.enableAll();\n    ko.bindingHandlers.numericValue = {\n        init: function(element, valueAccessor, allBindings, data, context) {\n            var stringified = ko.observable(ko.unwrap(valueAccessor()));\n            stringified.subscribe(function(value) {\n                var val = parseFloat(value);\n                if (!isNaN(val)) {\n                    valueAccessor()(val);\n                }\n            });\n            valueAccessor().subscribe(function(value) {\n                var str = JSON.stringify(value);\n                if ((str == \"0\") && ([\"-0\", \"-0.\"].indexOf(stringified()) >= 0))\n                     return;\n                 if ([\"null\", \"\"].indexOf(str) >= 0)\n                     return;\n                stringified(str);\n            });\n            ko.applyBindingsToNode(\n                element,\n                {\n                    value: stringified,\n                    valueUpdate: allBindings.get('valueUpdate'),\n                },\n                context,\n            );\n        }\n    };\n    var json_data = {\"formatted_vals\":[\"0.0\",\"0.01\",\"0.02\",\"0.03\",\"0.04\",\"0.05\",\"0.06\",\"0.07\",\"0.08\",\"0.09\",\"0.1\",\"0.11\",\"0.12\",\"0.13\",\"0.14\",\"0.15\",\"0.16\",\"0.17\",\"0.18\",\"0.19\",\"0.2\",\"0.21\",\"0.22\",\"0.23\",\"0.24\",\"0.25\",\"0.26\",\"0.27\",\"0.28\",\"0.29\",\"0.3\",\"0.31\",\"0.32\",\"0.33\",\"0.34\",\"0.35\",\"0.36\",\"0.37\",\"0.38\",\"0.39\",\"0.4\",\"0.41\",\"0.42\",\"0.43\",\"0.44\",\"0.45\",\"0.46\",\"0.47\",\"0.48\",\"0.49\",\"0.5\",\"0.51\",\"0.52\",\"0.53\",\"0.54\",\"0.55\",\"0.56\",\"0.57\",\"0.58\",\"0.59\",\"0.6\",\"0.61\",\"0.62\",\"0.63\",\"0.64\",\"0.65\",\"0.66\",\"0.67\",\"0.68\",\"0.69\",\"0.7\",\"0.71\",\"0.72\",\"0.73\",\"0.74\",\"0.75\",\"0.76\",\"0.77\",\"0.78\",\"0.79\",\"0.8\",\"0.81\",\"0.82\",\"0.83\",\"0.84\",\"0.85\",\"0.86\",\"0.87\",\"0.88\",\"0.89\",\"0.9\",\"0.91\",\"0.92\",\"0.93\",\"0.94\",\"0.95\",\"0.96\",\"0.97\",\"0.98\",\"0.99\",\"1.0\"],\"changes\":WebIO.getval({\"name\":\"changes\",\"scope\":\"16198127370425078513\",\"id\":\"635611091138347736\",\"type\":\"observable\"}),\"index\":WebIO.getval({\"name\":\"index\",\"scope\":\"16198127370425078513\",\"id\":\"5053876375446565567\",\"type\":\"observable\"})};\n    var self = this;\n    function AppViewModel() {\n        for (var key in json_data) {\n            var el = json_data[key];\n            this[key] = Array.isArray(el) ? ko.observableArray(el) : ko.observable(el);\n        }\n        \n        [this[\"formatted_val\"]=ko.computed(    function(){\n        return this.formatted_vals()[parseInt(this.index())-(1)];\n    }\n,this)]\n        [this[\"changes\"].subscribe((function (val){!(this.valueFromJulia[\"changes\"]) ? (WebIO.setval({\"name\":\"changes\",\"scope\":\"16198127370425078513\",\"id\":\"635611091138347736\",\"type\":\"observable\"},val)) : undefined; return this.valueFromJulia[\"changes\"]=false}),self),this[\"index\"].subscribe((function (val){!(this.valueFromJulia[\"index\"]) ? (WebIO.setval({\"name\":\"index\",\"scope\":\"16198127370425078513\",\"id\":\"5053876375446565567\",\"type\":\"observable\"},val)) : undefined; return this.valueFromJulia[\"index\"]=false}),self)]\n        \n    }\n    self.model = new AppViewModel();\n    self.valueFromJulia = {};\n    for (var key in json_data) {\n        self.valueFromJulia[key] = false;\n    }\n    ko.applyBindings(self.model, self.dom);\n}\n);\n    (WebIO.importBlock({\"data\":[{\"name\":\"knockout\",\"type\":\"js\",\"url\":\"/assetserver/4e142ee0ad0c998de353f56b1a22e601395860e5-knockout.js\"},{\"name\":\"knockout_punches\",\"type\":\"js\",\"url\":\"/assetserver/40dc135a5ed691edabc1bf4ca7dc4709f127a380-knockout_punches.js\"}],\"type\":\"async_block\"})).then((imports) => handler.apply(this, imports));\n}\n"
            ],
            "observables": {
             "changes": {
              "id": "635611091138347736",
              "sync": false,
              "value": 0
             },
             "index": {
              "id": "5053876375446565567",
              "sync": true,
              "value": 51
             }
            },
            "systemjs_options": null
           },
           "nodeType": "Scope",
           "props": {},
           "type": "node"
          }
         ],
         "instanceArgs": {
          "namespace": "html",
          "tag": "div"
         },
         "nodeType": "DOM",
         "props": {
          "className": "field interact-widget"
         },
         "type": "node"
        },
        {
         "children": [
          {
           "children": [
            {
             "children": [
              {
               "children": [
                {
                 "children": [
                  "T"
                 ],
                 "instanceArgs": {
                  "namespace": "html",
                  "tag": "label"
                 },
                 "nodeType": "DOM",
                 "props": {
                  "className": "interact ",
                  "style": {
                   "padding": "5px 10px 0px 10px"
                  }
                 },
                 "type": "node"
                }
               ],
               "instanceArgs": {
                "namespace": "html",
                "tag": "div"
               },
               "nodeType": "DOM",
               "props": {
                "className": "interact-flex-row-left"
               },
               "type": "node"
              },
              {
               "children": [
                {
                 "children": [],
                 "instanceArgs": {
                  "namespace": "html",
                  "tag": "input"
                 },
                 "nodeType": "DOM",
                 "props": {
                  "attributes": {
                   "data-bind": "numericValue: index, valueUpdate: 'input', event: {change: function (){this.changes(this.changes()+1)}}",
                   "orient": "horizontal",
                   "type": "range"
                  },
                  "className": "slider slider is-fullwidth",
                  "max": 12,
                  "min": 1,
                  "step": 1,
                  "style": {}
                 },
                 "type": "node"
                }
               ],
               "instanceArgs": {
                "namespace": "html",
                "tag": "div"
               },
               "nodeType": "DOM",
               "props": {
                "className": "interact-flex-row-center"
               },
               "type": "node"
              },
              {
               "children": [
                {
                 "children": [],
                 "instanceArgs": {
                  "namespace": "html",
                  "tag": "p"
                 },
                 "nodeType": "DOM",
                 "props": {
                  "attributes": {
                   "data-bind": "text: formatted_val"
                  }
                 },
                 "type": "node"
                }
               ],
               "instanceArgs": {
                "namespace": "html",
                "tag": "div"
               },
               "nodeType": "DOM",
               "props": {
                "className": "interact-flex-row-right"
               },
               "type": "node"
              }
             ],
             "instanceArgs": {
              "namespace": "html",
              "tag": "div"
             },
             "nodeType": "DOM",
             "props": {
              "className": "interact-flex-row interact-widget"
             },
             "type": "node"
            }
           ],
           "instanceArgs": {
            "handlers": {
             "changes": [
              "(function (val){return (val!=this.model[\"changes\"]()) ? (this.valueFromJulia[\"changes\"]=true, this.model[\"changes\"](val)) : undefined})"
             ],
             "index": [
              "(function (val){return (val!=this.model[\"index\"]()) ? (this.valueFromJulia[\"index\"]=true, this.model[\"index\"](val)) : undefined})"
             ]
            },
            "id": "13925605604781271007",
            "imports": {
             "data": [
              {
               "name": "knockout",
               "type": "js",
               "url": "/assetserver/4e142ee0ad0c998de353f56b1a22e601395860e5-knockout.js"
              },
              {
               "name": "knockout_punches",
               "type": "js",
               "url": "/assetserver/40dc135a5ed691edabc1bf4ca7dc4709f127a380-knockout_punches.js"
              },
              {
               "name": null,
               "type": "js",
               "url": "/assetserver/30aa72339af74f9a627673d92d8040d5cfe9533e-all.js"
              },
              {
               "name": null,
               "type": "css",
               "url": "/assetserver/75af5f53e0088a81c77fec0c74dec23ed676eb50-style.css"
              },
              {
               "name": null,
               "type": "css",
               "url": "/assetserver/6ae6a66e550095b6b8e9dd509bd67c34fc3cbbc5-bulma_confined.min.css"
              }
             ],
             "type": "async_block"
            },
            "mount_callbacks": [
             "function () {\n    var handler = (function (ko, koPunches) {\n    ko.punches.enableAll();\n    ko.bindingHandlers.numericValue = {\n        init: function(element, valueAccessor, allBindings, data, context) {\n            var stringified = ko.observable(ko.unwrap(valueAccessor()));\n            stringified.subscribe(function(value) {\n                var val = parseFloat(value);\n                if (!isNaN(val)) {\n                    valueAccessor()(val);\n                }\n            });\n            valueAccessor().subscribe(function(value) {\n                var str = JSON.stringify(value);\n                if ((str == \"0\") && ([\"-0\", \"-0.\"].indexOf(stringified()) >= 0))\n                     return;\n                 if ([\"null\", \"\"].indexOf(str) >= 0)\n                     return;\n                stringified(str);\n            });\n            ko.applyBindingsToNode(\n                element,\n                {\n                    value: stringified,\n                    valueUpdate: allBindings.get('valueUpdate'),\n                },\n                context,\n            );\n        }\n    };\n    var json_data = {\"formatted_vals\":[\"1\",\"2\",\"3\",\"4\",\"5\",\"6\",\"7\",\"8\",\"9\",\"10\",\"11\",\"12\"],\"changes\":WebIO.getval({\"name\":\"changes\",\"scope\":\"13925605604781271007\",\"id\":\"14465456832831148808\",\"type\":\"observable\"}),\"index\":WebIO.getval({\"name\":\"index\",\"scope\":\"13925605604781271007\",\"id\":\"2858374709329660239\",\"type\":\"observable\"})};\n    var self = this;\n    function AppViewModel() {\n        for (var key in json_data) {\n            var el = json_data[key];\n            this[key] = Array.isArray(el) ? ko.observableArray(el) : ko.observable(el);\n        }\n        \n        [this[\"formatted_val\"]=ko.computed(    function(){\n        return this.formatted_vals()[parseInt(this.index())-(1)];\n    }\n,this)]\n        [this[\"changes\"].subscribe((function (val){!(this.valueFromJulia[\"changes\"]) ? (WebIO.setval({\"name\":\"changes\",\"scope\":\"13925605604781271007\",\"id\":\"14465456832831148808\",\"type\":\"observable\"},val)) : undefined; return this.valueFromJulia[\"changes\"]=false}),self),this[\"index\"].subscribe((function (val){!(this.valueFromJulia[\"index\"]) ? (WebIO.setval({\"name\":\"index\",\"scope\":\"13925605604781271007\",\"id\":\"2858374709329660239\",\"type\":\"observable\"},val)) : undefined; return this.valueFromJulia[\"index\"]=false}),self)]\n        \n    }\n    self.model = new AppViewModel();\n    self.valueFromJulia = {};\n    for (var key in json_data) {\n        self.valueFromJulia[key] = false;\n    }\n    ko.applyBindings(self.model, self.dom);\n}\n);\n    (WebIO.importBlock({\"data\":[{\"name\":\"knockout\",\"type\":\"js\",\"url\":\"/assetserver/4e142ee0ad0c998de353f56b1a22e601395860e5-knockout.js\"},{\"name\":\"knockout_punches\",\"type\":\"js\",\"url\":\"/assetserver/40dc135a5ed691edabc1bf4ca7dc4709f127a380-knockout_punches.js\"}],\"type\":\"async_block\"})).then((imports) => handler.apply(this, imports));\n}\n"
            ],
            "observables": {
             "changes": {
              "id": "14465456832831148808",
              "sync": false,
              "value": 0
             },
             "index": {
              "id": "2858374709329660239",
              "sync": true,
              "value": 6
             }
            },
            "systemjs_options": null
           },
           "nodeType": "Scope",
           "props": {},
           "type": "node"
          }
         ],
         "instanceArgs": {
          "namespace": "html",
          "tag": "div"
         },
         "nodeType": "DOM",
         "props": {
          "className": "field interact-widget"
         },
         "type": "node"
        },
        {
         "children": [
          {
           "children": [],
           "instanceArgs": {
            "id": "15200193065479565096",
            "name": "obs-node"
           },
           "nodeType": "ObservableNode",
           "props": {},
           "type": "node"
          }
         ],
         "instanceArgs": {
          "handlers": {},
          "id": "9870355790439993095",
          "imports": {
           "data": [],
           "type": "async_block"
          },
          "mount_callbacks": [],
          "observables": {
           "obs-node": {
            "id": "15200193065479565096",
            "sync": false,
            "value": {
             "children": [
              {
               "children": [],
               "instanceArgs": {
                "namespace": "html",
                "tag": "div"
               },
               "nodeType": "DOM",
               "props": {
                "setInnerHtml": "<?xml version=\"1.0\" encoding=\"utf-8\"?>\n<svg xmlns=\"http://www.w3.org/2000/svg\" xmlns:xlink=\"http://www.w3.org/1999/xlink\" width=\"600\" height=\"400\" viewBox=\"0 0 2400 1600\">\n<defs>\n  <clipPath id=\"clip370\">\n    <rect x=\"0\" y=\"0\" width=\"2400\" height=\"1600\"/>\n  </clipPath>\n</defs>\n<path clip-path=\"url(#clip370)\" d=\"\nM0 1600 L2400 1600 L2400 0 L0 0  Z\n  \" fill=\"#ffffff\" fill-rule=\"evenodd\" fill-opacity=\"1\"/>\n<defs>\n  <clipPath id=\"clip371\">\n    <rect x=\"480\" y=\"0\" width=\"1681\" height=\"1600\"/>\n  </clipPath>\n</defs>\n<path clip-path=\"url(#clip370)\" d=\"\nM110.512 1489.49 L2352.76 1489.49 L2352.76 47.2441 L110.512 47.2441  Z\n  \" fill=\"#ffffff\" fill-rule=\"evenodd\" fill-opacity=\"1\"/>\n<defs>\n  <clipPath id=\"clip372\">\n    <rect x=\"110\" y=\"47\" width=\"2243\" height=\"1443\"/>\n  </clipPath>\n</defs>\n<polyline clip-path=\"url(#clip370)\" style=\"stroke:#000000; stroke-width:4; stroke-opacity:1; fill:none\" points=\"\n  110.512,1489.49 2352.76,1489.49 \n  \"/>\n<path clip-path=\"url(#clip370)\" d=\"M 0 0 M1211.53 1534.99 L1251.73 1534.99 L1251.73 1540.4 L1234.86 1540.4 L1234.86 1582.51 L1228.4 1582.51 L1228.4 1540.4 L1211.53 1540.4 L1211.53 1534.99 Z\" fill=\"#000000\" fill-rule=\"evenodd\" fill-opacity=\"1\" /><polyline clip-path=\"url(#clip370)\" style=\"stroke:#000000; stroke-width:4; stroke-opacity:1; fill:none\" points=\"\n  110.512,1489.49 110.512,47.2441 \n  \"/>\n<path clip-path=\"url(#clip370)\" d=\"M 0 0 M-19.6036 749.205 L-12.8241 749.205 Q-15.8478 752.452 -17.3438 756.144 Q-18.8397 759.804 -18.8397 763.942 Q-18.8397 772.09 -13.8426 776.419 Q-8.87738 780.747 0.543869 780.747 Q9.93329 780.747 14.9304 776.419 Q19.8956 772.09 19.8956 763.942 Q19.8956 759.804 18.3997 756.144 Q16.9037 752.452 13.88 749.205 L20.5958 749.205 Q22.8875 752.579 24.0333 756.367 Q25.1792 760.122 25.1792 764.324 Q25.1792 775.114 18.5906 781.32 Q11.9703 787.527 0.543869 787.527 Q-10.9144 787.527 -17.5029 781.32 Q-24.1232 775.114 -24.1232 764.324 Q-24.1232 760.059 -22.9774 756.303 Q-21.8634 752.515 -19.6036 749.205 Z\" fill=\"#000000\" fill-rule=\"evenodd\" fill-opacity=\"1\" /><polyline clip-path=\"url(#clip372)\" style=\"stroke:#000000; stroke-width:12; stroke-opacity:1; fill:none\" points=\"\n  110.512,1448.67 110.512,1448.65 110.514,1448.45 110.532,1446.45 110.625,1436.06 110.782,1418.65 111.101,1383.92 111.567,1334.68 112.303,1260.52 113.27,1169.15 \n  114.586,1055.65 116.196,932.345 118.196,801.021 120.527,675.027 123.262,559.576 126.348,464.793 129.84,394.956 133.696,354.599 137.957,344.477 142.591,363.619 \n  147.647,409.271 153.09,476.73 158.925,560.562 165.1,654.17 171.582,751.585 178.304,847.275 185.22,937.359 190.592,1000.65 194.663,650.78 \n  197.344,481.234 201.579,291.469 205.017,194.827 209.65,126.426 214.284,111.763 219.461,140.022 224.796,202.143 230.635,293.217 236.686,400.585 243.138,519.369 \n  249.772,638.744 256.67,754.913 263.679,861.853 270.672,956.268 274.805,607.345 277.977,416.055 282.301,239.044 286.626,138.184 291.382,92.7132 \n  296.277,97.7728 301.602,144.159 307.187,222.113 313.178,324.487 319.433,440.312 326.008,562.766 332.781,683.294 339.756,797.52 346.843,901.295 350.753,952.996 \n  354.89,604.152 357.174,460.981 361.446,267.924 364.569,178.039 369.222,105.289 373.875,88.4282 379.06,115.887 384.404,178.344 390.245,270.537 \n  396.299,379.607 402.752,500.442 409.387,622.039 416.285,740.44 423.296,849.511 430.449,947.881 430.833,952.781 434.669,625.474 435.436,572.469 \n  439.486,348.808 441.081,284.124 445.494,159.661 448.079,118.42 452.959,88.257 456.575,97.5336 462.009,146.199 467.444,222.891 473.506,326.878 479.665,441.121 \n  486.284,564.425 492.999,683.899 499.998,798.472 507.051,901.695 510.913,952.763 515.049,604.062 517.317,461.787 521.586,268.447 524.696,178.655 \n  529.347,105.476 533.998,88.2691 539.18,115.428 544.521,177.654 550.36,269.682 556.411,378.653 562.862,499.455 569.496,621.071 576.392,739.533 583.402,848.687 \n  590.554,947.154 590.993,952.761 594.815,626.448 595.58,573.558 599.62,349.953 601.212,285.22 605.617,160.403 608.197,118.925 613.072,88.2904 \n  616.683,97.2456 622.112,145.501 627.54,221.873 633.598,325.627 639.752,439.735 646.367,563.004 653.078,682.513 660.075,797.182 667.127,900.531 671.073,952.761 \n  675.209,604.075 677.505,460.2 681.776,267.403 684.91,177.415 689.563,104.967 694.217,88.3343 699.403,115.982 704.747,178.579 710.59,270.878 \n  716.645,380.012 723.098,500.878 729.735,622.477 736.633,740.857 743.644,849.893 750.798,948.22 751.153,952.761 754.708,645.994 755.419,595.452 \n  759.274,373.328 760.79,307.774 765.05,176.164 767.542,130.074 772.294,90.0766 775.812,92.5972 781.124,132.549 786.437,202.351 792.393,301.204 798.451,412.376 \n  804.991,534.694 811.637,654.741 818.587,771.217 825.602,876.998 831.233,952.762 835.367,604.187 838.18,432.052 842.482,248.877 846.037,156.789 \n  850.741,97.1341 855.445,90.5814 860.694,126.826 866.109,195.943 872.017,292.935 878.137,404.849 884.645,526.699 891.328,647.855 898.26,764.669 905.297,871.505 \n  911.313,952.759 915.449,604.048 918.369,426.267 922.68,245.046 926.99,140.701 931.729,92.1502 936.607,94.7267 941.91,139.065 947.476,215.545 \n  953.447,316.935 959.685,432.332 966.245,554.79 973.006,675.702 979.972,790.545 987.052,895.079 991.394,952.763 995.531,603.98 997.956,452.923 \n  1002.24,262.571 1005.48,171.847 1010.14,102.733 1014.81,88.7352 1020.01,118.637 1025.38,182.953 1031.24,276.502 1037.31,386.391 1043.78,507.544 1050.42,629.054 \n  1057.33,747.047 1064.35,855.524 1071.47,952.767 1075.61,603.946 1078.82,411.114 1083.15,235.113 1087.48,135.222 1092.25,90.7332 1097.15,96.676 \n  1102.48,143.873 1108.08,222.492 1114.08,325.392 1120.34,441.568 1126.92,564.222 1133.7,684.81 1140.67,798.998 1147.76,902.667 1151.55,952.769 \n  1155.69,603.914 1157.94,463.016 1162.21,269.215 1165.3,179.636 1169.95,105.882 1174.59,88.2392 1179.78,115.038 1185.11,176.997 1190.95,268.831 1197,377.688 \n  1203.45,498.446 1210.08,620.076 1216.98,738.596 1223.98,847.836 1231.14,946.402 1231.63,952.767 1235.53,621.458 1236.3,567.989 1240.39,344.133 \n  1242,279.656 1246.45,156.644 1249.05,116.369 1253.95,88.1193 1257.59,98.6979 1263.05,149.017 1268.5,227.001 1274.59,331.925 1280.76,446.707 1287.4,570.151 \n  1294.13,689.476 1301.13,803.656 1308.19,906.372 1311.71,952.762 1315.85,603.988 1318,468.399 1322.27,272.791 1325.27,183.918 1329.91,107.674 \n  1334.55,88.0623 1339.72,113.176 1345.05,173.847 1350.87,264.737 1356.91,373.016 1363.35,493.543 1369.97,615.223 1376.86,734.017 1383.86,843.661 1391.01,942.707 \n  1391.79,952.761 1395.97,601.231 1396.86,542.012 1401.14,319.031 1402.89,253.97 1407.48,140.504 1410.24,105.501 1415.28,88.8484 1419.06,107.41 \n  1424.65,167.387 1430.23,252.627 1436.42,362.596 1442.7,480.05 1449.42,603.89 1456.21,721.998 1463.27,833.659 1470.37,933.272 1471.87,952.765 \n  1476.03,602.781 1477.34,517.022 1481.59,304.146 1483.81,227.556 1488.4,127.663 1491.59,96.1153 1496.65,92.6803 1500.81,121.912 1506.46,191.827 1512.11,283.431 \n  1518.37,397.275 1524.71,516.016 1531.47,639.136 1538.31,755.073 1545.39,863.615 1551.95,952.763 1556.09,603.77 1559.16,418.342 1563.48,239.781 \n  1567.81,137.752 1572.56,91.3532 1577.45,95.7331 1582.77,141.614 1588.35,219.259 1594.34,321.475 1600.59,437.306 1607.16,559.879 1613.93,680.625 1620.91,795.119 \n  1627.99,899.189 1632.03,952.763 1636.17,603.946 1638.5,458.281 1642.78,266.1 1645.94,175.94 1650.59,104.368 1655.25,88.4379 1660.44,116.695 \n  1665.79,179.762 1671.64,272.405 1677.7,381.75 1684.16,502.698 1690.8,624.276 1697.7,742.552 1704.71,851.437 1711.87,949.586 1712.11,952.767 \n  1714.61,728.265 1715.18,683.472 1718.24,478.199 1719.54,408.168 1723.16,256.42 1725.38,191.889 1729.59,116.072 1732.8,92.101 1737.64,96.6735 1742.47,137.056 \n  1748,211.715 1753.64,306.498 1759.84,420.49 1766.19,539.084 1772.91,660.29 1779.75,774.415 1786.81,880.457 1792.19,952.758 1796.33,604.017 \n  1799.07,435.635 1803.37,251.182 1806.87,159.272 1811.57,97.9896 1816.27,90.1691 1821.51,125.343 1826.92,193.658 1832.82,290.082 1838.93,401.67 1845.43,523.418 \n  1852.11,644.649 1859.04,761.674 1866.07,868.796 1872.28,952.754 1876.41,604.028 1879.38,423.557 1883.7,243.265 1888.01,139.71 1892.75,91.8777 \n  1897.64,95.0488 1902.94,139.891 1908.51,216.751 1914.49,318.409 1920.73,433.946 1927.3,556.441 1934.06,677.299 1941.03,792.029 1948.11,896.412 1952.36,952.763 \n  1956.49,603.972 1958.89,454.634 1963.16,263.699 1966.38,173.143 1971.04,103.246 1975.71,88.6325 1980.91,118.01 1986.27,181.928 1992.12,275.189 \n  1998.19,384.905 2004.65,505.993 2011.3,627.526 2018.21,745.611 2025.22,854.219 2032.38,952.044 2032.44,952.767 2033,897.429 2033.57,844.642 \n  2034.78,740.837 2036,646.156 2037.95,514.611 2039.98,402.407 2042.73,283.481 2045.61,194.626 2049.16,126.152 2052.89,93.3314 2057.24,93.7288 2061.82,126.998 \n  2066.98,191.773 2072.42,279.499 2078.34,386.699 2084.53,502.528 2091.08,622.374 2097.82,737.991 2104.77,846.43 2111.82,943.908 2112.52,952.755 \n  2116.62,606.161 2117.44,550.83 2121.68,326.532 2123.35,262.888 2127.91,145.636 2130.58,109.122 2135.58,88.2352 2139.29,103.797 2144.84,160.364 2150.38,243.172 \n  2156.54,351.516 2162.79,468.199 2169.48,592.03 2176.26,710.671 2183.3,823.275 2190.39,924.012 2192.6,952.747 2196.74,603.406 2198.38,497.645 \n  2202.63,291.841 2205.18,209.071 2209.78,118.888 2213.26,91.5308 2218.35,97.3475 2223.44,142.198 2229.16,222.037 2235,321.913 2241.34,439.317 2247.82,560.133 \n  2254.64,681.708 2261.55,795.247 2268.67,899.676 2272.68,952.757 2276.81,603.819 2279.13,458.831 2283.41,266.421 2286.56,176.368 2291.22,104.528 \n  2295.87,88.4003 2301.06,116.498 2306.41,179.45 2312.26,272.011 2318.32,381.311 2324.77,502.243 2331.41,623.831 2338.31,742.136 2345.33,851.06 2352.48,949.253 \n  2352.76,952.763 \n  \"/>\n<path clip-path=\"url(#clip370)\" d=\"\nM185.254 216.279 L596.173 216.279 L596.173 95.3189 L185.254 95.3189  Z\n  \" fill=\"#ffffff\" fill-rule=\"evenodd\" fill-opacity=\"1\"/>\n<polyline clip-path=\"url(#clip370)\" style=\"stroke:#000000; stroke-width:4; stroke-opacity:1; fill:none\" points=\"\n  185.254,216.279 596.173,216.279 596.173,95.3189 185.254,95.3189 185.254,216.279 \n  \"/>\n<polyline clip-path=\"url(#clip370)\" style=\"stroke:#000000; stroke-width:4; stroke-opacity:1; fill:none\" points=\"\n  210.167,155.799 359.65,155.799 \n  \"/>\n<path clip-path=\"url(#clip370)\" d=\"M 0 0 M389.24 142.361 L389.24 155.348 L395.12 155.348 Q398.384 155.348 400.166 153.658 Q401.948 151.968 401.948 148.843 Q401.948 145.741 400.166 144.051 Q398.384 142.361 395.12 142.361 L389.24 142.361 M384.564 138.519 L395.12 138.519 Q400.93 138.519 403.893 141.158 Q406.879 143.773 406.879 148.843 Q406.879 153.959 403.893 156.574 Q400.93 159.19 395.12 159.19 L389.24 159.19 L389.24 173.079 L384.564 173.079 L384.564 138.519 Z\" fill=\"#000000\" fill-rule=\"evenodd\" fill-opacity=\"1\" /><path clip-path=\"url(#clip370)\" d=\"M 0 0 M412.967 137.061 L417.226 137.061 L417.226 173.079 L412.967 173.079 L412.967 137.061 Z\" fill=\"#000000\" fill-rule=\"evenodd\" fill-opacity=\"1\" /><path clip-path=\"url(#clip370)\" d=\"M 0 0 M437.92 160.047 Q432.758 160.047 430.768 161.227 Q428.777 162.408 428.777 165.255 Q428.777 167.523 430.258 168.866 Q431.763 170.185 434.332 170.185 Q437.874 170.185 440.004 167.685 Q442.156 165.162 442.156 160.996 L442.156 160.047 L437.92 160.047 M446.416 158.287 L446.416 173.079 L442.156 173.079 L442.156 169.144 Q440.698 171.505 438.522 172.639 Q436.346 173.75 433.198 173.75 Q429.217 173.75 426.856 171.528 Q424.518 169.283 424.518 165.533 Q424.518 161.158 427.434 158.935 Q430.374 156.713 436.184 156.713 L442.156 156.713 L442.156 156.297 Q442.156 153.357 440.212 151.76 Q438.291 150.139 434.795 150.139 Q432.573 150.139 430.467 150.672 Q428.36 151.204 426.416 152.269 L426.416 148.334 Q428.754 147.431 430.953 146.991 Q433.152 146.528 435.235 146.528 Q440.86 146.528 443.638 149.445 Q446.416 152.361 446.416 158.287 Z\" fill=\"#000000\" fill-rule=\"evenodd\" fill-opacity=\"1\" /><path clip-path=\"url(#clip370)\" d=\"M 0 0 M471.716 147.917 L471.716 151.945 Q469.911 151.019 467.966 150.556 Q466.022 150.093 463.939 150.093 Q460.767 150.093 459.17 151.065 Q457.596 152.037 457.596 153.982 Q457.596 155.463 458.73 156.32 Q459.865 157.153 463.291 157.917 L464.749 158.241 Q469.286 159.213 471.184 160.996 Q473.105 162.755 473.105 165.926 Q473.105 169.537 470.235 171.644 Q467.388 173.75 462.388 173.75 Q460.304 173.75 458.036 173.334 Q455.791 172.94 453.291 172.13 L453.291 167.732 Q455.652 168.959 457.943 169.584 Q460.235 170.185 462.48 170.185 Q465.49 170.185 467.11 169.167 Q468.73 168.125 468.73 166.25 Q468.73 164.514 467.55 163.588 Q466.392 162.662 462.434 161.806 L460.953 161.459 Q456.994 160.625 455.235 158.912 Q453.476 157.176 453.476 154.167 Q453.476 150.51 456.068 148.519 Q458.661 146.528 463.429 146.528 Q465.791 146.528 467.874 146.875 Q469.957 147.223 471.716 147.917 Z\" fill=\"#000000\" fill-rule=\"evenodd\" fill-opacity=\"1\" /><path clip-path=\"url(#clip370)\" d=\"M 0 0 M500.073 152.13 Q501.67 149.26 503.892 147.894 Q506.114 146.528 509.124 146.528 Q513.175 146.528 515.374 149.375 Q517.573 152.199 517.573 157.431 L517.573 173.079 L513.29 173.079 L513.29 157.57 Q513.29 153.843 511.971 152.037 Q510.651 150.232 507.943 150.232 Q504.633 150.232 502.712 152.431 Q500.79 154.63 500.79 158.426 L500.79 173.079 L496.508 173.079 L496.508 157.57 Q496.508 153.82 495.189 152.037 Q493.869 150.232 491.114 150.232 Q487.851 150.232 485.929 152.454 Q484.008 154.653 484.008 158.426 L484.008 173.079 L479.726 173.079 L479.726 147.153 L484.008 147.153 L484.008 151.181 Q485.466 148.797 487.503 147.662 Q489.54 146.528 492.341 146.528 Q495.165 146.528 497.133 147.963 Q499.124 149.398 500.073 152.13 Z\" fill=\"#000000\" fill-rule=\"evenodd\" fill-opacity=\"1\" /><path clip-path=\"url(#clip370)\" d=\"M 0 0 M537.85 160.047 Q532.688 160.047 530.698 161.227 Q528.707 162.408 528.707 165.255 Q528.707 167.523 530.188 168.866 Q531.693 170.185 534.262 170.185 Q537.804 170.185 539.934 167.685 Q542.086 165.162 542.086 160.996 L542.086 160.047 L537.85 160.047 M546.346 158.287 L546.346 173.079 L542.086 173.079 L542.086 169.144 Q540.628 171.505 538.452 172.639 Q536.276 173.75 533.128 173.75 Q529.147 173.75 526.786 171.528 Q524.448 169.283 524.448 165.533 Q524.448 161.158 527.364 158.935 Q530.304 156.713 536.114 156.713 L542.086 156.713 L542.086 156.297 Q542.086 153.357 540.142 151.76 Q538.221 150.139 534.725 150.139 Q532.503 150.139 530.397 150.672 Q528.29 151.204 526.346 152.269 L526.346 148.334 Q528.684 147.431 530.883 146.991 Q533.082 146.528 535.165 146.528 Q540.79 146.528 543.568 149.445 Q546.346 152.361 546.346 158.287 Z\" fill=\"#000000\" fill-rule=\"evenodd\" fill-opacity=\"1\" /></svg>\n"
               },
               "type": "node"
              }
             ],
             "instanceArgs": {
              "namespace": "html",
              "tag": "div"
             },
             "nodeType": "DOM",
             "props": {
              "className": "interact-flex-row interact-widget"
             },
             "type": "node"
            }
           }
          },
          "systemjs_options": null
         },
         "nodeType": "Scope",
         "props": {},
         "type": "node"
        }
       ],
       "instanceArgs": {
        "namespace": "html",
        "tag": "div"
       },
       "nodeType": "DOM",
       "props": {},
       "type": "node"
      },
      "text/html": [
       "<div\n",
       "    class=\"webio-mountpoint\"\n",
       "    data-webio-mountpoint=\"10153049159017141148\"\n",
       ">\n",
       "    <script>\n",
       "    if (window.require && require.defined && require.defined(\"nbextensions/webio-jupyter-notebook\")) {\n",
       "        console.log(\"Jupyter WebIO extension detected, not mounting.\");\n",
       "    } else if (window.WebIO) {\n",
       "        WebIO.mount(\n",
       "            document.querySelector('[data-webio-mountpoint=\"10153049159017141148\"]'),\n",
       "            {\"props\":{},\"nodeType\":\"DOM\",\"type\":\"node\",\"instanceArgs\":{\"namespace\":\"html\",\"tag\":\"div\"},\"children\":[{\"props\":{\"className\":\"field interact-widget\"},\"nodeType\":\"DOM\",\"type\":\"node\",\"instanceArgs\":{\"namespace\":\"html\",\"tag\":\"div\"},\"children\":[{\"props\":{},\"nodeType\":\"Scope\",\"type\":\"node\",\"instanceArgs\":{\"imports\":{\"data\":[{\"name\":\"knockout\",\"type\":\"js\",\"url\":\"\\/assetserver\\/4e142ee0ad0c998de353f56b1a22e601395860e5-knockout.js\"},{\"name\":\"knockout_punches\",\"type\":\"js\",\"url\":\"\\/assetserver\\/40dc135a5ed691edabc1bf4ca7dc4709f127a380-knockout_punches.js\"},{\"name\":null,\"type\":\"js\",\"url\":\"\\/assetserver\\/30aa72339af74f9a627673d92d8040d5cfe9533e-all.js\"},{\"name\":null,\"type\":\"css\",\"url\":\"\\/assetserver\\/75af5f53e0088a81c77fec0c74dec23ed676eb50-style.css\"},{\"name\":null,\"type\":\"css\",\"url\":\"\\/assetserver\\/6ae6a66e550095b6b8e9dd509bd67c34fc3cbbc5-bulma_confined.min.css\"}],\"type\":\"async_block\"},\"id\":\"597396734889789434\",\"handlers\":{\"changes\":[\"(function (val){return (val!=this.model[\\\"changes\\\"]()) ? (this.valueFromJulia[\\\"changes\\\"]=true, this.model[\\\"changes\\\"](val)) : undefined})\"],\"index\":[\"(function (val){return (val!=this.model[\\\"index\\\"]()) ? (this.valueFromJulia[\\\"index\\\"]=true, this.model[\\\"index\\\"](val)) : undefined})\"]},\"systemjs_options\":null,\"mount_callbacks\":[\"function () {\\n    var handler = (function (ko, koPunches) {\\n    ko.punches.enableAll();\\n    ko.bindingHandlers.numericValue = {\\n        init: function(element, valueAccessor, allBindings, data, context) {\\n            var stringified = ko.observable(ko.unwrap(valueAccessor()));\\n            stringified.subscribe(function(value) {\\n                var val = parseFloat(value);\\n                if (!isNaN(val)) {\\n                    valueAccessor()(val);\\n                }\\n            });\\n            valueAccessor().subscribe(function(value) {\\n                var str = JSON.stringify(value);\\n                if ((str == \\\"0\\\") && ([\\\"-0\\\", \\\"-0.\\\"].indexOf(stringified()) >= 0))\\n                     return;\\n                 if ([\\\"null\\\", \\\"\\\"].indexOf(str) >= 0)\\n                     return;\\n                stringified(str);\\n            });\\n            ko.applyBindingsToNode(\\n                element,\\n                {\\n                    value: stringified,\\n                    valueUpdate: allBindings.get('valueUpdate'),\\n                },\\n                context,\\n            );\\n        }\\n    };\\n    var json_data = {\\\"formatted_vals\\\":[\\\"0.0\\\",\\\"0.01\\\",\\\"0.02\\\",\\\"0.03\\\",\\\"0.04\\\",\\\"0.05\\\",\\\"0.06\\\",\\\"0.07\\\",\\\"0.08\\\",\\\"0.09\\\",\\\"0.1\\\",\\\"0.11\\\",\\\"0.12\\\",\\\"0.13\\\",\\\"0.14\\\",\\\"0.15\\\",\\\"0.16\\\",\\\"0.17\\\",\\\"0.18\\\",\\\"0.19\\\",\\\"0.2\\\",\\\"0.21\\\",\\\"0.22\\\",\\\"0.23\\\",\\\"0.24\\\",\\\"0.25\\\",\\\"0.26\\\",\\\"0.27\\\",\\\"0.28\\\",\\\"0.29\\\",\\\"0.3\\\",\\\"0.31\\\",\\\"0.32\\\",\\\"0.33\\\",\\\"0.34\\\",\\\"0.35\\\",\\\"0.36\\\",\\\"0.37\\\",\\\"0.38\\\",\\\"0.39\\\",\\\"0.4\\\",\\\"0.41\\\",\\\"0.42\\\",\\\"0.43\\\",\\\"0.44\\\",\\\"0.45\\\",\\\"0.46\\\",\\\"0.47\\\",\\\"0.48\\\",\\\"0.49\\\",\\\"0.5\\\",\\\"0.51\\\",\\\"0.52\\\",\\\"0.53\\\",\\\"0.54\\\",\\\"0.55\\\",\\\"0.56\\\",\\\"0.57\\\",\\\"0.58\\\",\\\"0.59\\\",\\\"0.6\\\",\\\"0.61\\\",\\\"0.62\\\",\\\"0.63\\\",\\\"0.64\\\",\\\"0.65\\\",\\\"0.66\\\",\\\"0.67\\\",\\\"0.68\\\",\\\"0.69\\\",\\\"0.7\\\",\\\"0.71\\\",\\\"0.72\\\",\\\"0.73\\\",\\\"0.74\\\",\\\"0.75\\\",\\\"0.76\\\",\\\"0.77\\\",\\\"0.78\\\",\\\"0.79\\\",\\\"0.8\\\",\\\"0.81\\\",\\\"0.82\\\",\\\"0.83\\\",\\\"0.84\\\",\\\"0.85\\\",\\\"0.86\\\",\\\"0.87\\\",\\\"0.88\\\",\\\"0.89\\\",\\\"0.9\\\",\\\"0.91\\\",\\\"0.92\\\",\\\"0.93\\\",\\\"0.94\\\",\\\"0.95\\\",\\\"0.96\\\",\\\"0.97\\\",\\\"0.98\\\",\\\"0.99\\\",\\\"1.0\\\"],\\\"changes\\\":WebIO.getval({\\\"name\\\":\\\"changes\\\",\\\"scope\\\":\\\"597396734889789434\\\",\\\"id\\\":\\\"4664137395500697908\\\",\\\"type\\\":\\\"observable\\\"}),\\\"index\\\":WebIO.getval({\\\"name\\\":\\\"index\\\",\\\"scope\\\":\\\"597396734889789434\\\",\\\"id\\\":\\\"11197986791441030343\\\",\\\"type\\\":\\\"observable\\\"})};\\n    var self = this;\\n    function AppViewModel() {\\n        for (var key in json_data) {\\n            var el = json_data[key];\\n            this[key] = Array.isArray(el) ? ko.observableArray(el) : ko.observable(el);\\n        }\\n        \\n        [this[\\\"formatted_val\\\"]=ko.computed(    function(){\\n        return this.formatted_vals()[parseInt(this.index())-(1)];\\n    }\\n,this)]\\n        [this[\\\"changes\\\"].subscribe((function (val){!(this.valueFromJulia[\\\"changes\\\"]) ? (WebIO.setval({\\\"name\\\":\\\"changes\\\",\\\"scope\\\":\\\"597396734889789434\\\",\\\"id\\\":\\\"4664137395500697908\\\",\\\"type\\\":\\\"observable\\\"},val)) : undefined; return this.valueFromJulia[\\\"changes\\\"]=false}),self),this[\\\"index\\\"].subscribe((function (val){!(this.valueFromJulia[\\\"index\\\"]) ? (WebIO.setval({\\\"name\\\":\\\"index\\\",\\\"scope\\\":\\\"597396734889789434\\\",\\\"id\\\":\\\"11197986791441030343\\\",\\\"type\\\":\\\"observable\\\"},val)) : undefined; return this.valueFromJulia[\\\"index\\\"]=false}),self)]\\n        \\n    }\\n    self.model = new AppViewModel();\\n    self.valueFromJulia = {};\\n    for (var key in json_data) {\\n        self.valueFromJulia[key] = false;\\n    }\\n    ko.applyBindings(self.model, self.dom);\\n}\\n);\\n    (WebIO.importBlock({\\\"data\\\":[{\\\"name\\\":\\\"knockout\\\",\\\"type\\\":\\\"js\\\",\\\"url\\\":\\\"\\/assetserver\\/4e142ee0ad0c998de353f56b1a22e601395860e5-knockout.js\\\"},{\\\"name\\\":\\\"knockout_punches\\\",\\\"type\\\":\\\"js\\\",\\\"url\\\":\\\"\\/assetserver\\/40dc135a5ed691edabc1bf4ca7dc4709f127a380-knockout_punches.js\\\"}],\\\"type\\\":\\\"async_block\\\"})).then((imports) => handler.apply(this, imports));\\n}\\n\"],\"observables\":{\"changes\":{\"sync\":false,\"id\":\"4664137395500697908\",\"value\":0},\"index\":{\"sync\":true,\"id\":\"11197986791441030343\",\"value\":51}}},\"children\":[{\"props\":{\"className\":\"interact-flex-row interact-widget\"},\"nodeType\":\"DOM\",\"type\":\"node\",\"instanceArgs\":{\"namespace\":\"html\",\"tag\":\"div\"},\"children\":[{\"props\":{\"className\":\"interact-flex-row-left\"},\"nodeType\":\"DOM\",\"type\":\"node\",\"instanceArgs\":{\"namespace\":\"html\",\"tag\":\"div\"},\"children\":[{\"props\":{\"className\":\"interact \",\"style\":{\"padding\":\"5px 10px 0px 10px\"}},\"nodeType\":\"DOM\",\"type\":\"node\",\"instanceArgs\":{\"namespace\":\"html\",\"tag\":\"label\"},\"children\":[\"Ka\"]}]},{\"props\":{\"className\":\"interact-flex-row-center\"},\"nodeType\":\"DOM\",\"type\":\"node\",\"instanceArgs\":{\"namespace\":\"html\",\"tag\":\"div\"},\"children\":[{\"props\":{\"max\":101,\"min\":1,\"attributes\":{\"type\":\"range\",\"data-bind\":\"numericValue: index, valueUpdate: 'input', event: {change: function (){this.changes(this.changes()+1)}}\",\"orient\":\"horizontal\"},\"step\":1,\"className\":\"slider slider is-fullwidth\",\"style\":{}},\"nodeType\":\"DOM\",\"type\":\"node\",\"instanceArgs\":{\"namespace\":\"html\",\"tag\":\"input\"},\"children\":[]}]},{\"props\":{\"className\":\"interact-flex-row-right\"},\"nodeType\":\"DOM\",\"type\":\"node\",\"instanceArgs\":{\"namespace\":\"html\",\"tag\":\"div\"},\"children\":[{\"props\":{\"attributes\":{\"data-bind\":\"text: formatted_val\"}},\"nodeType\":\"DOM\",\"type\":\"node\",\"instanceArgs\":{\"namespace\":\"html\",\"tag\":\"p\"},\"children\":[]}]}]}]}]},{\"props\":{\"className\":\"field interact-widget\"},\"nodeType\":\"DOM\",\"type\":\"node\",\"instanceArgs\":{\"namespace\":\"html\",\"tag\":\"div\"},\"children\":[{\"props\":{},\"nodeType\":\"Scope\",\"type\":\"node\",\"instanceArgs\":{\"imports\":{\"data\":[{\"name\":\"knockout\",\"type\":\"js\",\"url\":\"\\/assetserver\\/4e142ee0ad0c998de353f56b1a22e601395860e5-knockout.js\"},{\"name\":\"knockout_punches\",\"type\":\"js\",\"url\":\"\\/assetserver\\/40dc135a5ed691edabc1bf4ca7dc4709f127a380-knockout_punches.js\"},{\"name\":null,\"type\":\"js\",\"url\":\"\\/assetserver\\/30aa72339af74f9a627673d92d8040d5cfe9533e-all.js\"},{\"name\":null,\"type\":\"css\",\"url\":\"\\/assetserver\\/75af5f53e0088a81c77fec0c74dec23ed676eb50-style.css\"},{\"name\":null,\"type\":\"css\",\"url\":\"\\/assetserver\\/6ae6a66e550095b6b8e9dd509bd67c34fc3cbbc5-bulma_confined.min.css\"}],\"type\":\"async_block\"},\"id\":\"16198127370425078513\",\"handlers\":{\"changes\":[\"(function (val){return (val!=this.model[\\\"changes\\\"]()) ? (this.valueFromJulia[\\\"changes\\\"]=true, this.model[\\\"changes\\\"](val)) : undefined})\"],\"index\":[\"(function (val){return (val!=this.model[\\\"index\\\"]()) ? (this.valueFromJulia[\\\"index\\\"]=true, this.model[\\\"index\\\"](val)) : undefined})\"]},\"systemjs_options\":null,\"mount_callbacks\":[\"function () {\\n    var handler = (function (ko, koPunches) {\\n    ko.punches.enableAll();\\n    ko.bindingHandlers.numericValue = {\\n        init: function(element, valueAccessor, allBindings, data, context) {\\n            var stringified = ko.observable(ko.unwrap(valueAccessor()));\\n            stringified.subscribe(function(value) {\\n                var val = parseFloat(value);\\n                if (!isNaN(val)) {\\n                    valueAccessor()(val);\\n                }\\n            });\\n            valueAccessor().subscribe(function(value) {\\n                var str = JSON.stringify(value);\\n                if ((str == \\\"0\\\") && ([\\\"-0\\\", \\\"-0.\\\"].indexOf(stringified()) >= 0))\\n                     return;\\n                 if ([\\\"null\\\", \\\"\\\"].indexOf(str) >= 0)\\n                     return;\\n                stringified(str);\\n            });\\n            ko.applyBindingsToNode(\\n                element,\\n                {\\n                    value: stringified,\\n                    valueUpdate: allBindings.get('valueUpdate'),\\n                },\\n                context,\\n            );\\n        }\\n    };\\n    var json_data = {\\\"formatted_vals\\\":[\\\"0.0\\\",\\\"0.01\\\",\\\"0.02\\\",\\\"0.03\\\",\\\"0.04\\\",\\\"0.05\\\",\\\"0.06\\\",\\\"0.07\\\",\\\"0.08\\\",\\\"0.09\\\",\\\"0.1\\\",\\\"0.11\\\",\\\"0.12\\\",\\\"0.13\\\",\\\"0.14\\\",\\\"0.15\\\",\\\"0.16\\\",\\\"0.17\\\",\\\"0.18\\\",\\\"0.19\\\",\\\"0.2\\\",\\\"0.21\\\",\\\"0.22\\\",\\\"0.23\\\",\\\"0.24\\\",\\\"0.25\\\",\\\"0.26\\\",\\\"0.27\\\",\\\"0.28\\\",\\\"0.29\\\",\\\"0.3\\\",\\\"0.31\\\",\\\"0.32\\\",\\\"0.33\\\",\\\"0.34\\\",\\\"0.35\\\",\\\"0.36\\\",\\\"0.37\\\",\\\"0.38\\\",\\\"0.39\\\",\\\"0.4\\\",\\\"0.41\\\",\\\"0.42\\\",\\\"0.43\\\",\\\"0.44\\\",\\\"0.45\\\",\\\"0.46\\\",\\\"0.47\\\",\\\"0.48\\\",\\\"0.49\\\",\\\"0.5\\\",\\\"0.51\\\",\\\"0.52\\\",\\\"0.53\\\",\\\"0.54\\\",\\\"0.55\\\",\\\"0.56\\\",\\\"0.57\\\",\\\"0.58\\\",\\\"0.59\\\",\\\"0.6\\\",\\\"0.61\\\",\\\"0.62\\\",\\\"0.63\\\",\\\"0.64\\\",\\\"0.65\\\",\\\"0.66\\\",\\\"0.67\\\",\\\"0.68\\\",\\\"0.69\\\",\\\"0.7\\\",\\\"0.71\\\",\\\"0.72\\\",\\\"0.73\\\",\\\"0.74\\\",\\\"0.75\\\",\\\"0.76\\\",\\\"0.77\\\",\\\"0.78\\\",\\\"0.79\\\",\\\"0.8\\\",\\\"0.81\\\",\\\"0.82\\\",\\\"0.83\\\",\\\"0.84\\\",\\\"0.85\\\",\\\"0.86\\\",\\\"0.87\\\",\\\"0.88\\\",\\\"0.89\\\",\\\"0.9\\\",\\\"0.91\\\",\\\"0.92\\\",\\\"0.93\\\",\\\"0.94\\\",\\\"0.95\\\",\\\"0.96\\\",\\\"0.97\\\",\\\"0.98\\\",\\\"0.99\\\",\\\"1.0\\\"],\\\"changes\\\":WebIO.getval({\\\"name\\\":\\\"changes\\\",\\\"scope\\\":\\\"16198127370425078513\\\",\\\"id\\\":\\\"635611091138347736\\\",\\\"type\\\":\\\"observable\\\"}),\\\"index\\\":WebIO.getval({\\\"name\\\":\\\"index\\\",\\\"scope\\\":\\\"16198127370425078513\\\",\\\"id\\\":\\\"5053876375446565567\\\",\\\"type\\\":\\\"observable\\\"})};\\n    var self = this;\\n    function AppViewModel() {\\n        for (var key in json_data) {\\n            var el = json_data[key];\\n            this[key] = Array.isArray(el) ? ko.observableArray(el) : ko.observable(el);\\n        }\\n        \\n        [this[\\\"formatted_val\\\"]=ko.computed(    function(){\\n        return this.formatted_vals()[parseInt(this.index())-(1)];\\n    }\\n,this)]\\n        [this[\\\"changes\\\"].subscribe((function (val){!(this.valueFromJulia[\\\"changes\\\"]) ? (WebIO.setval({\\\"name\\\":\\\"changes\\\",\\\"scope\\\":\\\"16198127370425078513\\\",\\\"id\\\":\\\"635611091138347736\\\",\\\"type\\\":\\\"observable\\\"},val)) : undefined; return this.valueFromJulia[\\\"changes\\\"]=false}),self),this[\\\"index\\\"].subscribe((function (val){!(this.valueFromJulia[\\\"index\\\"]) ? (WebIO.setval({\\\"name\\\":\\\"index\\\",\\\"scope\\\":\\\"16198127370425078513\\\",\\\"id\\\":\\\"5053876375446565567\\\",\\\"type\\\":\\\"observable\\\"},val)) : undefined; return this.valueFromJulia[\\\"index\\\"]=false}),self)]\\n        \\n    }\\n    self.model = new AppViewModel();\\n    self.valueFromJulia = {};\\n    for (var key in json_data) {\\n        self.valueFromJulia[key] = false;\\n    }\\n    ko.applyBindings(self.model, self.dom);\\n}\\n);\\n    (WebIO.importBlock({\\\"data\\\":[{\\\"name\\\":\\\"knockout\\\",\\\"type\\\":\\\"js\\\",\\\"url\\\":\\\"\\/assetserver\\/4e142ee0ad0c998de353f56b1a22e601395860e5-knockout.js\\\"},{\\\"name\\\":\\\"knockout_punches\\\",\\\"type\\\":\\\"js\\\",\\\"url\\\":\\\"\\/assetserver\\/40dc135a5ed691edabc1bf4ca7dc4709f127a380-knockout_punches.js\\\"}],\\\"type\\\":\\\"async_block\\\"})).then((imports) => handler.apply(this, imports));\\n}\\n\"],\"observables\":{\"changes\":{\"sync\":false,\"id\":\"635611091138347736\",\"value\":0},\"index\":{\"sync\":true,\"id\":\"5053876375446565567\",\"value\":51}}},\"children\":[{\"props\":{\"className\":\"interact-flex-row interact-widget\"},\"nodeType\":\"DOM\",\"type\":\"node\",\"instanceArgs\":{\"namespace\":\"html\",\"tag\":\"div\"},\"children\":[{\"props\":{\"className\":\"interact-flex-row-left\"},\"nodeType\":\"DOM\",\"type\":\"node\",\"instanceArgs\":{\"namespace\":\"html\",\"tag\":\"div\"},\"children\":[{\"props\":{\"className\":\"interact \",\"style\":{\"padding\":\"5px 10px 0px 10px\"}},\"nodeType\":\"DOM\",\"type\":\"node\",\"instanceArgs\":{\"namespace\":\"html\",\"tag\":\"label\"},\"children\":[\"Ke\"]}]},{\"props\":{\"className\":\"interact-flex-row-center\"},\"nodeType\":\"DOM\",\"type\":\"node\",\"instanceArgs\":{\"namespace\":\"html\",\"tag\":\"div\"},\"children\":[{\"props\":{\"max\":101,\"min\":1,\"attributes\":{\"type\":\"range\",\"data-bind\":\"numericValue: index, valueUpdate: 'input', event: {change: function (){this.changes(this.changes()+1)}}\",\"orient\":\"horizontal\"},\"step\":1,\"className\":\"slider slider is-fullwidth\",\"style\":{}},\"nodeType\":\"DOM\",\"type\":\"node\",\"instanceArgs\":{\"namespace\":\"html\",\"tag\":\"input\"},\"children\":[]}]},{\"props\":{\"className\":\"interact-flex-row-right\"},\"nodeType\":\"DOM\",\"type\":\"node\",\"instanceArgs\":{\"namespace\":\"html\",\"tag\":\"div\"},\"children\":[{\"props\":{\"attributes\":{\"data-bind\":\"text: formatted_val\"}},\"nodeType\":\"DOM\",\"type\":\"node\",\"instanceArgs\":{\"namespace\":\"html\",\"tag\":\"p\"},\"children\":[]}]}]}]}]},{\"props\":{\"className\":\"field interact-widget\"},\"nodeType\":\"DOM\",\"type\":\"node\",\"instanceArgs\":{\"namespace\":\"html\",\"tag\":\"div\"},\"children\":[{\"props\":{},\"nodeType\":\"Scope\",\"type\":\"node\",\"instanceArgs\":{\"imports\":{\"data\":[{\"name\":\"knockout\",\"type\":\"js\",\"url\":\"\\/assetserver\\/4e142ee0ad0c998de353f56b1a22e601395860e5-knockout.js\"},{\"name\":\"knockout_punches\",\"type\":\"js\",\"url\":\"\\/assetserver\\/40dc135a5ed691edabc1bf4ca7dc4709f127a380-knockout_punches.js\"},{\"name\":null,\"type\":\"js\",\"url\":\"\\/assetserver\\/30aa72339af74f9a627673d92d8040d5cfe9533e-all.js\"},{\"name\":null,\"type\":\"css\",\"url\":\"\\/assetserver\\/75af5f53e0088a81c77fec0c74dec23ed676eb50-style.css\"},{\"name\":null,\"type\":\"css\",\"url\":\"\\/assetserver\\/6ae6a66e550095b6b8e9dd509bd67c34fc3cbbc5-bulma_confined.min.css\"}],\"type\":\"async_block\"},\"id\":\"13925605604781271007\",\"handlers\":{\"changes\":[\"(function (val){return (val!=this.model[\\\"changes\\\"]()) ? (this.valueFromJulia[\\\"changes\\\"]=true, this.model[\\\"changes\\\"](val)) : undefined})\"],\"index\":[\"(function (val){return (val!=this.model[\\\"index\\\"]()) ? (this.valueFromJulia[\\\"index\\\"]=true, this.model[\\\"index\\\"](val)) : undefined})\"]},\"systemjs_options\":null,\"mount_callbacks\":[\"function () {\\n    var handler = (function (ko, koPunches) {\\n    ko.punches.enableAll();\\n    ko.bindingHandlers.numericValue = {\\n        init: function(element, valueAccessor, allBindings, data, context) {\\n            var stringified = ko.observable(ko.unwrap(valueAccessor()));\\n            stringified.subscribe(function(value) {\\n                var val = parseFloat(value);\\n                if (!isNaN(val)) {\\n                    valueAccessor()(val);\\n                }\\n            });\\n            valueAccessor().subscribe(function(value) {\\n                var str = JSON.stringify(value);\\n                if ((str == \\\"0\\\") && ([\\\"-0\\\", \\\"-0.\\\"].indexOf(stringified()) >= 0))\\n                     return;\\n                 if ([\\\"null\\\", \\\"\\\"].indexOf(str) >= 0)\\n                     return;\\n                stringified(str);\\n            });\\n            ko.applyBindingsToNode(\\n                element,\\n                {\\n                    value: stringified,\\n                    valueUpdate: allBindings.get('valueUpdate'),\\n                },\\n                context,\\n            );\\n        }\\n    };\\n    var json_data = {\\\"formatted_vals\\\":[\\\"1\\\",\\\"2\\\",\\\"3\\\",\\\"4\\\",\\\"5\\\",\\\"6\\\",\\\"7\\\",\\\"8\\\",\\\"9\\\",\\\"10\\\",\\\"11\\\",\\\"12\\\"],\\\"changes\\\":WebIO.getval({\\\"name\\\":\\\"changes\\\",\\\"scope\\\":\\\"13925605604781271007\\\",\\\"id\\\":\\\"14465456832831148808\\\",\\\"type\\\":\\\"observable\\\"}),\\\"index\\\":WebIO.getval({\\\"name\\\":\\\"index\\\",\\\"scope\\\":\\\"13925605604781271007\\\",\\\"id\\\":\\\"2858374709329660239\\\",\\\"type\\\":\\\"observable\\\"})};\\n    var self = this;\\n    function AppViewModel() {\\n        for (var key in json_data) {\\n            var el = json_data[key];\\n            this[key] = Array.isArray(el) ? ko.observableArray(el) : ko.observable(el);\\n        }\\n        \\n        [this[\\\"formatted_val\\\"]=ko.computed(    function(){\\n        return this.formatted_vals()[parseInt(this.index())-(1)];\\n    }\\n,this)]\\n        [this[\\\"changes\\\"].subscribe((function (val){!(this.valueFromJulia[\\\"changes\\\"]) ? (WebIO.setval({\\\"name\\\":\\\"changes\\\",\\\"scope\\\":\\\"13925605604781271007\\\",\\\"id\\\":\\\"14465456832831148808\\\",\\\"type\\\":\\\"observable\\\"},val)) : undefined; return this.valueFromJulia[\\\"changes\\\"]=false}),self),this[\\\"index\\\"].subscribe((function (val){!(this.valueFromJulia[\\\"index\\\"]) ? (WebIO.setval({\\\"name\\\":\\\"index\\\",\\\"scope\\\":\\\"13925605604781271007\\\",\\\"id\\\":\\\"2858374709329660239\\\",\\\"type\\\":\\\"observable\\\"},val)) : undefined; return this.valueFromJulia[\\\"index\\\"]=false}),self)]\\n        \\n    }\\n    self.model = new AppViewModel();\\n    self.valueFromJulia = {};\\n    for (var key in json_data) {\\n        self.valueFromJulia[key] = false;\\n    }\\n    ko.applyBindings(self.model, self.dom);\\n}\\n);\\n    (WebIO.importBlock({\\\"data\\\":[{\\\"name\\\":\\\"knockout\\\",\\\"type\\\":\\\"js\\\",\\\"url\\\":\\\"\\/assetserver\\/4e142ee0ad0c998de353f56b1a22e601395860e5-knockout.js\\\"},{\\\"name\\\":\\\"knockout_punches\\\",\\\"type\\\":\\\"js\\\",\\\"url\\\":\\\"\\/assetserver\\/40dc135a5ed691edabc1bf4ca7dc4709f127a380-knockout_punches.js\\\"}],\\\"type\\\":\\\"async_block\\\"})).then((imports) => handler.apply(this, imports));\\n}\\n\"],\"observables\":{\"changes\":{\"sync\":false,\"id\":\"14465456832831148808\",\"value\":0},\"index\":{\"sync\":true,\"id\":\"2858374709329660239\",\"value\":6}}},\"children\":[{\"props\":{\"className\":\"interact-flex-row interact-widget\"},\"nodeType\":\"DOM\",\"type\":\"node\",\"instanceArgs\":{\"namespace\":\"html\",\"tag\":\"div\"},\"children\":[{\"props\":{\"className\":\"interact-flex-row-left\"},\"nodeType\":\"DOM\",\"type\":\"node\",\"instanceArgs\":{\"namespace\":\"html\",\"tag\":\"div\"},\"children\":[{\"props\":{\"className\":\"interact \",\"style\":{\"padding\":\"5px 10px 0px 10px\"}},\"nodeType\":\"DOM\",\"type\":\"node\",\"instanceArgs\":{\"namespace\":\"html\",\"tag\":\"label\"},\"children\":[\"T\"]}]},{\"props\":{\"className\":\"interact-flex-row-center\"},\"nodeType\":\"DOM\",\"type\":\"node\",\"instanceArgs\":{\"namespace\":\"html\",\"tag\":\"div\"},\"children\":[{\"props\":{\"max\":12,\"min\":1,\"attributes\":{\"type\":\"range\",\"data-bind\":\"numericValue: index, valueUpdate: 'input', event: {change: function (){this.changes(this.changes()+1)}}\",\"orient\":\"horizontal\"},\"step\":1,\"className\":\"slider slider is-fullwidth\",\"style\":{}},\"nodeType\":\"DOM\",\"type\":\"node\",\"instanceArgs\":{\"namespace\":\"html\",\"tag\":\"input\"},\"children\":[]}]},{\"props\":{\"className\":\"interact-flex-row-right\"},\"nodeType\":\"DOM\",\"type\":\"node\",\"instanceArgs\":{\"namespace\":\"html\",\"tag\":\"div\"},\"children\":[{\"props\":{\"attributes\":{\"data-bind\":\"text: formatted_val\"}},\"nodeType\":\"DOM\",\"type\":\"node\",\"instanceArgs\":{\"namespace\":\"html\",\"tag\":\"p\"},\"children\":[]}]}]}]}]},{\"props\":{},\"nodeType\":\"Scope\",\"type\":\"node\",\"instanceArgs\":{\"imports\":{\"data\":[],\"type\":\"async_block\"},\"id\":\"11857958963163847627\",\"handlers\":{},\"systemjs_options\":null,\"mount_callbacks\":[],\"observables\":{\"obs-node\":{\"sync\":false,\"id\":\"701300616096145573\",\"value\":{\"props\":{\"className\":\"interact-flex-row interact-widget\"},\"nodeType\":\"DOM\",\"type\":\"node\",\"instanceArgs\":{\"namespace\":\"html\",\"tag\":\"div\"},\"children\":[{\"props\":{\"setInnerHtml\":\"<?xml version=\\\"1.0\\\" encoding=\\\"utf-8\\\"?>\\n<svg xmlns=\\\"http:\\/\\/www.w3.org\\/2000\\/svg\\\" xmlns:xlink=\\\"http:\\/\\/www.w3.org\\/1999\\/xlink\\\" width=\\\"600\\\" height=\\\"400\\\" viewBox=\\\"0 0 2400 1600\\\">\\n<defs>\\n  <clipPath id=\\\"clip330\\\">\\n    <rect x=\\\"0\\\" y=\\\"0\\\" width=\\\"2400\\\" height=\\\"1600\\\"\\/>\\n  <\\/clipPath>\\n<\\/defs>\\n<path clip-path=\\\"url(#clip330)\\\" d=\\\"\\nM0 1600 L2400 1600 L2400 0 L0 0  Z\\n  \\\" fill=\\\"#ffffff\\\" fill-rule=\\\"evenodd\\\" fill-opacity=\\\"1\\\"\\/>\\n<defs>\\n  <clipPath id=\\\"clip331\\\">\\n    <rect x=\\\"480\\\" y=\\\"0\\\" width=\\\"1681\\\" height=\\\"1600\\\"\\/>\\n  <\\/clipPath>\\n<\\/defs>\\n<path clip-path=\\\"url(#clip330)\\\" d=\\\"\\nM110.512 1489.49 L2352.76 1489.49 L2352.76 47.2441 L110.512 47.2441  Z\\n  \\\" fill=\\\"#ffffff\\\" fill-rule=\\\"evenodd\\\" fill-opacity=\\\"1\\\"\\/>\\n<defs>\\n  <clipPath id=\\\"clip332\\\">\\n    <rect x=\\\"110\\\" y=\\\"47\\\" width=\\\"2243\\\" height=\\\"1443\\\"\\/>\\n  <\\/clipPath>\\n<\\/defs>\\n<polyline clip-path=\\\"url(#clip330)\\\" style=\\\"stroke:#000000; stroke-width:4; stroke-opacity:1; fill:none\\\" points=\\\"\\n  110.512,1489.49 2352.76,1489.49 \\n  \\\"\\/>\\n<path clip-path=\\\"url(#clip330)\\\" d=\\\"M 0 0 M1211.53 1534.99 L1251.73 1534.99 L1251.73 1540.4 L1234.86 1540.4 L1234.86 1582.51 L1228.4 1582.51 L1228.4 1540.4 L1211.53 1540.4 L1211.53 1534.99 Z\\\" fill=\\\"#000000\\\" fill-rule=\\\"evenodd\\\" fill-opacity=\\\"1\\\" \\/><polyline clip-path=\\\"url(#clip330)\\\" style=\\\"stroke:#000000; stroke-width:4; stroke-opacity:1; fill:none\\\" points=\\\"\\n  110.512,1489.49 110.512,47.2441 \\n  \\\"\\/>\\n<path clip-path=\\\"url(#clip330)\\\" d=\\\"M 0 0 M-19.6036 749.205 L-12.8241 749.205 Q-15.8478 752.452 -17.3438 756.144 Q-18.8397 759.804 -18.8397 763.942 Q-18.8397 772.09 -13.8426 776.419 Q-8.87738 780.747 0.543869 780.747 Q9.93329 780.747 14.9304 776.419 Q19.8956 772.09 19.8956 763.942 Q19.8956 759.804 18.3997 756.144 Q16.9037 752.452 13.88 749.205 L20.5958 749.205 Q22.8875 752.579 24.0333 756.367 Q25.1792 760.122 25.1792 764.324 Q25.1792 775.114 18.5906 781.32 Q11.9703 787.527 0.543869 787.527 Q-10.9144 787.527 -17.5029 781.32 Q-24.1232 775.114 -24.1232 764.324 Q-24.1232 760.059 -22.9774 756.303 Q-21.8634 752.515 -19.6036 749.205 Z\\\" fill=\\\"#000000\\\" fill-rule=\\\"evenodd\\\" fill-opacity=\\\"1\\\" \\/><polyline clip-path=\\\"url(#clip332)\\\" style=\\\"stroke:#000000; stroke-width:12; stroke-opacity:1; fill:none\\\" points=\\\"\\n  110.512,1448.67 110.512,1448.65 110.514,1448.45 110.532,1446.45 110.625,1436.06 110.782,1418.65 111.101,1383.92 111.567,1334.68 112.303,1260.52 113.27,1169.15 \\n  114.586,1055.65 116.196,932.345 118.196,801.021 120.527,675.027 123.262,559.576 126.348,464.793 129.84,394.956 133.696,354.599 137.957,344.477 142.591,363.619 \\n  147.647,409.271 153.09,476.73 158.925,560.562 165.1,654.17 171.582,751.585 178.304,847.275 185.22,937.359 190.592,1000.65 194.663,650.78 \\n  197.344,481.234 201.579,291.469 205.017,194.827 209.65,126.426 214.284,111.763 219.461,140.022 224.796,202.143 230.635,293.217 236.686,400.585 243.138,519.369 \\n  249.772,638.744 256.67,754.913 263.679,861.853 270.672,956.268 274.805,607.345 277.977,416.055 282.301,239.044 286.626,138.184 291.382,92.7132 \\n  296.277,97.7728 301.602,144.159 307.187,222.113 313.178,324.487 319.433,440.312 326.008,562.766 332.781,683.294 339.756,797.52 346.843,901.295 350.753,952.996 \\n  354.89,604.152 357.174,460.981 361.446,267.924 364.569,178.039 369.222,105.289 373.875,88.4282 379.06,115.887 384.404,178.344 390.245,270.537 \\n  396.299,379.607 402.752,500.442 409.387,622.039 416.285,740.44 423.296,849.511 430.449,947.881 430.833,952.781 434.669,625.474 435.436,572.469 \\n  439.486,348.808 441.081,284.124 445.494,159.661 448.079,118.42 452.959,88.257 456.575,97.5336 462.009,146.199 467.444,222.891 473.506,326.878 479.665,441.121 \\n  486.284,564.425 492.999,683.899 499.998,798.472 507.051,901.695 510.913,952.763 515.049,604.062 517.317,461.787 521.586,268.447 524.696,178.655 \\n  529.347,105.476 533.998,88.2691 539.18,115.428 544.521,177.654 550.36,269.682 556.411,378.653 562.862,499.455 569.496,621.071 576.392,739.533 583.402,848.687 \\n  590.554,947.154 590.993,952.761 594.815,626.448 595.58,573.558 599.62,349.953 601.212,285.22 605.617,160.403 608.197,118.925 613.072,88.2904 \\n  616.683,97.2456 622.112,145.501 627.54,221.873 633.598,325.627 639.752,439.735 646.367,563.004 653.078,682.513 660.075,797.182 667.127,900.531 671.073,952.761 \\n  675.209,604.075 677.505,460.2 681.776,267.403 684.91,177.415 689.563,104.967 694.217,88.3343 699.403,115.982 704.747,178.579 710.59,270.878 \\n  716.645,380.012 723.098,500.878 729.735,622.477 736.633,740.857 743.644,849.893 750.798,948.22 751.153,952.761 754.708,645.994 755.419,595.452 \\n  759.274,373.328 760.79,307.774 765.05,176.164 767.542,130.074 772.294,90.0766 775.812,92.5972 781.124,132.549 786.437,202.351 792.393,301.204 798.451,412.376 \\n  804.991,534.694 811.637,654.741 818.587,771.217 825.602,876.998 831.233,952.762 835.367,604.187 838.18,432.052 842.482,248.877 846.037,156.789 \\n  850.741,97.1341 855.445,90.5814 860.694,126.826 866.109,195.943 872.017,292.935 878.137,404.849 884.645,526.699 891.328,647.855 898.26,764.669 905.297,871.505 \\n  911.313,952.759 915.449,604.048 918.369,426.267 922.68,245.046 926.99,140.701 931.729,92.1502 936.607,94.7267 941.91,139.065 947.476,215.545 \\n  953.447,316.935 959.685,432.332 966.245,554.79 973.006,675.702 979.972,790.545 987.052,895.079 991.394,952.763 995.531,603.98 997.956,452.923 \\n  1002.24,262.571 1005.48,171.847 1010.14,102.733 1014.81,88.7352 1020.01,118.637 1025.38,182.953 1031.24,276.502 1037.31,386.391 1043.78,507.544 1050.42,629.054 \\n  1057.33,747.047 1064.35,855.524 1071.47,952.767 1075.61,603.946 1078.82,411.114 1083.15,235.113 1087.48,135.222 1092.25,90.7332 1097.15,96.676 \\n  1102.48,143.873 1108.08,222.492 1114.08,325.392 1120.34,441.568 1126.92,564.222 1133.7,684.81 1140.67,798.998 1147.76,902.667 1151.55,952.769 \\n  1155.69,603.914 1157.94,463.016 1162.21,269.215 1165.3,179.636 1169.95,105.882 1174.59,88.2392 1179.78,115.038 1185.11,176.997 1190.95,268.831 1197,377.688 \\n  1203.45,498.446 1210.08,620.076 1216.98,738.596 1223.98,847.836 1231.14,946.402 1231.63,952.767 1235.53,621.458 1236.3,567.989 1240.39,344.133 \\n  1242,279.656 1246.45,156.644 1249.05,116.369 1253.95,88.1193 1257.59,98.6979 1263.05,149.017 1268.5,227.001 1274.59,331.925 1280.76,446.707 1287.4,570.151 \\n  1294.13,689.476 1301.13,803.656 1308.19,906.372 1311.71,952.762 1315.85,603.988 1318,468.399 1322.27,272.791 1325.27,183.918 1329.91,107.674 \\n  1334.55,88.0623 1339.72,113.176 1345.05,173.847 1350.87,264.737 1356.91,373.016 1363.35,493.543 1369.97,615.223 1376.86,734.017 1383.86,843.661 1391.01,942.707 \\n  1391.79,952.761 1395.97,601.231 1396.86,542.012 1401.14,319.031 1402.89,253.97 1407.48,140.504 1410.24,105.501 1415.28,88.8484 1419.06,107.41 \\n  1424.65,167.387 1430.23,252.627 1436.42,362.596 1442.7,480.05 1449.42,603.89 1456.21,721.998 1463.27,833.659 1470.37,933.272 1471.87,952.765 \\n  1476.03,602.781 1477.34,517.022 1481.59,304.146 1483.81,227.556 1488.4,127.663 1491.59,96.1153 1496.65,92.6803 1500.81,121.912 1506.46,191.827 1512.11,283.431 \\n  1518.37,397.275 1524.71,516.016 1531.47,639.136 1538.31,755.073 1545.39,863.615 1551.95,952.763 1556.09,603.77 1559.16,418.342 1563.48,239.781 \\n  1567.81,137.752 1572.56,91.3532 1577.45,95.7331 1582.77,141.614 1588.35,219.259 1594.34,321.475 1600.59,437.306 1607.16,559.879 1613.93,680.625 1620.91,795.119 \\n  1627.99,899.189 1632.03,952.763 1636.17,603.946 1638.5,458.281 1642.78,266.1 1645.94,175.94 1650.59,104.368 1655.25,88.4379 1660.44,116.695 \\n  1665.79,179.762 1671.64,272.405 1677.7,381.75 1684.16,502.698 1690.8,624.276 1697.7,742.552 1704.71,851.437 1711.87,949.586 1712.11,952.767 \\n  1714.61,728.265 1715.18,683.472 1718.24,478.199 1719.54,408.168 1723.16,256.42 1725.38,191.889 1729.59,116.072 1732.8,92.101 1737.64,96.6735 1742.47,137.056 \\n  1748,211.715 1753.64,306.498 1759.84,420.49 1766.19,539.084 1772.91,660.29 1779.75,774.415 1786.81,880.457 1792.19,952.758 1796.33,604.017 \\n  1799.07,435.635 1803.37,251.182 1806.87,159.272 1811.57,97.9896 1816.27,90.1691 1821.51,125.343 1826.92,193.658 1832.82,290.082 1838.93,401.67 1845.43,523.418 \\n  1852.11,644.649 1859.04,761.674 1866.07,868.796 1872.28,952.754 1876.41,604.028 1879.38,423.557 1883.7,243.265 1888.01,139.71 1892.75,91.8777 \\n  1897.64,95.0488 1902.94,139.891 1908.51,216.751 1914.49,318.409 1920.73,433.946 1927.3,556.441 1934.06,677.299 1941.03,792.029 1948.11,896.412 1952.36,952.763 \\n  1956.49,603.972 1958.89,454.634 1963.16,263.699 1966.38,173.143 1971.04,103.246 1975.71,88.6325 1980.91,118.01 1986.27,181.928 1992.12,275.189 \\n  1998.19,384.905 2004.65,505.993 2011.3,627.526 2018.21,745.611 2025.22,854.219 2032.38,952.044 2032.44,952.767 2033,897.429 2033.57,844.642 \\n  2034.78,740.837 2036,646.156 2037.95,514.611 2039.98,402.407 2042.73,283.481 2045.61,194.626 2049.16,126.152 2052.89,93.3314 2057.24,93.7288 2061.82,126.998 \\n  2066.98,191.773 2072.42,279.499 2078.34,386.699 2084.53,502.528 2091.08,622.374 2097.82,737.991 2104.77,846.43 2111.82,943.908 2112.52,952.755 \\n  2116.62,606.161 2117.44,550.83 2121.68,326.532 2123.35,262.888 2127.91,145.636 2130.58,109.122 2135.58,88.2352 2139.29,103.797 2144.84,160.364 2150.38,243.172 \\n  2156.54,351.516 2162.79,468.199 2169.48,592.03 2176.26,710.671 2183.3,823.275 2190.39,924.012 2192.6,952.747 2196.74,603.406 2198.38,497.645 \\n  2202.63,291.841 2205.18,209.071 2209.78,118.888 2213.26,91.5308 2218.35,97.3475 2223.44,142.198 2229.16,222.037 2235,321.913 2241.34,439.317 2247.82,560.133 \\n  2254.64,681.708 2261.55,795.247 2268.67,899.676 2272.68,952.757 2276.81,603.819 2279.13,458.831 2283.41,266.421 2286.56,176.368 2291.22,104.528 \\n  2295.87,88.4003 2301.06,116.498 2306.41,179.45 2312.26,272.011 2318.32,381.311 2324.77,502.243 2331.41,623.831 2338.31,742.136 2345.33,851.06 2352.48,949.253 \\n  2352.76,952.763 \\n  \\\"\\/>\\n<path clip-path=\\\"url(#clip330)\\\" d=\\\"\\nM185.254 216.279 L596.173 216.279 L596.173 95.3189 L185.254 95.3189  Z\\n  \\\" fill=\\\"#ffffff\\\" fill-rule=\\\"evenodd\\\" fill-opacity=\\\"1\\\"\\/>\\n<polyline clip-path=\\\"url(#clip330)\\\" style=\\\"stroke:#000000; stroke-width:4; stroke-opacity:1; fill:none\\\" points=\\\"\\n  185.254,216.279 596.173,216.279 596.173,95.3189 185.254,95.3189 185.254,216.279 \\n  \\\"\\/>\\n<polyline clip-path=\\\"url(#clip330)\\\" style=\\\"stroke:#000000; stroke-width:4; stroke-opacity:1; fill:none\\\" points=\\\"\\n  210.167,155.799 359.65,155.799 \\n  \\\"\\/>\\n<path clip-path=\\\"url(#clip330)\\\" d=\\\"M 0 0 M389.24 142.361 L389.24 155.348 L395.12 155.348 Q398.384 155.348 400.166 153.658 Q401.948 151.968 401.948 148.843 Q401.948 145.741 400.166 144.051 Q398.384 142.361 395.12 142.361 L389.24 142.361 M384.564 138.519 L395.12 138.519 Q400.93 138.519 403.893 141.158 Q406.879 143.773 406.879 148.843 Q406.879 153.959 403.893 156.574 Q400.93 159.19 395.12 159.19 L389.24 159.19 L389.24 173.079 L384.564 173.079 L384.564 138.519 Z\\\" fill=\\\"#000000\\\" fill-rule=\\\"evenodd\\\" fill-opacity=\\\"1\\\" \\/><path clip-path=\\\"url(#clip330)\\\" d=\\\"M 0 0 M412.967 137.061 L417.226 137.061 L417.226 173.079 L412.967 173.079 L412.967 137.061 Z\\\" fill=\\\"#000000\\\" fill-rule=\\\"evenodd\\\" fill-opacity=\\\"1\\\" \\/><path clip-path=\\\"url(#clip330)\\\" d=\\\"M 0 0 M437.92 160.047 Q432.758 160.047 430.768 161.227 Q428.777 162.408 428.777 165.255 Q428.777 167.523 430.258 168.866 Q431.763 170.185 434.332 170.185 Q437.874 170.185 440.004 167.685 Q442.156 165.162 442.156 160.996 L442.156 160.047 L437.92 160.047 M446.416 158.287 L446.416 173.079 L442.156 173.079 L442.156 169.144 Q440.698 171.505 438.522 172.639 Q436.346 173.75 433.198 173.75 Q429.217 173.75 426.856 171.528 Q424.518 169.283 424.518 165.533 Q424.518 161.158 427.434 158.935 Q430.374 156.713 436.184 156.713 L442.156 156.713 L442.156 156.297 Q442.156 153.357 440.212 151.76 Q438.291 150.139 434.795 150.139 Q432.573 150.139 430.467 150.672 Q428.36 151.204 426.416 152.269 L426.416 148.334 Q428.754 147.431 430.953 146.991 Q433.152 146.528 435.235 146.528 Q440.86 146.528 443.638 149.445 Q446.416 152.361 446.416 158.287 Z\\\" fill=\\\"#000000\\\" fill-rule=\\\"evenodd\\\" fill-opacity=\\\"1\\\" \\/><path clip-path=\\\"url(#clip330)\\\" d=\\\"M 0 0 M471.716 147.917 L471.716 151.945 Q469.911 151.019 467.966 150.556 Q466.022 150.093 463.939 150.093 Q460.767 150.093 459.17 151.065 Q457.596 152.037 457.596 153.982 Q457.596 155.463 458.73 156.32 Q459.865 157.153 463.291 157.917 L464.749 158.241 Q469.286 159.213 471.184 160.996 Q473.105 162.755 473.105 165.926 Q473.105 169.537 470.235 171.644 Q467.388 173.75 462.388 173.75 Q460.304 173.75 458.036 173.334 Q455.791 172.94 453.291 172.13 L453.291 167.732 Q455.652 168.959 457.943 169.584 Q460.235 170.185 462.48 170.185 Q465.49 170.185 467.11 169.167 Q468.73 168.125 468.73 166.25 Q468.73 164.514 467.55 163.588 Q466.392 162.662 462.434 161.806 L460.953 161.459 Q456.994 160.625 455.235 158.912 Q453.476 157.176 453.476 154.167 Q453.476 150.51 456.068 148.519 Q458.661 146.528 463.429 146.528 Q465.791 146.528 467.874 146.875 Q469.957 147.223 471.716 147.917 Z\\\" fill=\\\"#000000\\\" fill-rule=\\\"evenodd\\\" fill-opacity=\\\"1\\\" \\/><path clip-path=\\\"url(#clip330)\\\" d=\\\"M 0 0 M500.073 152.13 Q501.67 149.26 503.892 147.894 Q506.114 146.528 509.124 146.528 Q513.175 146.528 515.374 149.375 Q517.573 152.199 517.573 157.431 L517.573 173.079 L513.29 173.079 L513.29 157.57 Q513.29 153.843 511.971 152.037 Q510.651 150.232 507.943 150.232 Q504.633 150.232 502.712 152.431 Q500.79 154.63 500.79 158.426 L500.79 173.079 L496.508 173.079 L496.508 157.57 Q496.508 153.82 495.189 152.037 Q493.869 150.232 491.114 150.232 Q487.851 150.232 485.929 152.454 Q484.008 154.653 484.008 158.426 L484.008 173.079 L479.726 173.079 L479.726 147.153 L484.008 147.153 L484.008 151.181 Q485.466 148.797 487.503 147.662 Q489.54 146.528 492.341 146.528 Q495.165 146.528 497.133 147.963 Q499.124 149.398 500.073 152.13 Z\\\" fill=\\\"#000000\\\" fill-rule=\\\"evenodd\\\" fill-opacity=\\\"1\\\" \\/><path clip-path=\\\"url(#clip330)\\\" d=\\\"M 0 0 M537.85 160.047 Q532.688 160.047 530.698 161.227 Q528.707 162.408 528.707 165.255 Q528.707 167.523 530.188 168.866 Q531.693 170.185 534.262 170.185 Q537.804 170.185 539.934 167.685 Q542.086 165.162 542.086 160.996 L542.086 160.047 L537.85 160.047 M546.346 158.287 L546.346 173.079 L542.086 173.079 L542.086 169.144 Q540.628 171.505 538.452 172.639 Q536.276 173.75 533.128 173.75 Q529.147 173.75 526.786 171.528 Q524.448 169.283 524.448 165.533 Q524.448 161.158 527.364 158.935 Q530.304 156.713 536.114 156.713 L542.086 156.713 L542.086 156.297 Q542.086 153.357 540.142 151.76 Q538.221 150.139 534.725 150.139 Q532.503 150.139 530.397 150.672 Q528.29 151.204 526.346 152.269 L526.346 148.334 Q528.684 147.431 530.883 146.991 Q533.082 146.528 535.165 146.528 Q540.79 146.528 543.568 149.445 Q546.346 152.361 546.346 158.287 Z\\\" fill=\\\"#000000\\\" fill-rule=\\\"evenodd\\\" fill-opacity=\\\"1\\\" \\/><\\/svg>\\n\"},\"nodeType\":\"DOM\",\"type\":\"node\",\"instanceArgs\":{\"namespace\":\"html\",\"tag\":\"div\"},\"children\":[]}]}}}},\"children\":[{\"props\":{},\"nodeType\":\"ObservableNode\",\"type\":\"node\",\"instanceArgs\":{\"id\":\"701300616096145573\",\"name\":\"obs-node\"},\"children\":[]}]}]},\n",
       "            window,\n",
       "        );\n",
       "    } else {\n",
       "        document\n",
       "            .querySelector('[data-webio-mountpoint=\"10153049159017141148\"]')\n",
       "            .innerHTML = (\n",
       "                '<div style=\"padding: 1em; background-color: #f8d6da; border: 1px solid #f5c6cb\">' +\n",
       "                '<p><strong>WebIO not detected.</strong></p>' +\n",
       "                '<p>Please read ' +\n",
       "                '<a href=\"https://juliagizmos.github.io/WebIO.jl/latest/troubleshooting/not-detected/\" target=\"_blank\">the troubleshooting guide</a> ' +\n",
       "                'for more information on how to resolve this issue.</p>' +\n",
       "                '<p><a href=\"https://juliagizmos.github.io/WebIO.jl/latest/troubleshooting/not-detected/\" target=\"_blank\">https://juliagizmos.github.io/WebIO.jl/latest/troubleshooting/not-detected/</a></p>' +\n",
       "                '</div>'\n",
       "            );\n",
       "    }\n",
       "    </script>\n",
       "</div>\n"
      ],
      "text/plain": [
       "Node{WebIO.DOM}(WebIO.DOM(:html, :div), Any[Node{WebIO.DOM}(WebIO.DOM(:html, :div), Any[Scope(Node{WebIO.DOM}(WebIO.DOM(:html, :div), Any[Node{WebIO.DOM}(WebIO.DOM(:html, :div), Any[Node{WebIO.DOM}(WebIO.DOM(:html, :label), Any[\"Ka\"], Dict{Symbol, Any}(:className => \"interact \", :style => Dict{Any, Any}(:padding => \"5px 10px 0px 10px\")))], Dict{Symbol, Any}(:className => \"interact-flex-row-left\")), Node{WebIO.DOM}(WebIO.DOM(:html, :div), Any[Node{WebIO.DOM}(WebIO.DOM(:html, :input), Any[], Dict{Symbol, Any}(:max => 101, :min => 1, :attributes => Dict{Any, Any}(:type => \"range\", Symbol(\"data-bind\") => \"numericValue: index, valueUpdate: 'input', event: {change: function (){this.changes(this.changes()+1)}}\", \"orient\" => \"horizontal\"), :step => 1, :className => \"slider slider is-fullwidth\", :style => Dict{Any, Any}()))], Dict{Symbol, Any}(:className => \"interact-flex-row-center\")), Node{WebIO.DOM}(WebIO.DOM(:html, :div), Any[Node{WebIO.DOM}(WebIO.DOM(:html, :p), Any[], Dict{Symbol, Any}(:attributes => Dict(\"data-bind\" => \"text: formatted_val\")))], Dict{Symbol, Any}(:className => \"interact-flex-row-right\"))], Dict{Symbol, Any}(:className => \"interact-flex-row interact-widget\")), Dict{String, Tuple{Observables.AbstractObservable, Union{Nothing, Bool}}}(\"changes\" => (Observable{Int64} with 1 listeners. Value:\n",
       "0, nothing), \"index\" => (Observable{Any} with 2 listeners. Value:\n",
       "51, nothing)), Set{String}(), nothing, Asset[Asset(\"js\", \"knockout\", \"C:\\\\Users\\\\Omar Kana\\\\.julia\\\\packages\\\\Knockout\\\\IP1uR\\\\src\\\\..\\\\assets\\\\knockout.js\"), Asset(\"js\", \"knockout_punches\", \"C:\\\\Users\\\\Omar Kana\\\\.julia\\\\packages\\\\Knockout\\\\IP1uR\\\\src\\\\..\\\\assets\\\\knockout_punches.js\"), Asset(\"js\", nothing, \"C:\\\\Users\\\\Omar Kana\\\\.julia\\\\packages\\\\InteractBase\\\\Zfu5P\\\\src\\\\..\\\\assets\\\\all.js\"), Asset(\"css\", nothing, \"C:\\\\Users\\\\Omar Kana\\\\.julia\\\\packages\\\\InteractBase\\\\Zfu5P\\\\src\\\\..\\\\assets\\\\style.css\"), Asset(\"css\", nothing, \"C:\\\\Users\\\\Omar Kana\\\\.julia\\\\packages\\\\Interact\\\\SbgIk\\\\src\\\\..\\\\assets\\\\bulma_confined.min.css\")], Dict{Any, Any}(\"changes\" => Any[WebIO.JSString(\"(function (val){return (val!=this.model[\\\"changes\\\"]()) ? (this.valueFromJulia[\\\"changes\\\"]=true, this.model[\\\"changes\\\"](val)) : undefined})\")], \"index\" => Any[WebIO.JSString(\"(function (val){return (val!=this.model[\\\"index\\\"]()) ? (this.valueFromJulia[\\\"index\\\"]=true, this.model[\\\"index\\\"](val)) : undefined})\")]), WebIO.ConnectionPool(Channel{Any}(32), Set{AbstractConnection}(), Condition(Base.InvasiveLinkedList{Task}(Task (runnable) @0x000000001a3b9910, Task (runnable) @0x000000001a3b9910), Base.AlwaysLockedST(1))), WebIO.JSString[WebIO.JSString(\"function () {\\n    var handler = (function (ko, koPunches) {\\n    ko.punches.enableAll();\\n    ko.bindingHandlers.numericValue = {\\n        init: function(element, valueAccessor, allBindings, data, context) {\\n            var stringified = ko.observable(ko.unwrap(valueAccessor()));\\n            stringified.subscribe(function(value) {\\n                var val = parseFloat(value);\\n                if (!isNaN(val)) {\\n                    valueAccessor()(val);\\n                }\\n            });\\n            valueAccessor().subscribe(function(value) {\\n                var str = JSON.stringify(value);\\n                if ((str == \\\"0\\\") && ([\\\"-0\\\", \\\"-0.\\\"].indexOf(stringified()) >= 0))\\n                     return;\\n                 if ([\\\"null\\\", \\\"\\\"].indexOf(str) >= 0)\\n                     return;\\n                stringified(str);\\n            });\\n            ko.applyBindingsToNode(\\n                element,\\n                {\\n                    value: stringified,\\n                    valueUpdate: allBindings.get('valueUpdate'),\\n                },\\n                context,\\n            );\\n        }\\n    };\\n    var json_data = {\\\"formatted_vals\\\":[\\\"0.0\\\",\\\"0.01\\\",\\\"0.02\\\",\\\"0.03\\\",\\\"0.04\\\",\\\"0.05\\\",\\\"0.06\\\",\\\"0.07\\\",\\\"0.08\\\",\\\"0.09\\\",\\\"0.1\\\",\\\"0.11\\\",\\\"0.12\\\",\\\"0.13\\\",\\\"0.14\\\",\\\"0.15\\\",\\\"0.16\\\",\\\"0.17\\\",\\\"0.18\\\",\\\"0.19\\\",\\\"0.2\\\",\\\"0.21\\\",\\\"0.22\\\",\\\"0.23\\\",\\\"0.24\\\",\\\"0.25\\\",\\\"0.26\\\",\\\"0.27\\\",\\\"0.28\\\",\\\"0.29\\\",\\\"0.3\\\",\\\"0.31\\\",\\\"0.32\\\",\\\"0.33\\\",\\\"0.34\\\",\\\"0.35\\\",\\\"0.36\\\",\\\"0.37\\\",\\\"0.38\\\",\\\"0.39\\\",\\\"0.4\\\",\\\"0.41\\\",\\\"0.42\\\",\\\"0.43\\\",\\\"0.44\\\",\\\"0.45\\\",\\\"0.46\\\",\\\"0.47\\\",\\\"0.48\\\",\\\"0.49\\\",\\\"0.5\\\",\\\"0.51\\\",\\\"0.52\\\",\\\"0.53\\\",\\\"0.54\\\",\\\"0.55\\\",\\\"0.56\\\",\\\"0.57\\\",\\\"0.58\\\",\\\"0.59\\\",\\\"0.6\\\",\\\"0.61\\\",\\\"0.62\\\",\\\"0.63\\\",\\\"0.64\\\",\\\"0.65\\\",\\\"0.66\\\",\\\"0.67\\\",\\\"0.68\\\",\\\"0.69\\\",\\\"0.7\\\",\\\"0.71\\\",\\\"0.72\\\",\\\"0.73\\\",\\\"0.74\\\",\\\"0.75\\\",\\\"0.76\\\",\\\"0.77\\\",\\\"0.78\\\",\\\"0.79\\\",\\\"0.8\\\",\\\"0.81\\\",\\\"0.82\\\",\\\"0.83\\\",\\\"0.84\\\",\\\"0.85\\\",\\\"0.86\\\",\\\"0.87\\\",\\\"0.88\\\",\\\"0.89\\\",\\\"0.9\\\",\\\"0.91\\\",\\\"0.92\\\",\\\"0.93\\\",\\\"0.94\\\",\\\"0.95\\\",\\\"0.96\\\",\\\"0.97\\\",\\\"0.98\\\",\\\"0.99\\\",\\\"1.0\\\"],\\\"changes\\\":WebIO.getval({\\\"name\\\":\\\"changes\\\",\\\"scope\\\":\\\"597396734889789434\\\",\\\"id\\\":\\\"4664137395500697908\\\",\\\"type\\\":\\\"observable\\\"}),\\\"index\\\":WebIO.getval({\\\"name\\\":\\\"index\\\",\\\"scope\\\":\\\"597396734889789434\\\",\\\"id\\\":\\\"11197986791441030343\\\",\\\"type\\\":\\\"observable\\\"})};\\n    var self = this;\\n    function AppViewModel() {\\n        for (var key in json_data) {\\n            var el = json_data[key];\\n            this[key] = Array.isArray(el) ? ko.observableArray(el) : ko.observable(el);\\n        }\\n        \\n        [this[\\\"formatted_val\\\"]=ko.computed(    function(){\\n        return this.formatted_vals()[parseInt(this.index())-(1)];\\n    }\\n,this)]\\n        [this[\\\"changes\\\"].subscribe((function (val){!(this.valueFromJulia[\\\"changes\\\"]) ? (WebIO.setval({\\\"name\\\":\\\"changes\\\",\\\"scope\\\":\\\"597396734889789434\\\",\\\"id\\\":\\\"4664137395500697908\\\",\\\"type\\\":\\\"observable\\\"},val)) : undefined; return this.valueFromJulia[\\\"changes\\\"]=false}),self),this[\\\"index\\\"].subscribe((function (val){!(this.valueFromJulia[\\\"index\\\"]) ? (WebIO.setval({\\\"name\\\":\\\"index\\\",\\\"scope\\\":\\\"597396734889789434\\\",\\\"id\\\":\\\"11197986791441030343\\\",\\\"type\\\":\\\"observable\\\"},val)) : undefined; return this.valueFromJulia[\\\"index\\\"]=false}),self)]\\n        \\n    }\\n    self.model = new AppViewModel();\\n    self.valueFromJulia = {};\\n    for (var key in json_data) {\\n        self.valueFromJulia[key] = false;\\n    }\\n    ko.applyBindings(self.model, self.dom);\\n}\\n);\\n    (WebIO.importBlock({\\\"data\\\":[{\\\"name\\\":\\\"knockout\\\",\\\"type\\\":\\\"js\\\",\\\"url\\\":\\\"/assetserver/4e142ee0ad0c998de353f56b1a22e601395860e5-knockout.js\\\"},{\\\"name\\\":\\\"knockout_punches\\\",\\\"type\\\":\\\"js\\\",\\\"url\\\":\\\"/assetserver/40dc135a5ed691edabc1bf4ca7dc4709f127a380-knockout_punches.js\\\"}],\\\"type\\\":\\\"async_block\\\"})).then((imports) => handler.apply(this, imports));\\n}\\n\")])], Dict{Symbol, Any}(:className => \"field interact-widget\")), Node{WebIO.DOM}(WebIO.DOM(:html, :div), Any[Scope(Node{WebIO.DOM}(WebIO.DOM(:html, :div), Any[Node{WebIO.DOM}(WebIO.DOM(:html, :div), Any[Node{WebIO.DOM}(WebIO.DOM(:html, :label), Any[\"Ke\"], Dict{Symbol, Any}(:className => \"interact \", :style => Dict{Any, Any}(:padding => \"5px 10px 0px 10px\")))], Dict{Symbol, Any}(:className => \"interact-flex-row-left\")), Node{WebIO.DOM}(WebIO.DOM(:html, :div), Any[Node{WebIO.DOM}(WebIO.DOM(:html, :input), Any[], Dict{Symbol, Any}(:max => 101, :min => 1, :attributes => Dict{Any, Any}(:type => \"range\", Symbol(\"data-bind\") => \"numericValue: index, valueUpdate: 'input', event: {change: function (){this.changes(this.changes()+1)}}\", \"orient\" => \"horizontal\"), :step => 1, :className => \"slider slider is-fullwidth\", :style => Dict{Any, Any}()))], Dict{Symbol, Any}(:className => \"interact-flex-row-center\")), Node{WebIO.DOM}(WebIO.DOM(:html, :div), Any[Node{WebIO.DOM}(WebIO.DOM(:html, :p), Any[], Dict{Symbol, Any}(:attributes => Dict(\"data-bind\" => \"text: formatted_val\")))], Dict{Symbol, Any}(:className => \"interact-flex-row-right\"))], Dict{Symbol, Any}(:className => \"interact-flex-row interact-widget\")), Dict{String, Tuple{Observables.AbstractObservable, Union{Nothing, Bool}}}(\"changes\" => (Observable{Int64} with 1 listeners. Value:\n",
       "0, nothing), \"index\" => (Observable{Any} with 2 listeners. Value:\n",
       "51, nothing)), Set{String}(), nothing, Asset[Asset(\"js\", \"knockout\", \"C:\\\\Users\\\\Omar Kana\\\\.julia\\\\packages\\\\Knockout\\\\IP1uR\\\\src\\\\..\\\\assets\\\\knockout.js\"), Asset(\"js\", \"knockout_punches\", \"C:\\\\Users\\\\Omar Kana\\\\.julia\\\\packages\\\\Knockout\\\\IP1uR\\\\src\\\\..\\\\assets\\\\knockout_punches.js\"), Asset(\"js\", nothing, \"C:\\\\Users\\\\Omar Kana\\\\.julia\\\\packages\\\\InteractBase\\\\Zfu5P\\\\src\\\\..\\\\assets\\\\all.js\"), Asset(\"css\", nothing, \"C:\\\\Users\\\\Omar Kana\\\\.julia\\\\packages\\\\InteractBase\\\\Zfu5P\\\\src\\\\..\\\\assets\\\\style.css\"), Asset(\"css\", nothing, \"C:\\\\Users\\\\Omar Kana\\\\.julia\\\\packages\\\\Interact\\\\SbgIk\\\\src\\\\..\\\\assets\\\\bulma_confined.min.css\")], Dict{Any, Any}(\"changes\" => Any[WebIO.JSString(\"(function (val){return (val!=this.model[\\\"changes\\\"]()) ? (this.valueFromJulia[\\\"changes\\\"]=true, this.model[\\\"changes\\\"](val)) : undefined})\")], \"index\" => Any[WebIO.JSString(\"(function (val){return (val!=this.model[\\\"index\\\"]()) ? (this.valueFromJulia[\\\"index\\\"]=true, this.model[\\\"index\\\"](val)) : undefined})\")]), WebIO.ConnectionPool(Channel{Any}(32), Set{AbstractConnection}(), Condition(Base.InvasiveLinkedList{Task}(Task (runnable) @0x00000000761a5c30, Task (runnable) @0x00000000761a5c30), Base.AlwaysLockedST(1))), WebIO.JSString[WebIO.JSString(\"function () {\\n    var handler = (function (ko, koPunches) {\\n    ko.punches.enableAll();\\n    ko.bindingHandlers.numericValue = {\\n        init: function(element, valueAccessor, allBindings, data, context) {\\n            var stringified = ko.observable(ko.unwrap(valueAccessor()));\\n            stringified.subscribe(function(value) {\\n                var val = parseFloat(value);\\n                if (!isNaN(val)) {\\n                    valueAccessor()(val);\\n                }\\n            });\\n            valueAccessor().subscribe(function(value) {\\n                var str = JSON.stringify(value);\\n                if ((str == \\\"0\\\") && ([\\\"-0\\\", \\\"-0.\\\"].indexOf(stringified()) >= 0))\\n                     return;\\n                 if ([\\\"null\\\", \\\"\\\"].indexOf(str) >= 0)\\n                     return;\\n                stringified(str);\\n            });\\n            ko.applyBindingsToNode(\\n                element,\\n                {\\n                    value: stringified,\\n                    valueUpdate: allBindings.get('valueUpdate'),\\n                },\\n                context,\\n            );\\n        }\\n    };\\n    var json_data = {\\\"formatted_vals\\\":[\\\"0.0\\\",\\\"0.01\\\",\\\"0.02\\\",\\\"0.03\\\",\\\"0.04\\\",\\\"0.05\\\",\\\"0.06\\\",\\\"0.07\\\",\\\"0.08\\\",\\\"0.09\\\",\\\"0.1\\\",\\\"0.11\\\",\\\"0.12\\\",\\\"0.13\\\",\\\"0.14\\\",\\\"0.15\\\",\\\"0.16\\\",\\\"0.17\\\",\\\"0.18\\\",\\\"0.19\\\",\\\"0.2\\\",\\\"0.21\\\",\\\"0.22\\\",\\\"0.23\\\",\\\"0.24\\\",\\\"0.25\\\",\\\"0.26\\\",\\\"0.27\\\",\\\"0.28\\\",\\\"0.29\\\",\\\"0.3\\\",\\\"0.31\\\",\\\"0.32\\\",\\\"0.33\\\",\\\"0.34\\\",\\\"0.35\\\",\\\"0.36\\\",\\\"0.37\\\",\\\"0.38\\\",\\\"0.39\\\",\\\"0.4\\\",\\\"0.41\\\",\\\"0.42\\\",\\\"0.43\\\",\\\"0.44\\\",\\\"0.45\\\",\\\"0.46\\\",\\\"0.47\\\",\\\"0.48\\\",\\\"0.49\\\",\\\"0.5\\\",\\\"0.51\\\",\\\"0.52\\\",\\\"0.53\\\",\\\"0.54\\\",\\\"0.55\\\",\\\"0.56\\\",\\\"0.57\\\",\\\"0.58\\\",\\\"0.59\\\",\\\"0.6\\\",\\\"0.61\\\",\\\"0.62\\\",\\\"0.63\\\",\\\"0.64\\\",\\\"0.65\\\",\\\"0.66\\\",\\\"0.67\\\",\\\"0.68\\\",\\\"0.69\\\",\\\"0.7\\\",\\\"0.71\\\",\\\"0.72\\\",\\\"0.73\\\",\\\"0.74\\\",\\\"0.75\\\",\\\"0.76\\\",\\\"0.77\\\",\\\"0.78\\\",\\\"0.79\\\",\\\"0.8\\\",\\\"0.81\\\",\\\"0.82\\\",\\\"0.83\\\",\\\"0.84\\\",\\\"0.85\\\",\\\"0.86\\\",\\\"0.87\\\",\\\"0.88\\\",\\\"0.89\\\",\\\"0.9\\\",\\\"0.91\\\",\\\"0.92\\\",\\\"0.93\\\",\\\"0.94\\\",\\\"0.95\\\",\\\"0.96\\\",\\\"0.97\\\",\\\"0.98\\\",\\\"0.99\\\",\\\"1.0\\\"],\\\"changes\\\":WebIO.getval({\\\"name\\\":\\\"changes\\\",\\\"scope\\\":\\\"16198127370425078513\\\",\\\"id\\\":\\\"635611091138347736\\\",\\\"type\\\":\\\"observable\\\"}),\\\"index\\\":WebIO.getval({\\\"name\\\":\\\"index\\\",\\\"scope\\\":\\\"16198127370425078513\\\",\\\"id\\\":\\\"5053876375446565567\\\",\\\"type\\\":\\\"observable\\\"})};\\n    var self = this;\\n    function AppViewModel() {\\n        for (var key in json_data) {\\n            var el = json_data[key];\\n            this[key] = Array.isArray(el) ? ko.observableArray(el) : ko.observable(el);\\n        }\\n        \\n        [this[\\\"formatted_val\\\"]=ko.computed(    function(){\\n        return this.formatted_vals()[parseInt(this.index())-(1)];\\n    }\\n,this)]\\n        [this[\\\"changes\\\"].subscribe((function (val){!(this.valueFromJulia[\\\"changes\\\"]) ? (WebIO.setval({\\\"name\\\":\\\"changes\\\",\\\"scope\\\":\\\"16198127370425078513\\\",\\\"id\\\":\\\"635611091138347736\\\",\\\"type\\\":\\\"observable\\\"},val)) : undefined; return this.valueFromJulia[\\\"changes\\\"]=false}),self),this[\\\"index\\\"].subscribe((function (val){!(this.valueFromJulia[\\\"index\\\"]) ? (WebIO.setval({\\\"name\\\":\\\"index\\\",\\\"scope\\\":\\\"16198127370425078513\\\",\\\"id\\\":\\\"5053876375446565567\\\",\\\"type\\\":\\\"observable\\\"},val)) : undefined; return this.valueFromJulia[\\\"index\\\"]=false}),self)]\\n        \\n    }\\n    self.model = new AppViewModel();\\n    self.valueFromJulia = {};\\n    for (var key in json_data) {\\n        self.valueFromJulia[key] = false;\\n    }\\n    ko.applyBindings(self.model, self.dom);\\n}\\n);\\n    (WebIO.importBlock({\\\"data\\\":[{\\\"name\\\":\\\"knockout\\\",\\\"type\\\":\\\"js\\\",\\\"url\\\":\\\"/assetserver/4e142ee0ad0c998de353f56b1a22e601395860e5-knockout.js\\\"},{\\\"name\\\":\\\"knockout_punches\\\",\\\"type\\\":\\\"js\\\",\\\"url\\\":\\\"/assetserver/40dc135a5ed691edabc1bf4ca7dc4709f127a380-knockout_punches.js\\\"}],\\\"type\\\":\\\"async_block\\\"})).then((imports) => handler.apply(this, imports));\\n}\\n\")])], Dict{Symbol, Any}(:className => \"field interact-widget\")), Node{WebIO.DOM}(WebIO.DOM(:html, :div), Any[Scope(Node{WebIO.DOM}(WebIO.DOM(:html, :div), Any[Node{WebIO.DOM}(WebIO.DOM(:html, :div), Any[Node{WebIO.DOM}(WebIO.DOM(:html, :label), Any[\"T\"], Dict{Symbol, Any}(:className => \"interact \", :style => Dict{Any, Any}(:padding => \"5px 10px 0px 10px\")))], Dict{Symbol, Any}(:className => \"interact-flex-row-left\")), Node{WebIO.DOM}(WebIO.DOM(:html, :div), Any[Node{WebIO.DOM}(WebIO.DOM(:html, :input), Any[], Dict{Symbol, Any}(:max => 12, :min => 1, :attributes => Dict{Any, Any}(:type => \"range\", Symbol(\"data-bind\") => \"numericValue: index, valueUpdate: 'input', event: {change: function (){this.changes(this.changes()+1)}}\", \"orient\" => \"horizontal\"), :step => 1, :className => \"slider slider is-fullwidth\", :style => Dict{Any, Any}()))], Dict{Symbol, Any}(:className => \"interact-flex-row-center\")), Node{WebIO.DOM}(WebIO.DOM(:html, :div), Any[Node{WebIO.DOM}(WebIO.DOM(:html, :p), Any[], Dict{Symbol, Any}(:attributes => Dict(\"data-bind\" => \"text: formatted_val\")))], Dict{Symbol, Any}(:className => \"interact-flex-row-right\"))], Dict{Symbol, Any}(:className => \"interact-flex-row interact-widget\")), Dict{String, Tuple{Observables.AbstractObservable, Union{Nothing, Bool}}}(\"changes\" => (Observable{Int64} with 1 listeners. Value:\n",
       "0, nothing), \"index\" => (Observable{Any} with 2 listeners. Value:\n",
       "6, nothing)), Set{String}(), nothing, Asset[Asset(\"js\", \"knockout\", \"C:\\\\Users\\\\Omar Kana\\\\.julia\\\\packages\\\\Knockout\\\\IP1uR\\\\src\\\\..\\\\assets\\\\knockout.js\"), Asset(\"js\", \"knockout_punches\", \"C:\\\\Users\\\\Omar Kana\\\\.julia\\\\packages\\\\Knockout\\\\IP1uR\\\\src\\\\..\\\\assets\\\\knockout_punches.js\"), Asset(\"js\", nothing, \"C:\\\\Users\\\\Omar Kana\\\\.julia\\\\packages\\\\InteractBase\\\\Zfu5P\\\\src\\\\..\\\\assets\\\\all.js\"), Asset(\"css\", nothing, \"C:\\\\Users\\\\Omar Kana\\\\.julia\\\\packages\\\\InteractBase\\\\Zfu5P\\\\src\\\\..\\\\assets\\\\style.css\"), Asset(\"css\", nothing, \"C:\\\\Users\\\\Omar Kana\\\\.julia\\\\packages\\\\Interact\\\\SbgIk\\\\src\\\\..\\\\assets\\\\bulma_confined.min.css\")], Dict{Any, Any}(\"changes\" => Any[WebIO.JSString(\"(function (val){return (val!=this.model[\\\"changes\\\"]()) ? (this.valueFromJulia[\\\"changes\\\"]=true, this.model[\\\"changes\\\"](val)) : undefined})\")], \"index\" => Any[WebIO.JSString(\"(function (val){return (val!=this.model[\\\"index\\\"]()) ? (this.valueFromJulia[\\\"index\\\"]=true, this.model[\\\"index\\\"](val)) : undefined})\")]), WebIO.ConnectionPool(Channel{Any}(32), Set{AbstractConnection}(), Condition(Base.InvasiveLinkedList{Task}(Task (runnable) @0x000000001c6cc7e0, Task (runnable) @0x000000001c6cc7e0), Base.AlwaysLockedST(1))), WebIO.JSString[WebIO.JSString(\"function () {\\n    var handler = (function (ko, koPunches) {\\n    ko.punches.enableAll();\\n    ko.bindingHandlers.numericValue = {\\n        init: function(element, valueAccessor, allBindings, data, context) {\\n            var stringified = ko.observable(ko.unwrap(valueAccessor()));\\n            stringified.subscribe(function(value) {\\n                var val = parseFloat(value);\\n                if (!isNaN(val)) {\\n                    valueAccessor()(val);\\n                }\\n            });\\n            valueAccessor().subscribe(function(value) {\\n                var str = JSON.stringify(value);\\n                if ((str == \\\"0\\\") && ([\\\"-0\\\", \\\"-0.\\\"].indexOf(stringified()) >= 0))\\n                     return;\\n                 if ([\\\"null\\\", \\\"\\\"].indexOf(str) >= 0)\\n                     return;\\n                stringified(str);\\n            });\\n            ko.applyBindingsToNode(\\n                element,\\n                {\\n                    value: stringified,\\n                    valueUpdate: allBindings.get('valueUpdate'),\\n                },\\n                context,\\n            );\\n        }\\n    };\\n    var json_data = {\\\"formatted_vals\\\":[\\\"1\\\",\\\"2\\\",\\\"3\\\",\\\"4\\\",\\\"5\\\",\\\"6\\\",\\\"7\\\",\\\"8\\\",\\\"9\\\",\\\"10\\\",\\\"11\\\",\\\"12\\\"],\\\"changes\\\":WebIO.getval({\\\"name\\\":\\\"changes\\\",\\\"scope\\\":\\\"13925605604781271007\\\",\\\"id\\\":\\\"14465456832831148808\\\",\\\"type\\\":\\\"observable\\\"}),\\\"index\\\":WebIO.getval({\\\"name\\\":\\\"index\\\",\\\"scope\\\":\\\"13925605604781271007\\\",\\\"id\\\":\\\"2858374709329660239\\\",\\\"type\\\":\\\"observable\\\"})};\\n    var self = this;\\n    function AppViewModel() {\\n        for (var key in json_data) {\\n            var el = json_data[key];\\n            this[key] = Array.isArray(el) ? ko.observableArray(el) : ko.observable(el);\\n        }\\n        \\n        [this[\\\"formatted_val\\\"]=ko.computed(    function(){\\n        return this.formatted_vals()[parseInt(this.index())-(1)];\\n    }\\n,this)]\\n        [this[\\\"changes\\\"].subscribe((function (val){!(this.valueFromJulia[\\\"changes\\\"]) ? (WebIO.setval({\\\"name\\\":\\\"changes\\\",\\\"scope\\\":\\\"13925605604781271007\\\",\\\"id\\\":\\\"14465456832831148808\\\",\\\"type\\\":\\\"observable\\\"},val)) : undefined; return this.valueFromJulia[\\\"changes\\\"]=false}),self),this[\\\"index\\\"].subscribe((function (val){!(this.valueFromJulia[\\\"index\\\"]) ? (WebIO.setval({\\\"name\\\":\\\"index\\\",\\\"scope\\\":\\\"13925605604781271007\\\",\\\"id\\\":\\\"2858374709329660239\\\",\\\"type\\\":\\\"observable\\\"},val)) : undefined; return this.valueFromJulia[\\\"index\\\"]=false}),self)]\\n        \\n    }\\n    self.model = new AppViewModel();\\n    self.valueFromJulia = {};\\n    for (var key in json_data) {\\n        self.valueFromJulia[key] = false;\\n    }\\n    ko.applyBindings(self.model, self.dom);\\n}\\n);\\n    (WebIO.importBlock({\\\"data\\\":[{\\\"name\\\":\\\"knockout\\\",\\\"type\\\":\\\"js\\\",\\\"url\\\":\\\"/assetserver/4e142ee0ad0c998de353f56b1a22e601395860e5-knockout.js\\\"},{\\\"name\\\":\\\"knockout_punches\\\",\\\"type\\\":\\\"js\\\",\\\"url\\\":\\\"/assetserver/40dc135a5ed691edabc1bf4ca7dc4709f127a380-knockout_punches.js\\\"}],\\\"type\\\":\\\"async_block\\\"})).then((imports) => handler.apply(this, imports));\\n}\\n\")])], Dict{Symbol, Any}(:className => \"field interact-widget\")), Observable{Any} with 0 listeners. Value:\n",
       "Node{WebIO.DOM}(WebIO.DOM(:html, :div), Any[Plot{Plots.GRBackend() n=1}], Dict{Symbol, Any}(:className => \"interact-flex-row interact-widget\"))], Dict{Symbol, Any}())"
      ]
     },
     "execution_count": 4,
     "metadata": {
      "application/vnd.webio.node+json": {
       "kernelId": "70e4150a-39d7-4533-8e2b-f153ad47f711"
      }
     },
     "output_type": "execute_result"
    }
   ],
   "source": [
    "#Create interactive app using \n",
    "@manipulate for Ka = 0:0.01:1, Ke = 0:0.01:1, T = 1:1:12\n",
    "    dosetimes = 0:T:168 # we will dose every T hours \n",
    "    condition(u,t,integrator) = t ∈ dosetimes\n",
    "    affect!(integrator) = integrator.u[1] += 150 #add this concentration to the GI compartment\n",
    "    cb = DiscreteCallback(condition,affect!)\n",
    "    tspan = (0, 168) #Time range\n",
    "    u0 = [150, 0] #initial concentrations in GI and Plasma compartment respectively\n",
    "    p = [Ka, Ke]\n",
    "    prob = ODEProblem(dCdt, u0, tspan, p)\n",
    "    sol = solve(prob,Rosenbrock23(),callback=cb,tstops=dosetimes)\n",
    "    plot(sol.t, sol[2,:]; xlabel = \"T\", ylabel = \"C\", label = \"Plasma\", legend = :topleft, ticks = false, color = :black, width = 3, xlim = tspan)\n",
    "end"
   ]
  },
  {
   "cell_type": "code",
   "execution_count": null,
   "metadata": {},
   "outputs": [],
   "source": []
  }
 ],
 "metadata": {
  "@webio": {
   "lastCommId": "cda8df4cfd5340899bdc86442c04a1a5",
   "lastKernelId": "70e4150a-39d7-4533-8e2b-f153ad47f711"
  },
  "kernelspec": {
   "display_name": "Julia 1.6.1",
   "language": "julia",
   "name": "julia-1.6"
  },
  "language_info": {
   "file_extension": ".jl",
   "mimetype": "application/julia",
   "name": "julia",
   "version": "1.6.1"
  }
 },
 "nbformat": 4,
 "nbformat_minor": 4
}
